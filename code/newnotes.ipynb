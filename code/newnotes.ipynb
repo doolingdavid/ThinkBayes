{
 "cells": [
  {
   "cell_type": "code",
   "execution_count": 1,
   "metadata": {
    "collapsed": true
   },
   "outputs": [],
   "source": [
    "import numpy as np\n",
    "import pandas as pd\n",
    "import matplotlib.pyplot as plt\n",
    "from pandas import Series, DataFrame\n",
    "import pytz\n",
    "from pytz import common_timezones, all_timezones\n",
    "import matplotlib\n",
    "matplotlib.style.use('ggplot')\n",
    "%matplotlib inline\n",
    "from datetime import datetime"
   ]
  },
  {
   "cell_type": "markdown",
   "metadata": {},
   "source": [
    "http://greenteapress.com/wp/think-bayes/\n",
    "\n",
    "Roger Labbe has transformed _Think Bayes_ into IPython notebooks where you can modify and run the code\n",
    "\n",
    "There are several excellent modules for doing Bayesian statistics in Python, including pymc and OpenBUGS. I chose not to use them for this book because you need a fair amount of background knowledge to get started with these modules, and I want to keep the prerequisites minimal. If you know Python and a little bit about probability, you are ready to start this book."
   ]
  },
  {
   "cell_type": "markdown",
   "metadata": {},
   "source": [
    "## Chapter 1 Bayes's Theorem\n",
    "\n",
    "### Conditional probability\n",
    "\n",
    "The usual notation for conditional probability is p(A|B), which is the probability of A given that B is true.\n",
    "\n",
    "### Conjoint probability\n",
    "\n",
    "In general, the probability of a conjunction is\n",
    "\n",
    "p(A  and  B) = p(A) p(B|A) \n",
    "\n",
    "### The cookie problem\n",
    "\n",
    "We’ll get to Bayes’s theorem soon, but I want to motivate it with an example called the cookie problem.1 Suppose there are two bowls of cookies. Bowl 1 contains 30 vanilla cookies and 10 chocolate cookies. Bowl 2 contains 20 of each.\n",
    "Now suppose you choose one of the bowls at random and, without looking, select a cookie at random. The cookie is vanilla. What is the probability that it came from Bowl 1?\n",
    "\n",
    "This is a conditional probability; we want p(Bowl 1 | vanilla), but it is not obvious how to compute it. If I asked a different question—the probability of a vanilla cookie given Bowl 1—it would be easy:\n",
    "\n",
    "p(vanilla | Bowl 1) = 3/4 \n",
    "Sadly, p(A|B) is not the same as p(B|A), but there is a way to get from one to the other: Bayes’s theorem."
   ]
  },
  {
   "cell_type": "markdown",
   "metadata": {},
   "source": [
    "### Bayes's theorem\n",
    "\n",
    "$\n",
    "p(A|B) = \\frac{ p(A) p(B|A)}{p(B)}\n",
    "$ \n",
    "\n",
    "And that’s Bayes’s theorem! It might not look like much, but it turns out to be surprisingly powerful.\n",
    "\n",
    "$\n",
    "p(B_1|V) = \\frac{(1/2) (3/4)}{ (1/2)(3/4) + (1/2)(1/2)} = 3/5\n",
    "$\n",
    "\n",
    "So the vanilla cookie is evidence in favor of the hypothesis that we chose Bowl 1, because vanilla cookies are more likely to come from Bowl 1.\n",
    "\n",
    "This example demonstrates one use of Bayes’s theorem: it provides a strategy to get from p(B|A) to p(A|B). This strategy is useful in cases, like the cookie problem, where it is easier to compute the terms on the right side of Bayes’s theorem than the term on the left."
   ]
  },
  {
   "cell_type": "markdown",
   "metadata": {},
   "source": [
    "### The diachronic interpretation\n",
    "\n",
    "There is another way to think of Bayes’s theorem: it gives us a way to update the probability of a hypothesis, H, in light of some body of data, D.\n",
    "This way of thinking about Bayes’s theorem is called the diachronic interpretation. “Diachronic” means that something is happening over time; in this case the probability of the hypotheses changes, over time, as we see new data.\n",
    "\n",
    "Rewriting Bayes’s theorem with H and D yields:\n",
    "\n",
    "$\n",
    "p(H|D) = \\frac{p(H)p(D|H)}{p(D)}\n",
    "$\n",
    "\n",
    "In this interpretation, each term has a name:\n",
    "\n",
    "* p(H) is the probability of the hypothesis before we see the data, called the prior probability, or just **prior**.\n",
    "* p(H|D) is what we want to compute, the probability of the hypothesis after we see the data, called the **posterior**.\n",
    "* p(D|H) is the probability of the data under the hypothesis, called the **likelihood**.\n",
    "* p(D) is the probability of the data under any hypothesis, called the **normalizing constant**.\n",
    "\n",
    "Sometimes we can compute the prior based on background information. For example, the cookie problem specifies that we choose a bowl at random with equal probability.\n",
    "In other cases the prior is subjective; that is, reasonable people might disagree, either because they use different background information or because they interpret the same information differently.\n",
    "\n",
    "The likelihood is usually the easiest part to compute. In the cookie problem, if we know which bowl the cookie came from, we find the probability of a vanilla cookie by counting.\n",
    "\n",
    "The normalizing constant can be tricky. It is supposed to be the probability of seeing the data under any hypothesis at all, but in the most general case it is hard to nail down what that means.\n",
    "\n",
    "Most often we simplify things by specifying a set of hypotheses that are\n",
    "\n",
    "**Mutually exclusive**:\n",
    "At most one hypothesis in the set can be true, and\n",
    "**Collectively exhaustive**:\n",
    "There are no other possibilities; at least one of the hypotheses has to be true.\n",
    "I use the word suite for a set of hypotheses that has these properties.\n",
    "\n",
    "\n",
    "In the cookie problem, there are only two hypotheses—the cookie came from Bowl 1 or Bowl 2—and they are mutually exclusive and collectively exhaustive.\n",
    "\n",
    "In that case we can compute p(D) using the law of total probability, which says that if there are two exclusive ways that something might happen, you can add up the probabilities like this:\n",
    "\n",
    "$\n",
    "p(D) = p(B1) p(D|B1) + p(B2) p(D|B2) \n",
    "$\n",
    "\n",
    "\n",
    "Plugging in the values from the cookie problem, we have\n",
    "\n",
    "\n",
    "$\n",
    "p(D) = (1/2) (3/4) + (1/2) (1/2) = 5/8 \n",
    "$"
   ]
  },
  {
   "cell_type": "markdown",
   "metadata": {},
   "source": [
    "### The M&M problem\n",
    "\n",
    "M&M’s are small candy-coated chocolates that come in a variety of colors. Mars, Inc., which makes M&M’s, changes the mixture of colors from time to time.\n",
    "In 1995, they introduced blue M&M’s. Before then, the color mix in a bag of plain M&M’s was 30% Brown, 20% Yellow, 20% Red, 10% Green, 10% Orange, 10% Tan. Afterward it was 24% Blue , 20% Green, 16% Orange, 14% Yellow, 13% Red, 13% Brown.\n",
    "\n",
    "Suppose a friend of mine has two bags of M&M’s, and he tells me that one is from 1994 and one from 1996. He won’t tell me which is which, but he gives me one M&M from each bag. One is yellow and one is green. What is the probability that the yellow one came from the 1994 bag?\n",
    "\n",
    "This problem is similar to the cookie problem, with the twist that I draw one sample from each bowl/bag. This problem also gives me a chance to demonstrate the table method, which is useful for solving problems like this on paper. In the next chapter we will solve them computationally."
   ]
  },
  {
   "cell_type": "markdown",
   "metadata": {},
   "source": [
    "The first step is to enumerate the hypotheses. The bag the yellow M&M came from I’ll call Bag 1; I’ll call the other Bag 2. So the hypotheses are:\n",
    "\n",
    "* A: Bag 1 is from 1994, which implies that Bag 2 is from 1996.\n",
    "* B: Bag 1 is from 1996 and Bag 2 is from 1994.\n",
    "\n",
    "Now we construct a table with a row for each hypothesis and a column for each term in Bayes's theorem:\n",
    " \n",
    "| | p(H) | p(D &#124; H)  | p(H)p(D &#124; H) | p(H &#124; D) | \n",
    "|:-----:|:--------------:|:-----------------:|:-------------:|:---------------------:|\n",
    "|A| 1/2 | (20)(20) | 200 |  20/27     |\n",
    "|B| 1/2 | (14)(10)  | 70   |   7/27 |   "
   ]
  },
  {
   "cell_type": "markdown",
   "metadata": {},
   "source": [
    "The second column has the likelihoods, which follow from the information in the problem. For example, if A is true, the yellow M&M came from the 1994 bag with probability 20%, and the green came from the 1996 bag with probability 20%. If B is true, the yellow M&M came from the 1996 bag with probability 14%, and the green came from the 1994 bag with probability 10%. Because the selections are independent, we get the conjoint probability by multiplying.\n",
    "\n",
    "\n",
    "The third column is just the product of the previous two. The sum of this column, 270, is the normalizing constant. To get the last column, which contains the posteriors, we divide the third column by the normalizing constant.\n",
    "\n",
    "That’s it. Simple, right?\n",
    "\n",
    "\n",
    "Well, you might be bothered by one detail. I write p(D|H) in terms of percentages, not probabilities, which means it is off by a factor of 10,000. But that cancels out when we divide through by the normalizing constant, so it doesn’t affect the result.\n",
    "\n",
    "When the set of hypotheses is mutually exclusive and collectively exhaustive, you can multiply the likelihoods by any factor, if it is convenient, as long as you apply the same factor to the entire column."
   ]
  },
  {
   "cell_type": "markdown",
   "metadata": {},
   "source": [
    "### The Monty Hall problem\n",
    "\n",
    "The Monty Hall problem might be the most contentious question in the history of probability. The scenario is simple, but the correct answer is so counterintuitive that many people just can’t accept it, and many smart people have embarrassed themselves not just by getting it wrong but by arguing the wrong side, aggressively, in public.\n",
    "\n",
    "Monty Hall was the original host of the game show Let’s Make a Deal. The Monty Hall problem is based on one of the regular games on the show. If you are on the show, here’s what happens:\n",
    "\n",
    "* Monty shows you three closed doors and tells you that there is a prize behind each door: one prize is a car, the other two are less valuable prizes like peanut butter and fake finger nails. The prizes are arranged at random.\n",
    "* The object of the game is to guess which door has the car. If you guess right, you get to keep the car.\n",
    "* You pick a door, which we will call Door A. We’ll call the other doors B and C.\n",
    "* Before opening the door you chose, Monty increases the suspense by opening either Door B or C, whichever does not have the car. (If the car is actually behind Door A, Monty can safely open B or C, so he chooses one at random.)\n",
    "* Then Monty offers you the option to stick with your original choice or switch to the one remaining unopened door.\n",
    "\n",
    "The question is, should you “stick” or “switch” or does it make no difference?\n",
    "Most people have the strong intuition that it makes no difference. There are two doors left, they reason, so the chance that the car is behind Door A is 50%.\n",
    "\n",
    "But that is wrong. In fact, the chance of winning if you stick with Door A is only 1/3; if you switch, your chances are 2/3.\n",
    "\n",
    "By applying Bayes’s theorem, we can break this problem into simple pieces, and maybe convince ourselves that the correct answer is, in fact, correct.\n",
    "\n",
    "To start, we should make a careful statement of the data. In this case D consists of two parts: Monty chooses Door B and there is no car there.\n",
    "\n",
    "Next we define three hypotheses: A, B, and C represent the hypothesis that the car is behind Door A, Door B, or Door C. Again, let’s apply the table method:\n",
    "\n",
    "\n",
    "| | Prior | Likelihood | | Posterior |\n",
    "|:------------:|:-------------------:|:------------------:|:--------------:|:-----------------------:|\n",
    "| | p(H) | p(D &#124; H) | p(H) p(D &#124; H) | p(H &#124; D) |\n",
    "|A| 1/3 | 1/2 | 1/6 | 1/3 | \n",
    "|B| 1/3 | 0 | 0 | 0 |\n",
    "|C| 1/3 | 1 | 1/3 | 2/3 | \n"
   ]
  },
  {
   "cell_type": "code",
   "execution_count": 2,
   "metadata": {
    "collapsed": false
   },
   "outputs": [],
   "source": [
    "df = pd.read_csv('PathwayComplianceCustomSearch.csv',skiprows=[0])"
   ]
  },
  {
   "cell_type": "code",
   "execution_count": 3,
   "metadata": {
    "collapsed": false
   },
   "outputs": [
    {
     "data": {
      "text/html": [
       "<div>\n",
       "<table border=\"1\" class=\"dataframe\">\n",
       "  <thead>\n",
       "    <tr style=\"text-align: right;\">\n",
       "      <th></th>\n",
       "      <th>Diagnosis Date</th>\n",
       "      <th>Patient Name</th>\n",
       "      <th>MRN</th>\n",
       "      <th>Cancer Type</th>\n",
       "      <th>Event Type</th>\n",
       "      <th>Event</th>\n",
       "      <th>Event Value</th>\n",
       "      <th>Provider</th>\n",
       "      <th>Compliance</th>\n",
       "    </tr>\n",
       "  </thead>\n",
       "  <tbody>\n",
       "    <tr>\n",
       "      <th>0</th>\n",
       "      <td>3/24/14 12:00 AM</td>\n",
       "      <td>Taylor, Elizabeth</td>\n",
       "      <td>71587</td>\n",
       "      <td>Breast</td>\n",
       "      <td>StructuredData</td>\n",
       "      <td>Diagnosis Date</td>\n",
       "      <td>2014/03/24 00:00:00.000</td>\n",
       "      <td>Fontaine Annette</td>\n",
       "      <td>YES</td>\n",
       "    </tr>\n",
       "    <tr>\n",
       "      <th>1</th>\n",
       "      <td>3/24/14 12:00 AM</td>\n",
       "      <td>Taylor, Elizabeth</td>\n",
       "      <td>71587</td>\n",
       "      <td>Breast</td>\n",
       "      <td>StructuredData</td>\n",
       "      <td>Stage</td>\n",
       "      <td>Stage IIB</td>\n",
       "      <td>Fontaine Annette</td>\n",
       "      <td>YES</td>\n",
       "    </tr>\n",
       "    <tr>\n",
       "      <th>2</th>\n",
       "      <td>3/24/14 12:00 AM</td>\n",
       "      <td>Taylor, Elizabeth</td>\n",
       "      <td>71587</td>\n",
       "      <td>Breast</td>\n",
       "      <td>StructuredData</td>\n",
       "      <td>Staging Date</td>\n",
       "      <td>2014/04/22 00:00:00.000</td>\n",
       "      <td>Fontaine Annette</td>\n",
       "      <td>YES</td>\n",
       "    </tr>\n",
       "    <tr>\n",
       "      <th>3</th>\n",
       "      <td>3/24/14 12:00 AM</td>\n",
       "      <td>Taylor, Elizabeth</td>\n",
       "      <td>71587</td>\n",
       "      <td>Breast</td>\n",
       "      <td>StructuredData</td>\n",
       "      <td>Staging Components</td>\n",
       "      <td>M0|pN1a|T2</td>\n",
       "      <td>Fontaine Annette</td>\n",
       "      <td>YES</td>\n",
       "    </tr>\n",
       "    <tr>\n",
       "      <th>4</th>\n",
       "      <td>3/24/14 12:00 AM</td>\n",
       "      <td>Taylor, Elizabeth</td>\n",
       "      <td>71587</td>\n",
       "      <td>Breast</td>\n",
       "      <td>StructuredData</td>\n",
       "      <td>Performance Status</td>\n",
       "      <td>1</td>\n",
       "      <td>Fontaine Annette</td>\n",
       "      <td>YES</td>\n",
       "    </tr>\n",
       "  </tbody>\n",
       "</table>\n",
       "</div>"
      ],
      "text/plain": [
       "     Diagnosis Date       Patient Name    MRN Cancer Type      Event Type  \\\n",
       "0  3/24/14 12:00 AM  Taylor, Elizabeth  71587      Breast  StructuredData   \n",
       "1  3/24/14 12:00 AM  Taylor, Elizabeth  71587      Breast  StructuredData   \n",
       "2  3/24/14 12:00 AM  Taylor, Elizabeth  71587      Breast  StructuredData   \n",
       "3  3/24/14 12:00 AM  Taylor, Elizabeth  71587      Breast  StructuredData   \n",
       "4  3/24/14 12:00 AM  Taylor, Elizabeth  71587      Breast  StructuredData   \n",
       "\n",
       "                Event              Event Value          Provider Compliance  \n",
       "0      Diagnosis Date  2014/03/24 00:00:00.000  Fontaine Annette        YES  \n",
       "1               Stage                Stage IIB  Fontaine Annette        YES  \n",
       "2        Staging Date  2014/04/22 00:00:00.000  Fontaine Annette        YES  \n",
       "3  Staging Components               M0|pN1a|T2  Fontaine Annette        YES  \n",
       "4  Performance Status                        1  Fontaine Annette        YES  "
      ]
     },
     "execution_count": 3,
     "metadata": {},
     "output_type": "execute_result"
    }
   ],
   "source": [
    "df.head()"
   ]
  },
  {
   "cell_type": "code",
   "execution_count": 4,
   "metadata": {
    "collapsed": true
   },
   "outputs": [],
   "source": [
    "dfsmall = df[['Patient Name','MRN','Cancer Type']].copy()"
   ]
  },
  {
   "cell_type": "code",
   "execution_count": 5,
   "metadata": {
    "collapsed": false
   },
   "outputs": [
    {
     "data": {
      "text/plain": [
       "(5445, 3)"
      ]
     },
     "execution_count": 5,
     "metadata": {},
     "output_type": "execute_result"
    }
   ],
   "source": [
    "dfsmall.shape"
   ]
  },
  {
   "cell_type": "code",
   "execution_count": 6,
   "metadata": {
    "collapsed": false
   },
   "outputs": [
    {
     "data": {
      "text/plain": [
       "Index([u'Patient Name', u'MRN', u'Cancer Type'], dtype='object')"
      ]
     },
     "execution_count": 6,
     "metadata": {},
     "output_type": "execute_result"
    }
   ],
   "source": [
    "dfsmall.columns"
   ]
  },
  {
   "cell_type": "code",
   "execution_count": 7,
   "metadata": {
    "collapsed": false
   },
   "outputs": [],
   "source": [
    "dftiny = dfsmall[dfsmall['Patient Name'] != 'Patient Name'].drop_duplicates()"
   ]
  },
  {
   "cell_type": "code",
   "execution_count": 8,
   "metadata": {
    "collapsed": false
   },
   "outputs": [
    {
     "data": {
      "text/plain": [
       "(422, 3)"
      ]
     },
     "execution_count": 8,
     "metadata": {},
     "output_type": "execute_result"
    }
   ],
   "source": [
    "dftiny.shape"
   ]
  },
  {
   "cell_type": "code",
   "execution_count": 9,
   "metadata": {
    "collapsed": false
   },
   "outputs": [
    {
     "data": {
      "text/html": [
       "<div>\n",
       "<table border=\"1\" class=\"dataframe\">\n",
       "  <thead>\n",
       "    <tr style=\"text-align: right;\">\n",
       "      <th></th>\n",
       "      <th>Patient Name</th>\n",
       "      <th>MRN</th>\n",
       "      <th>Cancer Type</th>\n",
       "    </tr>\n",
       "  </thead>\n",
       "  <tbody>\n",
       "    <tr>\n",
       "      <th>0</th>\n",
       "      <td>Taylor, Elizabeth</td>\n",
       "      <td>71587</td>\n",
       "      <td>Breast</td>\n",
       "    </tr>\n",
       "    <tr>\n",
       "      <th>11</th>\n",
       "      <td>Bumgarner Kirby, Hue</td>\n",
       "      <td>25684</td>\n",
       "      <td>Breast</td>\n",
       "    </tr>\n",
       "    <tr>\n",
       "      <th>20</th>\n",
       "      <td>Pena, Louise</td>\n",
       "      <td>75975</td>\n",
       "      <td>Breast</td>\n",
       "    </tr>\n",
       "    <tr>\n",
       "      <th>29</th>\n",
       "      <td>Yazzie, Alfreda</td>\n",
       "      <td>76122</td>\n",
       "      <td>Breast</td>\n",
       "    </tr>\n",
       "    <tr>\n",
       "      <th>41</th>\n",
       "      <td>Kahle, Christine</td>\n",
       "      <td>76141</td>\n",
       "      <td>Breast</td>\n",
       "    </tr>\n",
       "  </tbody>\n",
       "</table>\n",
       "</div>"
      ],
      "text/plain": [
       "            Patient Name    MRN Cancer Type\n",
       "0      Taylor, Elizabeth  71587      Breast\n",
       "11  Bumgarner Kirby, Hue  25684      Breast\n",
       "20          Pena, Louise  75975      Breast\n",
       "29       Yazzie, Alfreda  76122      Breast\n",
       "41      Kahle, Christine  76141      Breast"
      ]
     },
     "execution_count": 9,
     "metadata": {},
     "output_type": "execute_result"
    }
   ],
   "source": [
    "dftiny.head()"
   ]
  },
  {
   "cell_type": "code",
   "execution_count": 10,
   "metadata": {
    "collapsed": false
   },
   "outputs": [
    {
     "data": {
      "text/html": [
       "<div>\n",
       "<table border=\"1\" class=\"dataframe\">\n",
       "  <thead>\n",
       "    <tr style=\"text-align: right;\">\n",
       "      <th></th>\n",
       "      <th>Patient Name</th>\n",
       "      <th>MRN</th>\n",
       "      <th>Cancer Type</th>\n",
       "    </tr>\n",
       "  </thead>\n",
       "  <tbody>\n",
       "    <tr>\n",
       "      <th>0</th>\n",
       "      <td>Taylor, Elizabeth</td>\n",
       "      <td>71587</td>\n",
       "      <td>Breast</td>\n",
       "    </tr>\n",
       "    <tr>\n",
       "      <th>11</th>\n",
       "      <td>Bumgarner Kirby, Hue</td>\n",
       "      <td>25684</td>\n",
       "      <td>Breast</td>\n",
       "    </tr>\n",
       "    <tr>\n",
       "      <th>20</th>\n",
       "      <td>Pena, Louise</td>\n",
       "      <td>75975</td>\n",
       "      <td>Breast</td>\n",
       "    </tr>\n",
       "    <tr>\n",
       "      <th>29</th>\n",
       "      <td>Yazzie, Alfreda</td>\n",
       "      <td>76122</td>\n",
       "      <td>Breast</td>\n",
       "    </tr>\n",
       "    <tr>\n",
       "      <th>41</th>\n",
       "      <td>Kahle, Christine</td>\n",
       "      <td>76141</td>\n",
       "      <td>Breast</td>\n",
       "    </tr>\n",
       "    <tr>\n",
       "      <th>50</th>\n",
       "      <td>Davis, Sandra</td>\n",
       "      <td>76164</td>\n",
       "      <td>Breast</td>\n",
       "    </tr>\n",
       "    <tr>\n",
       "      <th>61</th>\n",
       "      <td>Bhakta, Sarashvatiben</td>\n",
       "      <td>76239</td>\n",
       "      <td>Breast</td>\n",
       "    </tr>\n",
       "    <tr>\n",
       "      <th>66</th>\n",
       "      <td>Bhakta,</td>\n",
       "      <td>76239</td>\n",
       "      <td>Breast</td>\n",
       "    </tr>\n",
       "    <tr>\n",
       "      <th>68</th>\n",
       "      <td>Sarashvatiben</td>\n",
       "      <td>76239</td>\n",
       "      <td>Breast</td>\n",
       "    </tr>\n",
       "    <tr>\n",
       "      <th>72</th>\n",
       "      <td>Adams, Carolyn</td>\n",
       "      <td>76267</td>\n",
       "      <td>Breast</td>\n",
       "    </tr>\n",
       "    <tr>\n",
       "      <th>81</th>\n",
       "      <td>Lingnau, Annalu</td>\n",
       "      <td>76273</td>\n",
       "      <td>Breast</td>\n",
       "    </tr>\n",
       "    <tr>\n",
       "      <th>92</th>\n",
       "      <td>Hudelson, Karen</td>\n",
       "      <td>76298</td>\n",
       "      <td>Breast</td>\n",
       "    </tr>\n",
       "    <tr>\n",
       "      <th>105</th>\n",
       "      <td>Werner, Regina</td>\n",
       "      <td>76325</td>\n",
       "      <td>Breast</td>\n",
       "    </tr>\n",
       "    <tr>\n",
       "      <th>114</th>\n",
       "      <td>McBride, Courtney</td>\n",
       "      <td>76354</td>\n",
       "      <td>Breast</td>\n",
       "    </tr>\n",
       "    <tr>\n",
       "      <th>123</th>\n",
       "      <td>Prins, Judy</td>\n",
       "      <td>76564</td>\n",
       "      <td>Breast</td>\n",
       "    </tr>\n",
       "    <tr>\n",
       "      <th>135</th>\n",
       "      <td>Emerson, Mae</td>\n",
       "      <td>76485</td>\n",
       "      <td>Breast</td>\n",
       "    </tr>\n",
       "    <tr>\n",
       "      <th>146</th>\n",
       "      <td>Carbajal, Rosie</td>\n",
       "      <td>76537</td>\n",
       "      <td>Breast</td>\n",
       "    </tr>\n",
       "    <tr>\n",
       "      <th>155</th>\n",
       "      <td>Nez, Joan</td>\n",
       "      <td>76623</td>\n",
       "      <td>Breast</td>\n",
       "    </tr>\n",
       "    <tr>\n",
       "      <th>164</th>\n",
       "      <td>Hill, Gaye</td>\n",
       "      <td>76692</td>\n",
       "      <td>Breast</td>\n",
       "    </tr>\n",
       "    <tr>\n",
       "      <th>174</th>\n",
       "      <td>Martin, Royal</td>\n",
       "      <td>76149</td>\n",
       "      <td>Pancreas</td>\n",
       "    </tr>\n",
       "    <tr>\n",
       "      <th>181</th>\n",
       "      <td>Lozano, Raymond</td>\n",
       "      <td>76296</td>\n",
       "      <td>Pancreas</td>\n",
       "    </tr>\n",
       "    <tr>\n",
       "      <th>188</th>\n",
       "      <td>Saenz, Francisca</td>\n",
       "      <td>76423</td>\n",
       "      <td>Breast</td>\n",
       "    </tr>\n",
       "    <tr>\n",
       "      <th>195</th>\n",
       "      <td>Duran, Theresa</td>\n",
       "      <td>76664</td>\n",
       "      <td>Breast</td>\n",
       "    </tr>\n",
       "    <tr>\n",
       "      <th>199</th>\n",
       "      <td>Labelle, Susan</td>\n",
       "      <td>76668</td>\n",
       "      <td>Breast</td>\n",
       "    </tr>\n",
       "    <tr>\n",
       "      <th>202</th>\n",
       "      <td>Chavez, Thelma</td>\n",
       "      <td>76699</td>\n",
       "      <td>Breast</td>\n",
       "    </tr>\n",
       "    <tr>\n",
       "      <th>209</th>\n",
       "      <td>Conyers, Nancy</td>\n",
       "      <td>76750</td>\n",
       "      <td>Breast</td>\n",
       "    </tr>\n",
       "    <tr>\n",
       "      <th>211</th>\n",
       "      <td>Bradbury, Sandra</td>\n",
       "      <td>76802</td>\n",
       "      <td>Breast</td>\n",
       "    </tr>\n",
       "    <tr>\n",
       "      <th>215</th>\n",
       "      <td>Jaquez, Guadalupe</td>\n",
       "      <td>76607</td>\n",
       "      <td>Breast</td>\n",
       "    </tr>\n",
       "    <tr>\n",
       "      <th>222</th>\n",
       "      <td>Wilkeson, Sheryl</td>\n",
       "      <td>76900</td>\n",
       "      <td>Breast</td>\n",
       "    </tr>\n",
       "    <tr>\n",
       "      <th>229</th>\n",
       "      <td>James, Susan</td>\n",
       "      <td>77004</td>\n",
       "      <td>Breast</td>\n",
       "    </tr>\n",
       "    <tr>\n",
       "      <th>...</th>\n",
       "      <td>...</td>\n",
       "      <td>...</td>\n",
       "      <td>...</td>\n",
       "    </tr>\n",
       "    <tr>\n",
       "      <th>4978</th>\n",
       "      <td>Schultz, Kenneth</td>\n",
       "      <td>80998</td>\n",
       "      <td>Colon</td>\n",
       "    </tr>\n",
       "    <tr>\n",
       "      <th>5035</th>\n",
       "      <td>Pino, Terracotta</td>\n",
       "      <td>81047</td>\n",
       "      <td>Breast</td>\n",
       "    </tr>\n",
       "    <tr>\n",
       "      <th>5054</th>\n",
       "      <td>Armstrong, Judith</td>\n",
       "      <td>80750</td>\n",
       "      <td>Breast</td>\n",
       "    </tr>\n",
       "    <tr>\n",
       "      <th>5056</th>\n",
       "      <td>Klade, Evelita</td>\n",
       "      <td>80844</td>\n",
       "      <td>Breast</td>\n",
       "    </tr>\n",
       "    <tr>\n",
       "      <th>5086</th>\n",
       "      <td>Newman, Miriam</td>\n",
       "      <td>81012</td>\n",
       "      <td>Colon</td>\n",
       "    </tr>\n",
       "    <tr>\n",
       "      <th>5096</th>\n",
       "      <td>Gardner, Carol</td>\n",
       "      <td>80985</td>\n",
       "      <td>Breast</td>\n",
       "    </tr>\n",
       "    <tr>\n",
       "      <th>5100</th>\n",
       "      <td>Humphrey, Hugh</td>\n",
       "      <td>64019</td>\n",
       "      <td>Pancreas</td>\n",
       "    </tr>\n",
       "    <tr>\n",
       "      <th>5105</th>\n",
       "      <td>Martinez, Arcy</td>\n",
       "      <td>81088</td>\n",
       "      <td>Rectal</td>\n",
       "    </tr>\n",
       "    <tr>\n",
       "      <th>5127</th>\n",
       "      <td>Reed, Rita</td>\n",
       "      <td>81113</td>\n",
       "      <td>Breast</td>\n",
       "    </tr>\n",
       "    <tr>\n",
       "      <th>5130</th>\n",
       "      <td>Day, Jane</td>\n",
       "      <td>81112</td>\n",
       "      <td>Breast</td>\n",
       "    </tr>\n",
       "    <tr>\n",
       "      <th>5157</th>\n",
       "      <td>Forman, Walter</td>\n",
       "      <td>81105</td>\n",
       "      <td>Breast</td>\n",
       "    </tr>\n",
       "    <tr>\n",
       "      <th>5170</th>\n",
       "      <td>Ryan, Mildred</td>\n",
       "      <td>80662</td>\n",
       "      <td>Breast</td>\n",
       "    </tr>\n",
       "    <tr>\n",
       "      <th>5173</th>\n",
       "      <td>Eddie, Isabelle</td>\n",
       "      <td>80663</td>\n",
       "      <td>Breast</td>\n",
       "    </tr>\n",
       "    <tr>\n",
       "      <th>5174</th>\n",
       "      <td>Roybal, Tracy</td>\n",
       "      <td>81106</td>\n",
       "      <td>Breast</td>\n",
       "    </tr>\n",
       "    <tr>\n",
       "      <th>5175</th>\n",
       "      <td>Rhodes, Sean</td>\n",
       "      <td>79916</td>\n",
       "      <td>Lymphoma</td>\n",
       "    </tr>\n",
       "    <tr>\n",
       "      <th>5177</th>\n",
       "      <td>Heinzman, Patricia</td>\n",
       "      <td>80852</td>\n",
       "      <td>Breast</td>\n",
       "    </tr>\n",
       "    <tr>\n",
       "      <th>5179</th>\n",
       "      <td>Garcia, Deborah</td>\n",
       "      <td>81122</td>\n",
       "      <td>Breast</td>\n",
       "    </tr>\n",
       "    <tr>\n",
       "      <th>5180</th>\n",
       "      <td>Parker, Carol</td>\n",
       "      <td>80228</td>\n",
       "      <td>Melanoma</td>\n",
       "    </tr>\n",
       "    <tr>\n",
       "      <th>5264</th>\n",
       "      <td>Heffner, Dennis</td>\n",
       "      <td>81006</td>\n",
       "      <td>Melanoma</td>\n",
       "    </tr>\n",
       "    <tr>\n",
       "      <th>5265</th>\n",
       "      <td>Bur, Stefanie</td>\n",
       "      <td>81131</td>\n",
       "      <td>Breast</td>\n",
       "    </tr>\n",
       "    <tr>\n",
       "      <th>5270</th>\n",
       "      <td>Finnell, Edy</td>\n",
       "      <td>80383</td>\n",
       "      <td>Melanoma</td>\n",
       "    </tr>\n",
       "    <tr>\n",
       "      <th>5296</th>\n",
       "      <td>Johnson, Virginia</td>\n",
       "      <td>76497</td>\n",
       "      <td>Breast</td>\n",
       "    </tr>\n",
       "    <tr>\n",
       "      <th>5308</th>\n",
       "      <td>Ortiz, Renee</td>\n",
       "      <td>81160</td>\n",
       "      <td>Breast</td>\n",
       "    </tr>\n",
       "    <tr>\n",
       "      <th>5311</th>\n",
       "      <td>Garlow, Dorthey</td>\n",
       "      <td>81117</td>\n",
       "      <td>Breast</td>\n",
       "    </tr>\n",
       "    <tr>\n",
       "      <th>5347</th>\n",
       "      <td>Runyon, Sharalon</td>\n",
       "      <td>32306</td>\n",
       "      <td>Breast</td>\n",
       "    </tr>\n",
       "    <tr>\n",
       "      <th>5357</th>\n",
       "      <td>Hart, Shelly</td>\n",
       "      <td>79511</td>\n",
       "      <td>Breast</td>\n",
       "    </tr>\n",
       "    <tr>\n",
       "      <th>5370</th>\n",
       "      <td>Steele, Donette</td>\n",
       "      <td>79722</td>\n",
       "      <td>Breast</td>\n",
       "    </tr>\n",
       "    <tr>\n",
       "      <th>5371</th>\n",
       "      <td>Harvey, Linda</td>\n",
       "      <td>79781</td>\n",
       "      <td>Breast</td>\n",
       "    </tr>\n",
       "    <tr>\n",
       "      <th>5407</th>\n",
       "      <td>Reedy, Raquel</td>\n",
       "      <td>79402</td>\n",
       "      <td>Breast</td>\n",
       "    </tr>\n",
       "    <tr>\n",
       "      <th>5418</th>\n",
       "      <td>Hughes, Marylee</td>\n",
       "      <td>80059</td>\n",
       "      <td>Breast</td>\n",
       "    </tr>\n",
       "  </tbody>\n",
       "</table>\n",
       "<p>422 rows × 3 columns</p>\n",
       "</div>"
      ],
      "text/plain": [
       "               Patient Name    MRN Cancer Type\n",
       "0         Taylor, Elizabeth  71587      Breast\n",
       "11     Bumgarner Kirby, Hue  25684      Breast\n",
       "20             Pena, Louise  75975      Breast\n",
       "29          Yazzie, Alfreda  76122      Breast\n",
       "41         Kahle, Christine  76141      Breast\n",
       "50            Davis, Sandra  76164      Breast\n",
       "61    Bhakta, Sarashvatiben  76239      Breast\n",
       "66                 Bhakta,   76239      Breast\n",
       "68            Sarashvatiben  76239      Breast\n",
       "72           Adams, Carolyn  76267      Breast\n",
       "81          Lingnau, Annalu  76273      Breast\n",
       "92          Hudelson, Karen  76298      Breast\n",
       "105          Werner, Regina  76325      Breast\n",
       "114       McBride, Courtney  76354      Breast\n",
       "123             Prins, Judy  76564      Breast\n",
       "135            Emerson, Mae  76485      Breast\n",
       "146         Carbajal, Rosie  76537      Breast\n",
       "155               Nez, Joan  76623      Breast\n",
       "164              Hill, Gaye  76692      Breast\n",
       "174           Martin, Royal  76149    Pancreas\n",
       "181         Lozano, Raymond  76296    Pancreas\n",
       "188        Saenz, Francisca  76423      Breast\n",
       "195          Duran, Theresa  76664      Breast\n",
       "199          Labelle, Susan  76668      Breast\n",
       "202          Chavez, Thelma  76699      Breast\n",
       "209          Conyers, Nancy  76750      Breast\n",
       "211        Bradbury, Sandra  76802      Breast\n",
       "215       Jaquez, Guadalupe  76607      Breast\n",
       "222        Wilkeson, Sheryl  76900      Breast\n",
       "229            James, Susan  77004      Breast\n",
       "...                     ...    ...         ...\n",
       "4978       Schultz, Kenneth  80998       Colon\n",
       "5035       Pino, Terracotta  81047      Breast\n",
       "5054      Armstrong, Judith  80750      Breast\n",
       "5056         Klade, Evelita  80844      Breast\n",
       "5086         Newman, Miriam  81012       Colon\n",
       "5096         Gardner, Carol  80985      Breast\n",
       "5100         Humphrey, Hugh  64019    Pancreas\n",
       "5105         Martinez, Arcy  81088      Rectal\n",
       "5127             Reed, Rita  81113      Breast\n",
       "5130              Day, Jane  81112      Breast\n",
       "5157         Forman, Walter  81105      Breast\n",
       "5170          Ryan, Mildred  80662      Breast\n",
       "5173        Eddie, Isabelle  80663      Breast\n",
       "5174          Roybal, Tracy  81106      Breast\n",
       "5175           Rhodes, Sean  79916    Lymphoma\n",
       "5177     Heinzman, Patricia  80852      Breast\n",
       "5179        Garcia, Deborah  81122      Breast\n",
       "5180          Parker, Carol  80228    Melanoma\n",
       "5264        Heffner, Dennis  81006    Melanoma\n",
       "5265          Bur, Stefanie  81131      Breast\n",
       "5270           Finnell, Edy  80383    Melanoma\n",
       "5296      Johnson, Virginia  76497      Breast\n",
       "5308           Ortiz, Renee  81160      Breast\n",
       "5311        Garlow, Dorthey  81117      Breast\n",
       "5347       Runyon, Sharalon  32306      Breast\n",
       "5357           Hart, Shelly  79511      Breast\n",
       "5370        Steele, Donette  79722      Breast\n",
       "5371          Harvey, Linda  79781      Breast\n",
       "5407          Reedy, Raquel  79402      Breast\n",
       "5418        Hughes, Marylee  80059      Breast\n",
       "\n",
       "[422 rows x 3 columns]"
      ]
     },
     "execution_count": 10,
     "metadata": {},
     "output_type": "execute_result"
    }
   ],
   "source": [
    "dftiny"
   ]
  },
  {
   "cell_type": "code",
   "execution_count": 11,
   "metadata": {
    "collapsed": false
   },
   "outputs": [
    {
     "data": {
      "text/plain": [
       "<matplotlib.axes._subplots.AxesSubplot at 0x8b95748>"
      ]
     },
     "execution_count": 11,
     "metadata": {},
     "output_type": "execute_result"
    },
    {
     "data": {
      "image/png": "[encoded data removed]",
      "text/plain": [
       "<matplotlib.figure.Figure at 0x3802dd8>"
      ]
     },
     "metadata": {},
     "output_type": "display_data"
    }
   ],
   "source": [
    "dftiny['Cancer Type'].value_counts().plot(kind='bar')"
   ]
  },
  {
   "cell_type": "markdown",
   "metadata": {},
   "source": [
    "| | Prior | Likelihood | | Posterior |\n",
    "|:------------:|:-------------------:|:------------------:|:--------------:|:-----------------------:|\n",
    "| | p(H) | p(D &#124; H) | p(H) p(D &#124; H) | p(H &#124; D) |\n",
    "|A| 1/3 | 1/2 | 1/6 | 1/3 | \n",
    "|B| 1/3 | 0 | 0 | 0 |\n",
    "|C| 1/3 | 1 | 1/3 | 2/3 | \n",
    "\n",
    "\n",
    "There are many variations of the Monty Hall problem. One of the strengths of the Bayesian approach is that it generalizes to handle these variations.\n",
    "\n",
    "\n"
   ]
  },
  {
   "cell_type": "markdown",
   "metadata": {},
   "source": [
    "## Chapter 2 Computational Statistics\n",
    "\n",
    "### Distributions\n",
    "\n"
   ]
  },
  {
   "cell_type": "code",
   "execution_count": 12,
   "metadata": {
    "collapsed": true
   },
   "outputs": [],
   "source": [
    "from thinkbayes import Pmf"
   ]
  },
  {
   "cell_type": "code",
   "execution_count": 13,
   "metadata": {
    "collapsed": true
   },
   "outputs": [],
   "source": [
    "pmf = Pmf()\n",
    "for x in [1,2,3,4,5,6]:\n",
    "    pmf.Set(x, 1/6.0)"
   ]
  },
  {
   "cell_type": "code",
   "execution_count": 14,
   "metadata": {
    "collapsed": false
   },
   "outputs": [
    {
     "name": "stdout",
     "output_type": "stream",
     "text": [
      "Help on Pmf in module thinkbayes object:\n",
      "\n",
      "class Pmf(_DictWrapper)\n",
      " |  Represents a probability mass function.\n",
      " |  \n",
      " |  Values can be any hashable type; probabilities are floating-point.\n",
      " |  Pmfs are not necessarily normalized.\n",
      " |  \n",
      " |  Method resolution order:\n",
      " |      Pmf\n",
      " |      _DictWrapper\n",
      " |      __builtin__.object\n",
      " |  \n",
      " |  Methods defined here:\n",
      " |  \n",
      " |  AddConstant(self, other)\n",
      " |      Computes the Pmf of the sum a constant and  values from self.\n",
      " |      \n",
      " |      other: a number\n",
      " |      \n",
      " |      returns: new Pmf\n",
      " |  \n",
      " |  AddPmf(self, other)\n",
      " |      Computes the Pmf of the sum of values drawn from self and other.\n",
      " |      \n",
      " |      other: another Pmf\n",
      " |      \n",
      " |      returns: new Pmf\n",
      " |  \n",
      " |  CredibleInterval(self, percentage=90)\n",
      " |      Computes the central credible interval.\n",
      " |      \n",
      " |      If percentage=90, computes the 90% CI.\n",
      " |      \n",
      " |      Args:\n",
      " |          percentage: float between 0 and 100\n",
      " |      \n",
      " |      Returns:\n",
      " |          sequence of two floats, low and high\n",
      " |  \n",
      " |  MakeCdf(self, name=None)\n",
      " |      Makes a Cdf.\n",
      " |  \n",
      " |  Max(self, k)\n",
      " |      Computes the CDF of the maximum of k selections from this dist.\n",
      " |      \n",
      " |      k: int\n",
      " |      \n",
      " |      returns: new Cdf\n",
      " |  \n",
      " |  MaximumLikelihood(self)\n",
      " |      Returns the value with the highest probability.\n",
      " |      \n",
      " |      Returns: float probability\n",
      " |  \n",
      " |  Mean(self)\n",
      " |      Computes the mean of a PMF.\n",
      " |      \n",
      " |      Returns:\n",
      " |          float mean\n",
      " |  \n",
      " |  Normalize(self, fraction=1.0)\n",
      " |      Normalizes this PMF so the sum of all probs is fraction.\n",
      " |      \n",
      " |      Args:\n",
      " |          fraction: what the total should be after normalization\n",
      " |      \n",
      " |      Returns: the total probability before normalizing\n",
      " |  \n",
      " |  Prob(self, x, default=0)\n",
      " |      Gets the probability associated with the value x.\n",
      " |      \n",
      " |      Args:\n",
      " |          x: number value\n",
      " |          default: value to return if the key is not there\n",
      " |      \n",
      " |      Returns:\n",
      " |          float probability\n",
      " |  \n",
      " |  ProbGreater(self, x)\n",
      " |      Probability that a sample from this Pmf exceeds x.\n",
      " |      \n",
      " |      x: number\n",
      " |      \n",
      " |      returns: float probability\n",
      " |  \n",
      " |  ProbLess(self, x)\n",
      " |      Probability that a sample from this Pmf is less than x.\n",
      " |      \n",
      " |      x: number\n",
      " |      \n",
      " |      returns: float probability\n",
      " |  \n",
      " |  Probs(self, xs)\n",
      " |      Gets probabilities for a sequence of values.\n",
      " |  \n",
      " |  Random(self)\n",
      " |      Chooses a random element from this PMF.\n",
      " |      \n",
      " |      Returns:\n",
      " |          float value from the Pmf\n",
      " |  \n",
      " |  Var(self, mu=None)\n",
      " |      Computes the variance of a PMF.\n",
      " |      \n",
      " |      Args:\n",
      " |          mu: the point around which the variance is computed;\n",
      " |              if omitted, computes the mean\n",
      " |      \n",
      " |      Returns:\n",
      " |          float variance\n",
      " |  \n",
      " |  __add__(self, other)\n",
      " |      Computes the Pmf of the sum of values drawn from self and other.\n",
      " |      \n",
      " |      other: another Pmf\n",
      " |      \n",
      " |      returns: new Pmf\n",
      " |  \n",
      " |  __eq__(self, obj)\n",
      " |      Equal to.\n",
      " |      \n",
      " |      obj: number or _DictWrapper\n",
      " |      \n",
      " |      returns: float probability\n",
      " |  \n",
      " |  __ge__(self, obj)\n",
      " |      Greater than or equal.\n",
      " |      \n",
      " |      obj: number or _DictWrapper\n",
      " |      \n",
      " |      returns: float probability\n",
      " |  \n",
      " |  __gt__(self, obj)\n",
      " |      Greater than.\n",
      " |      \n",
      " |      obj: number or _DictWrapper\n",
      " |      \n",
      " |      returns: float probability\n",
      " |  \n",
      " |  __le__(self, obj)\n",
      " |      Less than or equal.\n",
      " |      \n",
      " |      obj: number or _DictWrapper\n",
      " |      \n",
      " |      returns: float probability\n",
      " |  \n",
      " |  __lt__(self, obj)\n",
      " |      Less than.\n",
      " |      \n",
      " |      obj: number or _DictWrapper\n",
      " |      \n",
      " |      returns: float probability\n",
      " |  \n",
      " |  __ne__(self, obj)\n",
      " |      Not equal to.\n",
      " |      \n",
      " |      obj: number or _DictWrapper\n",
      " |      \n",
      " |      returns: float probability\n",
      " |  \n",
      " |  __sub__(self, other)\n",
      " |      Computes the Pmf of the diff of values drawn from self and other.\n",
      " |      \n",
      " |      other: another Pmf\n",
      " |      \n",
      " |      returns: new Pmf\n",
      " |  \n",
      " |  ----------------------------------------------------------------------\n",
      " |  Methods inherited from _DictWrapper:\n",
      " |  \n",
      " |  Copy(self, name=None)\n",
      " |      Returns a copy.\n",
      " |      \n",
      " |      Make a shallow copy of d.  If you want a deep copy of d,\n",
      " |      use copy.deepcopy on the whole object.\n",
      " |      \n",
      " |      Args:\n",
      " |          name: string name for the new Hist\n",
      " |  \n",
      " |  Exp(self, m=None)\n",
      " |      Exponentiates the probabilities.\n",
      " |      \n",
      " |      m: how much to shift the ps before exponentiating\n",
      " |      \n",
      " |      If m is None, normalizes so that the largest prob is 1.\n",
      " |  \n",
      " |  GetDict(self)\n",
      " |      Gets the dictionary.\n",
      " |  \n",
      " |  Incr(self, x, term=1)\n",
      " |      Increments the freq/prob associated with the value x.\n",
      " |      \n",
      " |      Args:\n",
      " |          x: number value\n",
      " |          term: how much to increment by\n",
      " |  \n",
      " |  InitFailure(self, values)\n",
      " |      Raises an error.\n",
      " |  \n",
      " |  InitMapping(self, values)\n",
      " |      Initializes with a map from value to probability.\n",
      " |      \n",
      " |      values: map from value to probability\n",
      " |  \n",
      " |  InitPmf(self, values)\n",
      " |      Initializes with a Pmf.\n",
      " |      \n",
      " |      values: Pmf object\n",
      " |  \n",
      " |  InitSequence(self, values)\n",
      " |      Initializes with a sequence of equally-likely values.\n",
      " |      \n",
      " |      values: sequence of values\n",
      " |  \n",
      " |  Items(self)\n",
      " |      Gets an unsorted sequence of (value, freq/prob) pairs.\n",
      " |  \n",
      " |  Log(self, m=None)\n",
      " |      Log transforms the probabilities.\n",
      " |      \n",
      " |      Removes values with probability 0.\n",
      " |      \n",
      " |      Normalizes so that the largest logprob is 0.\n",
      " |  \n",
      " |  MaxLike(self)\n",
      " |      Returns the largest frequency/probability in the map.\n",
      " |  \n",
      " |  Mult(self, x, factor)\n",
      " |      Scales the freq/prob associated with the value x.\n",
      " |      \n",
      " |      Args:\n",
      " |          x: number value\n",
      " |          factor: how much to multiply by\n",
      " |  \n",
      " |  Print(self)\n",
      " |      Prints the values and freqs/probs in ascending order.\n",
      " |  \n",
      " |  Remove(self, x)\n",
      " |      Removes a value.\n",
      " |      \n",
      " |      Throws an exception if the value is not there.\n",
      " |      \n",
      " |      Args:\n",
      " |          x: value to remove\n",
      " |  \n",
      " |  Render(self)\n",
      " |      Generates a sequence of points suitable for plotting.\n",
      " |      \n",
      " |      Returns:\n",
      " |          tuple of (sorted value sequence, freq/prob sequence)\n",
      " |  \n",
      " |  Scale(self, factor)\n",
      " |      Multiplies the values by a factor.\n",
      " |      \n",
      " |      factor: what to multiply by\n",
      " |      \n",
      " |      Returns: new object\n",
      " |  \n",
      " |  Set(self, x, y=0)\n",
      " |      Sets the freq/prob associated with the value x.\n",
      " |      \n",
      " |      Args:\n",
      " |          x: number value\n",
      " |          y: number freq or prob\n",
      " |  \n",
      " |  SetDict(self, d)\n",
      " |      Sets the dictionary.\n",
      " |  \n",
      " |  Total(self)\n",
      " |      Returns the total of the frequencies/probabilities in the map.\n",
      " |  \n",
      " |  Values(self)\n",
      " |      Gets an unsorted sequence of values.\n",
      " |      \n",
      " |      Note: one source of confusion is that the keys of this\n",
      " |      dictionary are the values of the Hist/Pmf, and the\n",
      " |      values of the dictionary are frequencies/probabilities.\n",
      " |  \n",
      " |  __contains__(self, value)\n",
      " |  \n",
      " |  __init__(self, values=None, name='')\n",
      " |      Initializes the distribution.\n",
      " |      \n",
      " |      hypos: sequence of hypotheses\n",
      " |  \n",
      " |  __iter__(self)\n",
      " |  \n",
      " |  __len__(self)\n",
      " |  \n",
      " |  iterkeys(self)\n",
      " |  \n",
      " |  ----------------------------------------------------------------------\n",
      " |  Data descriptors inherited from _DictWrapper:\n",
      " |  \n",
      " |  __dict__\n",
      " |      dictionary for instance variables (if defined)\n",
      " |  \n",
      " |  __weakref__\n",
      " |      list of weak references to the object (if defined)\n",
      "\n"
     ]
    }
   ],
   "source": [
    "help(pmf)"
   ]
  },
  {
   "cell_type": "markdown",
   "metadata": {},
   "source": [
    "### The cookie problem\n",
    "\n",
    "In the context of Bayes’s theorem, it is natural to use a Pmf to map from each hypothesis to its probability. In the cookie problem, the hypotheses are B1 and B2. In Python, I represent them with strings:"
   ]
  },
  {
   "cell_type": "code",
   "execution_count": 15,
   "metadata": {
    "collapsed": true
   },
   "outputs": [],
   "source": [
    "pmf = Pmf()\n",
    "pmf.Set('Bowl 1', 0.5)\n",
    "pmf.Set('Bowl 2', 0.5)"
   ]
  },
  {
   "cell_type": "markdown",
   "metadata": {},
   "source": [
    "To update the distribution based on new data (the vanilla cookie), we multiply each prior by the corresponding likelihood. The likelihood of drawing a vanilla cookie from Bowl 1 is 3/4. The likelihood for Bowl 2 is 1/2."
   ]
  },
  {
   "cell_type": "code",
   "execution_count": 16,
   "metadata": {
    "collapsed": true
   },
   "outputs": [],
   "source": [
    "pmf.Mult('Bowl 1', 0.75)\n",
    "pmf.Mult('Bowl 2', 0.5)"
   ]
  },
  {
   "cell_type": "code",
   "execution_count": 17,
   "metadata": {
    "collapsed": false
   },
   "outputs": [
    {
     "data": {
      "text/plain": [
       "0.625"
      ]
     },
     "execution_count": 17,
     "metadata": {},
     "output_type": "execute_result"
    }
   ],
   "source": [
    "pmf.Normalize()"
   ]
  },
  {
   "cell_type": "code",
   "execution_count": 18,
   "metadata": {
    "collapsed": false
   },
   "outputs": [
    {
     "name": "stdout",
     "output_type": "stream",
     "text": [
      "0.6\n"
     ]
    }
   ],
   "source": [
    "print pmf.Prob('Bowl 1')"
   ]
  },
  {
   "cell_type": "code",
   "execution_count": 19,
   "metadata": {
    "collapsed": false
   },
   "outputs": [
    {
     "name": "stdout",
     "output_type": "stream",
     "text": [
      "0.4\n"
     ]
    }
   ],
   "source": [
    "print pmf.Prob('Bowl 2')"
   ]
  },
  {
   "cell_type": "markdown",
   "metadata": {},
   "source": [
    "### The Bayesian framework\n",
    "\n"
   ]
  },
  {
   "cell_type": "code",
   "execution_count": 20,
   "metadata": {
    "collapsed": true
   },
   "outputs": [],
   "source": [
    "class Cookie(Pmf):\n",
    "\n",
    "    def __init__(self, hypos):\n",
    "        Pmf.__init__(self)\n",
    "        for hypo in hypos:\n",
    "            self.Set(hypo, 1)\n",
    "        self.Normalize()\n",
    "        \n",
    "    def Update(self, data):\n",
    "        for hypo in self.Values():\n",
    "            like = self.Likelihood(data, hypo)\n",
    "            self.Mult(hypo, like)\n",
    "        self.Normalize()   \n",
    "        \n",
    "    mixes = {\n",
    "        'Bowl 1':dict(vanilla=0.75, chocolate=0.25),\n",
    "        'Bowl 2':dict(vanilla=0.5, chocolate=0.5),\n",
    "        }\n",
    "\n",
    "    def Likelihood(self, data, hypo):\n",
    "        mix = self.mixes[hypo]\n",
    "        like = mix[data]\n",
    "        return like\n",
    "    "
   ]
  },
  {
   "cell_type": "code",
   "execution_count": 21,
   "metadata": {
    "collapsed": true
   },
   "outputs": [],
   "source": [
    "hypos = ['Bowl 1', 'Bowl 2']\n",
    "pmf = Cookie(hypos)"
   ]
  },
  {
   "cell_type": "code",
   "execution_count": 22,
   "metadata": {
    "collapsed": true
   },
   "outputs": [],
   "source": [
    "pmf.Update('vanilla')"
   ]
  },
  {
   "cell_type": "code",
   "execution_count": 23,
   "metadata": {
    "collapsed": false
   },
   "outputs": [
    {
     "name": "stdout",
     "output_type": "stream",
     "text": [
      "Bowl 2 0.4\n",
      "Bowl 1 0.6\n"
     ]
    }
   ],
   "source": [
    "for hypo, prob in pmf.Items():\n",
    "    print hypo, prob"
   ]
  },
  {
   "cell_type": "code",
   "execution_count": 24,
   "metadata": {
    "collapsed": true
   },
   "outputs": [],
   "source": [
    "dataset = ['vanilla', 'chocolate', 'vanilla']\n",
    "for data in dataset:\n",
    "    pmf.Update(data)"
   ]
  },
  {
   "cell_type": "code",
   "execution_count": 25,
   "metadata": {
    "collapsed": false
   },
   "outputs": [
    {
     "name": "stdout",
     "output_type": "stream",
     "text": [
      "Bowl 2 0.372093023256\n",
      "Bowl 1 0.627906976744\n"
     ]
    }
   ],
   "source": [
    "for hypo, prob in pmf.Items():\n",
    "    print hypo, prob"
   ]
  },
  {
   "cell_type": "code",
   "execution_count": 26,
   "metadata": {
    "collapsed": true
   },
   "outputs": [],
   "source": [
    "class Monty(Pmf):\n",
    "\n",
    "    def __init__(self, hypos):\n",
    "        Pmf.__init__(self)\n",
    "        for hypo in hypos:\n",
    "            self.Set(hypo, 1)\n",
    "        self.Normalize()\n",
    "        \n",
    "    def Update(self, data):\n",
    "        for hypo in self.Values():\n",
    "            like = self.Likelihood(data, hypo)\n",
    "            self.Mult(hypo, like)\n",
    "        self.Normalize()\n",
    "        \n",
    "    def Likelihood(self, data, hypo):\n",
    "        if hypo == data:\n",
    "            return 0\n",
    "        elif hypo == 'A':\n",
    "            return 0.5\n",
    "        else:\n",
    "            return 1\n",
    "        \n",
    "        \n",
    "        \n",
    "    "
   ]
  },
  {
   "cell_type": "code",
   "execution_count": 27,
   "metadata": {
    "collapsed": true
   },
   "outputs": [],
   "source": [
    "hypos = 'ABC'\n",
    "pmf = Monty(hypos)"
   ]
  },
  {
   "cell_type": "code",
   "execution_count": 28,
   "metadata": {
    "collapsed": true
   },
   "outputs": [],
   "source": [
    "data = 'B'\n",
    "pmf.Update(data)"
   ]
  },
  {
   "cell_type": "code",
   "execution_count": 29,
   "metadata": {
    "collapsed": false
   },
   "outputs": [
    {
     "name": "stdout",
     "output_type": "stream",
     "text": [
      "A 0.333333333333\n",
      "C 0.666666666667\n",
      "B 0.0\n"
     ]
    }
   ],
   "source": [
    "for hypo, prob in pmf.Items():\n",
    "    print hypo, prob"
   ]
  },
  {
   "cell_type": "markdown",
   "metadata": {},
   "source": [
    "The implementation of Suite is in thinkbayes.py. To use Suite, you should write a class that inherits from it and provides Likelihood. For example, here is the solution to the Monty Hall problem rewritten to use Suite:"
   ]
  },
  {
   "cell_type": "code",
   "execution_count": 30,
   "metadata": {
    "collapsed": true
   },
   "outputs": [],
   "source": [
    "from thinkbayes import Suite\n",
    "\n",
    "class Monty(Suite):\n",
    "    \n",
    "    def Likelihood(self, data, hypo):\n",
    "        if hypo == data:\n",
    "            return 0\n",
    "        elif hypo == 'A':\n",
    "            return 0.5\n",
    "        else:\n",
    "            return 1"
   ]
  },
  {
   "cell_type": "code",
   "execution_count": 31,
   "metadata": {
    "collapsed": true
   },
   "outputs": [],
   "source": [
    "suite = Monty('ABC')"
   ]
  },
  {
   "cell_type": "code",
   "execution_count": 32,
   "metadata": {
    "collapsed": false
   },
   "outputs": [
    {
     "data": {
      "text/plain": [
       "0.5"
      ]
     },
     "execution_count": 32,
     "metadata": {},
     "output_type": "execute_result"
    }
   ],
   "source": [
    "suite.Update('B')"
   ]
  },
  {
   "cell_type": "code",
   "execution_count": 33,
   "metadata": {
    "collapsed": false
   },
   "outputs": [
    {
     "name": "stdout",
     "output_type": "stream",
     "text": [
      "A 0.333333333333\n",
      "B 0.0\n",
      "C 0.666666666667\n"
     ]
    }
   ],
   "source": [
    "suite.Print()"
   ]
  },
  {
   "cell_type": "code",
   "execution_count": 34,
   "metadata": {
    "collapsed": true
   },
   "outputs": [],
   "source": [
    "mix94 = dict(brown=30,\n",
    "                 yellow=20,\n",
    "                 red=20,\n",
    "                 green=10,\n",
    "                 orange=10,\n",
    "                 tan=10)\n",
    "\n",
    "mix96 = dict(blue=24,\n",
    "                 green=20,\n",
    "                 orange=16,\n",
    "                 yellow=14,\n",
    "                 red=13,\n",
    "                 brown=13)\n",
    "\n",
    "hypoA = dict(bag1=mix94, bag2=mix96)\n",
    "hypoB = dict(bag1=mix96, bag2=mix94)\n"
   ]
  },
  {
   "cell_type": "code",
   "execution_count": 35,
   "metadata": {
    "collapsed": false
   },
   "outputs": [],
   "source": [
    "hypotheses = dict(A=hypoA,B=hypoB)"
   ]
  },
  {
   "cell_type": "code",
   "execution_count": 36,
   "metadata": {
    "collapsed": false
   },
   "outputs": [
    {
     "data": {
      "text/plain": [
       "{'A': {'bag1': {'brown': 30,\n",
       "   'green': 10,\n",
       "   'orange': 10,\n",
       "   'red': 20,\n",
       "   'tan': 10,\n",
       "   'yellow': 20},\n",
       "  'bag2': {'blue': 24,\n",
       "   'brown': 13,\n",
       "   'green': 20,\n",
       "   'orange': 16,\n",
       "   'red': 13,\n",
       "   'yellow': 14}},\n",
       " 'B': {'bag1': {'blue': 24,\n",
       "   'brown': 13,\n",
       "   'green': 20,\n",
       "   'orange': 16,\n",
       "   'red': 13,\n",
       "   'yellow': 14},\n",
       "  'bag2': {'brown': 30,\n",
       "   'green': 10,\n",
       "   'orange': 10,\n",
       "   'red': 20,\n",
       "   'tan': 10,\n",
       "   'yellow': 20}}}"
      ]
     },
     "execution_count": 36,
     "metadata": {},
     "output_type": "execute_result"
    }
   ],
   "source": [
    "hypotheses"
   ]
  },
  {
   "cell_type": "code",
   "execution_count": 37,
   "metadata": {
    "collapsed": true
   },
   "outputs": [],
   "source": [
    "from thinkbayes import Suite\n",
    "\n",
    "class M_and_M(Suite):\n",
    "    \n",
    "    \n",
    "    \n",
    "    def Likelihood(self, data, hypo):\n",
    "        bag, color = data\n",
    "        mix = self.hypotheses[hypo][bag]\n",
    "        like = mix[color]\n",
    "        return like\n",
    "\n",
    "    mix94 = dict(brown=30,\n",
    "                 yellow=20,\n",
    "                 red=20,\n",
    "                 green=10,\n",
    "                 orange=10,\n",
    "                 tan=10)\n",
    "\n",
    "    mix96 = dict(blue=24,\n",
    "                 green=20,\n",
    "                 orange=16,\n",
    "                 yellow=14,\n",
    "                 red=13,\n",
    "                 brown=13)\n",
    "\n",
    "    hypoA = dict(bag1=mix94, bag2=mix96)\n",
    "    hypoB = dict(bag1=mix96, bag2=mix94)\n",
    "    \n",
    "    hypotheses = dict(A=hypoA, B=hypoB)\n",
    "    \n",
    "    \n",
    "    "
   ]
  },
  {
   "cell_type": "code",
   "execution_count": 38,
   "metadata": {
    "collapsed": false
   },
   "outputs": [
    {
     "data": {
      "text/plain": [
       "{'A': {'bag1': {'brown': 30,\n",
       "   'green': 10,\n",
       "   'orange': 10,\n",
       "   'red': 20,\n",
       "   'tan': 10,\n",
       "   'yellow': 20},\n",
       "  'bag2': {'blue': 24,\n",
       "   'brown': 13,\n",
       "   'green': 20,\n",
       "   'orange': 16,\n",
       "   'red': 13,\n",
       "   'yellow': 14}},\n",
       " 'B': {'bag1': {'blue': 24,\n",
       "   'brown': 13,\n",
       "   'green': 20,\n",
       "   'orange': 16,\n",
       "   'red': 13,\n",
       "   'yellow': 14},\n",
       "  'bag2': {'brown': 30,\n",
       "   'green': 10,\n",
       "   'orange': 10,\n",
       "   'red': 20,\n",
       "   'tan': 10,\n",
       "   'yellow': 20}}}"
      ]
     },
     "execution_count": 38,
     "metadata": {},
     "output_type": "execute_result"
    }
   ],
   "source": [
    "hypotheses"
   ]
  },
  {
   "cell_type": "code",
   "execution_count": 39,
   "metadata": {
    "collapsed": true
   },
   "outputs": [],
   "source": [
    "suite = M_and_M('AB')"
   ]
  },
  {
   "cell_type": "code",
   "execution_count": 40,
   "metadata": {
    "collapsed": false
   },
   "outputs": [
    {
     "data": {
      "text/plain": [
       "15.882352941176471"
      ]
     },
     "execution_count": 40,
     "metadata": {},
     "output_type": "execute_result"
    }
   ],
   "source": [
    "suite.Update(('bag1','yellow'))\n",
    "suite.Update(('bag2','green'))"
   ]
  },
  {
   "cell_type": "code",
   "execution_count": 41,
   "metadata": {
    "collapsed": false
   },
   "outputs": [
    {
     "name": "stdout",
     "output_type": "stream",
     "text": [
      "A 0.740740740741\n",
      "B 0.259259259259\n"
     ]
    }
   ],
   "source": [
    "suite.Print()"
   ]
  },
  {
   "cell_type": "code",
   "execution_count": 42,
   "metadata": {
    "collapsed": false
   },
   "outputs": [
    {
     "data": {
      "text/plain": [
       "{'d': {'A': 0.7407407407407407, 'B': 0.2592592592592592},\n",
       " 'log': False,\n",
       " 'name': ''}"
      ]
     },
     "execution_count": 42,
     "metadata": {},
     "output_type": "execute_result"
    }
   ],
   "source": [
    "suite.__dict__"
   ]
  },
  {
   "cell_type": "code",
   "execution_count": 43,
   "metadata": {
    "collapsed": false
   },
   "outputs": [
    {
     "name": "stdout",
     "output_type": "stream",
     "text": [
      "Help on M_and_M in module __main__ object:\n",
      "\n",
      "class M_and_M(thinkbayes.Suite)\n",
      " |  Method resolution order:\n",
      " |      M_and_M\n",
      " |      thinkbayes.Suite\n",
      " |      thinkbayes.Pmf\n",
      " |      thinkbayes._DictWrapper\n",
      " |      __builtin__.object\n",
      " |  \n",
      " |  Methods defined here:\n",
      " |  \n",
      " |  Likelihood(self, data, hypo)\n",
      " |  \n",
      " |  ----------------------------------------------------------------------\n",
      " |  Data and other attributes defined here:\n",
      " |  \n",
      " |  hypoA = {'bag1': {'brown': 30, 'green': 10, 'orange': 10, 'red': 20, '...\n",
      " |  \n",
      " |  hypoB = {'bag1': {'blue': 24, 'brown': 13, 'green': 20, 'orange': 16, ...\n",
      " |  \n",
      " |  hypotheses = {'A': {'bag1': {'brown': 30, 'green': 10, 'orange': 10, '...\n",
      " |  \n",
      " |  mix94 = {'brown': 30, 'green': 10, 'orange': 10, 'red': 20, 'tan': 10,...\n",
      " |  \n",
      " |  mix96 = {'blue': 24, 'brown': 13, 'green': 20, 'orange': 16, 'red': 13...\n",
      " |  \n",
      " |  ----------------------------------------------------------------------\n",
      " |  Methods inherited from thinkbayes.Suite:\n",
      " |  \n",
      " |  LogLikelihood(self, data, hypo)\n",
      " |      Computes the log likelihood of the data under the hypothesis.\n",
      " |      \n",
      " |      hypo: some representation of the hypothesis\n",
      " |      data: some representation of the data\n",
      " |  \n",
      " |  LogUpdate(self, data)\n",
      " |      Updates a suite of hypotheses based on new data.\n",
      " |      \n",
      " |      Modifies the suite directly; if you want to keep the original, make\n",
      " |      a copy.\n",
      " |      \n",
      " |      Note: unlike Update, LogUpdate does not normalize.\n",
      " |      \n",
      " |      Args:\n",
      " |          data: any representation of the data\n",
      " |  \n",
      " |  LogUpdateSet(self, dataset)\n",
      " |      Updates each hypothesis based on the dataset.\n",
      " |      \n",
      " |      Modifies the suite directly; if you want to keep the original, make\n",
      " |      a copy.\n",
      " |      \n",
      " |      dataset: a sequence of data\n",
      " |      \n",
      " |      returns: None\n",
      " |  \n",
      " |  MakeOdds(self)\n",
      " |      Transforms from probabilities to odds.\n",
      " |      \n",
      " |      Values with prob=0 are removed.\n",
      " |  \n",
      " |  MakeProbs(self)\n",
      " |      Transforms from odds to probabilities.\n",
      " |  \n",
      " |  Print(self)\n",
      " |      Prints the hypotheses and their probabilities.\n",
      " |  \n",
      " |  Update(self, data)\n",
      " |      Updates each hypothesis based on the data.\n",
      " |      \n",
      " |      data: any representation of the data\n",
      " |      \n",
      " |      returns: the normalizing constant\n",
      " |  \n",
      " |  UpdateSet(self, dataset)\n",
      " |      Updates each hypothesis based on the dataset.\n",
      " |      \n",
      " |      This is more efficient than calling Update repeatedly because\n",
      " |      it waits until the end to Normalize.\n",
      " |      \n",
      " |      Modifies the suite directly; if you want to keep the original, make\n",
      " |      a copy.\n",
      " |      \n",
      " |      dataset: a sequence of data\n",
      " |      \n",
      " |      returns: the normalizing constant\n",
      " |  \n",
      " |  ----------------------------------------------------------------------\n",
      " |  Methods inherited from thinkbayes.Pmf:\n",
      " |  \n",
      " |  AddConstant(self, other)\n",
      " |      Computes the Pmf of the sum a constant and  values from self.\n",
      " |      \n",
      " |      other: a number\n",
      " |      \n",
      " |      returns: new Pmf\n",
      " |  \n",
      " |  AddPmf(self, other)\n",
      " |      Computes the Pmf of the sum of values drawn from self and other.\n",
      " |      \n",
      " |      other: another Pmf\n",
      " |      \n",
      " |      returns: new Pmf\n",
      " |  \n",
      " |  CredibleInterval(self, percentage=90)\n",
      " |      Computes the central credible interval.\n",
      " |      \n",
      " |      If percentage=90, computes the 90% CI.\n",
      " |      \n",
      " |      Args:\n",
      " |          percentage: float between 0 and 100\n",
      " |      \n",
      " |      Returns:\n",
      " |          sequence of two floats, low and high\n",
      " |  \n",
      " |  MakeCdf(self, name=None)\n",
      " |      Makes a Cdf.\n",
      " |  \n",
      " |  Max(self, k)\n",
      " |      Computes the CDF of the maximum of k selections from this dist.\n",
      " |      \n",
      " |      k: int\n",
      " |      \n",
      " |      returns: new Cdf\n",
      " |  \n",
      " |  MaximumLikelihood(self)\n",
      " |      Returns the value with the highest probability.\n",
      " |      \n",
      " |      Returns: float probability\n",
      " |  \n",
      " |  Mean(self)\n",
      " |      Computes the mean of a PMF.\n",
      " |      \n",
      " |      Returns:\n",
      " |          float mean\n",
      " |  \n",
      " |  Normalize(self, fraction=1.0)\n",
      " |      Normalizes this PMF so the sum of all probs is fraction.\n",
      " |      \n",
      " |      Args:\n",
      " |          fraction: what the total should be after normalization\n",
      " |      \n",
      " |      Returns: the total probability before normalizing\n",
      " |  \n",
      " |  Prob(self, x, default=0)\n",
      " |      Gets the probability associated with the value x.\n",
      " |      \n",
      " |      Args:\n",
      " |          x: number value\n",
      " |          default: value to return if the key is not there\n",
      " |      \n",
      " |      Returns:\n",
      " |          float probability\n",
      " |  \n",
      " |  ProbGreater(self, x)\n",
      " |      Probability that a sample from this Pmf exceeds x.\n",
      " |      \n",
      " |      x: number\n",
      " |      \n",
      " |      returns: float probability\n",
      " |  \n",
      " |  ProbLess(self, x)\n",
      " |      Probability that a sample from this Pmf is less than x.\n",
      " |      \n",
      " |      x: number\n",
      " |      \n",
      " |      returns: float probability\n",
      " |  \n",
      " |  Probs(self, xs)\n",
      " |      Gets probabilities for a sequence of values.\n",
      " |  \n",
      " |  Random(self)\n",
      " |      Chooses a random element from this PMF.\n",
      " |      \n",
      " |      Returns:\n",
      " |          float value from the Pmf\n",
      " |  \n",
      " |  Var(self, mu=None)\n",
      " |      Computes the variance of a PMF.\n",
      " |      \n",
      " |      Args:\n",
      " |          mu: the point around which the variance is computed;\n",
      " |              if omitted, computes the mean\n",
      " |      \n",
      " |      Returns:\n",
      " |          float variance\n",
      " |  \n",
      " |  __add__(self, other)\n",
      " |      Computes the Pmf of the sum of values drawn from self and other.\n",
      " |      \n",
      " |      other: another Pmf\n",
      " |      \n",
      " |      returns: new Pmf\n",
      " |  \n",
      " |  __eq__(self, obj)\n",
      " |      Equal to.\n",
      " |      \n",
      " |      obj: number or _DictWrapper\n",
      " |      \n",
      " |      returns: float probability\n",
      " |  \n",
      " |  __ge__(self, obj)\n",
      " |      Greater than or equal.\n",
      " |      \n",
      " |      obj: number or _DictWrapper\n",
      " |      \n",
      " |      returns: float probability\n",
      " |  \n",
      " |  __gt__(self, obj)\n",
      " |      Greater than.\n",
      " |      \n",
      " |      obj: number or _DictWrapper\n",
      " |      \n",
      " |      returns: float probability\n",
      " |  \n",
      " |  __le__(self, obj)\n",
      " |      Less than or equal.\n",
      " |      \n",
      " |      obj: number or _DictWrapper\n",
      " |      \n",
      " |      returns: float probability\n",
      " |  \n",
      " |  __lt__(self, obj)\n",
      " |      Less than.\n",
      " |      \n",
      " |      obj: number or _DictWrapper\n",
      " |      \n",
      " |      returns: float probability\n",
      " |  \n",
      " |  __ne__(self, obj)\n",
      " |      Not equal to.\n",
      " |      \n",
      " |      obj: number or _DictWrapper\n",
      " |      \n",
      " |      returns: float probability\n",
      " |  \n",
      " |  __sub__(self, other)\n",
      " |      Computes the Pmf of the diff of values drawn from self and other.\n",
      " |      \n",
      " |      other: another Pmf\n",
      " |      \n",
      " |      returns: new Pmf\n",
      " |  \n",
      " |  ----------------------------------------------------------------------\n",
      " |  Methods inherited from thinkbayes._DictWrapper:\n",
      " |  \n",
      " |  Copy(self, name=None)\n",
      " |      Returns a copy.\n",
      " |      \n",
      " |      Make a shallow copy of d.  If you want a deep copy of d,\n",
      " |      use copy.deepcopy on the whole object.\n",
      " |      \n",
      " |      Args:\n",
      " |          name: string name for the new Hist\n",
      " |  \n",
      " |  Exp(self, m=None)\n",
      " |      Exponentiates the probabilities.\n",
      " |      \n",
      " |      m: how much to shift the ps before exponentiating\n",
      " |      \n",
      " |      If m is None, normalizes so that the largest prob is 1.\n",
      " |  \n",
      " |  GetDict(self)\n",
      " |      Gets the dictionary.\n",
      " |  \n",
      " |  Incr(self, x, term=1)\n",
      " |      Increments the freq/prob associated with the value x.\n",
      " |      \n",
      " |      Args:\n",
      " |          x: number value\n",
      " |          term: how much to increment by\n",
      " |  \n",
      " |  InitFailure(self, values)\n",
      " |      Raises an error.\n",
      " |  \n",
      " |  InitMapping(self, values)\n",
      " |      Initializes with a map from value to probability.\n",
      " |      \n",
      " |      values: map from value to probability\n",
      " |  \n",
      " |  InitPmf(self, values)\n",
      " |      Initializes with a Pmf.\n",
      " |      \n",
      " |      values: Pmf object\n",
      " |  \n",
      " |  InitSequence(self, values)\n",
      " |      Initializes with a sequence of equally-likely values.\n",
      " |      \n",
      " |      values: sequence of values\n",
      " |  \n",
      " |  Items(self)\n",
      " |      Gets an unsorted sequence of (value, freq/prob) pairs.\n",
      " |  \n",
      " |  Log(self, m=None)\n",
      " |      Log transforms the probabilities.\n",
      " |      \n",
      " |      Removes values with probability 0.\n",
      " |      \n",
      " |      Normalizes so that the largest logprob is 0.\n",
      " |  \n",
      " |  MaxLike(self)\n",
      " |      Returns the largest frequency/probability in the map.\n",
      " |  \n",
      " |  Mult(self, x, factor)\n",
      " |      Scales the freq/prob associated with the value x.\n",
      " |      \n",
      " |      Args:\n",
      " |          x: number value\n",
      " |          factor: how much to multiply by\n",
      " |  \n",
      " |  Remove(self, x)\n",
      " |      Removes a value.\n",
      " |      \n",
      " |      Throws an exception if the value is not there.\n",
      " |      \n",
      " |      Args:\n",
      " |          x: value to remove\n",
      " |  \n",
      " |  Render(self)\n",
      " |      Generates a sequence of points suitable for plotting.\n",
      " |      \n",
      " |      Returns:\n",
      " |          tuple of (sorted value sequence, freq/prob sequence)\n",
      " |  \n",
      " |  Scale(self, factor)\n",
      " |      Multiplies the values by a factor.\n",
      " |      \n",
      " |      factor: what to multiply by\n",
      " |      \n",
      " |      Returns: new object\n",
      " |  \n",
      " |  Set(self, x, y=0)\n",
      " |      Sets the freq/prob associated with the value x.\n",
      " |      \n",
      " |      Args:\n",
      " |          x: number value\n",
      " |          y: number freq or prob\n",
      " |  \n",
      " |  SetDict(self, d)\n",
      " |      Sets the dictionary.\n",
      " |  \n",
      " |  Total(self)\n",
      " |      Returns the total of the frequencies/probabilities in the map.\n",
      " |  \n",
      " |  Values(self)\n",
      " |      Gets an unsorted sequence of values.\n",
      " |      \n",
      " |      Note: one source of confusion is that the keys of this\n",
      " |      dictionary are the values of the Hist/Pmf, and the\n",
      " |      values of the dictionary are frequencies/probabilities.\n",
      " |  \n",
      " |  __contains__(self, value)\n",
      " |  \n",
      " |  __init__(self, values=None, name='')\n",
      " |      Initializes the distribution.\n",
      " |      \n",
      " |      hypos: sequence of hypotheses\n",
      " |  \n",
      " |  __iter__(self)\n",
      " |  \n",
      " |  __len__(self)\n",
      " |  \n",
      " |  iterkeys(self)\n",
      " |  \n",
      " |  ----------------------------------------------------------------------\n",
      " |  Data descriptors inherited from thinkbayes._DictWrapper:\n",
      " |  \n",
      " |  __dict__\n",
      " |      dictionary for instance variables (if defined)\n",
      " |  \n",
      " |  __weakref__\n",
      " |      list of weak references to the object (if defined)\n",
      "\n"
     ]
    }
   ],
   "source": [
    "help(suite)"
   ]
  },
  {
   "cell_type": "code",
   "execution_count": 44,
   "metadata": {
    "collapsed": false
   },
   "outputs": [
    {
     "data": {
      "text/plain": [
       "{'bag1': {'brown': 30,\n",
       "  'green': 10,\n",
       "  'orange': 10,\n",
       "  'red': 20,\n",
       "  'tan': 10,\n",
       "  'yellow': 20},\n",
       " 'bag2': {'blue': 24,\n",
       "  'brown': 13,\n",
       "  'green': 20,\n",
       "  'orange': 16,\n",
       "  'red': 13,\n",
       "  'yellow': 14}}"
      ]
     },
     "execution_count": 44,
     "metadata": {},
     "output_type": "execute_result"
    }
   ],
   "source": [
    "suite.hypoA"
   ]
  },
  {
   "cell_type": "markdown",
   "metadata": {},
   "source": [
    "### 2.8 Exercises\n",
    "\n",
    "#### Exercise 1\n",
    "In Section 2.3 I said that the solution to the cookie problem generalizes to the case where we draw multiple cookies with replacement. But in the more likely scenario where we eat the cookies we draw, the likelihood of each draw depends on the previous draws. \n",
    "Modify the solution in this chapter to handle selection without replacement. Hint: add instance variables to ```Cookie``` to represent the hypothetical state of the bowls, and modify ```Likelihood``` accordingly. You might want to define a ```Bowl``` object."
   ]
  },
  {
   "cell_type": "code",
   "execution_count": 45,
   "metadata": {
    "collapsed": true
   },
   "outputs": [],
   "source": [
    "from thinkbayes import Suite\n",
    "\n",
    "class CookieMonster(Suite):\n",
    "    \n",
    "    bowl1 = dict(vanilla=30,chocolate=10)\n",
    "    bowl2 = dict(vanilla=20,chocolate=20)\n",
    "    \n",
    "    \n",
    "    bowl1total = sum(bowl1.values())\n",
    "    bowl2total = sum(bowl2.values())\n",
    "    \n",
    "    \n",
    "    vb1 = bowl1['vanilla']/bowl1total\n",
    "    cb1 = bowl1['chocolate']/bowl1total\n",
    "    \n",
    "    vb2 = bowl2['vanilla']/bowl2total\n",
    "    cb2 = bowl2['chocolate']/bowl2total\n",
    "    \n",
    "    \n",
    "    \n",
    "    mixes = {\n",
    "        'Bowl 1':dict(vanilla=0.75, chocolate=0.25),\n",
    "        'Bowl 2':dict(vanilla=0.5, chocolate=0.5),\n",
    "        }\n",
    "    \n",
    "    \n",
    "    def Likelihood(self, data, hypo):\n",
    "        mix = self.mixes[hypo]\n",
    "        like = mix[data]\n",
    "        return like"
   ]
  },
  {
   "cell_type": "code",
   "execution_count": 46,
   "metadata": {
    "collapsed": false
   },
   "outputs": [],
   "source": [
    "bowl1 = dict(vanilla=30.,chocolate=10.)"
   ]
  },
  {
   "cell_type": "code",
   "execution_count": 47,
   "metadata": {
    "collapsed": false
   },
   "outputs": [
    {
     "data": {
      "text/plain": [
       "0.75"
      ]
     },
     "execution_count": 47,
     "metadata": {},
     "output_type": "execute_result"
    }
   ],
   "source": [
    "bowl1['vanilla']/sum(bowl1.values())"
   ]
  },
  {
   "cell_type": "markdown",
   "metadata": {},
   "source": []
  },
  {
   "cell_type": "code",
   "execution_count": 48,
   "metadata": {
    "collapsed": false
   },
   "outputs": [
    {
     "data": {
      "text/plain": [
       "0.3333333333333333"
      ]
     },
     "execution_count": 48,
     "metadata": {},
     "output_type": "execute_result"
    }
   ],
   "source": [
    "bowl1['chocolate']/bowl1['vanilla']"
   ]
  },
  {
   "cell_type": "code",
   "execution_count": 49,
   "metadata": {
    "collapsed": false
   },
   "outputs": [
    {
     "data": {
      "text/plain": [
       "{'chocolate': 10.0, 'vanilla': 30.0}"
      ]
     },
     "execution_count": 49,
     "metadata": {},
     "output_type": "execute_result"
    }
   ],
   "source": [
    "bowl1"
   ]
  },
  {
   "cell_type": "code",
   "execution_count": 50,
   "metadata": {
    "collapsed": false
   },
   "outputs": [
    {
     "data": {
      "text/plain": [
       "40.0"
      ]
     },
     "execution_count": 50,
     "metadata": {},
     "output_type": "execute_result"
    }
   ],
   "source": [
    "sum(bowl1.values())"
   ]
  },
  {
   "cell_type": "markdown",
   "metadata": {},
   "source": [
    "## Need to review classes, etc.\n",
    "\n",
    "## Chapter 15 Classes and objects\n",
    "\n",
    "\n",
    "A user-defined type is also called a **class**."
   ]
  },
  {
   "cell_type": "code",
   "execution_count": 52,
   "metadata": {
    "collapsed": false
   },
   "outputs": [],
   "source": [
    "class Point(object):\n",
    "    \"\"\"Represents a point in 2-D space.\"\"\"\n",
    "    \n",
    "    def __init__(self, x=0, y=0):\n",
    "        self.x = x\n",
    "        self.y = y"
   ]
  },
  {
   "cell_type": "code",
   "execution_count": 53,
   "metadata": {
    "collapsed": false
   },
   "outputs": [
    {
     "name": "stdout",
     "output_type": "stream",
     "text": [
      "<class '__main__.Point'>\n"
     ]
    }
   ],
   "source": [
    "print Point\n"
   ]
  },
  {
   "cell_type": "code",
   "execution_count": 54,
   "metadata": {
    "collapsed": true
   },
   "outputs": [],
   "source": [
    "blank = Point()"
   ]
  },
  {
   "cell_type": "code",
   "execution_count": 55,
   "metadata": {
    "collapsed": false
   },
   "outputs": [
    {
     "name": "stdout",
     "output_type": "stream",
     "text": [
      "<__main__.Point object at 0x000000000ACB29E8>\n"
     ]
    }
   ],
   "source": [
    "print blank"
   ]
  },
  {
   "cell_type": "code",
   "execution_count": 56,
   "metadata": {
    "collapsed": true
   },
   "outputs": [],
   "source": [
    "blank.x = 3.0\n",
    "blank.y = 4.0"
   ]
  },
  {
   "cell_type": "code",
   "execution_count": 57,
   "metadata": {
    "collapsed": false
   },
   "outputs": [
    {
     "name": "stdout",
     "output_type": "stream",
     "text": [
      "4.0\n"
     ]
    }
   ],
   "source": [
    "print blank.y"
   ]
  },
  {
   "cell_type": "code",
   "execution_count": 58,
   "metadata": {
    "collapsed": false
   },
   "outputs": [
    {
     "name": "stdout",
     "output_type": "stream",
     "text": [
      "3.0\n"
     ]
    }
   ],
   "source": [
    "x = blank.x\n",
    "print x"
   ]
  },
  {
   "cell_type": "code",
   "execution_count": 59,
   "metadata": {
    "collapsed": false
   },
   "outputs": [
    {
     "name": "stdout",
     "output_type": "stream",
     "text": [
      "(3, 4)\n"
     ]
    }
   ],
   "source": [
    "print '(%g, %g)' % (blank.x, blank.y)"
   ]
  },
  {
   "cell_type": "code",
   "execution_count": 60,
   "metadata": {
    "collapsed": false
   },
   "outputs": [
    {
     "name": "stdout",
     "output_type": "stream",
     "text": [
      "5.0\n"
     ]
    }
   ],
   "source": [
    "import math\n",
    "distance = math.sqrt(blank.x**2 + blank.y**2)\n",
    "print distance"
   ]
  },
  {
   "cell_type": "code",
   "execution_count": 61,
   "metadata": {
    "collapsed": true
   },
   "outputs": [],
   "source": [
    "def print_point(p):\n",
    "    print '(%g, %g)' % (p.x, p.y)"
   ]
  },
  {
   "cell_type": "code",
   "execution_count": 62,
   "metadata": {
    "collapsed": false
   },
   "outputs": [
    {
     "name": "stdout",
     "output_type": "stream",
     "text": [
      "(3, 4)\n"
     ]
    }
   ],
   "source": [
    "print_point(blank)"
   ]
  },
  {
   "cell_type": "code",
   "execution_count": 63,
   "metadata": {
    "collapsed": true
   },
   "outputs": [],
   "source": [
    "def distance_between_points(p,q):\n",
    "    \"\"\"takes two Points p and q and returns the \n",
    "    distance between them.\"\"\"\n",
    "    dx = p.x - q.x\n",
    "    dy = p.y - q.y\n",
    "    distance = math.sqrt(dx**2 + dy**2)\n",
    "    return distance"
   ]
  },
  {
   "cell_type": "code",
   "execution_count": 64,
   "metadata": {
    "collapsed": true
   },
   "outputs": [],
   "source": [
    "class Rectangle(object):\n",
    "    \"\"\"Represents a rectangle.\n",
    "    \n",
    "    attributes: width, height, corner.\"\"\""
   ]
  },
  {
   "cell_type": "code",
   "execution_count": 65,
   "metadata": {
    "collapsed": true
   },
   "outputs": [],
   "source": [
    "box = Rectangle()\n",
    "box.width = 100.0\n",
    "box.height = 200.0\n",
    "box.corner = Point()\n",
    "box.corner.x = 0.0\n",
    "box.corner.y = 0.0"
   ]
  },
  {
   "cell_type": "code",
   "execution_count": 66,
   "metadata": {
    "collapsed": false
   },
   "outputs": [],
   "source": [
    "def find_center(rect):\n",
    "    p = Point()\n",
    "    p.x = rect.corner.x + rect.width/2.0\n",
    "    p.y = rect.corner.y + rect.height/2.0\n",
    "    return p"
   ]
  },
  {
   "cell_type": "code",
   "execution_count": 67,
   "metadata": {
    "collapsed": true
   },
   "outputs": [],
   "source": [
    "center = find_center(box)"
   ]
  },
  {
   "cell_type": "code",
   "execution_count": 68,
   "metadata": {
    "collapsed": false
   },
   "outputs": [
    {
     "name": "stdout",
     "output_type": "stream",
     "text": [
      "(50, 100)\n"
     ]
    }
   ],
   "source": [
    "print_point(center)"
   ]
  },
  {
   "cell_type": "markdown",
   "metadata": {},
   "source": [
    "### Objects are mutable\n",
    "\n",
    "You can change the state of an object by making an assignment to one of its attributes.\n",
    "For example, to change the size of a rectangle without changing its position, you can \n",
    "modify its values of ```width``` and ```height```."
   ]
  },
  {
   "cell_type": "code",
   "execution_count": 69,
   "metadata": {
    "collapsed": true
   },
   "outputs": [],
   "source": [
    "box.width += 50\n",
    "box.height += 100"
   ]
  },
  {
   "cell_type": "code",
   "execution_count": 70,
   "metadata": {
    "collapsed": true
   },
   "outputs": [],
   "source": [
    "def grow_rectangle(rect, dwidth, dheight):\n",
    "    rect.width += dwidth\n",
    "    rect.height += dheight"
   ]
  },
  {
   "cell_type": "code",
   "execution_count": 71,
   "metadata": {
    "collapsed": false
   },
   "outputs": [
    {
     "name": "stdout",
     "output_type": "stream",
     "text": [
      "150.0\n"
     ]
    }
   ],
   "source": [
    "print box.width"
   ]
  },
  {
   "cell_type": "code",
   "execution_count": 72,
   "metadata": {
    "collapsed": false
   },
   "outputs": [
    {
     "name": "stdout",
     "output_type": "stream",
     "text": [
      "300.0\n"
     ]
    }
   ],
   "source": [
    "print box.height"
   ]
  },
  {
   "cell_type": "code",
   "execution_count": 73,
   "metadata": {
    "collapsed": true
   },
   "outputs": [],
   "source": [
    "grow_rectangle(box, 50, 100)"
   ]
  },
  {
   "cell_type": "code",
   "execution_count": 74,
   "metadata": {
    "collapsed": false
   },
   "outputs": [
    {
     "name": "stdout",
     "output_type": "stream",
     "text": [
      "200.0\n"
     ]
    }
   ],
   "source": [
    "print box.width"
   ]
  },
  {
   "cell_type": "code",
   "execution_count": 75,
   "metadata": {
    "collapsed": false
   },
   "outputs": [
    {
     "name": "stdout",
     "output_type": "stream",
     "text": [
      "400.0\n"
     ]
    }
   ],
   "source": [
    "print box.height"
   ]
  },
  {
   "cell_type": "code",
   "execution_count": 76,
   "metadata": {
    "collapsed": true
   },
   "outputs": [],
   "source": [
    "def move_rectangle(rect, dx, dy):\n",
    "    rect.corner.x += dx\n",
    "    rect.corner.y += dy"
   ]
  },
  {
   "cell_type": "code",
   "execution_count": 77,
   "metadata": {
    "collapsed": false
   },
   "outputs": [
    {
     "name": "stdout",
     "output_type": "stream",
     "text": [
      "0.0\n"
     ]
    }
   ],
   "source": [
    "print box.corner.x"
   ]
  },
  {
   "cell_type": "code",
   "execution_count": 78,
   "metadata": {
    "collapsed": false
   },
   "outputs": [
    {
     "name": "stdout",
     "output_type": "stream",
     "text": [
      "0.0\n"
     ]
    }
   ],
   "source": [
    "print box.corner.y"
   ]
  },
  {
   "cell_type": "code",
   "execution_count": 79,
   "metadata": {
    "collapsed": false
   },
   "outputs": [],
   "source": [
    "move_rectangle(box, 10, 10)"
   ]
  },
  {
   "cell_type": "code",
   "execution_count": 80,
   "metadata": {
    "collapsed": false
   },
   "outputs": [
    {
     "name": "stdout",
     "output_type": "stream",
     "text": [
      "10.0\n"
     ]
    }
   ],
   "source": [
    "print box.corner.x"
   ]
  },
  {
   "cell_type": "code",
   "execution_count": 81,
   "metadata": {
    "collapsed": false
   },
   "outputs": [
    {
     "name": "stdout",
     "output_type": "stream",
     "text": [
      "10.0\n"
     ]
    }
   ],
   "source": [
    "print box.corner.y"
   ]
  },
  {
   "cell_type": "code",
   "execution_count": 82,
   "metadata": {
    "collapsed": true
   },
   "outputs": [],
   "source": [
    "p1 = Point()\n",
    "p1.x = 3.0\n",
    "p1.y = 4.0"
   ]
  },
  {
   "cell_type": "code",
   "execution_count": 83,
   "metadata": {
    "collapsed": true
   },
   "outputs": [],
   "source": [
    "import copy\n",
    "p2 = copy.copy(p1)"
   ]
  },
  {
   "cell_type": "code",
   "execution_count": 84,
   "metadata": {
    "collapsed": false
   },
   "outputs": [
    {
     "name": "stdout",
     "output_type": "stream",
     "text": [
      "(3, 4)\n"
     ]
    }
   ],
   "source": [
    "print_point(p1)"
   ]
  },
  {
   "cell_type": "code",
   "execution_count": 85,
   "metadata": {
    "collapsed": false
   },
   "outputs": [
    {
     "name": "stdout",
     "output_type": "stream",
     "text": [
      "(3, 4)\n"
     ]
    }
   ],
   "source": [
    "print_point(p2)"
   ]
  },
  {
   "cell_type": "code",
   "execution_count": 86,
   "metadata": {
    "collapsed": false
   },
   "outputs": [
    {
     "data": {
      "text/plain": [
       "False"
      ]
     },
     "execution_count": 86,
     "metadata": {},
     "output_type": "execute_result"
    }
   ],
   "source": [
    "p1 is p2"
   ]
  },
  {
   "cell_type": "code",
   "execution_count": 87,
   "metadata": {
    "collapsed": false
   },
   "outputs": [
    {
     "data": {
      "text/plain": [
       "False"
      ]
     },
     "execution_count": 87,
     "metadata": {},
     "output_type": "execute_result"
    }
   ],
   "source": [
    "p1 == p2"
   ]
  },
  {
   "cell_type": "markdown",
   "metadata": {},
   "source": [
    "The is operator indicates that p1 and p2 are not the same object, which is what we expected. But you might have expected == to yield True because these points contain the same data. In that case, you will be disappointed to learn that for instances, the default behavior of the == operator is the same as the is operator; it checks object identity, not object equivalence. This behavior can be changed—we’ll see how later."
   ]
  },
  {
   "cell_type": "code",
   "execution_count": 88,
   "metadata": {
    "collapsed": true
   },
   "outputs": [],
   "source": [
    "box2 = copy.copy(box)"
   ]
  },
  {
   "cell_type": "code",
   "execution_count": 89,
   "metadata": {
    "collapsed": false
   },
   "outputs": [
    {
     "data": {
      "text/plain": [
       "False"
      ]
     },
     "execution_count": 89,
     "metadata": {},
     "output_type": "execute_result"
    }
   ],
   "source": [
    "box2 is box"
   ]
  },
  {
   "cell_type": "code",
   "execution_count": 90,
   "metadata": {
    "collapsed": false
   },
   "outputs": [
    {
     "data": {
      "text/plain": [
       "True"
      ]
     },
     "execution_count": 90,
     "metadata": {},
     "output_type": "execute_result"
    }
   ],
   "source": [
    "box2.corner is box.corner"
   ]
  },
  {
   "cell_type": "code",
   "execution_count": 91,
   "metadata": {
    "collapsed": true
   },
   "outputs": [],
   "source": [
    "box3 = copy.deepcopy(box)"
   ]
  },
  {
   "cell_type": "code",
   "execution_count": 92,
   "metadata": {
    "collapsed": false
   },
   "outputs": [
    {
     "data": {
      "text/plain": [
       "False"
      ]
     },
     "execution_count": 92,
     "metadata": {},
     "output_type": "execute_result"
    }
   ],
   "source": [
    "box3 is box"
   ]
  },
  {
   "cell_type": "code",
   "execution_count": 93,
   "metadata": {
    "collapsed": false
   },
   "outputs": [
    {
     "data": {
      "text/plain": [
       "False"
      ]
     },
     "execution_count": 93,
     "metadata": {},
     "output_type": "execute_result"
    }
   ],
   "source": [
    "box3.corner is box.corner"
   ]
  },
  {
   "cell_type": "code",
   "execution_count": 94,
   "metadata": {
    "collapsed": true
   },
   "outputs": [],
   "source": [
    "def move_rectangle(rect, dx, dy):\n",
    "    import copy\n",
    "    duh = copy.deepcopy(rect)\n",
    "    duh.corner.x += dx\n",
    "    duh.corner.y += dy"
   ]
  },
  {
   "cell_type": "code",
   "execution_count": 95,
   "metadata": {
    "collapsed": true
   },
   "outputs": [],
   "source": [
    "p = Point()"
   ]
  },
  {
   "cell_type": "code",
   "execution_count": 96,
   "metadata": {
    "collapsed": false
   },
   "outputs": [
    {
     "data": {
      "text/plain": [
       "__main__.Point"
      ]
     },
     "execution_count": 96,
     "metadata": {},
     "output_type": "execute_result"
    }
   ],
   "source": [
    "type(p)"
   ]
  },
  {
   "cell_type": "code",
   "execution_count": 97,
   "metadata": {
    "collapsed": false
   },
   "outputs": [
    {
     "data": {
      "text/plain": [
       "True"
      ]
     },
     "execution_count": 97,
     "metadata": {},
     "output_type": "execute_result"
    }
   ],
   "source": [
    "hasattr(p,'x')"
   ]
  },
  {
   "cell_type": "code",
   "execution_count": 98,
   "metadata": {
    "collapsed": true
   },
   "outputs": [],
   "source": [
    "p.x = 5.0"
   ]
  },
  {
   "cell_type": "code",
   "execution_count": 99,
   "metadata": {
    "collapsed": false
   },
   "outputs": [
    {
     "data": {
      "text/plain": [
       "True"
      ]
     },
     "execution_count": 99,
     "metadata": {},
     "output_type": "execute_result"
    }
   ],
   "source": [
    "hasattr(p,'x')"
   ]
  },
  {
   "cell_type": "code",
   "execution_count": 100,
   "metadata": {
    "collapsed": false
   },
   "outputs": [
    {
     "data": {
      "text/plain": [
       "True"
      ]
     },
     "execution_count": 100,
     "metadata": {},
     "output_type": "execute_result"
    }
   ],
   "source": [
    "hasattr(p,'y')"
   ]
  },
  {
   "cell_type": "code",
   "execution_count": 101,
   "metadata": {
    "collapsed": true
   },
   "outputs": [],
   "source": [
    "class Time(object):\n",
    "    \"\"\"Represents the time of day.\n",
    "    \n",
    "    attributes: hour, minute, second.\"\"\""
   ]
  },
  {
   "cell_type": "code",
   "execution_count": 102,
   "metadata": {
    "collapsed": true
   },
   "outputs": [],
   "source": [
    "time = Time()"
   ]
  },
  {
   "cell_type": "code",
   "execution_count": 103,
   "metadata": {
    "collapsed": false
   },
   "outputs": [],
   "source": [
    "time.hour = 11\n",
    "time.minute = 59\n",
    "time.second = 30"
   ]
  },
  {
   "cell_type": "code",
   "execution_count": 104,
   "metadata": {
    "collapsed": true
   },
   "outputs": [],
   "source": [
    "def print_time(zeit):\n",
    "    \"\"\"Takes a Time object zeit and prints it \n",
    "    in the form hour:minute:second\"\"\"\n",
    "    print str(zeit.hour).zfill(2) + ':' + str(zeit.minute).zfill(2) + ':' +  str(zeit.second).zfill(2)"
   ]
  },
  {
   "cell_type": "code",
   "execution_count": 105,
   "metadata": {
    "collapsed": false
   },
   "outputs": [
    {
     "name": "stdout",
     "output_type": "stream",
     "text": [
      "11:59:30\n"
     ]
    }
   ],
   "source": [
    " print_time(time)"
   ]
  },
  {
   "cell_type": "code",
   "execution_count": 106,
   "metadata": {
    "collapsed": true
   },
   "outputs": [],
   "source": [
    "def is_after(t1, t2):\n",
    "    \"\"\"Takes two Time objects t1 and t2 and \n",
    "    returns True if t1 follows t2 chronologically and False otherwise.\"\"\"\n",
    "    return (t1.hour, t1.minute, t1.second) > (t2.hour, t2.minute, t2.second)"
   ]
  },
  {
   "cell_type": "code",
   "execution_count": 107,
   "metadata": {
    "collapsed": true
   },
   "outputs": [],
   "source": [
    "t1 = Time()\n",
    "t1.hour = 11\n",
    "t1.minute = 59\n",
    "t1.second = 30"
   ]
  },
  {
   "cell_type": "code",
   "execution_count": 108,
   "metadata": {
    "collapsed": true
   },
   "outputs": [],
   "source": [
    "t2 = Time()\n",
    "t2.hour = 11\n",
    "t2.minute = 59\n",
    "t2.second = 2"
   ]
  },
  {
   "cell_type": "code",
   "execution_count": 109,
   "metadata": {
    "collapsed": false
   },
   "outputs": [
    {
     "data": {
      "text/plain": [
       "True"
      ]
     },
     "execution_count": 109,
     "metadata": {},
     "output_type": "execute_result"
    }
   ],
   "source": [
    "is_after(t1, t2)"
   ]
  },
  {
   "cell_type": "code",
   "execution_count": 110,
   "metadata": {
    "collapsed": true
   },
   "outputs": [],
   "source": [
    "def add_time(t1, t2):\n",
    "    sum = Time()\n",
    "    sum.hour = t1.hour + t2.hour\n",
    "    sum.minute = t1.minute + t2.minute\n",
    "    sum.second = t1.second + t2.second\n",
    "    \n",
    "    if sum.second >= 60:\n",
    "        sum.second -= 60\n",
    "        sum.minute += 1\n",
    "        \n",
    "    if sum.minute >= 60:\n",
    "        sum.minute -= 60\n",
    "        sum.hour += 1\n",
    "        \n",
    "    return sum"
   ]
  },
  {
   "cell_type": "code",
   "execution_count": 111,
   "metadata": {
    "collapsed": true
   },
   "outputs": [],
   "source": [
    "start = Time()\n",
    "start.hour = 9\n",
    "start.minute = 45\n",
    "start.second = 0"
   ]
  },
  {
   "cell_type": "code",
   "execution_count": 112,
   "metadata": {
    "collapsed": true
   },
   "outputs": [],
   "source": [
    "duration = Time()\n",
    "duration.hour = 1\n",
    "duration.minute = 35\n",
    "duration.second = 0"
   ]
  },
  {
   "cell_type": "code",
   "execution_count": 113,
   "metadata": {
    "collapsed": false
   },
   "outputs": [
    {
     "name": "stdout",
     "output_type": "stream",
     "text": [
      "The history saving thread hit an unexpected error (OperationalError('disk I/O error',)).History will not be written to the database.\n",
      "11:20:00\n"
     ]
    }
   ],
   "source": [
    "done = add_time(start,duration)\n",
    "print_time(done)"
   ]
  },
  {
   "cell_type": "code",
   "execution_count": 114,
   "metadata": {
    "collapsed": true
   },
   "outputs": [],
   "source": [
    "def increment(time, seconds):\n",
    "    time.second += seconds\n",
    "    \n",
    "    a, b = divmod(time.second,60)\n",
    "    \n",
    "    time.second = b\n",
    "    time.minute += a\n",
    "    \n",
    "    c, d = divmod(time.minute, 60)\n",
    "    \n",
    "    time.minute = d\n",
    "    time.hour += c\n",
    "    \n"
   ]
  },
  {
   "cell_type": "code",
   "execution_count": 115,
   "metadata": {
    "collapsed": false
   },
   "outputs": [
    {
     "name": "stdout",
     "output_type": "stream",
     "text": [
      "11:20:00\n"
     ]
    }
   ],
   "source": [
    "print_time(done)"
   ]
  },
  {
   "cell_type": "code",
   "execution_count": 116,
   "metadata": {
    "collapsed": true
   },
   "outputs": [],
   "source": [
    "increment(done,24352436)"
   ]
  },
  {
   "cell_type": "code",
   "execution_count": 117,
   "metadata": {
    "collapsed": false
   },
   "outputs": [
    {
     "name": "stdout",
     "output_type": "stream",
     "text": [
      "6775:53:56\n"
     ]
    }
   ],
   "source": [
    "print_time(done)"
   ]
  },
  {
   "cell_type": "code",
   "execution_count": 118,
   "metadata": {
    "collapsed": true
   },
   "outputs": [],
   "source": [
    "def increment(time, seconds,inplace=False):\n",
    "    if inplace == True:\n",
    "        time.second += seconds\n",
    "    \n",
    "        a, b = divmod(time.second,60)\n",
    "    \n",
    "        time.second = b\n",
    "        time.minute += a\n",
    "    \n",
    "        c, d = divmod(time.minute, 60)\n",
    "    \n",
    "        time.minute = d\n",
    "        time.hour += c\n",
    "    else:\n",
    "        zeit = copy.deepcopy(time)\n",
    "        zeit.second += seconds\n",
    "    \n",
    "        a, b = divmod(zeit.second,60)\n",
    "    \n",
    "        zeit.second = b\n",
    "        zeit.minute += a\n",
    "    \n",
    "        c, d = divmod(zeit.minute, 60)\n",
    "    \n",
    "        zeit.minute = d\n",
    "        zeit.hour += c\n",
    "        \n",
    "        return zeit\n",
    "        "
   ]
  },
  {
   "cell_type": "code",
   "execution_count": 119,
   "metadata": {
    "collapsed": false
   },
   "outputs": [
    {
     "name": "stdout",
     "output_type": "stream",
     "text": [
      "6775:53:56\n"
     ]
    }
   ],
   "source": [
    "print_time(done)"
   ]
  },
  {
   "cell_type": "code",
   "execution_count": 120,
   "metadata": {
    "collapsed": true
   },
   "outputs": [],
   "source": [
    "bad = increment(done, 4)"
   ]
  },
  {
   "cell_type": "code",
   "execution_count": 121,
   "metadata": {
    "collapsed": false
   },
   "outputs": [
    {
     "name": "stdout",
     "output_type": "stream",
     "text": [
      "6775:53:56\n"
     ]
    }
   ],
   "source": [
    "print_time(done)"
   ]
  },
  {
   "cell_type": "code",
   "execution_count": 122,
   "metadata": {
    "collapsed": false
   },
   "outputs": [
    {
     "name": "stdout",
     "output_type": "stream",
     "text": [
      "6775:54:00\n"
     ]
    }
   ],
   "source": [
    "print_time(bad)"
   ]
  },
  {
   "cell_type": "code",
   "execution_count": 123,
   "metadata": {
    "collapsed": true
   },
   "outputs": [],
   "source": [
    "def time_to_int(time):\n",
    "    minutes = time.hour*60 + time.minute\n",
    "    seconds = minutes*60 + time.second\n",
    "    return seconds"
   ]
  },
  {
   "cell_type": "code",
   "execution_count": 124,
   "metadata": {
    "collapsed": true
   },
   "outputs": [],
   "source": [
    "def int_to_time(seconds):\n",
    "    time = Time()\n",
    "    minutes, time.second = divmod(seconds, 60)\n",
    "    time.hour, time.minute = divmod(minutes, 60)\n",
    "    return time"
   ]
  },
  {
   "cell_type": "code",
   "execution_count": 125,
   "metadata": {
    "collapsed": false
   },
   "outputs": [
    {
     "data": {
      "text/plain": [
       "4562345"
      ]
     },
     "execution_count": 125,
     "metadata": {},
     "output_type": "execute_result"
    }
   ],
   "source": [
    "time_to_int(int_to_time(4562345))"
   ]
  },
  {
   "cell_type": "code",
   "execution_count": 126,
   "metadata": {
    "collapsed": true
   },
   "outputs": [],
   "source": [
    "def add_time(t1, t2):\n",
    "    seconds = time_to_int(t1) + time_to_int(t2)\n",
    "    return int_to_time(seconds)"
   ]
  },
  {
   "cell_type": "code",
   "execution_count": 127,
   "metadata": {
    "collapsed": true
   },
   "outputs": [],
   "source": [
    "def new_increment(zeit, seconds):\n",
    "    base = time_to_int(zeit)\n",
    "    newzeit = int_to_time(base+seconds)\n",
    "    return newzeit"
   ]
  },
  {
   "cell_type": "code",
   "execution_count": 128,
   "metadata": {
    "collapsed": false
   },
   "outputs": [
    {
     "name": "stdout",
     "output_type": "stream",
     "text": [
      "6775:53:56\n"
     ]
    }
   ],
   "source": [
    "print_time(done)"
   ]
  },
  {
   "cell_type": "code",
   "execution_count": 129,
   "metadata": {
    "collapsed": true
   },
   "outputs": [],
   "source": [
    "yo = new_increment(done, 4)"
   ]
  },
  {
   "cell_type": "code",
   "execution_count": 130,
   "metadata": {
    "collapsed": false
   },
   "outputs": [
    {
     "name": "stdout",
     "output_type": "stream",
     "text": [
      "6775:54:00\n"
     ]
    }
   ],
   "source": [
    "print_time(yo)"
   ]
  },
  {
   "cell_type": "code",
   "execution_count": 131,
   "metadata": {
    "collapsed": true
   },
   "outputs": [],
   "source": [
    "def mul_time(zeit, ding):\n",
    "    \"\"\"takes a Time object and a number and returns a new Time\n",
    "    object that contains the product of the orginal Time and the number ding.\"\"\"\n",
    "    import copy\n",
    "    totalint = time_to_int(zeit)*ding\n",
    "    print totalint\n",
    "    newzeit = int_to_time(totalint)\n",
    "    print_time(newzeit)\n",
    "    return newzeit"
   ]
  },
  {
   "cell_type": "code",
   "execution_count": 132,
   "metadata": {
    "collapsed": true
   },
   "outputs": [],
   "source": [
    "def avg_speed(zeit, distance):\n",
    "    \"\"\"Takes a Time object that represents the finishing time in a race,\n",
    "    and a number that represents a distance, and returns a Time object \n",
    "    that represents the average pace (time per mile).\"\"\"\n",
    "    import copy\n",
    "    newzeit = mul_time(zeit, 1./distance)\n",
    "    print_time(newzeit)\n",
    "    return newzeit"
   ]
  },
  {
   "cell_type": "code",
   "execution_count": 133,
   "metadata": {
    "collapsed": true
   },
   "outputs": [],
   "source": [
    "t1 = Time()\n",
    "t1.hour = 1\n",
    "t1.minute = 2\n",
    "t1.second = 3"
   ]
  },
  {
   "cell_type": "code",
   "execution_count": 134,
   "metadata": {
    "collapsed": false
   },
   "outputs": [
    {
     "name": "stdout",
     "output_type": "stream",
     "text": [
      "01:02:03\n"
     ]
    }
   ],
   "source": [
    "print_time(t1)"
   ]
  },
  {
   "cell_type": "code",
   "execution_count": 135,
   "metadata": {
    "collapsed": false
   },
   "outputs": [
    {
     "name": "stdout",
     "output_type": "stream",
     "text": [
      "930.75\n",
      "0.0:15.0:30.75\n",
      "0.0:15.0:30.75\n"
     ]
    }
   ],
   "source": [
    "t2 = avg_speed(t1, 4)"
   ]
  },
  {
   "cell_type": "code",
   "execution_count": 136,
   "metadata": {
    "collapsed": false
   },
   "outputs": [
    {
     "data": {
      "text/plain": [
       "3723"
      ]
     },
     "execution_count": 136,
     "metadata": {},
     "output_type": "execute_result"
    }
   ],
   "source": [
    "60*60 + 60*2 + 3"
   ]
  },
  {
   "cell_type": "code",
   "execution_count": 137,
   "metadata": {
    "collapsed": false
   },
   "outputs": [
    {
     "data": {
      "text/plain": [
       "14892"
      ]
     },
     "execution_count": 137,
     "metadata": {},
     "output_type": "execute_result"
    }
   ],
   "source": [
    "3723*4"
   ]
  },
  {
   "cell_type": "code",
   "execution_count": 138,
   "metadata": {
    "collapsed": true
   },
   "outputs": [],
   "source": [
    "huh = int_to_time(14892)"
   ]
  },
  {
   "cell_type": "code",
   "execution_count": 139,
   "metadata": {
    "collapsed": false
   },
   "outputs": [
    {
     "name": "stdout",
     "output_type": "stream",
     "text": [
      "04:08:12\n"
     ]
    }
   ],
   "source": [
    "print_time(huh)"
   ]
  },
  {
   "cell_type": "code",
   "execution_count": 140,
   "metadata": {
    "collapsed": false
   },
   "outputs": [
    {
     "data": {
      "text/plain": [
       "14892"
      ]
     },
     "execution_count": 140,
     "metadata": {},
     "output_type": "execute_result"
    }
   ],
   "source": [
    "time_to_int(huh)"
   ]
  },
  {
   "cell_type": "markdown",
   "metadata": {},
   "source": [
    "Exercise 7  \n",
    "The datetime module provides date and time objects that are similar to the Date and Time objects in this chapter, but they provide a rich set of methods and operators. Read the documentation at http://docs.python.org/2/library/datetime.html.\n",
    "\n",
    "1. Use the datetime module to write a program that gets the current date and prints the day of the week.\n",
    "2. Write a program that takes a birthday as input and prints the user’s age and the number of days, hours, minutes and seconds until their next birthday.\n",
    "3. For two people born on different days, there is a day when one is twice as old as the other. That’s their Double Day. Write a program that takes two birthdays and computes their Double Day.\n",
    "4. For a little more challenge, write the more general version that computes the day when one person is n times older than the other."
   ]
  },
  {
   "cell_type": "code",
   "execution_count": 141,
   "metadata": {
    "collapsed": true
   },
   "outputs": [],
   "source": [
    "from datetime import date"
   ]
  },
  {
   "cell_type": "code",
   "execution_count": 142,
   "metadata": {
    "collapsed": false
   },
   "outputs": [
    {
     "data": {
      "text/plain": [
       "datetime.date(2016, 3, 2)"
      ]
     },
     "execution_count": 142,
     "metadata": {},
     "output_type": "execute_result"
    }
   ],
   "source": [
    "date.today()"
   ]
  },
  {
   "cell_type": "markdown",
   "metadata": {},
   "source": [
    "```date.isoweekday()```\n",
    "Return the day of the week as an integer, where Monday is 1 and Sunday is 7."
   ]
  },
  {
   "cell_type": "code",
   "execution_count": 143,
   "metadata": {
    "collapsed": false
   },
   "outputs": [
    {
     "data": {
      "text/plain": [
       "3"
      ]
     },
     "execution_count": 143,
     "metadata": {},
     "output_type": "execute_result"
    }
   ],
   "source": [
    "date.today().isoweekday()"
   ]
  },
  {
   "cell_type": "code",
   "execution_count": 144,
   "metadata": {
    "collapsed": false
   },
   "outputs": [
    {
     "data": {
      "text/plain": [
       "1"
      ]
     },
     "execution_count": 144,
     "metadata": {},
     "output_type": "execute_result"
    }
   ],
   "source": [
    "date(1971,11,15).isoweekday()   # I was born on a Monday"
   ]
  },
  {
   "cell_type": "code",
   "execution_count": 145,
   "metadata": {
    "collapsed": false
   },
   "outputs": [
    {
     "data": {
      "text/plain": [
       "7"
      ]
     },
     "execution_count": 145,
     "metadata": {},
     "output_type": "execute_result"
    }
   ],
   "source": [
    "date(1972,4,2).isoweekday()    # Amy was born on a Sunday"
   ]
  },
  {
   "cell_type": "code",
   "execution_count": 146,
   "metadata": {
    "collapsed": false
   },
   "outputs": [
    {
     "data": {
      "text/plain": [
       "3"
      ]
     },
     "execution_count": 146,
     "metadata": {},
     "output_type": "execute_result"
    }
   ],
   "source": [
    "date(2008,7,30).isoweekday() # Sofia was born on a Wednesday"
   ]
  },
  {
   "cell_type": "markdown",
   "metadata": {},
   "source": [
    "Write a program that takes a birthday as input and prints the user’s age and the number of days, hours, minutes and seconds until their next birthday."
   ]
  },
  {
   "cell_type": "code",
   "execution_count": 147,
   "metadata": {
    "collapsed": true
   },
   "outputs": [],
   "source": [
    "import time\n",
    "from datetime import date\n",
    "my_birthday = date(1971,11,15)"
   ]
  },
  {
   "cell_type": "markdown",
   "metadata": {},
   "source": [
    "## Classes and methods\n",
    "\n",
    "Python is an **object-oriented programming language**, which means that it provides features that support object-oriented programming.\n",
    "\n",
    "Methods are semantically the same as functions, but there are two syntactic differences:\n",
    "\n",
    "* Methods are defined inside a class definition in order to make the relationship between the class and the method explicit.\n",
    "* The syntax for invoking a method is different from the syntax for calling a function."
   ]
  },
  {
   "cell_type": "code",
   "execution_count": 148,
   "metadata": {
    "collapsed": false
   },
   "outputs": [],
   "source": [
    "class Time(object):\n",
    "    \"\"\"Represents the time of day.\"\"\"\n",
    "    \n",
    "    def print_time(zeit):\n",
    "        \"\"\"Takes a Time object zeit and prints it \n",
    "        in the form hour:minute:second\"\"\"\n",
    "        print str(zeit.hour).zfill(2) + ':' + str(zeit.minute).zfill(2) + ':' +  str(zeit.second).zfill(2)"
   ]
  },
  {
   "cell_type": "code",
   "execution_count": 149,
   "metadata": {
    "collapsed": true
   },
   "outputs": [],
   "source": [
    "start = Time()"
   ]
  },
  {
   "cell_type": "code",
   "execution_count": 150,
   "metadata": {
    "collapsed": true
   },
   "outputs": [],
   "source": [
    "start.hour = 9\n",
    "start.minute = 45\n",
    "start.second = 0"
   ]
  },
  {
   "cell_type": "code",
   "execution_count": 151,
   "metadata": {
    "collapsed": false
   },
   "outputs": [
    {
     "name": "stdout",
     "output_type": "stream",
     "text": [
      "09:45:00\n"
     ]
    }
   ],
   "source": [
    "print_time(start)"
   ]
  },
  {
   "cell_type": "code",
   "execution_count": 152,
   "metadata": {
    "collapsed": false
   },
   "outputs": [
    {
     "name": "stdout",
     "output_type": "stream",
     "text": [
      "09:45:00\n"
     ]
    }
   ],
   "source": [
    "Time.print_time(start)"
   ]
  },
  {
   "cell_type": "code",
   "execution_count": 153,
   "metadata": {
    "collapsed": false
   },
   "outputs": [
    {
     "name": "stdout",
     "output_type": "stream",
     "text": [
      "09:45:00\n"
     ]
    }
   ],
   "source": [
    "start.print_time()"
   ]
  },
  {
   "cell_type": "markdown",
   "metadata": {},
   "source": [
    "Inside the method, the subject is assigned to the first parameter, so in this case ```start``` is assigned to ```time```.\n",
    "\n",
    "By convention, the first parameter of a method is called ```self```, so it would be more common to write "
   ]
  },
  {
   "cell_type": "code",
   "execution_count": 154,
   "metadata": {
    "collapsed": false
   },
   "outputs": [],
   "source": [
    "class Time(object):\n",
    "    \"\"\"Represents the time of day.\"\"\"\n",
    "    \n",
    "    def __init__(self, hour=0, minute=0, second=0):\n",
    "        self.hour = hour\n",
    "        self.minute = minute\n",
    "        self.second = second\n",
    "        \n",
    "    def __str__(self):\n",
    "        return str(self.hour).zfill(2) + ':' + str(self.minute).zfill(2) + ':' +  str(self.second).zfill(2)\n",
    "    \n",
    "    def __add__(self, other):\n",
    "        if isinstance(other, Time):\n",
    "            return self.add_time(other)\n",
    "        else:\n",
    "            return self.increment(other)\n",
    "        \n",
    "    def __radd__(self, other):\n",
    "        return self.__add__(other)\n",
    "        \n",
    "    def add_time(self, other):\n",
    "        seconds = self.time_to_int() + other.time_to_int()\n",
    "        return int_to_time(seconds)\n",
    "    \n",
    "    \n",
    "    def print_time(self):\n",
    "        \"\"\"Takes a Time object zeit and prints it \n",
    "        in the form hour:minute:second\"\"\"\n",
    "        print str(self.hour).zfill(2) + ':' + str(self.minute).zfill(2) + ':' +  str(self.second).zfill(2)\n",
    "        \n",
    "    def time_to_int(self):\n",
    "        minutes = self.hour*60 + self.minute\n",
    "        seconds = minutes*60 + self.second\n",
    "        return seconds\n",
    "    \n",
    "    def increment(self, seconds):\n",
    "        \"\"\"Pure function, not a modifier\"\"\"\n",
    "        seconds += self.time_to_int()\n",
    "        return int_to_time(seconds)\n",
    "    \n",
    "    def is_after(self, other):\n",
    "        return self.time_to_int() > other.time_to_int()"
   ]
  },
  {
   "cell_type": "code",
   "execution_count": 155,
   "metadata": {
    "collapsed": true
   },
   "outputs": [],
   "source": [
    "start = Time(9, 45, 0)\n",
    "\n"
   ]
  },
  {
   "cell_type": "code",
   "execution_count": 156,
   "metadata": {
    "collapsed": false
   },
   "outputs": [
    {
     "name": "stdout",
     "output_type": "stream",
     "text": [
      "09:45:00\n"
     ]
    }
   ],
   "source": [
    "print start"
   ]
  },
  {
   "cell_type": "code",
   "execution_count": 157,
   "metadata": {
    "collapsed": false
   },
   "outputs": [
    {
     "name": "stdout",
     "output_type": "stream",
     "text": [
      "09:45:00\n"
     ]
    }
   ],
   "source": [
    "start.print_time()"
   ]
  },
  {
   "cell_type": "code",
   "execution_count": 158,
   "metadata": {
    "collapsed": true
   },
   "outputs": [],
   "source": [
    "end = start.increment(1337)"
   ]
  },
  {
   "cell_type": "code",
   "execution_count": 159,
   "metadata": {
    "collapsed": false
   },
   "outputs": [
    {
     "name": "stdout",
     "output_type": "stream",
     "text": [
      "10:07:17\n"
     ]
    }
   ],
   "source": [
    "end.print_time()"
   ]
  },
  {
   "cell_type": "code",
   "execution_count": 160,
   "metadata": {
    "collapsed": false
   },
   "outputs": [
    {
     "data": {
      "text/plain": [
       "False"
      ]
     },
     "execution_count": 160,
     "metadata": {},
     "output_type": "execute_result"
    }
   ],
   "source": [
    "start.is_after(end)"
   ]
  },
  {
   "cell_type": "code",
   "execution_count": 161,
   "metadata": {
    "collapsed": false
   },
   "outputs": [
    {
     "data": {
      "text/plain": [
       "True"
      ]
     },
     "execution_count": 161,
     "metadata": {},
     "output_type": "execute_result"
    }
   ],
   "source": [
    "end.is_after(start)"
   ]
  },
  {
   "cell_type": "markdown",
   "metadata": {},
   "source": [
    "## The init method\n",
    "\n",
    "The init method (short for “initialization”) is a special method that gets invoked when an object is instantiated. Its full name is ```__init__``` (two underscore characters, followed by init, and then two more underscores). An init method for the Time class might look like this:"
   ]
  },
  {
   "cell_type": "code",
   "execution_count": 162,
   "metadata": {
    "collapsed": false
   },
   "outputs": [],
   "source": [
    "class Point(object):\n",
    "    \"\"\"Represents a point in 2-D space.\"\"\"\n",
    "    \n",
    "    def __init__(self,x=0, y=0):\n",
    "        self.x = x\n",
    "        self.y = y\n",
    "        \n",
    "        \n",
    "    def __str__(self):\n",
    "        return '('+str(self.x)+', '+str(self.y)+')'\n",
    "    \n",
    "    def __radd__(self, other):\n",
    "        return self.__add__(other)\n",
    "    \n",
    "    \n",
    "    def __add__(self, other):\n",
    "        if isinstance(other,Point):\n",
    "            return self.add_point(other)\n",
    "        else:\n",
    "            return self.add_tuple(other)\n",
    "    \n",
    "    def add_point(self, other):\n",
    "        allx = self.x + other.x\n",
    "        ally = self.y + other.y\n",
    "        return Point(allx, ally)\n",
    "    \n",
    "    def add_tuple(self,toople):\n",
    "        allx = self.x + toople[0]\n",
    "        ally = self.y + toople[1]\n",
    "        return Point(allx, ally)"
   ]
  },
  {
   "cell_type": "code",
   "execution_count": 163,
   "metadata": {
    "collapsed": true
   },
   "outputs": [],
   "source": [
    "p = Point(56,23)"
   ]
  },
  {
   "cell_type": "code",
   "execution_count": 164,
   "metadata": {
    "collapsed": false
   },
   "outputs": [
    {
     "name": "stdout",
     "output_type": "stream",
     "text": [
      "(56, 23)\n"
     ]
    }
   ],
   "source": [
    "print_point(p)"
   ]
  },
  {
   "cell_type": "markdown",
   "metadata": {},
   "source": [
    "```__str__``` is a special method, like ```__init__```, that is supposed to return a string representation of an object.\n",
    "\n",
    "For example, here is a str method for Time objects:\n",
    "\n",
    "When I write a new class, I almost always start by writing __init__, which makes it easier to instantiate objects, and __str__, which is useful for debugging."
   ]
  },
  {
   "cell_type": "code",
   "execution_count": 165,
   "metadata": {
    "collapsed": false
   },
   "outputs": [
    {
     "name": "stdout",
     "output_type": "stream",
     "text": [
      "(56, 23)\n"
     ]
    }
   ],
   "source": [
    "print p"
   ]
  },
  {
   "cell_type": "code",
   "execution_count": 166,
   "metadata": {
    "collapsed": true
   },
   "outputs": [],
   "source": [
    "q = (1,1)"
   ]
  },
  {
   "cell_type": "code",
   "execution_count": 167,
   "metadata": {
    "collapsed": false
   },
   "outputs": [
    {
     "name": "stdout",
     "output_type": "stream",
     "text": [
      "(57, 24)\n"
     ]
    }
   ],
   "source": [
    "print q + p"
   ]
  },
  {
   "cell_type": "code",
   "execution_count": 168,
   "metadata": {
    "collapsed": false
   },
   "outputs": [
    {
     "name": "stdout",
     "output_type": "stream",
     "text": [
      "(57, 24)\n"
     ]
    }
   ],
   "source": [
    "print p + q"
   ]
  },
  {
   "cell_type": "code",
   "execution_count": 169,
   "metadata": {
    "collapsed": true
   },
   "outputs": [],
   "source": [
    "r = Point(2,2)"
   ]
  },
  {
   "cell_type": "code",
   "execution_count": 170,
   "metadata": {
    "collapsed": false
   },
   "outputs": [
    {
     "name": "stdout",
     "output_type": "stream",
     "text": [
      "(3, 3)\n"
     ]
    }
   ],
   "source": [
    "print q + r"
   ]
  },
  {
   "cell_type": "code",
   "execution_count": 171,
   "metadata": {
    "collapsed": false
   },
   "outputs": [
    {
     "name": "stdout",
     "output_type": "stream",
     "text": [
      "(3, 3)\n"
     ]
    }
   ],
   "source": [
    "print r + q"
   ]
  },
  {
   "cell_type": "markdown",
   "metadata": {},
   "source": [
    "### Operator overloading\n",
    "\n",
    "By defining other special methods, you can specify the behavior of operators on user-defined types. For example, if you define a method named ```__add__``` for the ```Time``` class, you can use the + operator on ```Time``` objects."
   ]
  },
  {
   "cell_type": "code",
   "execution_count": 172,
   "metadata": {
    "collapsed": true
   },
   "outputs": [],
   "source": [
    "start = Time(9, 45)\n",
    "duration = Time(1, 35)"
   ]
  },
  {
   "cell_type": "code",
   "execution_count": 173,
   "metadata": {
    "collapsed": false
   },
   "outputs": [
    {
     "name": "stdout",
     "output_type": "stream",
     "text": [
      "11:20:00\n"
     ]
    }
   ],
   "source": [
    "print start + duration"
   ]
  },
  {
   "cell_type": "code",
   "execution_count": 174,
   "metadata": {
    "collapsed": false
   },
   "outputs": [
    {
     "name": "stdout",
     "output_type": "stream",
     "text": [
      "09:45:03\n"
     ]
    }
   ],
   "source": [
    "print start + 3"
   ]
  },
  {
   "cell_type": "markdown",
   "metadata": {},
   "source": [
    "When you apply the + operator to ```Time``` objects, Python invokes ```__add__```. When you print the result, \n",
    "Python invokes ```__str__``` . So there is quite a lot happenning behind the scenes!\n",
    "\n",
    "Changing the behavior of an operator so that it works with user-defined types is called operator overloading. For every operator in Python there is a corresponding special method, like ```__add__```. For more details, see http://docs.python.org/2/reference/datamodel.html#specialnames.\n",
    "\n",
    "Exercise 4: Write an add method for the Point class."
   ]
  },
  {
   "cell_type": "code",
   "execution_count": 175,
   "metadata": {
    "collapsed": true
   },
   "outputs": [],
   "source": [
    "p = Point(5,6)\n",
    "q = Point(-6,-6)"
   ]
  },
  {
   "cell_type": "code",
   "execution_count": 176,
   "metadata": {
    "collapsed": false
   },
   "outputs": [
    {
     "name": "stdout",
     "output_type": "stream",
     "text": [
      "(-1, 0)\n"
     ]
    }
   ],
   "source": [
    "print p + q"
   ]
  },
  {
   "cell_type": "markdown",
   "metadata": {},
   "source": [
    "#### Type-based dispatch\n",
    "\n",
    "In the previous section we added Two Time objects, but you also might want to add an integer to a Time object. The following is aversion of ```__add__``` that checks the type of ```other``` and invokes either ```add_time``` or ```increment```:\n",
    "\n",
    "\n",
    "Unfortunately, this implementation of addition is not commutative. If the integer is the first operand, you get bullshit errors!\n",
    "\n",
    "The problem is, instead of asking the ```Time``` object to add an integer, Python is asking an integer to add a ```Time``` object, and it doesn't know how to do that. But there is a clever solution for this problem: the special method ```__radd__```, which stands for \"right-side add.\" This method is invoked when a ```Time``` object appears on the right side of the + operator."
   ]
  },
  {
   "cell_type": "code",
   "execution_count": 177,
   "metadata": {
    "collapsed": false
   },
   "outputs": [
    {
     "name": "stdout",
     "output_type": "stream",
     "text": [
      "09:45:00\n"
     ]
    }
   ],
   "source": [
    "print start"
   ]
  },
  {
   "cell_type": "code",
   "execution_count": 178,
   "metadata": {
    "collapsed": false
   },
   "outputs": [
    {
     "name": "stdout",
     "output_type": "stream",
     "text": [
      "09:45:05\n"
     ]
    }
   ],
   "source": [
    "print 5 + start"
   ]
  },
  {
   "cell_type": "markdown",
   "metadata": {},
   "source": [
    "#### Exercise 5\n",
    "Write an add method for Points that works with either a Point object or a tuple:\n",
    "\n",
    "* If the second operand is a Point, the method should return a new Point whose x coordinate is the sum of hte x coordinates of the operatnds, and likewise for the y coordinates\n",
    "* If the second operand is a tuple, the method should add the first element of the tuple to the x coordinate and the second element to the y coordinate, and return a new Point with the result"
   ]
  },
  {
   "cell_type": "markdown",
   "metadata": {},
   "source": [
    "#### Polymorphism\n",
    "\n",
    "Type-based dispatch is useful when it is necessary, but (fortunately) it is not always necessary. Often you can avoid it by writing functions that work correctly for arguments with different types.\n",
    "\n",
    "Many of the functions we wrote for strings will actually work for any kind of sequence. Functions that can work with several types are called **polymorphic**. Polymorphism can faciliate code reuse. For example, the built-in function ```sum```, which adds elements of a sequence, works as long as the elements of the sequence support addition.\n",
    "\n",
    "Since ```Time``` objects provide an ```add``` method, they work with ```sum```:"
   ]
  },
  {
   "cell_type": "code",
   "execution_count": 179,
   "metadata": {
    "collapsed": false
   },
   "outputs": [
    {
     "name": "stdout",
     "output_type": "stream",
     "text": [
      "23:01:00\n"
     ]
    }
   ],
   "source": [
    "t1 = Time(7, 43)\n",
    "t2 = Time(7, 41)\n",
    "t3 = Time(7, 37)\n",
    "total = sum([t1, t2, t3])\n",
    "print total"
   ]
  },
  {
   "cell_type": "code",
   "execution_count": 180,
   "metadata": {
    "collapsed": false
   },
   "outputs": [
    {
     "name": "stdout",
     "output_type": "stream",
     "text": [
      "23:01:00\n"
     ]
    }
   ],
   "source": [
    "total = sum((t1,t2,t3))\n",
    "print total"
   ]
  },
  {
   "cell_type": "markdown",
   "metadata": {},
   "source": [
    "It is legal to add attributes to objects at any point in the execution of a program, but if you are a stickler for type theory, it is a dubious practice to have objects of the same type with different attribute sets. It is usually a good idea to initialize all of an object’s attributes in the init method.\n",
    "\n",
    "If you are not sure whether an object has a particular attribute, you can use the built-in function hasattr (see Section 15.7).\n",
    "\n",
    "Another way to access the attributes of an object is through the special attribute ```__dict__```, which is a dictionary that maps attribute names (as strings) and values:"
   ]
  },
  {
   "cell_type": "code",
   "execution_count": 181,
   "metadata": {
    "collapsed": true
   },
   "outputs": [],
   "source": [
    "p = Point(3,5.6)"
   ]
  },
  {
   "cell_type": "code",
   "execution_count": 182,
   "metadata": {
    "collapsed": false
   },
   "outputs": [
    {
     "name": "stdout",
     "output_type": "stream",
     "text": [
      "{'y': 5.6, 'x': 3}\n"
     ]
    }
   ],
   "source": [
    "print p.__dict__"
   ]
  },
  {
   "cell_type": "markdown",
   "metadata": {},
   "source": [
    "### Exercises\n",
    "\n",
    "#### Exercise 7\n",
    "\n",
    "This exercise is a cautionary tale about one of the most common, and difficult to find, errors in Python. Write a defintiion for a class named ```Kangaroo``` with the following methods:\n",
    "\n",
    "1. An ```__init__``` method that initialzes an attribute named ```pouch_contents``` to an empty list.\n",
    "2. A method named ```put_in_pouch``` that takes an object of any type and adds it to ```pouch_contents```.\n",
    "3. A ```__str__``` method that returns a string representation of the Kangaroo object and the contents of the pouch.\n",
    "\n",
    "Test your code by creating two ```Kangaroo``` objects, assigning them to variables named ```kanga``` and ```roo```, and then adding ```roo``` to the contents of Kanga's pouch."
   ]
  },
  {
   "cell_type": "code",
   "execution_count": 183,
   "metadata": {
    "collapsed": true
   },
   "outputs": [],
   "source": [
    "class Kangaroo(object):\n",
    "    \n",
    "    def __init__(self, pouch_contents=None):\n",
    "        if pouch_contents == None:\n",
    "            self.pouch_contents = list()\n",
    "        \n",
    "    def put_in_pouch(self,thing):\n",
    "        self.pouch_contents.append(thing)\n",
    "        \n",
    "    def __str__(self):\n",
    "        t = [ object.__str__(self) + ' with pouch contents:' ]\n",
    "        for obj in self.pouch_contents:\n",
    "            s = '    ' + object.__str__(obj)\n",
    "            t.append(s)\n",
    "        return '\\n'.join(t)\n",
    "        "
   ]
  },
  {
   "cell_type": "code",
   "execution_count": 184,
   "metadata": {
    "collapsed": false
   },
   "outputs": [],
   "source": [
    "kanga = Kangaroo()"
   ]
  },
  {
   "cell_type": "code",
   "execution_count": 185,
   "metadata": {
    "collapsed": true
   },
   "outputs": [],
   "source": [
    "roo = Kangaroo()"
   ]
  },
  {
   "cell_type": "code",
   "execution_count": 186,
   "metadata": {
    "collapsed": true
   },
   "outputs": [],
   "source": [
    "kanga.put_in_pouch('wallet')\n",
    "kanga.put_in_pouch('car keys')\n",
    "kanga.put_in_pouch(roo)"
   ]
  },
  {
   "cell_type": "code",
   "execution_count": 187,
   "metadata": {
    "collapsed": false
   },
   "outputs": [
    {
     "name": "stdout",
     "output_type": "stream",
     "text": [
      "<__main__.Kangaroo object at 0x000000000ACBF5C0> with pouch contents:\n",
      "    'wallet'\n",
      "    'car keys'\n",
      "    <__main__.Kangaroo object at 0x000000000ACBF898>\n"
     ]
    }
   ],
   "source": [
    "print kanga"
   ]
  },
  {
   "cell_type": "code",
   "execution_count": 188,
   "metadata": {
    "collapsed": false
   },
   "outputs": [
    {
     "name": "stdout",
     "output_type": "stream",
     "text": [
      "<__main__.Kangaroo object at 0x000000000ACBF898> with pouch contents:\n"
     ]
    }
   ],
   "source": [
    "print roo"
   ]
  },
  {
   "cell_type": "code",
   "execution_count": 189,
   "metadata": {
    "collapsed": true
   },
   "outputs": [],
   "source": [
    "roo.put_in_pouch('yoyoyo')"
   ]
  },
  {
   "cell_type": "code",
   "execution_count": 190,
   "metadata": {
    "collapsed": false
   },
   "outputs": [
    {
     "name": "stdout",
     "output_type": "stream",
     "text": [
      "<__main__.Kangaroo object at 0x000000000ACBF898> with pouch contents:\n",
      "    'yoyoyo'\n"
     ]
    }
   ],
   "source": [
    "print roo"
   ]
  },
  {
   "cell_type": "code",
   "execution_count": 191,
   "metadata": {
    "collapsed": false
   },
   "outputs": [
    {
     "name": "stdout",
     "output_type": "stream",
     "text": [
      "<__main__.Kangaroo object at 0x000000000ACBF5C0> with pouch contents:\n",
      "    'wallet'\n",
      "    'car keys'\n",
      "    <__main__.Kangaroo object at 0x000000000ACBF898>\n"
     ]
    }
   ],
   "source": [
    "print kanga"
   ]
  },
  {
   "cell_type": "code",
   "execution_count": 192,
   "metadata": {
    "collapsed": true
   },
   "outputs": [],
   "source": [
    "kanga.put_in_pouch(roo)"
   ]
  },
  {
   "cell_type": "code",
   "execution_count": 193,
   "metadata": {
    "collapsed": false
   },
   "outputs": [
    {
     "name": "stdout",
     "output_type": "stream",
     "text": [
      "<__main__.Kangaroo object at 0x000000000ACBF5C0> with pouch contents:\n",
      "    'wallet'\n",
      "    'car keys'\n",
      "    <__main__.Kangaroo object at 0x000000000ACBF898>\n",
      "    <__main__.Kangaroo object at 0x000000000ACBF898>\n"
     ]
    }
   ],
   "source": [
    "print kanga"
   ]
  },
  {
   "cell_type": "code",
   "execution_count": 351,
   "metadata": {
    "collapsed": false
   },
   "outputs": [],
   "source": [
    "#from vpython import *"
   ]
  },
  {
   "cell_type": "markdown",
   "metadata": {
    "collapsed": true
   },
   "source": [
    "### Chapter 18 Inheritance\n",
    "\n",
    "In this chapter I present classes to represent playing cards, decks of cards, and poker hands.\n",
    "\n",
    "\n",
    "### 2.8 Exercises\n",
    "\n",
    "#### Exercise 1\n",
    "In Section 2.3 I said that the solution to the cookie problem generalizes to the case where we draw multiple cookies with replacement. \n",
    "But in the more likely scenario where we eat the cookies we draw, the likelihood of each draw depends on the previous draws.\n",
    "Modify the solution in this chapter to handle selection without replacement. Hint:\n",
    "add instance variables to ```Cookie``` to represent the hypothetical state of the bowls, and modify ```Likelihood``` accordingly. You might want to define a ```Bowl``` object."
   ]
  },
  {
   "cell_type": "code",
   "execution_count": 336,
   "metadata": {
    "collapsed": false
   },
   "outputs": [],
   "source": [
    "class Bowl(object):\n",
    "    \n",
    "    def __init__(self, vcookies=20, ccookies = 20):\n",
    "        self.vcookies = float(vcookies)\n",
    "        self.ccookies = float(ccookies)\n",
    "        self.vprob = self.vcookies/(self.vcookies + self.ccookies)\n",
    "        self.cprob = self.ccookies/(self.vcookies + self.ccookies)\n",
    "    \n",
    "        \n",
    "    def __str__(self):\n",
    "        return \"vanilla: \" + str(self.vcookies) + '\\n' + \"chocolate: \" + str(self.ccookies) + '\\n probvanilla: ' + \\\n",
    "    str(self.vprob) + '\\n probchocolate: ' + str(self.cprob)\n",
    "    \n",
    "    \n",
    "    def eat_vanilla(self):\n",
    "        self.vcookies -= 1\n",
    "        \n",
    "    def eat_chocolate(self):\n",
    "        self.ccookies -= 1\n",
    "        \n",
    "    def update_bowl(self,data):\n",
    "        if data == 'vanilla':\n",
    "            self.eat_vanilla()\n",
    "        if data == 'chocolate':\n",
    "            self.eat_chocolate()\n",
    "        self.vprob = self.vcookies/(self.vcookies + self.ccookies)\n",
    "        self.cprob = self.ccookies/(self.vcookies + self.ccookies)\n",
    "        "
   ]
  },
  {
   "cell_type": "code",
   "execution_count": 337,
   "metadata": {
    "collapsed": false
   },
   "outputs": [],
   "source": [
    "class Cookie(Pmf):\n",
    "\n",
    "    def __init__(self, hypos, bowl1=None, bowl2=None,mixes=None):\n",
    "        Pmf.__init__(self)\n",
    "        for hypo in hypos:\n",
    "            self.Set(hypo, 1)\n",
    "        self.Normalize()\n",
    "        if bowl1 == None:\n",
    "            self.bowl1 = Bowl(30,10)\n",
    "        if bowl2 == None:\n",
    "            self.bowl2 = Bowl(20,20)\n",
    "        if mixes == None:\n",
    "            self.mixes = {\n",
    "                'Bowl 1': dict(vanilla=self.bowl1.vprob, chocolate=self.bowl1.cprob),\n",
    "                'Bowl 2': dict(vanilla=self.bowl2.vprob, chocolate=self.bowl2.cprob),\n",
    "            }\n",
    "        \n",
    "    def Update(self, data):\n",
    "        for hypo in self.Values():\n",
    "            like = self.Likelihood(data, hypo)\n",
    "            self.Mult(hypo, like)\n",
    "        self.Normalize()\n",
    "        self.bowl1.update_bowl(data)\n",
    "        self.bowl2.update_bowl(data)\n",
    "        \n",
    "        \n",
    "    \n",
    "        \n",
    "    def Likelihood(self, data, hypo):\n",
    "        mix = self.mixes[hypo]\n",
    "        like = mix[data]\n",
    "        return like\n",
    "        "
   ]
  },
  {
   "cell_type": "code",
   "execution_count": 338,
   "metadata": {
    "collapsed": true
   },
   "outputs": [],
   "source": [
    "hypos = ['Bowl 1', 'Bowl 2']\n",
    "pmf = Cookie(hypos)"
   ]
  },
  {
   "cell_type": "code",
   "execution_count": 339,
   "metadata": {
    "collapsed": false
   },
   "outputs": [],
   "source": [
    "pmf.Update('vanilla')"
   ]
  },
  {
   "cell_type": "code",
   "execution_count": 340,
   "metadata": {
    "collapsed": false
   },
   "outputs": [
    {
     "name": "stdout",
     "output_type": "stream",
     "text": [
      "Bowl 2 0.4\n",
      "Bowl 1 0.6\n"
     ]
    }
   ],
   "source": [
    "for hypo, prob in pmf.Items():\n",
    "    print hypo, prob"
   ]
  },
  {
   "cell_type": "code",
   "execution_count": 341,
   "metadata": {
    "collapsed": false
   },
   "outputs": [],
   "source": [
    "dataset = ['vanilla', 'chocolate', 'chocolate']\n",
    "for data in dataset:\n",
    "    pmf.Update(data)"
   ]
  },
  {
   "cell_type": "code",
   "execution_count": 342,
   "metadata": {
    "collapsed": false
   },
   "outputs": [
    {
     "name": "stdout",
     "output_type": "stream",
     "text": [
      "Bowl 2 0.64\n",
      "Bowl 1 0.36\n"
     ]
    }
   ],
   "source": [
    "for hypo, prob in pmf.Items():\n",
    "    print hypo, prob"
   ]
  },
  {
   "cell_type": "code",
   "execution_count": 344,
   "metadata": {
    "collapsed": false
   },
   "outputs": [],
   "source": [
    "dataset = ['vanilla', 'chocolate','vanilla', 'chocolate']*3\n",
    "for data in dataset:\n",
    "    pmf.Update(data)"
   ]
  },
  {
   "cell_type": "code",
   "execution_count": 345,
   "metadata": {
    "collapsed": false
   },
   "outputs": [
    {
     "name": "stdout",
     "output_type": "stream",
     "text": [
      "Bowl 2 0.908997600455\n",
      "Bowl 1 0.0910023995451\n"
     ]
    }
   ],
   "source": [
    "for hypo, prob in pmf.Items():\n",
    "    print hypo, prob"
   ]
  },
  {
   "cell_type": "code",
   "execution_count": 346,
   "metadata": {
    "collapsed": false
   },
   "outputs": [
    {
     "name": "stdout",
     "output_type": "stream",
     "text": [
      "vanilla: 22.0\n",
      "chocolate: 2.0\n",
      " probvanilla: 0.916666666667\n",
      " probchocolate: 0.0833333333333\n"
     ]
    }
   ],
   "source": [
    "print pmf.bowl1"
   ]
  },
  {
   "cell_type": "code",
   "execution_count": 347,
   "metadata": {
    "collapsed": false
   },
   "outputs": [
    {
     "name": "stdout",
     "output_type": "stream",
     "text": [
      "vanilla: 12.0\n",
      "chocolate: 12.0\n",
      " probvanilla: 0.5\n",
      " probchocolate: 0.5\n"
     ]
    }
   ],
   "source": [
    "print pmf.bowl2"
   ]
  },
  {
   "cell_type": "code",
   "execution_count": 348,
   "metadata": {
    "collapsed": false
   },
   "outputs": [],
   "source": [
    "pmf.bowl2.update_bowl('chocolate')"
   ]
  },
  {
   "cell_type": "code",
   "execution_count": 349,
   "metadata": {
    "collapsed": false
   },
   "outputs": [
    {
     "name": "stdout",
     "output_type": "stream",
     "text": [
      "vanilla: 12.0\n",
      "chocolate: 11.0\n",
      " probvanilla: 0.521739130435\n",
      " probchocolate: 0.478260869565\n"
     ]
    }
   ],
   "source": [
    "print pmf.bowl2"
   ]
  },
  {
   "cell_type": "code",
   "execution_count": 350,
   "metadata": {
    "collapsed": false
   },
   "outputs": [
    {
     "data": {
      "text/plain": [
       "0.42857142857142855"
      ]
     },
     "execution_count": 350,
     "metadata": {},
     "output_type": "execute_result"
    }
   ],
   "source": [
    "15./(35.)"
   ]
  },
  {
   "cell_type": "markdown",
   "metadata": {},
   "source": [
    "## Chapter 3 Estimation\n",
    "\n",
    "### The dice problem\n",
    "\n",
    "Suppose I have a box of dice that contains a 4-sided die, a 6-sided die, an 8-sided die, a 12-sided die, and a \n",
    "20-sided die. If you have ever played _Dungeons & Dragons_, you know what I am talking about.\n",
    "\n",
    "Suppose I select a die from the box at random, roll it, and get a 6. What is the probability that I rolled each die?\n",
    "\n",
    "Let me suggest a three-step strategy for approaching a problem like this.\n",
    "\n",
    "1. Choose a representation for the hypothesis.\n",
    "2. Choose a representation for the data.\n",
    "3. Write the likelihood function.\n",
    "\n",
    "In previous examples I used strings to represent hyoptheses and data, but for the die problem I'll use numbers.\n",
    "Specifically, I'll use the integers 4,6,8,12, and 20 to represent hypotheses:\n",
    "\n",
    "```suite = Dice([4,6,8,12,20])```\n",
    "\n",
    "and integers from 1 to 20 for the data. These representations make it easy to write the likelihood function:\n",
    "\n",
    "```\n",
    "class Dice(Suite):\n",
    "    def Likelihood(self, data, hypo):\n",
    "        if hypo < data:\n",
    "            return 0\n",
    "        else:\n",
    "            return 1.0/hypo\n",
    "```"
   ]
  },
  {
   "cell_type": "code",
   "execution_count": 352,
   "metadata": {
    "collapsed": true
   },
   "outputs": [],
   "source": [
    "from thinkbayes import Suite\n",
    "\n",
    "class Dice(Suite):\n",
    "    \n",
    "    def Likelihood(self, data, hypo):\n",
    "        if hypo < data:\n",
    "            return 0\n",
    "        else:\n",
    "            return 1./hypo"
   ]
  },
  {
   "cell_type": "code",
   "execution_count": 355,
   "metadata": {
    "collapsed": true
   },
   "outputs": [],
   "source": [
    "suite = Dice([4,6,8,12,20])"
   ]
  },
  {
   "cell_type": "code",
   "execution_count": 356,
   "metadata": {
    "collapsed": false
   },
   "outputs": [
    {
     "name": "stdout",
     "output_type": "stream",
     "text": [
      "4 0.2\n",
      "6 0.2\n",
      "8 0.2\n",
      "12 0.2\n",
      "20 0.2\n"
     ]
    }
   ],
   "source": [
    "suite.Print()"
   ]
  },
  {
   "cell_type": "code",
   "execution_count": 357,
   "metadata": {
    "collapsed": false
   },
   "outputs": [
    {
     "data": {
      "text/plain": [
       "0.08500000000000002"
      ]
     },
     "execution_count": 357,
     "metadata": {},
     "output_type": "execute_result"
    }
   ],
   "source": [
    "suite.Update(6)"
   ]
  },
  {
   "cell_type": "code",
   "execution_count": 358,
   "metadata": {
    "collapsed": false
   },
   "outputs": [
    {
     "name": "stdout",
     "output_type": "stream",
     "text": [
      "4 0.0\n",
      "6 0.392156862745\n",
      "8 0.294117647059\n",
      "12 0.196078431373\n",
      "20 0.117647058824\n"
     ]
    }
   ],
   "source": [
    "suite.Print()"
   ]
  },
  {
   "cell_type": "code",
   "execution_count": 359,
   "metadata": {
    "collapsed": true
   },
   "outputs": [],
   "source": [
    "for roll in [6,8,7,7,5,4]:\n",
    "    suite.Update(roll)"
   ]
  },
  {
   "cell_type": "code",
   "execution_count": 360,
   "metadata": {
    "collapsed": false
   },
   "outputs": [
    {
     "name": "stdout",
     "output_type": "stream",
     "text": [
      "4 0.0\n",
      "6 0.0\n",
      "8 0.943248453672\n",
      "12 0.0552061280613\n",
      "20 0.0015454182665\n"
     ]
    }
   ],
   "source": [
    "suite.Print()"
   ]
  },
  {
   "cell_type": "markdown",
   "metadata": {},
   "source": [
    "## The locomotive problem\n",
    "\n",
    "I found the locomotive problem in Frederick Mosteller's _Fifty Challenging Problems in Probability with Solutions_ (Dover 1987):\n",
    "\n",
    "\"A Railroad numbers its locomotives in order 1..N. One day you see a locomotive with the number 60. Estimate how many locomotives the railroad has.\"\n",
    "\n",
    "\n",
    "Based on this observation, we know the railroad has 60 or more locomotives. But how many more? To apply Bayesian reasoning, we can break this problem into two steps:\n",
    "\n",
    "1. What did we know about N before we saw the data?\n",
    "2. For any given value of N, what is the likelihood of seeing the data (a locomotive with number 60)?\n",
    "\n",
    "The answer to the first question is the prior. The answer to the second is the likelihood.\n",
    "\n",
    "We don't have much basis to choose a prior, but we can start with something simple and then consider alternatives. Let's assume that N is equally likely to be any value from 1 to 1000."
   ]
  },
  {
   "cell_type": "code",
   "execution_count": 361,
   "metadata": {
    "collapsed": true
   },
   "outputs": [],
   "source": [
    "hypos = xrange(1, 1001)"
   ]
  },
  {
   "cell_type": "markdown",
   "metadata": {},
   "source": [
    "Now all we need is a likelihood function. In a hypothetical fleet of N locomotives, what is the probability that we would see number 60? If we assume that there is only one train-operating company (or only one we care about) and that we are equally likely to see any of its locomotives, then the chance of seeing any particularlocomotive is 1/N."
   ]
  },
  {
   "cell_type": "code",
   "execution_count": 362,
   "metadata": {
    "collapsed": true
   },
   "outputs": [],
   "source": [
    "from thinkbayes import Suite\n",
    "\n",
    "class Train(Suite):\n",
    "    \n",
    "    def Likelihood(self, data, hypo):\n",
    "        if hypo < data:\n",
    "            return 0\n",
    "        else:\n",
    "            return 1./hypo"
   ]
  },
  {
   "cell_type": "code",
   "execution_count": 363,
   "metadata": {
    "collapsed": true
   },
   "outputs": [],
   "source": [
    "hypos = xrange(1, 1001)\n",
    "suite = Train(hypos)"
   ]
  },
  {
   "cell_type": "code",
   "execution_count": 364,
   "metadata": {
    "collapsed": false
   },
   "outputs": [
    {
     "data": {
      "text/plain": [
       "0.0028222671142652746"
      ]
     },
     "execution_count": 364,
     "metadata": {},
     "output_type": "execute_result"
    }
   ],
   "source": [
    "suite.Update(60)"
   ]
  },
  {
   "cell_type": "code",
   "execution_count": 368,
   "metadata": {
    "collapsed": false
   },
   "outputs": [
    {
     "data": {
      "text/plain": [
       "list"
      ]
     },
     "execution_count": 368,
     "metadata": {},
     "output_type": "execute_result"
    }
   ],
   "source": [
    "type(suite.Render())"
   ]
  },
  {
   "cell_type": "code",
   "execution_count": 378,
   "metadata": {
    "collapsed": false
   },
   "outputs": [],
   "source": [
    "dftrain = pd.DataFrame({'prob of n trains in fleet': list(suite.Render()[1])}, index = list(suite.Render()[0]))"
   ]
  },
  {
   "cell_type": "code",
   "execution_count": 379,
   "metadata": {
    "collapsed": false
   },
   "outputs": [
    {
     "data": {
      "text/plain": [
       "<matplotlib.axes._subplots.AxesSubplot at 0xaed84a8>"
      ]
     },
     "execution_count": 379,
     "metadata": {},
     "output_type": "execute_result"
    },
    {
     "data": {
      "image/png": "[encoded data removed]",
      "text/plain": [
       "<matplotlib.figure.Figure at 0xaef81d0>"
      ]
     },
     "metadata": {},
     "output_type": "display_data"
    }
   ],
   "source": [
    "dftrain.plot()"
   ]
  },
  {
   "cell_type": "markdown",
   "metadata": {},
   "source": [
    "The most likely value, if you had to guess, is 60. That might not seem like a very good guess; after all, what are the chances that you just happened to see the train with the highest number? Nevertheless, if you want to maximize the chance of getting the answer exactly right, you should guess 60.\n",
    "\n",
    "But maybe that's not the right goal. An alternative is to compute the mean of the posterior distibution:"
   ]
  },
  {
   "cell_type": "code",
   "execution_count": 380,
   "metadata": {
    "collapsed": false
   },
   "outputs": [
    {
     "name": "stdout",
     "output_type": "stream",
     "text": [
      "333.419893264\n"
     ]
    }
   ],
   "source": [
    "print suite.Mean()"
   ]
  },
  {
   "cell_type": "markdown",
   "metadata": {},
   "source": [
    "The mean of the posterior is 333, so that might be a good guess if you wanted to minimize error. If you played this guessing game over and over, using the mean of the posterior as your estimate would minimize the mean squared error over the long run.\n",
    "See http://en.wikipedia.org/wiki/Minimum_mean_square_error"
   ]
  },
  {
   "cell_type": "markdown",
   "metadata": {},
   "source": [
    "### What about that prior??\n",
    "\n",
    "To make any progress on the locomotive problem we had to make assumptions, and some of them were pretty arbitrary. In particular, we chose a uniform prior from 1 to 1000, without much justification for choosing 1000, or for choosing a uniform distribution.\n",
    "\n",
    "It is not crazy to believe that a railroad company might operate 1000 locomotives, but a reasonable person might guess more or fewer. So we might wonder whether the posterior distribution is sensitive to these assumptions. Wtih so little data - only one observation - it probably is.\n",
    "\n",
    "Recall that with a uniform prior from 1 to 1000, the mean of the posterior is 333.\n",
    "With an upper bound of 500, we get a posterior mean of 207; and with an upper bound of 2000, the posterior mean is 552."
   ]
  },
  {
   "cell_type": "code",
   "execution_count": 381,
   "metadata": {
    "collapsed": false
   },
   "outputs": [
    {
     "data": {
      "text/plain": [
       "207.079227983409"
      ]
     },
     "execution_count": 381,
     "metadata": {},
     "output_type": "execute_result"
    }
   ],
   "source": [
    "hypos = xrange(1,501)\n",
    "suite = Train(hypos)\n",
    "suite.Update(60)\n",
    "suite.Mean()"
   ]
  },
  {
   "cell_type": "code",
   "execution_count": 382,
   "metadata": {
    "collapsed": false
   },
   "outputs": [
    {
     "data": {
      "text/plain": [
       "552.179017164631"
      ]
     },
     "execution_count": 382,
     "metadata": {},
     "output_type": "execute_result"
    }
   ],
   "source": [
    "hypos = xrange(1,2001)\n",
    "suite = Train(hypos)\n",
    "suite.Update(60)\n",
    "suite.Mean()"
   ]
  },
  {
   "cell_type": "markdown",
   "metadata": {},
   "source": [
    "So that's bad. There are two ways to proceed:\n",
    "\n",
    "* Get more data.\n",
    "* Get more background information.\n",
    "\n",
    "With more data, posterior distributions based on different priors tend to converge. For example, suppose that in addition to train 60 we also see trains 30 and 90.\n",
    "Can can update the distribution."
   ]
  },
  {
   "cell_type": "code",
   "execution_count": 383,
   "metadata": {
    "collapsed": false
   },
   "outputs": [
    {
     "data": {
      "text/plain": [
       "164.3055864227336"
      ]
     },
     "execution_count": 383,
     "metadata": {},
     "output_type": "execute_result"
    }
   ],
   "source": [
    "hypos = xrange(1,1001)\n",
    "suite = Train(hypos)\n",
    "for data in [60, 30, 90]:\n",
    "    suite.Update(data)\n",
    "suite.Mean()"
   ]
  },
  {
   "cell_type": "code",
   "execution_count": 385,
   "metadata": {
    "collapsed": false
   },
   "outputs": [
    {
     "data": {
      "text/plain": [
       "151.84958795903822"
      ]
     },
     "execution_count": 385,
     "metadata": {},
     "output_type": "execute_result"
    }
   ],
   "source": [
    "hypos = xrange(1,501)\n",
    "suite = Train(hypos)\n",
    "for data in [60, 30, 90]:\n",
    "    suite.Update(data)\n",
    "suite.Mean()"
   ]
  },
  {
   "cell_type": "code",
   "execution_count": 386,
   "metadata": {
    "collapsed": false
   },
   "outputs": [
    {
     "data": {
      "text/plain": [
       "171.3381810915094"
      ]
     },
     "execution_count": 386,
     "metadata": {},
     "output_type": "execute_result"
    }
   ],
   "source": [
    "hypos = xrange(1,2001)\n",
    "suite = Train(hypos)\n",
    "for data in [60, 30, 90]:\n",
    "    suite.Update(data)\n",
    "suite.Mean()"
   ]
  },
  {
   "cell_type": "markdown",
   "metadata": {},
   "source": [
    "So the differences are smaller .\n",
    "\n",
    "## An alternative prior\n",
    "\n",
    "If more data are not available, another option is to improve the priors by gathering more background information. It is probably not reasonable to assume that a train-operating company with 1000 locomotives is just as likely as a company with only 1.\n",
    "\n",
    "With some effort, we could probably find a list of companies that operate locomotives in the area of observation. Or we could interview an expert in rail shipping to gather information about the typical size of companies.\n",
    "\n",
    "But even without getting into the specifics of railroad economics, we can make some educated guesses. In most fields, there are many small companies, fewer medium-sized companies, and only one or two very large companies. In fact, the distrubtion of company sizes tends to follow a power law.\n",
    "\n",
    "Mathematically, a power law means that the number of companies with a given size is inversely proportional to size, or \n",
    "\n",
    "$\n",
    "PMF(X) \\propto( \\frac{1}{x} )^{\\alpha}\n",
    "$\n",
    "\n",
    "\n",
    "where PMF(x) is the probability mass function of x and $\\alpha$ is a parameter that is often near 1.\n",
    "\n",
    "We can construct a power law prior like this:"
   ]
  },
  {
   "cell_type": "code",
   "execution_count": 387,
   "metadata": {
    "collapsed": true
   },
   "outputs": [],
   "source": [
    "from thinkbayes import Suite\n",
    "\n",
    "class Train(Suite):\n",
    "    \n",
    "    def __init__(self, hypos, alpha=1.0):\n",
    "        Pmf.__init__(self)\n",
    "        for hypo in hypos:\n",
    "            self.Set(hypo, hypo**(-alpha))\n",
    "        self.Normalize()\n",
    "    \n",
    "    def Likelihood(self, data, hypo):\n",
    "        if hypo < data:\n",
    "            return 0\n",
    "        else:\n",
    "            return 1./hypo"
   ]
  },
  {
   "cell_type": "code",
   "execution_count": 389,
   "metadata": {
    "collapsed": false
   },
   "outputs": [],
   "source": [
    "hypos = range(1, 1001)\n",
    "suitepower = Train(hypos)\n",
    "suiteuniform = Train(hypos, alpha=0)"
   ]
  },
  {
   "cell_type": "code",
   "execution_count": 390,
   "metadata": {
    "collapsed": false
   },
   "outputs": [
    {
     "data": {
      "text/plain": [
       "0.0028222671142652746"
      ]
     },
     "execution_count": 390,
     "metadata": {},
     "output_type": "execute_result"
    }
   ],
   "source": [
    "suitepower.Update(60)\n",
    "suiteuniform.Update(60)"
   ]
  },
  {
   "cell_type": "code",
   "execution_count": 392,
   "metadata": {
    "collapsed": false
   },
   "outputs": [],
   "source": [
    "dfcf = pd.DataFrame({'power law': list(suitepower.Render()[1]),\n",
    "                    'uniform prior': list(suiteuniform.Render()[1])},\n",
    "                   index = list(suitepower.Render()[0]))"
   ]
  },
  {
   "cell_type": "code",
   "execution_count": 393,
   "metadata": {
    "collapsed": false
   },
   "outputs": [
    {
     "data": {
      "text/plain": [
       "<matplotlib.axes._subplots.AxesSubplot at 0xb1c8518>"
      ]
     },
     "execution_count": 393,
     "metadata": {},
     "output_type": "execute_result"
    },
    {
     "data": {
      "image/png": "[encoded data removed]",
      "text/plain": [
       "<matplotlib.figure.Figure at 0xb1b7f60>"
      ]
     },
     "metadata": {},
     "output_type": "display_data"
    }
   ],
   "source": [
    "dfcf.plot()"
   ]
  },
  {
   "cell_type": "code",
   "execution_count": 394,
   "metadata": {
    "collapsed": false
   },
   "outputs": [
    {
     "data": {
      "text/plain": [
       "130.70846986256004"
      ]
     },
     "execution_count": 394,
     "metadata": {},
     "output_type": "execute_result"
    }
   ],
   "source": [
    "hypos = xrange(1,501)\n",
    "suite = Train(hypos)\n",
    "for data in [60, 30, 90]:\n",
    "    suite.Update(data)\n",
    "suite.Mean()\n"
   ]
  },
  {
   "cell_type": "code",
   "execution_count": 395,
   "metadata": {
    "collapsed": false
   },
   "outputs": [
    {
     "data": {
      "text/plain": [
       "133.2752313750312"
      ]
     },
     "execution_count": 395,
     "metadata": {},
     "output_type": "execute_result"
    }
   ],
   "source": [
    "hypos = xrange(1,1001)\n",
    "suite = Train(hypos)\n",
    "for data in [60, 30, 90]:\n",
    "    suite.Update(data)\n",
    "suite.Mean()"
   ]
  },
  {
   "cell_type": "code",
   "execution_count": 396,
   "metadata": {
    "collapsed": false
   },
   "outputs": [
    {
     "data": {
      "text/plain": [
       "133.99746308073065"
      ]
     },
     "execution_count": 396,
     "metadata": {},
     "output_type": "execute_result"
    }
   ],
   "source": [
    "hypos = xrange(1,2001)\n",
    "suite = Train(hypos)\n",
    "for data in [60, 30, 90]:\n",
    "    suite.Update(data)\n",
    "suite.Mean()"
   ]
  },
  {
   "cell_type": "markdown",
   "metadata": {},
   "source": [
    "Now the differences are much smaller. In fact, with an arbitrarily large upper bound, the mean converges to 134.\n",
    "\n",
    "So the power law is more realistic, because it is based on general information about the size of companies, and it behaves better in practice. \n",
    "\n",
    "\n",
    "## Credible intervals\n",
    "\n",
    "Once you have computed a posterior distribution, it is often useful to summarize the results with a single point estimate or an interval. For point estimates it is common to use the mean, median, or the value with maximum likelihood.\n",
    "\n",
    "For intervals we usually report two values computed so that there is a 90% chance that the unknown value falls between them (or any other probability). These values define a **credible interval**.\n",
    "\n",
    "A simple way to compute a credible interval is to add up the probablities in the posterior distribution and record the values that correspond to probablities 5% and 95%. In other words, the 5th and 95th percentiles."
   ]
  },
  {
   "cell_type": "code",
   "execution_count": 401,
   "metadata": {
    "collapsed": false
   },
   "outputs": [
    {
     "data": {
      "text/plain": [
       "116.09007063776997"
      ]
     },
     "execution_count": 401,
     "metadata": {},
     "output_type": "execute_result"
    }
   ],
   "source": [
    "hypos = xrange(1,1001)\n",
    "suite = Train(hypos)\n",
    "for data in [60, 30, 90, 23, 45, 100, 45]:\n",
    "    suite.Update(data)\n",
    "suite.Mean()"
   ]
  },
  {
   "cell_type": "code",
   "execution_count": 402,
   "metadata": {
    "collapsed": false
   },
   "outputs": [],
   "source": [
    "from thinkbayes import Percentile\n",
    "\n",
    "interval = Percentile(suite, 5), Percentile(suite, 95)"
   ]
  },
  {
   "cell_type": "code",
   "execution_count": 403,
   "metadata": {
    "collapsed": false
   },
   "outputs": [
    {
     "name": "stdout",
     "output_type": "stream",
     "text": [
      "(100, 153)\n"
     ]
    }
   ],
   "source": [
    "print interval"
   ]
  },
  {
   "cell_type": "markdown",
   "metadata": {},
   "source": [
    "## Cumulative distribution functions\n",
    "\n",
    "In the previous section we computed percentiles by iterating through the values andprobabilities in a Pmf. If we need to compute more than a few percentiles, it is more efficient to use a cumulative distribution function, or Cdf.\n",
    "\n",
    "Cdfs and Pmfs are equivalent in the sense that they contain the same information about the distribution, and you can always convert from one to the other. The advantage of the Cdf is that you can compute percentiles more efficiently.\n",
    "\n"
   ]
  },
  {
   "cell_type": "code",
   "execution_count": 404,
   "metadata": {
    "collapsed": true
   },
   "outputs": [],
   "source": [
    "cdf = suite.MakeCdf()"
   ]
  },
  {
   "cell_type": "code",
   "execution_count": 405,
   "metadata": {
    "collapsed": true
   },
   "outputs": [],
   "source": [
    "interval = cdf.Percentile(5), cdf.Percentile(95)"
   ]
  },
  {
   "cell_type": "code",
   "execution_count": 406,
   "metadata": {
    "collapsed": false
   },
   "outputs": [
    {
     "name": "stdout",
     "output_type": "stream",
     "text": [
      "(100, 153)\n"
     ]
    }
   ],
   "source": [
    "print interval"
   ]
  },
  {
   "cell_type": "markdown",
   "metadata": {},
   "source": [
    "Converting from a Pmf to a Cdf takes time proportional to the number of values, len(pmf). The Cdf stores the values and probabilities in sorted lists, so looking up a probability to get the corresponding value takes “log time”: that is, time proportional to the logarithm of the number of values. Looking up a value to get the corresponding probability is also logarithmic, so Cdfs are efficient for many calculations."
   ]
  },
  {
   "cell_type": "markdown",
   "metadata": {},
   "source": [
    "## 3.9 Exercises\n",
    "### Exercise 1\n",
    "To write a likelihood function for the locomotive problem, we had to answer the question: \"If the railroad has N locomotives, what is the probability that we see number 60?\"\n",
    "The answer depends on what sampling process we use when we observe the locomotive. In this chapter, I resolved the ambiguity by specifying that there is only one train-operating company (or only one that we care about).\n",
    "But suppose instead that there are many companies with different numbers of trains. And suppose that you are equally likely to see any train operated by any company. In that case, the liklihood function is different because you are more likely to see a train operated by a large company.\n",
    "\n",
    "As an exercise, implement the likelihood function for this variation of the locomotive problem, and compare the results.\n",
    "\n",
    "\n",
    "http://stats.stackexchange.com/questions/70096/locomotive-problem-with-various-size-companies"
   ]
  },
  {
   "cell_type": "markdown",
   "metadata": {},
   "source": [
    "I'm first outlining this approach for two companies in detail, the extension to even more companies then should be intuitive (at least for the likelihood, the prior could be more tricky).\n",
    "\n",
    "Imagine there are two companies, A and B, where A has $N_A$ locomotives and B has $N_B$ locomotives.\n",
    "We assume $N_A \\geq N_B$ (you can always switch A and B to make this hold). The total number for that hypothesis of locomotives is\n",
    "$N_{tot} = N_A + N_B$.\n",
    "\n",
    "Imagine you see a locomotive with the number n. There are three cases for the likelihood:\n",
    "\n",
    "1. $N_A < n$: This can't happen, so the likelihood is zero.\n",
    "2. $N_B < n \\leq N_A$: This locomotive must have come from company A, so there is only one locomotive with this number. Thus the likelihood is $\\frac{1}{N_{tot}}$\n",
    "3. $n \\leq N_B$: This locomotive can be either from A or from B, so there are two locomotives with this number. The likelihood to see one of them is $\\frac{2}{N_{tot}}$.\n",
    "\n",
    "As a quick sanity check: The likelihood to see any number at all is:\n",
    "\n",
    "$\n",
    "\\sum_{i=1}^{\\infty} L(i) = \\sum_{i=1}^{N_B} \\frac{2}{N_{tot}} + \\sum_{i=N_B + 1}^{N_A} \\frac{1}{N_{tot}}\n",
    "$\n",
    "\n",
    "$\n",
    "= \\frac{2 N_{B}}{N_{tot}} + \\frac{N_{A} - N_{B}}{N_{tot}} = \\frac{N_A + N_B}{N_{tot}} = 1\n",
    "$\n",
    "\n",
    "\n",
    "Generally, there will be (number of companies + 1) cases, one for each interval $N_{i} < n \\leq N_{i+1}$.\n",
    "Luckily, we can look at the problem from a different angle and see that what we need for the likelihood are actually just two numbers: $N_{tot}$, the total number of locomotives; and $N_{n}$, the number of locomotives that have the number $n$. How likely are we to see one of the $N_{n}$ locomotives, out of $N_{tot}$ locomotives? This will happen in $\\frac{N_{n}}{N_{tot}}$ of all cases, so this fraction is the likelihood. In Python, you can calculate this two sum generators (and you don't even have to order the companies by size). If $N_s$ contains a list (or tuple) of company sizes according to your hypothesis, then this will give the likelihood for seeing a locomotive with number $n$.:\n",
    "\n",
    "```\n",
    "total_number_of_locomotives = sum(N for N in Ns)\n",
    "number_of_locomotives_with_that_number = sum(1 for N in Ns if n<=N)\n",
    "likelihood = (number_of_locomotives_with_that_number / total_number_of_locomotives)\n",
    "```\n",
    "\n",
    "Note the trivial case with one company is also handled by this code (the first sum will just be $N$, the second sum will be 0 or 1, depending on whether $n \\leq N$)\n"
   ]
  },
  {
   "cell_type": "code",
   "execution_count": 478,
   "metadata": {
    "collapsed": false
   },
   "outputs": [],
   "source": [
    "from thinkbayes import Suite\n",
    "\n",
    "class TrainTough(Suite):\n",
    "    \n",
    "    def __init__(self, hypos, alpha=1.0):\n",
    "        Pmf.__init__(self)\n",
    "        for hypo in hypos:\n",
    "            self.Set(hypo, hypo**(-alpha))\n",
    "        self.Normalize()\n",
    "        self.total_number_of_locomotives = sum(N for N in hypos)\n",
    "    \n",
    "    def Likelihood(self, data, hypo):\n",
    "        number_of_locomotives_with_that_number = sum(1 for N in hypos if data <= hypo)\n",
    "        return (float(number_of_locomotives_with_that_number) / self.total_number_of_locomotives)"
   ]
  },
  {
   "cell_type": "code",
   "execution_count": 492,
   "metadata": {
    "collapsed": false
   },
   "outputs": [
    {
     "data": {
      "text/plain": [
       "377.38016140660835"
      ]
     },
     "execution_count": 492,
     "metadata": {},
     "output_type": "execute_result"
    }
   ],
   "source": [
    "hypos = xrange(1,1001)\n",
    "suitetough = TrainTough(hypos)\n",
    "for data in [30,60,90]:\n",
    "    suitetough.Update(data)\n",
    "suitetough.Mean()"
   ]
  },
  {
   "cell_type": "code",
   "execution_count": 480,
   "metadata": {
    "collapsed": false
   },
   "outputs": [
    {
     "data": {
      "text/plain": [
       "1"
      ]
     },
     "execution_count": 480,
     "metadata": {},
     "output_type": "execute_result"
    }
   ],
   "source": [
    "sum(1 for N in hypos if 20 <= N)"
   ]
  },
  {
   "cell_type": "code",
   "execution_count": 493,
   "metadata": {
    "collapsed": false
   },
   "outputs": [
    {
     "data": {
      "text/plain": [
       "133.2752313750312"
      ]
     },
     "execution_count": 493,
     "metadata": {},
     "output_type": "execute_result"
    }
   ],
   "source": [
    "hypos = xrange(1,1001)\n",
    "suite = Train(hypos)\n",
    "for data in [30,60,90]:\n",
    "    suite.Update(data)\n",
    "suite.Mean()"
   ]
  },
  {
   "cell_type": "code",
   "execution_count": 494,
   "metadata": {
    "collapsed": true
   },
   "outputs": [],
   "source": [
    "dftough = pd.DataFrame({'many companies': list(suitetough.Render()[1]),\n",
    "                       'one company': list(suite.Render()[1])}, index=list(suitetough.Render()[0]))"
   ]
  },
  {
   "cell_type": "code",
   "execution_count": 497,
   "metadata": {
    "collapsed": false
   },
   "outputs": [
    {
     "data": {
      "text/plain": [
       "<matplotlib.axes._subplots.AxesSubplot at 0x162032e8>"
      ]
     },
     "execution_count": 497,
     "metadata": {},
     "output_type": "execute_result"
    },
    {
     "data": {
      "image/png": "[encoded data removed]",
      "text/plain": [
       "<matplotlib.figure.Figure at 0x1622f128>"
      ]
     },
     "metadata": {},
     "output_type": "display_data"
    }
   ],
   "source": [
    "dftough.plot()"
   ]
  },
  {
   "cell_type": "markdown",
   "metadata": {},
   "source": [
    "## Chapter 4 More Estimation\n",
    "\n",
    "### 4.1 The Euro problem\n",
    "\n",
    "When spun on edge 250 times, a Belgian one-euro coin came up heads 140 times and tails 110. It looks very suspicious to me said Barry Blight, a statistics lecturer at the London School of Economics. If the coin were unbiased, the change of getting a results as extreme as that would be less than 7%.\n",
    "\n",
    "But do these data give evidence that the coin is biased rather than fair?\n",
    "\n",
    "To answer that question, we'll proceed in two steps. The first is to estimate the probability that the coin lands face up.\n",
    "The second is to evaluate whether the data support the hyopthesis that the coin is biased.\n",
    "\n",
    "Any given coin has some probability, x, of landing heads up when spun on edge. It seems reasonable to believe that the value of x depends on some physical characteristics of the coin, primarily the distribution of weight.\n",
    "\n",
    "If a coin is perfectly balanced, we expect x to be close to 50%, but for a lopsided coin, x might be substantially different. We can use Baye's theorem and the observed data to estimate x.\n",
    "\n",
    "Let's define 101 hypotheses, where $H_x$ is the hypothesis that the probablity of heads is x%, for values from 0 to 100. I'll start with a uniform prior where the probablity of $H_x$ is the same for all x. We'll come back later to consider other priors."
   ]
  },
  {
   "cell_type": "markdown",
   "metadata": {},
   "source": [
    "The likelihood function is relatively easy: if $H_x$ is true, the probablity of heads is $\\frac{x}{100}$ and the probability of tails is $1 - \\frac{x}{100}$.\n",
    "\n"
   ]
  },
  {
   "cell_type": "code",
   "execution_count": 498,
   "metadata": {
    "collapsed": true
   },
   "outputs": [],
   "source": [
    "class Euro(Suite):\n",
    "\n",
    "    def Likelihood(self, data, hypo):\n",
    "        x = hypo\n",
    "        if data == 'H':\n",
    "            return x/100.0\n",
    "        else:\n",
    "            return 1 - x/100.0"
   ]
  },
  {
   "cell_type": "code",
   "execution_count": 499,
   "metadata": {
    "collapsed": true
   },
   "outputs": [],
   "source": [
    "suite = Euro(xrange(0, 101))\n",
    "dataset = 'H'*140 + 'T'*110"
   ]
  },
  {
   "cell_type": "code",
   "execution_count": 500,
   "metadata": {
    "collapsed": true
   },
   "outputs": [],
   "source": [
    "for data in dataset:\n",
    "    suite.Update(data)"
   ]
  },
  {
   "cell_type": "code",
   "execution_count": 501,
   "metadata": {
    "collapsed": true
   },
   "outputs": [],
   "source": [
    "dfeuro = pd.DataFrame({'uniform': list(suite.Render()[1])}, index=list(suite.Render()[0]))"
   ]
  },
  {
   "cell_type": "code",
   "execution_count": 503,
   "metadata": {
    "collapsed": false
   },
   "outputs": [
    {
     "data": {
      "text/plain": [
       "<matplotlib.text.Text at 0x16d8e320>"
      ]
     },
     "execution_count": 503,
     "metadata": {},
     "output_type": "execute_result"
    },
    {
     "data": {
      "image/png": "[encoded data removed]",
      "text/plain": [
       "<matplotlib.figure.Figure at 0x165ee128>"
      ]
     },
     "metadata": {},
     "output_type": "display_data"
    }
   ],
   "source": [
    "dfeuro.plot()\n",
    "plt.ylabel('probability')"
   ]
  },
  {
   "cell_type": "markdown",
   "metadata": {},
   "source": [
    "### Summarizing the posterior\n",
    "\n",
    "Again, there are several ways to summarize the posterior distribution. One option is to find the most likely value in the posterior distribution."
   ]
  },
  {
   "cell_type": "code",
   "execution_count": 504,
   "metadata": {
    "collapsed": false
   },
   "outputs": [
    {
     "data": {
      "text/plain": [
       "56"
      ]
     },
     "execution_count": 504,
     "metadata": {},
     "output_type": "execute_result"
    }
   ],
   "source": [
    "suite.MaximumLikelihood()"
   ]
  },
  {
   "cell_type": "code",
   "execution_count": 505,
   "metadata": {
    "collapsed": false
   },
   "outputs": [
    {
     "data": {
      "text/plain": [
       "0.56"
      ]
     },
     "execution_count": 505,
     "metadata": {},
     "output_type": "execute_result"
    }
   ],
   "source": [
    "140./250"
   ]
  },
  {
   "cell_type": "markdown",
   "metadata": {},
   "source": [
    "```In this case the result is 56, which is also the observed percentage of heads, 140/250 = 56%. So that suggests (correctly) that the observed percentage is the maximum likelihood estimator for the population.\n",
    "```\n",
    "\n",
    "We might also summarize the posterior by computing the mean and median:\n"
   ]
  },
  {
   "cell_type": "code",
   "execution_count": 506,
   "metadata": {
    "collapsed": false
   },
   "outputs": [
    {
     "name": "stdout",
     "output_type": "stream",
     "text": [
      "Mean 55.9523809524\n"
     ]
    }
   ],
   "source": [
    "print 'Mean', suite.Mean()"
   ]
  },
  {
   "cell_type": "code",
   "execution_count": 508,
   "metadata": {
    "collapsed": false
   },
   "outputs": [
    {
     "name": "stdout",
     "output_type": "stream",
     "text": [
      " Median 56\n"
     ]
    }
   ],
   "source": [
    "import thinkbayes\n",
    "print 'Median', thinkbayes.Percentile(suite, 50)"
   ]
  },
  {
   "cell_type": "code",
   "execution_count": 509,
   "metadata": {
    "collapsed": false
   },
   "outputs": [
    {
     "name": "stdout",
     "output_type": "stream",
     "text": [
      "CI (51, 61)\n"
     ]
    }
   ],
   "source": [
    "print 'CI', thinkbayes.CredibleInterval(suite, 90)"
   ]
  },
  {
   "cell_type": "markdown",
   "metadata": {},
   "source": [
    "Now, getting back to the original question, we would like to know whether the coin is fair. We observe that the posterior credible interval does not include 50%, which suggests that the coin is not fair.\n",
    "\n",
    "But that is not exactly the question we started with. MacKay asked, “ Do these data give evidence that the coin is biased rather than fair?” To answer that question, we will have to be more precise about what it means to say that data constitute evidence for a hypothesis. And that is the subject of the next chapter.\n",
    "\n"
   ]
  },
  {
   "cell_type": "markdown",
   "metadata": {},
   "source": [
    "### Swamping the priors\n",
    "\n",
    "We started with a uniform prior, but that might not be a good choice. I can believe that if a coin is lopsided, x might deviate substantially from 50%, but it seems unlikely that the Belgian Euro coin is so imbalanced that x is 10% or 90%.\n",
    "It might be more reasonable to choose a prior that gives higher probability to values of x near 50% and lower probability to extreme values."
   ]
  },
  {
   "cell_type": "code",
   "execution_count": 518,
   "metadata": {
    "collapsed": true
   },
   "outputs": [],
   "source": [
    "def TrianglePrior():\n",
    "    suite = Euro()\n",
    "    for x in range(0, 51):\n",
    "        suite.Set(x, x)\n",
    "    for x in range(51, 101):\n",
    "        suite.Set(x, 100-x) \n",
    "    suite.Normalize()\n",
    "    \n",
    "    return suite"
   ]
  },
  {
   "cell_type": "code",
   "execution_count": 519,
   "metadata": {
    "collapsed": true
   },
   "outputs": [],
   "source": [
    "suite = TrianglePrior()"
   ]
  },
  {
   "cell_type": "code",
   "execution_count": 520,
   "metadata": {
    "collapsed": true
   },
   "outputs": [],
   "source": [
    "for data in dataset:\n",
    "    suite.Update(data)"
   ]
  },
  {
   "cell_type": "code",
   "execution_count": 521,
   "metadata": {
    "collapsed": true
   },
   "outputs": [],
   "source": [
    "suiteuni = Euro(xrange(0,101))"
   ]
  },
  {
   "cell_type": "code",
   "execution_count": 522,
   "metadata": {
    "collapsed": false
   },
   "outputs": [],
   "source": [
    "for data in dataset:\n",
    "    suiteuni.Update(data)"
   ]
  },
  {
   "cell_type": "code",
   "execution_count": 523,
   "metadata": {
    "collapsed": true
   },
   "outputs": [],
   "source": [
    "dfeurotrash = pd.DataFrame({'triangle': list(suite.Render()[1]),\n",
    "                           'uniform': list(suiteuni.Render()[1])},\n",
    "                          index=list(suite.Render()[0]))"
   ]
  },
  {
   "cell_type": "code",
   "execution_count": 524,
   "metadata": {
    "collapsed": false
   },
   "outputs": [
    {
     "data": {
      "text/plain": [
       "<matplotlib.axes._subplots.AxesSubplot at 0x16f789e8>"
      ]
     },
     "execution_count": 524,
     "metadata": {},
     "output_type": "execute_result"
    },
    {
     "data": {
      "image/png": "[encoded data removed]",
      "text/plain": [
       "<matplotlib.figure.Figure at 0x1702e4e0>"
      ]
     },
     "metadata": {},
     "output_type": "display_data"
    }
   ],
   "source": [
    "dfeurotrash.plot()"
   ]
  },
  {
   "cell_type": "markdown",
   "metadata": {},
   "source": [
    "Even with substantially different priors, the posterior distributions are very similar."
   ]
  },
  {
   "cell_type": "code",
   "execution_count": 525,
   "metadata": {
    "collapsed": false
   },
   "outputs": [
    {
     "data": {
      "text/plain": [
       "55.74349943859506"
      ]
     },
     "execution_count": 525,
     "metadata": {},
     "output_type": "execute_result"
    }
   ],
   "source": [
    "suite.Mean()"
   ]
  },
  {
   "cell_type": "code",
   "execution_count": 526,
   "metadata": {
    "collapsed": false
   },
   "outputs": [
    {
     "data": {
      "text/plain": [
       "55.952380952380956"
      ]
     },
     "execution_count": 526,
     "metadata": {},
     "output_type": "execute_result"
    }
   ],
   "source": [
    "suiteuni.Mean()"
   ]
  },
  {
   "cell_type": "code",
   "execution_count": 529,
   "metadata": {
    "collapsed": false
   },
   "outputs": [
    {
     "data": {
      "text/plain": [
       "56"
      ]
     },
     "execution_count": 529,
     "metadata": {},
     "output_type": "execute_result"
    }
   ],
   "source": [
    "thinkbayes.Percentile(suite, 50)"
   ]
  },
  {
   "cell_type": "code",
   "execution_count": 530,
   "metadata": {
    "collapsed": false
   },
   "outputs": [
    {
     "data": {
      "text/plain": [
       "56"
      ]
     },
     "execution_count": 530,
     "metadata": {},
     "output_type": "execute_result"
    }
   ],
   "source": [
    "thinkbayes.Percentile(suiteuni, 50)"
   ]
  },
  {
   "cell_type": "code",
   "execution_count": 531,
   "metadata": {
    "collapsed": false
   },
   "outputs": [
    {
     "data": {
      "text/plain": [
       "(51, 61)"
      ]
     },
     "execution_count": 531,
     "metadata": {},
     "output_type": "execute_result"
    }
   ],
   "source": [
    "thinkbayes.CredibleInterval(suite, 90)"
   ]
  },
  {
   "cell_type": "code",
   "execution_count": 532,
   "metadata": {
    "collapsed": false
   },
   "outputs": [
    {
     "data": {
      "text/plain": [
       "(51, 61)"
      ]
     },
     "execution_count": 532,
     "metadata": {},
     "output_type": "execute_result"
    }
   ],
   "source": [
    "thinkbayes.CredibleInterval(suiteuni, 90)"
   ]
  },
  {
   "cell_type": "code",
   "execution_count": null,
   "metadata": {
    "collapsed": true
   },
   "outputs": [],
   "source": []
  }
 ],
 "metadata": {
  "kernelspec": {
   "display_name": "Python 2",
   "language": "python",
   "name": "python2"
  },
  "language_info": {
   "codemirror_mode": {
    "name": "ipython",
    "version": 2
   },
   "file_extension": ".py",
   "mimetype": "text/x-python",
   "name": "python",
   "nbconvert_exporter": "python",
   "pygments_lexer": "ipython2",
   "version": "2.7.11"
  }
 },
 "nbformat": 4,
 "nbformat_minor": 0
}
