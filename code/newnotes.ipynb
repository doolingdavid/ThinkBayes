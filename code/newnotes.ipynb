{
 "cells": [
  {
   "cell_type": "code",
   "execution_count": 1,
   "metadata": {
    "collapsed": true
   },
   "outputs": [],
   "source": [
    "import numpy as np\n",
    "import pandas as pd\n",
    "import matplotlib.pyplot as plt\n",
    "from pandas import Series, DataFrame\n",
    "import pytz\n",
    "from pytz import common_timezones, all_timezones\n",
    "import matplotlib\n",
    "matplotlib.style.use('ggplot')\n",
    "%matplotlib inline\n",
    "from datetime import datetime"
   ]
  },
  {
   "cell_type": "markdown",
   "metadata": {},
   "source": [
    "http://greenteapress.com/wp/think-bayes/\n",
    "\n",
    "Roger Labbe has transformed _Think Bayes_ into IPython notebooks where you can modify and run the code\n",
    "\n",
    "There are several excellent modules for doing Bayesian statistics in Python, including pymc and OpenBUGS. I chose not to use them for this book because you need a fair amount of background knowledge to get started with these modules, and I want to keep the prerequisites minimal. If you know Python and a little bit about probability, you are ready to start this book."
   ]
  },
  {
   "cell_type": "markdown",
   "metadata": {},
   "source": [
    "## Chapter 1 Bayes's Theorem\n",
    "\n",
    "### Conditional probability\n",
    "\n",
    "The usual notation for conditional probability is p(A|B), which is the probability of A given that B is true.\n",
    "\n",
    "### Conjoint probability\n",
    "\n",
    "In general, the probability of a conjunction is\n",
    "\n",
    "p(A  and  B) = p(A) p(B|A) \n",
    "\n",
    "### The cookie problem\n",
    "\n",
    "We’ll get to Bayes’s theorem soon, but I want to motivate it with an example called the cookie problem.1 Suppose there are two bowls of cookies. Bowl 1 contains 30 vanilla cookies and 10 chocolate cookies. Bowl 2 contains 20 of each.\n",
    "Now suppose you choose one of the bowls at random and, without looking, select a cookie at random. The cookie is vanilla. What is the probability that it came from Bowl 1?\n",
    "\n",
    "This is a conditional probability; we want p(Bowl 1 | vanilla), but it is not obvious how to compute it. If I asked a different question—the probability of a vanilla cookie given Bowl 1—it would be easy:\n",
    "\n",
    "p(vanilla | Bowl 1) = 3/4 \n",
    "Sadly, p(A|B) is not the same as p(B|A), but there is a way to get from one to the other: Bayes’s theorem."
   ]
  },
  {
   "cell_type": "markdown",
   "metadata": {},
   "source": [
    "### Bayes's theorem\n",
    "\n",
    "$\n",
    "p(A|B) = \\frac{ p(A) p(B|A)}{p(B)}\n",
    "$ \n",
    "\n",
    "And that’s Bayes’s theorem! It might not look like much, but it turns out to be surprisingly powerful.\n",
    "\n",
    "$\n",
    "p(B_1|V) = \\frac{(1/2) (3/4)}{ (1/2)(3/4) + (1/2)(1/2)} = 3/5\n",
    "$\n",
    "\n",
    "So the vanilla cookie is evidence in favor of the hypothesis that we chose Bowl 1, because vanilla cookies are more likely to come from Bowl 1.\n",
    "\n",
    "This example demonstrates one use of Bayes’s theorem: it provides a strategy to get from p(B|A) to p(A|B). This strategy is useful in cases, like the cookie problem, where it is easier to compute the terms on the right side of Bayes’s theorem than the term on the left."
   ]
  },
  {
   "cell_type": "markdown",
   "metadata": {},
   "source": [
    "### The diachronic interpretation\n",
    "\n",
    "There is another way to think of Bayes’s theorem: it gives us a way to update the probability of a hypothesis, H, in light of some body of data, D.\n",
    "This way of thinking about Bayes’s theorem is called the diachronic interpretation. “Diachronic” means that something is happening over time; in this case the probability of the hypotheses changes, over time, as we see new data.\n",
    "\n",
    "Rewriting Bayes’s theorem with H and D yields:\n",
    "\n",
    "$\n",
    "p(H|D) = \\frac{p(H)p(D|H)}{p(D)}\n",
    "$\n",
    "\n",
    "In this interpretation, each term has a name:\n",
    "\n",
    "* p(H) is the probability of the hypothesis before we see the data, called the prior probability, or just **prior**.\n",
    "* p(H|D) is what we want to compute, the probability of the hypothesis after we see the data, called the **posterior**.\n",
    "* p(D|H) is the probability of the data under the hypothesis, called the **likelihood**.\n",
    "* p(D) is the probability of the data under any hypothesis, called the **normalizing constant**.\n",
    "\n",
    "Sometimes we can compute the prior based on background information. For example, the cookie problem specifies that we choose a bowl at random with equal probability.\n",
    "In other cases the prior is subjective; that is, reasonable people might disagree, either because they use different background information or because they interpret the same information differently.\n",
    "\n",
    "The likelihood is usually the easiest part to compute. In the cookie problem, if we know which bowl the cookie came from, we find the probability of a vanilla cookie by counting.\n",
    "\n",
    "The normalizing constant can be tricky. It is supposed to be the probability of seeing the data under any hypothesis at all, but in the most general case it is hard to nail down what that means.\n",
    "\n",
    "Most often we simplify things by specifying a set of hypotheses that are\n",
    "\n",
    "**Mutually exclusive**:\n",
    "At most one hypothesis in the set can be true, and\n",
    "**Collectively exhaustive**:\n",
    "There are no other possibilities; at least one of the hypotheses has to be true.\n",
    "I use the word suite for a set of hypotheses that has these properties.\n",
    "\n",
    "\n",
    "In the cookie problem, there are only two hypotheses—the cookie came from Bowl 1 or Bowl 2—and they are mutually exclusive and collectively exhaustive.\n",
    "\n",
    "In that case we can compute p(D) using the law of total probability, which says that if there are two exclusive ways that something might happen, you can add up the probabilities like this:\n",
    "\n",
    "$\n",
    "p(D) = p(B1) p(D|B1) + p(B2) p(D|B2) \n",
    "$\n",
    "\n",
    "\n",
    "Plugging in the values from the cookie problem, we have\n",
    "\n",
    "\n",
    "$\n",
    "p(D) = (1/2) (3/4) + (1/2) (1/2) = 5/8 \n",
    "$"
   ]
  },
  {
   "cell_type": "markdown",
   "metadata": {},
   "source": [
    "### The M&M problem\n",
    "\n",
    "M&M’s are small candy-coated chocolates that come in a variety of colors. Mars, Inc., which makes M&M’s, changes the mixture of colors from time to time.\n",
    "In 1995, they introduced blue M&M’s. Before then, the color mix in a bag of plain M&M’s was 30% Brown, 20% Yellow, 20% Red, 10% Green, 10% Orange, 10% Tan. Afterward it was 24% Blue , 20% Green, 16% Orange, 14% Yellow, 13% Red, 13% Brown.\n",
    "\n",
    "Suppose a friend of mine has two bags of M&M’s, and he tells me that one is from 1994 and one from 1996. He won’t tell me which is which, but he gives me one M&M from each bag. One is yellow and one is green. What is the probability that the yellow one came from the 1994 bag?\n",
    "\n",
    "This problem is similar to the cookie problem, with the twist that I draw one sample from each bowl/bag. This problem also gives me a chance to demonstrate the table method, which is useful for solving problems like this on paper. In the next chapter we will solve them computationally."
   ]
  },
  {
   "cell_type": "code",
   "execution_count": 5,
   "metadata": {
    "collapsed": false
   },
   "outputs": [
    {
     "name": "stdout",
     "output_type": "stream",
     "text": [
      "0.740740740741\n",
      "0.740740740741\n"
     ]
    }
   ],
   "source": [
    "top = (1./2)*.2*.2\n",
    "bot = (1./2.)*.2*.2 + (1./2)*.14*.1\n",
    "print top/bot\n",
    "print 20/27."
   ]
  },
  {
   "cell_type": "markdown",
   "metadata": {},
   "source": [
    "The first step is to enumerate the hypotheses. The bag the yellow M&M came from I’ll call Bag 1; I’ll call the other Bag 2. So the hypotheses are:\n",
    "\n",
    "* A: Bag 1 is from 1994, which implies that Bag 2 is from 1996.\n",
    "* B: Bag 1 is from 1996 and Bag 2 is from 1994.\n",
    "\n",
    "Now we construct a table with a row for each hypothesis and a column for each term in Bayes's theorem:\n",
    " \n",
    "| | p(H) | p(D &#124; H)  | p(H)p(D &#124; H) | p(H &#124; D) | \n",
    "|:-----:|:--------------:|:-----------------:|:-------------:|:---------------------:|\n",
    "|A| 1/2 | (20)(20) | 200 |  20/27     |\n",
    "|B| 1/2 | (14)(10)  | 70   |   7/27 |   "
   ]
  },
  {
   "cell_type": "markdown",
   "metadata": {},
   "source": [
    "The second column has the likelihoods, which follow from the information in the problem. For example, if A is true, the yellow M&M came from the 1994 bag with probability 20%, and the green came from the 1996 bag with probability 20%. If B is true, the yellow M&M came from the 1996 bag with probability 14%, and the green came from the 1994 bag with probability 10%. Because the selections are independent, we get the conjoint probability by multiplying.\n",
    "\n",
    "\n",
    "The third column is just the product of the previous two. The sum of this column, 270, is the normalizing constant. To get the last column, which contains the posteriors, we divide the third column by the normalizing constant.\n",
    "\n",
    "That’s it. Simple, right?\n",
    "\n",
    "\n",
    "Well, you might be bothered by one detail. I write p(D|H) in terms of percentages, not probabilities, which means it is off by a factor of 10,000. But that cancels out when we divide through by the normalizing constant, so it doesn’t affect the result.\n",
    "\n",
    "When the set of hypotheses is mutually exclusive and collectively exhaustive, you can multiply the likelihoods by any factor, if it is convenient, as long as you apply the same factor to the entire column."
   ]
  },
  {
   "cell_type": "markdown",
   "metadata": {},
   "source": [
    "### The Monty Hall problem\n",
    "\n",
    "The Monty Hall problem might be the most contentious question in the history of probability. The scenario is simple, but the correct answer is so counterintuitive that many people just can’t accept it, and many smart people have embarrassed themselves not just by getting it wrong but by arguing the wrong side, aggressively, in public.\n",
    "\n",
    "Monty Hall was the original host of the game show Let’s Make a Deal. The Monty Hall problem is based on one of the regular games on the show. If you are on the show, here’s what happens:\n",
    "\n",
    "* Monty shows you three closed doors and tells you that there is a prize behind each door: one prize is a car, the other two are less valuable prizes like peanut butter and fake finger nails. The prizes are arranged at random.\n",
    "* The object of the game is to guess which door has the car. If you guess right, you get to keep the car.\n",
    "* You pick a door, which we will call Door A. We’ll call the other doors B and C.\n",
    "* Before opening the door you chose, Monty increases the suspense by opening either Door B or C, whichever does not have the car. (If the car is actually behind Door A, Monty can safely open B or C, so he chooses one at random.)\n",
    "* Then Monty offers you the option to stick with your original choice or switch to the one remaining unopened door.\n",
    "\n",
    "The question is, should you “stick” or “switch” or does it make no difference?\n",
    "Most people have the strong intuition that it makes no difference. There are two doors left, they reason, so the chance that the car is behind Door A is 50%.\n",
    "\n",
    "But that is wrong. In fact, the chance of winning if you stick with Door A is only 1/3; if you switch, your chances are 2/3.\n",
    "\n",
    "By applying Bayes’s theorem, we can break this problem into simple pieces, and maybe convince ourselves that the correct answer is, in fact, correct.\n",
    "\n",
    "To start, we should make a careful statement of the data. In this case D consists of two parts: Monty chooses Door B and there is no car there.\n",
    "\n",
    "Next we define three hypotheses: A, B, and C represent the hypothesis that the car is behind Door A, Door B, or Door C. Again, let’s apply the table method:\n",
    "\n",
    "\n",
    "| | Prior | Likelihood | | Posterior |\n",
    "|:------------:|:-------------------:|:------------------:|:--------------:|:-----------------------:|\n",
    "| | p(H) | p(D &#124; H) | p(H) p(D &#124; H) | p(H &#124; D) |\n",
    "|A| 1/3 | 1/2 | 1/6 | 1/3 | \n",
    "|B| 1/3 | 0 | 0 | 0 |\n",
    "|C| 1/3 | 1 | 1/3 | 2/3 | \n"
   ]
  },
  {
   "cell_type": "code",
   "execution_count": 6,
   "metadata": {
    "collapsed": false
   },
   "outputs": [],
   "source": [
    "df = pd.read_csv('PathwayComplianceCustomSearch.csv',skiprows=[0])"
   ]
  },
  {
   "cell_type": "code",
   "execution_count": 7,
   "metadata": {
    "collapsed": false
   },
   "outputs": [
    {
     "data": {
      "text/html": [
       "<div>\n",
       "<table border=\"1\" class=\"dataframe\">\n",
       "  <thead>\n",
       "    <tr style=\"text-align: right;\">\n",
       "      <th></th>\n",
       "      <th>Diagnosis Date</th>\n",
       "      <th>Patient Name</th>\n",
       "      <th>MRN</th>\n",
       "      <th>Cancer Type</th>\n",
       "      <th>Event Type</th>\n",
       "      <th>Event</th>\n",
       "      <th>Event Value</th>\n",
       "      <th>Provider</th>\n",
       "      <th>Compliance</th>\n",
       "    </tr>\n",
       "  </thead>\n",
       "  <tbody>\n",
       "    <tr>\n",
       "      <th>0</th>\n",
       "      <td>3/24/14 12:00 AM</td>\n",
       "      <td>Taylor, Elizabeth</td>\n",
       "      <td>71587</td>\n",
       "      <td>Breast</td>\n",
       "      <td>StructuredData</td>\n",
       "      <td>Diagnosis Date</td>\n",
       "      <td>2014/03/24 00:00:00.000</td>\n",
       "      <td>Fontaine Annette</td>\n",
       "      <td>YES</td>\n",
       "    </tr>\n",
       "    <tr>\n",
       "      <th>1</th>\n",
       "      <td>3/24/14 12:00 AM</td>\n",
       "      <td>Taylor, Elizabeth</td>\n",
       "      <td>71587</td>\n",
       "      <td>Breast</td>\n",
       "      <td>StructuredData</td>\n",
       "      <td>Stage</td>\n",
       "      <td>Stage IIB</td>\n",
       "      <td>Fontaine Annette</td>\n",
       "      <td>YES</td>\n",
       "    </tr>\n",
       "    <tr>\n",
       "      <th>2</th>\n",
       "      <td>3/24/14 12:00 AM</td>\n",
       "      <td>Taylor, Elizabeth</td>\n",
       "      <td>71587</td>\n",
       "      <td>Breast</td>\n",
       "      <td>StructuredData</td>\n",
       "      <td>Staging Date</td>\n",
       "      <td>2014/04/22 00:00:00.000</td>\n",
       "      <td>Fontaine Annette</td>\n",
       "      <td>YES</td>\n",
       "    </tr>\n",
       "    <tr>\n",
       "      <th>3</th>\n",
       "      <td>3/24/14 12:00 AM</td>\n",
       "      <td>Taylor, Elizabeth</td>\n",
       "      <td>71587</td>\n",
       "      <td>Breast</td>\n",
       "      <td>StructuredData</td>\n",
       "      <td>Staging Components</td>\n",
       "      <td>M0|pN1a|T2</td>\n",
       "      <td>Fontaine Annette</td>\n",
       "      <td>YES</td>\n",
       "    </tr>\n",
       "    <tr>\n",
       "      <th>4</th>\n",
       "      <td>3/24/14 12:00 AM</td>\n",
       "      <td>Taylor, Elizabeth</td>\n",
       "      <td>71587</td>\n",
       "      <td>Breast</td>\n",
       "      <td>StructuredData</td>\n",
       "      <td>Performance Status</td>\n",
       "      <td>1</td>\n",
       "      <td>Fontaine Annette</td>\n",
       "      <td>YES</td>\n",
       "    </tr>\n",
       "  </tbody>\n",
       "</table>\n",
       "</div>"
      ],
      "text/plain": [
       "     Diagnosis Date       Patient Name    MRN Cancer Type      Event Type  \\\n",
       "0  3/24/14 12:00 AM  Taylor, Elizabeth  71587      Breast  StructuredData   \n",
       "1  3/24/14 12:00 AM  Taylor, Elizabeth  71587      Breast  StructuredData   \n",
       "2  3/24/14 12:00 AM  Taylor, Elizabeth  71587      Breast  StructuredData   \n",
       "3  3/24/14 12:00 AM  Taylor, Elizabeth  71587      Breast  StructuredData   \n",
       "4  3/24/14 12:00 AM  Taylor, Elizabeth  71587      Breast  StructuredData   \n",
       "\n",
       "                Event              Event Value          Provider Compliance  \n",
       "0      Diagnosis Date  2014/03/24 00:00:00.000  Fontaine Annette        YES  \n",
       "1               Stage                Stage IIB  Fontaine Annette        YES  \n",
       "2        Staging Date  2014/04/22 00:00:00.000  Fontaine Annette        YES  \n",
       "3  Staging Components               M0|pN1a|T2  Fontaine Annette        YES  \n",
       "4  Performance Status                        1  Fontaine Annette        YES  "
      ]
     },
     "execution_count": 7,
     "metadata": {},
     "output_type": "execute_result"
    }
   ],
   "source": [
    "df.head()"
   ]
  },
  {
   "cell_type": "code",
   "execution_count": 8,
   "metadata": {
    "collapsed": true
   },
   "outputs": [],
   "source": [
    "dfsmall = df[['Patient Name','MRN','Cancer Type']].copy()"
   ]
  },
  {
   "cell_type": "code",
   "execution_count": 9,
   "metadata": {
    "collapsed": false
   },
   "outputs": [
    {
     "data": {
      "text/plain": [
       "(5445, 3)"
      ]
     },
     "execution_count": 9,
     "metadata": {},
     "output_type": "execute_result"
    }
   ],
   "source": [
    "dfsmall.shape"
   ]
  },
  {
   "cell_type": "code",
   "execution_count": 10,
   "metadata": {
    "collapsed": false
   },
   "outputs": [
    {
     "data": {
      "text/plain": [
       "Index([u'Patient Name', u'MRN', u'Cancer Type'], dtype='object')"
      ]
     },
     "execution_count": 10,
     "metadata": {},
     "output_type": "execute_result"
    }
   ],
   "source": [
    "dfsmall.columns"
   ]
  },
  {
   "cell_type": "code",
   "execution_count": 11,
   "metadata": {
    "collapsed": false
   },
   "outputs": [],
   "source": [
    "dftiny = dfsmall[dfsmall['Patient Name'] != 'Patient Name'].drop_duplicates()"
   ]
  },
  {
   "cell_type": "code",
   "execution_count": 12,
   "metadata": {
    "collapsed": false
   },
   "outputs": [
    {
     "data": {
      "text/plain": [
       "(422, 3)"
      ]
     },
     "execution_count": 12,
     "metadata": {},
     "output_type": "execute_result"
    }
   ],
   "source": [
    "dftiny.shape"
   ]
  },
  {
   "cell_type": "code",
   "execution_count": 13,
   "metadata": {
    "collapsed": false
   },
   "outputs": [
    {
     "data": {
      "text/html": [
       "<div>\n",
       "<table border=\"1\" class=\"dataframe\">\n",
       "  <thead>\n",
       "    <tr style=\"text-align: right;\">\n",
       "      <th></th>\n",
       "      <th>Patient Name</th>\n",
       "      <th>MRN</th>\n",
       "      <th>Cancer Type</th>\n",
       "    </tr>\n",
       "  </thead>\n",
       "  <tbody>\n",
       "    <tr>\n",
       "      <th>0</th>\n",
       "      <td>Taylor, Elizabeth</td>\n",
       "      <td>71587</td>\n",
       "      <td>Breast</td>\n",
       "    </tr>\n",
       "    <tr>\n",
       "      <th>11</th>\n",
       "      <td>Bumgarner Kirby, Hue</td>\n",
       "      <td>25684</td>\n",
       "      <td>Breast</td>\n",
       "    </tr>\n",
       "    <tr>\n",
       "      <th>20</th>\n",
       "      <td>Pena, Louise</td>\n",
       "      <td>75975</td>\n",
       "      <td>Breast</td>\n",
       "    </tr>\n",
       "    <tr>\n",
       "      <th>29</th>\n",
       "      <td>Yazzie, Alfreda</td>\n",
       "      <td>76122</td>\n",
       "      <td>Breast</td>\n",
       "    </tr>\n",
       "    <tr>\n",
       "      <th>41</th>\n",
       "      <td>Kahle, Christine</td>\n",
       "      <td>76141</td>\n",
       "      <td>Breast</td>\n",
       "    </tr>\n",
       "  </tbody>\n",
       "</table>\n",
       "</div>"
      ],
      "text/plain": [
       "            Patient Name    MRN Cancer Type\n",
       "0      Taylor, Elizabeth  71587      Breast\n",
       "11  Bumgarner Kirby, Hue  25684      Breast\n",
       "20          Pena, Louise  75975      Breast\n",
       "29       Yazzie, Alfreda  76122      Breast\n",
       "41      Kahle, Christine  76141      Breast"
      ]
     },
     "execution_count": 13,
     "metadata": {},
     "output_type": "execute_result"
    }
   ],
   "source": [
    "dftiny.head()"
   ]
  },
  {
   "cell_type": "code",
   "execution_count": 14,
   "metadata": {
    "collapsed": false
   },
   "outputs": [
    {
     "data": {
      "text/html": [
       "<div>\n",
       "<table border=\"1\" class=\"dataframe\">\n",
       "  <thead>\n",
       "    <tr style=\"text-align: right;\">\n",
       "      <th></th>\n",
       "      <th>Patient Name</th>\n",
       "      <th>MRN</th>\n",
       "      <th>Cancer Type</th>\n",
       "    </tr>\n",
       "  </thead>\n",
       "  <tbody>\n",
       "    <tr>\n",
       "      <th>0</th>\n",
       "      <td>Taylor, Elizabeth</td>\n",
       "      <td>71587</td>\n",
       "      <td>Breast</td>\n",
       "    </tr>\n",
       "    <tr>\n",
       "      <th>11</th>\n",
       "      <td>Bumgarner Kirby, Hue</td>\n",
       "      <td>25684</td>\n",
       "      <td>Breast</td>\n",
       "    </tr>\n",
       "    <tr>\n",
       "      <th>20</th>\n",
       "      <td>Pena, Louise</td>\n",
       "      <td>75975</td>\n",
       "      <td>Breast</td>\n",
       "    </tr>\n",
       "    <tr>\n",
       "      <th>29</th>\n",
       "      <td>Yazzie, Alfreda</td>\n",
       "      <td>76122</td>\n",
       "      <td>Breast</td>\n",
       "    </tr>\n",
       "    <tr>\n",
       "      <th>41</th>\n",
       "      <td>Kahle, Christine</td>\n",
       "      <td>76141</td>\n",
       "      <td>Breast</td>\n",
       "    </tr>\n",
       "    <tr>\n",
       "      <th>50</th>\n",
       "      <td>Davis, Sandra</td>\n",
       "      <td>76164</td>\n",
       "      <td>Breast</td>\n",
       "    </tr>\n",
       "    <tr>\n",
       "      <th>61</th>\n",
       "      <td>Bhakta, Sarashvatiben</td>\n",
       "      <td>76239</td>\n",
       "      <td>Breast</td>\n",
       "    </tr>\n",
       "    <tr>\n",
       "      <th>66</th>\n",
       "      <td>Bhakta,</td>\n",
       "      <td>76239</td>\n",
       "      <td>Breast</td>\n",
       "    </tr>\n",
       "    <tr>\n",
       "      <th>68</th>\n",
       "      <td>Sarashvatiben</td>\n",
       "      <td>76239</td>\n",
       "      <td>Breast</td>\n",
       "    </tr>\n",
       "    <tr>\n",
       "      <th>72</th>\n",
       "      <td>Adams, Carolyn</td>\n",
       "      <td>76267</td>\n",
       "      <td>Breast</td>\n",
       "    </tr>\n",
       "    <tr>\n",
       "      <th>81</th>\n",
       "      <td>Lingnau, Annalu</td>\n",
       "      <td>76273</td>\n",
       "      <td>Breast</td>\n",
       "    </tr>\n",
       "    <tr>\n",
       "      <th>92</th>\n",
       "      <td>Hudelson, Karen</td>\n",
       "      <td>76298</td>\n",
       "      <td>Breast</td>\n",
       "    </tr>\n",
       "    <tr>\n",
       "      <th>105</th>\n",
       "      <td>Werner, Regina</td>\n",
       "      <td>76325</td>\n",
       "      <td>Breast</td>\n",
       "    </tr>\n",
       "    <tr>\n",
       "      <th>114</th>\n",
       "      <td>McBride, Courtney</td>\n",
       "      <td>76354</td>\n",
       "      <td>Breast</td>\n",
       "    </tr>\n",
       "    <tr>\n",
       "      <th>123</th>\n",
       "      <td>Prins, Judy</td>\n",
       "      <td>76564</td>\n",
       "      <td>Breast</td>\n",
       "    </tr>\n",
       "    <tr>\n",
       "      <th>135</th>\n",
       "      <td>Emerson, Mae</td>\n",
       "      <td>76485</td>\n",
       "      <td>Breast</td>\n",
       "    </tr>\n",
       "    <tr>\n",
       "      <th>146</th>\n",
       "      <td>Carbajal, Rosie</td>\n",
       "      <td>76537</td>\n",
       "      <td>Breast</td>\n",
       "    </tr>\n",
       "    <tr>\n",
       "      <th>155</th>\n",
       "      <td>Nez, Joan</td>\n",
       "      <td>76623</td>\n",
       "      <td>Breast</td>\n",
       "    </tr>\n",
       "    <tr>\n",
       "      <th>164</th>\n",
       "      <td>Hill, Gaye</td>\n",
       "      <td>76692</td>\n",
       "      <td>Breast</td>\n",
       "    </tr>\n",
       "    <tr>\n",
       "      <th>174</th>\n",
       "      <td>Martin, Royal</td>\n",
       "      <td>76149</td>\n",
       "      <td>Pancreas</td>\n",
       "    </tr>\n",
       "    <tr>\n",
       "      <th>181</th>\n",
       "      <td>Lozano, Raymond</td>\n",
       "      <td>76296</td>\n",
       "      <td>Pancreas</td>\n",
       "    </tr>\n",
       "    <tr>\n",
       "      <th>188</th>\n",
       "      <td>Saenz, Francisca</td>\n",
       "      <td>76423</td>\n",
       "      <td>Breast</td>\n",
       "    </tr>\n",
       "    <tr>\n",
       "      <th>195</th>\n",
       "      <td>Duran, Theresa</td>\n",
       "      <td>76664</td>\n",
       "      <td>Breast</td>\n",
       "    </tr>\n",
       "    <tr>\n",
       "      <th>199</th>\n",
       "      <td>Labelle, Susan</td>\n",
       "      <td>76668</td>\n",
       "      <td>Breast</td>\n",
       "    </tr>\n",
       "    <tr>\n",
       "      <th>202</th>\n",
       "      <td>Chavez, Thelma</td>\n",
       "      <td>76699</td>\n",
       "      <td>Breast</td>\n",
       "    </tr>\n",
       "    <tr>\n",
       "      <th>209</th>\n",
       "      <td>Conyers, Nancy</td>\n",
       "      <td>76750</td>\n",
       "      <td>Breast</td>\n",
       "    </tr>\n",
       "    <tr>\n",
       "      <th>211</th>\n",
       "      <td>Bradbury, Sandra</td>\n",
       "      <td>76802</td>\n",
       "      <td>Breast</td>\n",
       "    </tr>\n",
       "    <tr>\n",
       "      <th>215</th>\n",
       "      <td>Jaquez, Guadalupe</td>\n",
       "      <td>76607</td>\n",
       "      <td>Breast</td>\n",
       "    </tr>\n",
       "    <tr>\n",
       "      <th>222</th>\n",
       "      <td>Wilkeson, Sheryl</td>\n",
       "      <td>76900</td>\n",
       "      <td>Breast</td>\n",
       "    </tr>\n",
       "    <tr>\n",
       "      <th>229</th>\n",
       "      <td>James, Susan</td>\n",
       "      <td>77004</td>\n",
       "      <td>Breast</td>\n",
       "    </tr>\n",
       "    <tr>\n",
       "      <th>...</th>\n",
       "      <td>...</td>\n",
       "      <td>...</td>\n",
       "      <td>...</td>\n",
       "    </tr>\n",
       "    <tr>\n",
       "      <th>4978</th>\n",
       "      <td>Schultz, Kenneth</td>\n",
       "      <td>80998</td>\n",
       "      <td>Colon</td>\n",
       "    </tr>\n",
       "    <tr>\n",
       "      <th>5035</th>\n",
       "      <td>Pino, Terracotta</td>\n",
       "      <td>81047</td>\n",
       "      <td>Breast</td>\n",
       "    </tr>\n",
       "    <tr>\n",
       "      <th>5054</th>\n",
       "      <td>Armstrong, Judith</td>\n",
       "      <td>80750</td>\n",
       "      <td>Breast</td>\n",
       "    </tr>\n",
       "    <tr>\n",
       "      <th>5056</th>\n",
       "      <td>Klade, Evelita</td>\n",
       "      <td>80844</td>\n",
       "      <td>Breast</td>\n",
       "    </tr>\n",
       "    <tr>\n",
       "      <th>5086</th>\n",
       "      <td>Newman, Miriam</td>\n",
       "      <td>81012</td>\n",
       "      <td>Colon</td>\n",
       "    </tr>\n",
       "    <tr>\n",
       "      <th>5096</th>\n",
       "      <td>Gardner, Carol</td>\n",
       "      <td>80985</td>\n",
       "      <td>Breast</td>\n",
       "    </tr>\n",
       "    <tr>\n",
       "      <th>5100</th>\n",
       "      <td>Humphrey, Hugh</td>\n",
       "      <td>64019</td>\n",
       "      <td>Pancreas</td>\n",
       "    </tr>\n",
       "    <tr>\n",
       "      <th>5105</th>\n",
       "      <td>Martinez, Arcy</td>\n",
       "      <td>81088</td>\n",
       "      <td>Rectal</td>\n",
       "    </tr>\n",
       "    <tr>\n",
       "      <th>5127</th>\n",
       "      <td>Reed, Rita</td>\n",
       "      <td>81113</td>\n",
       "      <td>Breast</td>\n",
       "    </tr>\n",
       "    <tr>\n",
       "      <th>5130</th>\n",
       "      <td>Day, Jane</td>\n",
       "      <td>81112</td>\n",
       "      <td>Breast</td>\n",
       "    </tr>\n",
       "    <tr>\n",
       "      <th>5157</th>\n",
       "      <td>Forman, Walter</td>\n",
       "      <td>81105</td>\n",
       "      <td>Breast</td>\n",
       "    </tr>\n",
       "    <tr>\n",
       "      <th>5170</th>\n",
       "      <td>Ryan, Mildred</td>\n",
       "      <td>80662</td>\n",
       "      <td>Breast</td>\n",
       "    </tr>\n",
       "    <tr>\n",
       "      <th>5173</th>\n",
       "      <td>Eddie, Isabelle</td>\n",
       "      <td>80663</td>\n",
       "      <td>Breast</td>\n",
       "    </tr>\n",
       "    <tr>\n",
       "      <th>5174</th>\n",
       "      <td>Roybal, Tracy</td>\n",
       "      <td>81106</td>\n",
       "      <td>Breast</td>\n",
       "    </tr>\n",
       "    <tr>\n",
       "      <th>5175</th>\n",
       "      <td>Rhodes, Sean</td>\n",
       "      <td>79916</td>\n",
       "      <td>Lymphoma</td>\n",
       "    </tr>\n",
       "    <tr>\n",
       "      <th>5177</th>\n",
       "      <td>Heinzman, Patricia</td>\n",
       "      <td>80852</td>\n",
       "      <td>Breast</td>\n",
       "    </tr>\n",
       "    <tr>\n",
       "      <th>5179</th>\n",
       "      <td>Garcia, Deborah</td>\n",
       "      <td>81122</td>\n",
       "      <td>Breast</td>\n",
       "    </tr>\n",
       "    <tr>\n",
       "      <th>5180</th>\n",
       "      <td>Parker, Carol</td>\n",
       "      <td>80228</td>\n",
       "      <td>Melanoma</td>\n",
       "    </tr>\n",
       "    <tr>\n",
       "      <th>5264</th>\n",
       "      <td>Heffner, Dennis</td>\n",
       "      <td>81006</td>\n",
       "      <td>Melanoma</td>\n",
       "    </tr>\n",
       "    <tr>\n",
       "      <th>5265</th>\n",
       "      <td>Bur, Stefanie</td>\n",
       "      <td>81131</td>\n",
       "      <td>Breast</td>\n",
       "    </tr>\n",
       "    <tr>\n",
       "      <th>5270</th>\n",
       "      <td>Finnell, Edy</td>\n",
       "      <td>80383</td>\n",
       "      <td>Melanoma</td>\n",
       "    </tr>\n",
       "    <tr>\n",
       "      <th>5296</th>\n",
       "      <td>Johnson, Virginia</td>\n",
       "      <td>76497</td>\n",
       "      <td>Breast</td>\n",
       "    </tr>\n",
       "    <tr>\n",
       "      <th>5308</th>\n",
       "      <td>Ortiz, Renee</td>\n",
       "      <td>81160</td>\n",
       "      <td>Breast</td>\n",
       "    </tr>\n",
       "    <tr>\n",
       "      <th>5311</th>\n",
       "      <td>Garlow, Dorthey</td>\n",
       "      <td>81117</td>\n",
       "      <td>Breast</td>\n",
       "    </tr>\n",
       "    <tr>\n",
       "      <th>5347</th>\n",
       "      <td>Runyon, Sharalon</td>\n",
       "      <td>32306</td>\n",
       "      <td>Breast</td>\n",
       "    </tr>\n",
       "    <tr>\n",
       "      <th>5357</th>\n",
       "      <td>Hart, Shelly</td>\n",
       "      <td>79511</td>\n",
       "      <td>Breast</td>\n",
       "    </tr>\n",
       "    <tr>\n",
       "      <th>5370</th>\n",
       "      <td>Steele, Donette</td>\n",
       "      <td>79722</td>\n",
       "      <td>Breast</td>\n",
       "    </tr>\n",
       "    <tr>\n",
       "      <th>5371</th>\n",
       "      <td>Harvey, Linda</td>\n",
       "      <td>79781</td>\n",
       "      <td>Breast</td>\n",
       "    </tr>\n",
       "    <tr>\n",
       "      <th>5407</th>\n",
       "      <td>Reedy, Raquel</td>\n",
       "      <td>79402</td>\n",
       "      <td>Breast</td>\n",
       "    </tr>\n",
       "    <tr>\n",
       "      <th>5418</th>\n",
       "      <td>Hughes, Marylee</td>\n",
       "      <td>80059</td>\n",
       "      <td>Breast</td>\n",
       "    </tr>\n",
       "  </tbody>\n",
       "</table>\n",
       "<p>422 rows × 3 columns</p>\n",
       "</div>"
      ],
      "text/plain": [
       "               Patient Name    MRN Cancer Type\n",
       "0         Taylor, Elizabeth  71587      Breast\n",
       "11     Bumgarner Kirby, Hue  25684      Breast\n",
       "20             Pena, Louise  75975      Breast\n",
       "29          Yazzie, Alfreda  76122      Breast\n",
       "41         Kahle, Christine  76141      Breast\n",
       "50            Davis, Sandra  76164      Breast\n",
       "61    Bhakta, Sarashvatiben  76239      Breast\n",
       "66                 Bhakta,   76239      Breast\n",
       "68            Sarashvatiben  76239      Breast\n",
       "72           Adams, Carolyn  76267      Breast\n",
       "81          Lingnau, Annalu  76273      Breast\n",
       "92          Hudelson, Karen  76298      Breast\n",
       "105          Werner, Regina  76325      Breast\n",
       "114       McBride, Courtney  76354      Breast\n",
       "123             Prins, Judy  76564      Breast\n",
       "135            Emerson, Mae  76485      Breast\n",
       "146         Carbajal, Rosie  76537      Breast\n",
       "155               Nez, Joan  76623      Breast\n",
       "164              Hill, Gaye  76692      Breast\n",
       "174           Martin, Royal  76149    Pancreas\n",
       "181         Lozano, Raymond  76296    Pancreas\n",
       "188        Saenz, Francisca  76423      Breast\n",
       "195          Duran, Theresa  76664      Breast\n",
       "199          Labelle, Susan  76668      Breast\n",
       "202          Chavez, Thelma  76699      Breast\n",
       "209          Conyers, Nancy  76750      Breast\n",
       "211        Bradbury, Sandra  76802      Breast\n",
       "215       Jaquez, Guadalupe  76607      Breast\n",
       "222        Wilkeson, Sheryl  76900      Breast\n",
       "229            James, Susan  77004      Breast\n",
       "...                     ...    ...         ...\n",
       "4978       Schultz, Kenneth  80998       Colon\n",
       "5035       Pino, Terracotta  81047      Breast\n",
       "5054      Armstrong, Judith  80750      Breast\n",
       "5056         Klade, Evelita  80844      Breast\n",
       "5086         Newman, Miriam  81012       Colon\n",
       "5096         Gardner, Carol  80985      Breast\n",
       "5100         Humphrey, Hugh  64019    Pancreas\n",
       "5105         Martinez, Arcy  81088      Rectal\n",
       "5127             Reed, Rita  81113      Breast\n",
       "5130              Day, Jane  81112      Breast\n",
       "5157         Forman, Walter  81105      Breast\n",
       "5170          Ryan, Mildred  80662      Breast\n",
       "5173        Eddie, Isabelle  80663      Breast\n",
       "5174          Roybal, Tracy  81106      Breast\n",
       "5175           Rhodes, Sean  79916    Lymphoma\n",
       "5177     Heinzman, Patricia  80852      Breast\n",
       "5179        Garcia, Deborah  81122      Breast\n",
       "5180          Parker, Carol  80228    Melanoma\n",
       "5264        Heffner, Dennis  81006    Melanoma\n",
       "5265          Bur, Stefanie  81131      Breast\n",
       "5270           Finnell, Edy  80383    Melanoma\n",
       "5296      Johnson, Virginia  76497      Breast\n",
       "5308           Ortiz, Renee  81160      Breast\n",
       "5311        Garlow, Dorthey  81117      Breast\n",
       "5347       Runyon, Sharalon  32306      Breast\n",
       "5357           Hart, Shelly  79511      Breast\n",
       "5370        Steele, Donette  79722      Breast\n",
       "5371          Harvey, Linda  79781      Breast\n",
       "5407          Reedy, Raquel  79402      Breast\n",
       "5418        Hughes, Marylee  80059      Breast\n",
       "\n",
       "[422 rows x 3 columns]"
      ]
     },
     "execution_count": 14,
     "metadata": {},
     "output_type": "execute_result"
    }
   ],
   "source": [
    "dftiny"
   ]
  },
  {
   "cell_type": "code",
   "execution_count": 15,
   "metadata": {
    "collapsed": false
   },
   "outputs": [
    {
     "data": {
      "text/plain": [
       "<matplotlib.axes._subplots.AxesSubplot at 0x8d6ecc0>"
      ]
     },
     "execution_count": 15,
     "metadata": {},
     "output_type": "execute_result"
    },
    {
     "data": {
      "image/png": "[encoded data removed]",
      "text/plain": [
       "<matplotlib.figure.Figure at 0x37a8198>"
      ]
     },
     "metadata": {},
     "output_type": "display_data"
    }
   ],
   "source": [
    "dftiny['Cancer Type'].value_counts().plot(kind='bar')"
   ]
  },
  {
   "cell_type": "markdown",
   "metadata": {},
   "source": [
    "| | Prior | Likelihood | | Posterior |\n",
    "|:------------:|:-------------------:|:------------------:|:--------------:|:-----------------------:|\n",
    "| | p(H) | p(D &#124; H) | p(H) p(D &#124; H) | p(H &#124; D) |\n",
    "|A| 1/3 | 1/2 | 1/6 | 1/3 | \n",
    "|B| 1/3 | 0 | 0 | 0 |\n",
    "|C| 1/3 | 1 | 1/3 | 2/3 | \n",
    "\n",
    "\n",
    "There are many variations of the Monty Hall problem. One of the strengths of the Bayesian approach is that it generalizes to handle these variations.\n",
    "\n",
    "\n"
   ]
  },
  {
   "cell_type": "markdown",
   "metadata": {},
   "source": [
    "## Chapter 2 Computational Statistics\n",
    "\n",
    "### Distributions\n",
    "\n"
   ]
  },
  {
   "cell_type": "code",
   "execution_count": 16,
   "metadata": {
    "collapsed": true
   },
   "outputs": [],
   "source": [
    "from thinkbayes import Pmf"
   ]
  },
  {
   "cell_type": "code",
   "execution_count": 17,
   "metadata": {
    "collapsed": true
   },
   "outputs": [],
   "source": [
    "pmf = Pmf()\n",
    "for x in [1,2,3,4,5,6]:\n",
    "    pmf.Set(x, 1/6.0)"
   ]
  },
  {
   "cell_type": "code",
   "execution_count": 18,
   "metadata": {
    "collapsed": false
   },
   "outputs": [
    {
     "name": "stdout",
     "output_type": "stream",
     "text": [
      "Help on Pmf in module thinkbayes object:\n",
      "\n",
      "class Pmf(_DictWrapper)\n",
      " |  Represents a probability mass function.\n",
      " |  \n",
      " |  Values can be any hashable type; probabilities are floating-point.\n",
      " |  Pmfs are not necessarily normalized.\n",
      " |  \n",
      " |  Method resolution order:\n",
      " |      Pmf\n",
      " |      _DictWrapper\n",
      " |      __builtin__.object\n",
      " |  \n",
      " |  Methods defined here:\n",
      " |  \n",
      " |  AddConstant(self, other)\n",
      " |      Computes the Pmf of the sum a constant and  values from self.\n",
      " |      \n",
      " |      other: a number\n",
      " |      \n",
      " |      returns: new Pmf\n",
      " |  \n",
      " |  AddPmf(self, other)\n",
      " |      Computes the Pmf of the sum of values drawn from self and other.\n",
      " |      \n",
      " |      other: another Pmf\n",
      " |      \n",
      " |      returns: new Pmf\n",
      " |  \n",
      " |  CredibleInterval(self, percentage=90)\n",
      " |      Computes the central credible interval.\n",
      " |      \n",
      " |      If percentage=90, computes the 90% CI.\n",
      " |      \n",
      " |      Args:\n",
      " |          percentage: float between 0 and 100\n",
      " |      \n",
      " |      Returns:\n",
      " |          sequence of two floats, low and high\n",
      " |  \n",
      " |  MakeCdf(self, name=None)\n",
      " |      Makes a Cdf.\n",
      " |  \n",
      " |  Max(self, k)\n",
      " |      Computes the CDF of the maximum of k selections from this dist.\n",
      " |      \n",
      " |      k: int\n",
      " |      \n",
      " |      returns: new Cdf\n",
      " |  \n",
      " |  MaximumLikelihood(self)\n",
      " |      Returns the value with the highest probability.\n",
      " |      \n",
      " |      Returns: float probability\n",
      " |  \n",
      " |  Mean(self)\n",
      " |      Computes the mean of a PMF.\n",
      " |      \n",
      " |      Returns:\n",
      " |          float mean\n",
      " |  \n",
      " |  Normalize(self, fraction=1.0)\n",
      " |      Normalizes this PMF so the sum of all probs is fraction.\n",
      " |      \n",
      " |      Args:\n",
      " |          fraction: what the total should be after normalization\n",
      " |      \n",
      " |      Returns: the total probability before normalizing\n",
      " |  \n",
      " |  Prob(self, x, default=0)\n",
      " |      Gets the probability associated with the value x.\n",
      " |      \n",
      " |      Args:\n",
      " |          x: number value\n",
      " |          default: value to return if the key is not there\n",
      " |      \n",
      " |      Returns:\n",
      " |          float probability\n",
      " |  \n",
      " |  ProbGreater(self, x)\n",
      " |      Probability that a sample from this Pmf exceeds x.\n",
      " |      \n",
      " |      x: number\n",
      " |      \n",
      " |      returns: float probability\n",
      " |  \n",
      " |  ProbLess(self, x)\n",
      " |      Probability that a sample from this Pmf is less than x.\n",
      " |      \n",
      " |      x: number\n",
      " |      \n",
      " |      returns: float probability\n",
      " |  \n",
      " |  Probs(self, xs)\n",
      " |      Gets probabilities for a sequence of values.\n",
      " |  \n",
      " |  Random(self)\n",
      " |      Chooses a random element from this PMF.\n",
      " |      \n",
      " |      Returns:\n",
      " |          float value from the Pmf\n",
      " |  \n",
      " |  Var(self, mu=None)\n",
      " |      Computes the variance of a PMF.\n",
      " |      \n",
      " |      Args:\n",
      " |          mu: the point around which the variance is computed;\n",
      " |              if omitted, computes the mean\n",
      " |      \n",
      " |      Returns:\n",
      " |          float variance\n",
      " |  \n",
      " |  __add__(self, other)\n",
      " |      Computes the Pmf of the sum of values drawn from self and other.\n",
      " |      \n",
      " |      other: another Pmf\n",
      " |      \n",
      " |      returns: new Pmf\n",
      " |  \n",
      " |  __eq__(self, obj)\n",
      " |      Equal to.\n",
      " |      \n",
      " |      obj: number or _DictWrapper\n",
      " |      \n",
      " |      returns: float probability\n",
      " |  \n",
      " |  __ge__(self, obj)\n",
      " |      Greater than or equal.\n",
      " |      \n",
      " |      obj: number or _DictWrapper\n",
      " |      \n",
      " |      returns: float probability\n",
      " |  \n",
      " |  __gt__(self, obj)\n",
      " |      Greater than.\n",
      " |      \n",
      " |      obj: number or _DictWrapper\n",
      " |      \n",
      " |      returns: float probability\n",
      " |  \n",
      " |  __le__(self, obj)\n",
      " |      Less than or equal.\n",
      " |      \n",
      " |      obj: number or _DictWrapper\n",
      " |      \n",
      " |      returns: float probability\n",
      " |  \n",
      " |  __lt__(self, obj)\n",
      " |      Less than.\n",
      " |      \n",
      " |      obj: number or _DictWrapper\n",
      " |      \n",
      " |      returns: float probability\n",
      " |  \n",
      " |  __ne__(self, obj)\n",
      " |      Not equal to.\n",
      " |      \n",
      " |      obj: number or _DictWrapper\n",
      " |      \n",
      " |      returns: float probability\n",
      " |  \n",
      " |  __sub__(self, other)\n",
      " |      Computes the Pmf of the diff of values drawn from self and other.\n",
      " |      \n",
      " |      other: another Pmf\n",
      " |      \n",
      " |      returns: new Pmf\n",
      " |  \n",
      " |  ----------------------------------------------------------------------\n",
      " |  Methods inherited from _DictWrapper:\n",
      " |  \n",
      " |  Copy(self, name=None)\n",
      " |      Returns a copy.\n",
      " |      \n",
      " |      Make a shallow copy of d.  If you want a deep copy of d,\n",
      " |      use copy.deepcopy on the whole object.\n",
      " |      \n",
      " |      Args:\n",
      " |          name: string name for the new Hist\n",
      " |  \n",
      " |  Exp(self, m=None)\n",
      " |      Exponentiates the probabilities.\n",
      " |      \n",
      " |      m: how much to shift the ps before exponentiating\n",
      " |      \n",
      " |      If m is None, normalizes so that the largest prob is 1.\n",
      " |  \n",
      " |  GetDict(self)\n",
      " |      Gets the dictionary.\n",
      " |  \n",
      " |  Incr(self, x, term=1)\n",
      " |      Increments the freq/prob associated with the value x.\n",
      " |      \n",
      " |      Args:\n",
      " |          x: number value\n",
      " |          term: how much to increment by\n",
      " |  \n",
      " |  InitFailure(self, values)\n",
      " |      Raises an error.\n",
      " |  \n",
      " |  InitMapping(self, values)\n",
      " |      Initializes with a map from value to probability.\n",
      " |      \n",
      " |      values: map from value to probability\n",
      " |  \n",
      " |  InitPmf(self, values)\n",
      " |      Initializes with a Pmf.\n",
      " |      \n",
      " |      values: Pmf object\n",
      " |  \n",
      " |  InitSequence(self, values)\n",
      " |      Initializes with a sequence of equally-likely values.\n",
      " |      \n",
      " |      values: sequence of values\n",
      " |  \n",
      " |  Items(self)\n",
      " |      Gets an unsorted sequence of (value, freq/prob) pairs.\n",
      " |  \n",
      " |  Log(self, m=None)\n",
      " |      Log transforms the probabilities.\n",
      " |      \n",
      " |      Removes values with probability 0.\n",
      " |      \n",
      " |      Normalizes so that the largest logprob is 0.\n",
      " |  \n",
      " |  MaxLike(self)\n",
      " |      Returns the largest frequency/probability in the map.\n",
      " |  \n",
      " |  Mult(self, x, factor)\n",
      " |      Scales the freq/prob associated with the value x.\n",
      " |      \n",
      " |      Args:\n",
      " |          x: number value\n",
      " |          factor: how much to multiply by\n",
      " |  \n",
      " |  Print(self)\n",
      " |      Prints the values and freqs/probs in ascending order.\n",
      " |  \n",
      " |  Remove(self, x)\n",
      " |      Removes a value.\n",
      " |      \n",
      " |      Throws an exception if the value is not there.\n",
      " |      \n",
      " |      Args:\n",
      " |          x: value to remove\n",
      " |  \n",
      " |  Render(self)\n",
      " |      Generates a sequence of points suitable for plotting.\n",
      " |      \n",
      " |      Returns:\n",
      " |          tuple of (sorted value sequence, freq/prob sequence)\n",
      " |  \n",
      " |  Scale(self, factor)\n",
      " |      Multiplies the values by a factor.\n",
      " |      \n",
      " |      factor: what to multiply by\n",
      " |      \n",
      " |      Returns: new object\n",
      " |  \n",
      " |  Set(self, x, y=0)\n",
      " |      Sets the freq/prob associated with the value x.\n",
      " |      \n",
      " |      Args:\n",
      " |          x: number value\n",
      " |          y: number freq or prob\n",
      " |  \n",
      " |  SetDict(self, d)\n",
      " |      Sets the dictionary.\n",
      " |  \n",
      " |  Total(self)\n",
      " |      Returns the total of the frequencies/probabilities in the map.\n",
      " |  \n",
      " |  Values(self)\n",
      " |      Gets an unsorted sequence of values.\n",
      " |      \n",
      " |      Note: one source of confusion is that the keys of this\n",
      " |      dictionary are the values of the Hist/Pmf, and the\n",
      " |      values of the dictionary are frequencies/probabilities.\n",
      " |  \n",
      " |  __contains__(self, value)\n",
      " |  \n",
      " |  __init__(self, values=None, name='')\n",
      " |      Initializes the distribution.\n",
      " |      \n",
      " |      hypos: sequence of hypotheses\n",
      " |  \n",
      " |  __iter__(self)\n",
      " |  \n",
      " |  __len__(self)\n",
      " |  \n",
      " |  iterkeys(self)\n",
      " |  \n",
      " |  ----------------------------------------------------------------------\n",
      " |  Data descriptors inherited from _DictWrapper:\n",
      " |  \n",
      " |  __dict__\n",
      " |      dictionary for instance variables (if defined)\n",
      " |  \n",
      " |  __weakref__\n",
      " |      list of weak references to the object (if defined)\n",
      "\n"
     ]
    }
   ],
   "source": [
    "help(pmf)"
   ]
  },
  {
   "cell_type": "markdown",
   "metadata": {},
   "source": [
    "### The cookie problem\n",
    "\n",
    "In the context of Bayes’s theorem, it is natural to use a Pmf to map from each hypothesis to its probability. In the cookie problem, the hypotheses are B1 and B2. In Python, I represent them with strings:"
   ]
  },
  {
   "cell_type": "code",
   "execution_count": 19,
   "metadata": {
    "collapsed": true
   },
   "outputs": [],
   "source": [
    "pmf = Pmf()\n",
    "pmf.Set('Bowl 1', 0.5)\n",
    "pmf.Set('Bowl 2', 0.5)"
   ]
  },
  {
   "cell_type": "markdown",
   "metadata": {},
   "source": [
    "To update the distribution based on new data (the vanilla cookie), we multiply each prior by the corresponding likelihood. The likelihood of drawing a vanilla cookie from Bowl 1 is 3/4. The likelihood for Bowl 2 is 1/2."
   ]
  },
  {
   "cell_type": "code",
   "execution_count": 20,
   "metadata": {
    "collapsed": true
   },
   "outputs": [],
   "source": [
    "pmf.Mult('Bowl 1', 0.75)\n",
    "pmf.Mult('Bowl 2', 0.5)"
   ]
  },
  {
   "cell_type": "code",
   "execution_count": 21,
   "metadata": {
    "collapsed": false
   },
   "outputs": [
    {
     "data": {
      "text/plain": [
       "0.625"
      ]
     },
     "execution_count": 21,
     "metadata": {},
     "output_type": "execute_result"
    }
   ],
   "source": [
    "pmf.Normalize()"
   ]
  },
  {
   "cell_type": "code",
   "execution_count": 22,
   "metadata": {
    "collapsed": false
   },
   "outputs": [
    {
     "name": "stdout",
     "output_type": "stream",
     "text": [
      "0.6\n"
     ]
    }
   ],
   "source": [
    "print pmf.Prob('Bowl 1')"
   ]
  },
  {
   "cell_type": "code",
   "execution_count": 23,
   "metadata": {
    "collapsed": false
   },
   "outputs": [
    {
     "name": "stdout",
     "output_type": "stream",
     "text": [
      "0.4\n"
     ]
    }
   ],
   "source": [
    "print pmf.Prob('Bowl 2')"
   ]
  },
  {
   "cell_type": "markdown",
   "metadata": {},
   "source": [
    "### The Bayesian framework\n",
    "\n"
   ]
  },
  {
   "cell_type": "code",
   "execution_count": 24,
   "metadata": {
    "collapsed": true
   },
   "outputs": [],
   "source": [
    "class Cookie(Pmf):\n",
    "\n",
    "    def __init__(self, hypos):\n",
    "        Pmf.__init__(self)\n",
    "        for hypo in hypos:\n",
    "            self.Set(hypo, 1)\n",
    "        self.Normalize()\n",
    "        \n",
    "    def Update(self, data):\n",
    "        for hypo in self.Values():\n",
    "            like = self.Likelihood(data, hypo)\n",
    "            self.Mult(hypo, like)\n",
    "        self.Normalize()   \n",
    "        \n",
    "    mixes = {\n",
    "        'Bowl 1':dict(vanilla=0.75, chocolate=0.25),\n",
    "        'Bowl 2':dict(vanilla=0.5, chocolate=0.5),\n",
    "        }\n",
    "\n",
    "    def Likelihood(self, data, hypo):\n",
    "        mix = self.mixes[hypo]\n",
    "        like = mix[data]\n",
    "        return like\n",
    "    "
   ]
  },
  {
   "cell_type": "code",
   "execution_count": 25,
   "metadata": {
    "collapsed": true
   },
   "outputs": [],
   "source": [
    "hypos = ['Bowl 1', 'Bowl 2']\n",
    "pmf = Cookie(hypos)"
   ]
  },
  {
   "cell_type": "code",
   "execution_count": 26,
   "metadata": {
    "collapsed": true
   },
   "outputs": [],
   "source": [
    "pmf.Update('vanilla')"
   ]
  },
  {
   "cell_type": "code",
   "execution_count": 27,
   "metadata": {
    "collapsed": false
   },
   "outputs": [
    {
     "name": "stdout",
     "output_type": "stream",
     "text": [
      "Bowl 2 0.4\n",
      "Bowl 1 0.6\n"
     ]
    }
   ],
   "source": [
    "for hypo, prob in pmf.Items():\n",
    "    print hypo, prob"
   ]
  },
  {
   "cell_type": "code",
   "execution_count": 28,
   "metadata": {
    "collapsed": true
   },
   "outputs": [],
   "source": [
    "dataset = ['vanilla', 'chocolate', 'vanilla']\n",
    "for data in dataset:\n",
    "    pmf.Update(data)"
   ]
  },
  {
   "cell_type": "code",
   "execution_count": 29,
   "metadata": {
    "collapsed": false
   },
   "outputs": [
    {
     "name": "stdout",
     "output_type": "stream",
     "text": [
      "Bowl 2 0.372093023256\n",
      "Bowl 1 0.627906976744\n"
     ]
    }
   ],
   "source": [
    "for hypo, prob in pmf.Items():\n",
    "    print hypo, prob"
   ]
  },
  {
   "cell_type": "code",
   "execution_count": 30,
   "metadata": {
    "collapsed": true
   },
   "outputs": [],
   "source": [
    "class Monty(Pmf):\n",
    "\n",
    "    def __init__(self, hypos):\n",
    "        Pmf.__init__(self)\n",
    "        for hypo in hypos:\n",
    "            self.Set(hypo, 1)\n",
    "        self.Normalize()\n",
    "        \n",
    "    def Update(self, data):\n",
    "        for hypo in self.Values():\n",
    "            like = self.Likelihood(data, hypo)\n",
    "            self.Mult(hypo, like)\n",
    "        self.Normalize()\n",
    "        \n",
    "    def Likelihood(self, data, hypo):\n",
    "        if hypo == data:\n",
    "            return 0\n",
    "        elif hypo == 'A':\n",
    "            return 0.5\n",
    "        else:\n",
    "            return 1\n",
    "        \n",
    "        \n",
    "        \n",
    "    "
   ]
  },
  {
   "cell_type": "code",
   "execution_count": 31,
   "metadata": {
    "collapsed": true
   },
   "outputs": [],
   "source": [
    "hypos = 'ABC'\n",
    "pmf = Monty(hypos)"
   ]
  },
  {
   "cell_type": "code",
   "execution_count": 32,
   "metadata": {
    "collapsed": true
   },
   "outputs": [],
   "source": [
    "data = 'B'\n",
    "pmf.Update(data)"
   ]
  },
  {
   "cell_type": "code",
   "execution_count": 33,
   "metadata": {
    "collapsed": false
   },
   "outputs": [
    {
     "name": "stdout",
     "output_type": "stream",
     "text": [
      "A 0.333333333333\n",
      "C 0.666666666667\n",
      "B 0.0\n"
     ]
    }
   ],
   "source": [
    "for hypo, prob in pmf.Items():\n",
    "    print hypo, prob"
   ]
  },
  {
   "cell_type": "markdown",
   "metadata": {},
   "source": [
    "The implementation of Suite is in thinkbayes.py. To use Suite, you should write a class that inherits from it and provides Likelihood. For example, here is the solution to the Monty Hall problem rewritten to use Suite:"
   ]
  },
  {
   "cell_type": "code",
   "execution_count": 34,
   "metadata": {
    "collapsed": true
   },
   "outputs": [],
   "source": [
    "from thinkbayes import Suite\n",
    "\n",
    "class Monty(Suite):\n",
    "    \n",
    "    def Likelihood(self, data, hypo):\n",
    "        if hypo == data:\n",
    "            return 0\n",
    "        elif hypo == 'A':\n",
    "            return 0.5\n",
    "        else:\n",
    "            return 1"
   ]
  },
  {
   "cell_type": "code",
   "execution_count": 35,
   "metadata": {
    "collapsed": true
   },
   "outputs": [],
   "source": [
    "suite = Monty('ABC')"
   ]
  },
  {
   "cell_type": "code",
   "execution_count": 36,
   "metadata": {
    "collapsed": false
   },
   "outputs": [
    {
     "data": {
      "text/plain": [
       "0.5"
      ]
     },
     "execution_count": 36,
     "metadata": {},
     "output_type": "execute_result"
    }
   ],
   "source": [
    "suite.Update('B')"
   ]
  },
  {
   "cell_type": "code",
   "execution_count": 37,
   "metadata": {
    "collapsed": false
   },
   "outputs": [
    {
     "name": "stdout",
     "output_type": "stream",
     "text": [
      "A 0.333333333333\n",
      "B 0.0\n",
      "C 0.666666666667\n"
     ]
    }
   ],
   "source": [
    "suite.Print()"
   ]
  },
  {
   "cell_type": "code",
   "execution_count": 38,
   "metadata": {
    "collapsed": true
   },
   "outputs": [],
   "source": [
    "mix94 = dict(brown=30,\n",
    "                 yellow=20,\n",
    "                 red=20,\n",
    "                 green=10,\n",
    "                 orange=10,\n",
    "                 tan=10)\n",
    "\n",
    "mix96 = dict(blue=24,\n",
    "                 green=20,\n",
    "                 orange=16,\n",
    "                 yellow=14,\n",
    "                 red=13,\n",
    "                 brown=13)\n",
    "\n",
    "hypoA = dict(bag1=mix94, bag2=mix96)\n",
    "hypoB = dict(bag1=mix96, bag2=mix94)\n"
   ]
  },
  {
   "cell_type": "code",
   "execution_count": 39,
   "metadata": {
    "collapsed": false
   },
   "outputs": [],
   "source": [
    "hypotheses = dict(A=hypoA,B=hypoB)"
   ]
  },
  {
   "cell_type": "code",
   "execution_count": 40,
   "metadata": {
    "collapsed": false
   },
   "outputs": [
    {
     "data": {
      "text/plain": [
       "{'A': {'bag1': {'brown': 30,\n",
       "   'green': 10,\n",
       "   'orange': 10,\n",
       "   'red': 20,\n",
       "   'tan': 10,\n",
       "   'yellow': 20},\n",
       "  'bag2': {'blue': 24,\n",
       "   'brown': 13,\n",
       "   'green': 20,\n",
       "   'orange': 16,\n",
       "   'red': 13,\n",
       "   'yellow': 14}},\n",
       " 'B': {'bag1': {'blue': 24,\n",
       "   'brown': 13,\n",
       "   'green': 20,\n",
       "   'orange': 16,\n",
       "   'red': 13,\n",
       "   'yellow': 14},\n",
       "  'bag2': {'brown': 30,\n",
       "   'green': 10,\n",
       "   'orange': 10,\n",
       "   'red': 20,\n",
       "   'tan': 10,\n",
       "   'yellow': 20}}}"
      ]
     },
     "execution_count": 40,
     "metadata": {},
     "output_type": "execute_result"
    }
   ],
   "source": [
    "hypotheses"
   ]
  },
  {
   "cell_type": "code",
   "execution_count": 41,
   "metadata": {
    "collapsed": true
   },
   "outputs": [],
   "source": [
    "from thinkbayes import Suite\n",
    "\n",
    "class M_and_M(Suite):\n",
    "    \n",
    "    \n",
    "    \n",
    "    def Likelihood(self, data, hypo):\n",
    "        bag, color = data\n",
    "        mix = self.hypotheses[hypo][bag]\n",
    "        like = mix[color]\n",
    "        return like\n",
    "\n",
    "    mix94 = dict(brown=30,\n",
    "                 yellow=20,\n",
    "                 red=20,\n",
    "                 green=10,\n",
    "                 orange=10,\n",
    "                 tan=10)\n",
    "\n",
    "    mix96 = dict(blue=24,\n",
    "                 green=20,\n",
    "                 orange=16,\n",
    "                 yellow=14,\n",
    "                 red=13,\n",
    "                 brown=13)\n",
    "\n",
    "    hypoA = dict(bag1=mix94, bag2=mix96)\n",
    "    hypoB = dict(bag1=mix96, bag2=mix94)\n",
    "    \n",
    "    hypotheses = dict(A=hypoA, B=hypoB)\n",
    "    \n",
    "    \n",
    "    "
   ]
  },
  {
   "cell_type": "code",
   "execution_count": 42,
   "metadata": {
    "collapsed": false
   },
   "outputs": [
    {
     "data": {
      "text/plain": [
       "{'A': {'bag1': {'brown': 30,\n",
       "   'green': 10,\n",
       "   'orange': 10,\n",
       "   'red': 20,\n",
       "   'tan': 10,\n",
       "   'yellow': 20},\n",
       "  'bag2': {'blue': 24,\n",
       "   'brown': 13,\n",
       "   'green': 20,\n",
       "   'orange': 16,\n",
       "   'red': 13,\n",
       "   'yellow': 14}},\n",
       " 'B': {'bag1': {'blue': 24,\n",
       "   'brown': 13,\n",
       "   'green': 20,\n",
       "   'orange': 16,\n",
       "   'red': 13,\n",
       "   'yellow': 14},\n",
       "  'bag2': {'brown': 30,\n",
       "   'green': 10,\n",
       "   'orange': 10,\n",
       "   'red': 20,\n",
       "   'tan': 10,\n",
       "   'yellow': 20}}}"
      ]
     },
     "execution_count": 42,
     "metadata": {},
     "output_type": "execute_result"
    }
   ],
   "source": [
    "hypotheses"
   ]
  },
  {
   "cell_type": "code",
   "execution_count": 43,
   "metadata": {
    "collapsed": true
   },
   "outputs": [],
   "source": [
    "suite = M_and_M('AB')"
   ]
  },
  {
   "cell_type": "code",
   "execution_count": 44,
   "metadata": {
    "collapsed": false
   },
   "outputs": [
    {
     "data": {
      "text/plain": [
       "15.882352941176471"
      ]
     },
     "execution_count": 44,
     "metadata": {},
     "output_type": "execute_result"
    }
   ],
   "source": [
    "suite.Update(('bag1','yellow'))\n",
    "suite.Update(('bag2','green'))"
   ]
  },
  {
   "cell_type": "code",
   "execution_count": 45,
   "metadata": {
    "collapsed": false
   },
   "outputs": [
    {
     "name": "stdout",
     "output_type": "stream",
     "text": [
      "A 0.740740740741\n",
      "B 0.259259259259\n"
     ]
    }
   ],
   "source": [
    "suite.Print()"
   ]
  },
  {
   "cell_type": "code",
   "execution_count": 46,
   "metadata": {
    "collapsed": false
   },
   "outputs": [
    {
     "data": {
      "text/plain": [
       "{'d': {'A': 0.7407407407407407, 'B': 0.2592592592592592},\n",
       " 'log': False,\n",
       " 'name': ''}"
      ]
     },
     "execution_count": 46,
     "metadata": {},
     "output_type": "execute_result"
    }
   ],
   "source": [
    "suite.__dict__"
   ]
  },
  {
   "cell_type": "code",
   "execution_count": 47,
   "metadata": {
    "collapsed": false
   },
   "outputs": [
    {
     "name": "stdout",
     "output_type": "stream",
     "text": [
      "Help on M_and_M in module __main__ object:\n",
      "\n",
      "class M_and_M(thinkbayes.Suite)\n",
      " |  Method resolution order:\n",
      " |      M_and_M\n",
      " |      thinkbayes.Suite\n",
      " |      thinkbayes.Pmf\n",
      " |      thinkbayes._DictWrapper\n",
      " |      __builtin__.object\n",
      " |  \n",
      " |  Methods defined here:\n",
      " |  \n",
      " |  Likelihood(self, data, hypo)\n",
      " |  \n",
      " |  ----------------------------------------------------------------------\n",
      " |  Data and other attributes defined here:\n",
      " |  \n",
      " |  hypoA = {'bag1': {'brown': 30, 'green': 10, 'orange': 10, 'red': 20, '...\n",
      " |  \n",
      " |  hypoB = {'bag1': {'blue': 24, 'brown': 13, 'green': 20, 'orange': 16, ...\n",
      " |  \n",
      " |  hypotheses = {'A': {'bag1': {'brown': 30, 'green': 10, 'orange': 10, '...\n",
      " |  \n",
      " |  mix94 = {'brown': 30, 'green': 10, 'orange': 10, 'red': 20, 'tan': 10,...\n",
      " |  \n",
      " |  mix96 = {'blue': 24, 'brown': 13, 'green': 20, 'orange': 16, 'red': 13...\n",
      " |  \n",
      " |  ----------------------------------------------------------------------\n",
      " |  Methods inherited from thinkbayes.Suite:\n",
      " |  \n",
      " |  LogLikelihood(self, data, hypo)\n",
      " |      Computes the log likelihood of the data under the hypothesis.\n",
      " |      \n",
      " |      hypo: some representation of the hypothesis\n",
      " |      data: some representation of the data\n",
      " |  \n",
      " |  LogUpdate(self, data)\n",
      " |      Updates a suite of hypotheses based on new data.\n",
      " |      \n",
      " |      Modifies the suite directly; if you want to keep the original, make\n",
      " |      a copy.\n",
      " |      \n",
      " |      Note: unlike Update, LogUpdate does not normalize.\n",
      " |      \n",
      " |      Args:\n",
      " |          data: any representation of the data\n",
      " |  \n",
      " |  LogUpdateSet(self, dataset)\n",
      " |      Updates each hypothesis based on the dataset.\n",
      " |      \n",
      " |      Modifies the suite directly; if you want to keep the original, make\n",
      " |      a copy.\n",
      " |      \n",
      " |      dataset: a sequence of data\n",
      " |      \n",
      " |      returns: None\n",
      " |  \n",
      " |  MakeOdds(self)\n",
      " |      Transforms from probabilities to odds.\n",
      " |      \n",
      " |      Values with prob=0 are removed.\n",
      " |  \n",
      " |  MakeProbs(self)\n",
      " |      Transforms from odds to probabilities.\n",
      " |  \n",
      " |  Print(self)\n",
      " |      Prints the hypotheses and their probabilities.\n",
      " |  \n",
      " |  Update(self, data)\n",
      " |      Updates each hypothesis based on the data.\n",
      " |      \n",
      " |      data: any representation of the data\n",
      " |      \n",
      " |      returns: the normalizing constant\n",
      " |  \n",
      " |  UpdateSet(self, dataset)\n",
      " |      Updates each hypothesis based on the dataset.\n",
      " |      \n",
      " |      This is more efficient than calling Update repeatedly because\n",
      " |      it waits until the end to Normalize.\n",
      " |      \n",
      " |      Modifies the suite directly; if you want to keep the original, make\n",
      " |      a copy.\n",
      " |      \n",
      " |      dataset: a sequence of data\n",
      " |      \n",
      " |      returns: the normalizing constant\n",
      " |  \n",
      " |  ----------------------------------------------------------------------\n",
      " |  Methods inherited from thinkbayes.Pmf:\n",
      " |  \n",
      " |  AddConstant(self, other)\n",
      " |      Computes the Pmf of the sum a constant and  values from self.\n",
      " |      \n",
      " |      other: a number\n",
      " |      \n",
      " |      returns: new Pmf\n",
      " |  \n",
      " |  AddPmf(self, other)\n",
      " |      Computes the Pmf of the sum of values drawn from self and other.\n",
      " |      \n",
      " |      other: another Pmf\n",
      " |      \n",
      " |      returns: new Pmf\n",
      " |  \n",
      " |  CredibleInterval(self, percentage=90)\n",
      " |      Computes the central credible interval.\n",
      " |      \n",
      " |      If percentage=90, computes the 90% CI.\n",
      " |      \n",
      " |      Args:\n",
      " |          percentage: float between 0 and 100\n",
      " |      \n",
      " |      Returns:\n",
      " |          sequence of two floats, low and high\n",
      " |  \n",
      " |  MakeCdf(self, name=None)\n",
      " |      Makes a Cdf.\n",
      " |  \n",
      " |  Max(self, k)\n",
      " |      Computes the CDF of the maximum of k selections from this dist.\n",
      " |      \n",
      " |      k: int\n",
      " |      \n",
      " |      returns: new Cdf\n",
      " |  \n",
      " |  MaximumLikelihood(self)\n",
      " |      Returns the value with the highest probability.\n",
      " |      \n",
      " |      Returns: float probability\n",
      " |  \n",
      " |  Mean(self)\n",
      " |      Computes the mean of a PMF.\n",
      " |      \n",
      " |      Returns:\n",
      " |          float mean\n",
      " |  \n",
      " |  Normalize(self, fraction=1.0)\n",
      " |      Normalizes this PMF so the sum of all probs is fraction.\n",
      " |      \n",
      " |      Args:\n",
      " |          fraction: what the total should be after normalization\n",
      " |      \n",
      " |      Returns: the total probability before normalizing\n",
      " |  \n",
      " |  Prob(self, x, default=0)\n",
      " |      Gets the probability associated with the value x.\n",
      " |      \n",
      " |      Args:\n",
      " |          x: number value\n",
      " |          default: value to return if the key is not there\n",
      " |      \n",
      " |      Returns:\n",
      " |          float probability\n",
      " |  \n",
      " |  ProbGreater(self, x)\n",
      " |      Probability that a sample from this Pmf exceeds x.\n",
      " |      \n",
      " |      x: number\n",
      " |      \n",
      " |      returns: float probability\n",
      " |  \n",
      " |  ProbLess(self, x)\n",
      " |      Probability that a sample from this Pmf is less than x.\n",
      " |      \n",
      " |      x: number\n",
      " |      \n",
      " |      returns: float probability\n",
      " |  \n",
      " |  Probs(self, xs)\n",
      " |      Gets probabilities for a sequence of values.\n",
      " |  \n",
      " |  Random(self)\n",
      " |      Chooses a random element from this PMF.\n",
      " |      \n",
      " |      Returns:\n",
      " |          float value from the Pmf\n",
      " |  \n",
      " |  Var(self, mu=None)\n",
      " |      Computes the variance of a PMF.\n",
      " |      \n",
      " |      Args:\n",
      " |          mu: the point around which the variance is computed;\n",
      " |              if omitted, computes the mean\n",
      " |      \n",
      " |      Returns:\n",
      " |          float variance\n",
      " |  \n",
      " |  __add__(self, other)\n",
      " |      Computes the Pmf of the sum of values drawn from self and other.\n",
      " |      \n",
      " |      other: another Pmf\n",
      " |      \n",
      " |      returns: new Pmf\n",
      " |  \n",
      " |  __eq__(self, obj)\n",
      " |      Equal to.\n",
      " |      \n",
      " |      obj: number or _DictWrapper\n",
      " |      \n",
      " |      returns: float probability\n",
      " |  \n",
      " |  __ge__(self, obj)\n",
      " |      Greater than or equal.\n",
      " |      \n",
      " |      obj: number or _DictWrapper\n",
      " |      \n",
      " |      returns: float probability\n",
      " |  \n",
      " |  __gt__(self, obj)\n",
      " |      Greater than.\n",
      " |      \n",
      " |      obj: number or _DictWrapper\n",
      " |      \n",
      " |      returns: float probability\n",
      " |  \n",
      " |  __le__(self, obj)\n",
      " |      Less than or equal.\n",
      " |      \n",
      " |      obj: number or _DictWrapper\n",
      " |      \n",
      " |      returns: float probability\n",
      " |  \n",
      " |  __lt__(self, obj)\n",
      " |      Less than.\n",
      " |      \n",
      " |      obj: number or _DictWrapper\n",
      " |      \n",
      " |      returns: float probability\n",
      " |  \n",
      " |  __ne__(self, obj)\n",
      " |      Not equal to.\n",
      " |      \n",
      " |      obj: number or _DictWrapper\n",
      " |      \n",
      " |      returns: float probability\n",
      " |  \n",
      " |  __sub__(self, other)\n",
      " |      Computes the Pmf of the diff of values drawn from self and other.\n",
      " |      \n",
      " |      other: another Pmf\n",
      " |      \n",
      " |      returns: new Pmf\n",
      " |  \n",
      " |  ----------------------------------------------------------------------\n",
      " |  Methods inherited from thinkbayes._DictWrapper:\n",
      " |  \n",
      " |  Copy(self, name=None)\n",
      " |      Returns a copy.\n",
      " |      \n",
      " |      Make a shallow copy of d.  If you want a deep copy of d,\n",
      " |      use copy.deepcopy on the whole object.\n",
      " |      \n",
      " |      Args:\n",
      " |          name: string name for the new Hist\n",
      " |  \n",
      " |  Exp(self, m=None)\n",
      " |      Exponentiates the probabilities.\n",
      " |      \n",
      " |      m: how much to shift the ps before exponentiating\n",
      " |      \n",
      " |      If m is None, normalizes so that the largest prob is 1.\n",
      " |  \n",
      " |  GetDict(self)\n",
      " |      Gets the dictionary.\n",
      " |  \n",
      " |  Incr(self, x, term=1)\n",
      " |      Increments the freq/prob associated with the value x.\n",
      " |      \n",
      " |      Args:\n",
      " |          x: number value\n",
      " |          term: how much to increment by\n",
      " |  \n",
      " |  InitFailure(self, values)\n",
      " |      Raises an error.\n",
      " |  \n",
      " |  InitMapping(self, values)\n",
      " |      Initializes with a map from value to probability.\n",
      " |      \n",
      " |      values: map from value to probability\n",
      " |  \n",
      " |  InitPmf(self, values)\n",
      " |      Initializes with a Pmf.\n",
      " |      \n",
      " |      values: Pmf object\n",
      " |  \n",
      " |  InitSequence(self, values)\n",
      " |      Initializes with a sequence of equally-likely values.\n",
      " |      \n",
      " |      values: sequence of values\n",
      " |  \n",
      " |  Items(self)\n",
      " |      Gets an unsorted sequence of (value, freq/prob) pairs.\n",
      " |  \n",
      " |  Log(self, m=None)\n",
      " |      Log transforms the probabilities.\n",
      " |      \n",
      " |      Removes values with probability 0.\n",
      " |      \n",
      " |      Normalizes so that the largest logprob is 0.\n",
      " |  \n",
      " |  MaxLike(self)\n",
      " |      Returns the largest frequency/probability in the map.\n",
      " |  \n",
      " |  Mult(self, x, factor)\n",
      " |      Scales the freq/prob associated with the value x.\n",
      " |      \n",
      " |      Args:\n",
      " |          x: number value\n",
      " |          factor: how much to multiply by\n",
      " |  \n",
      " |  Remove(self, x)\n",
      " |      Removes a value.\n",
      " |      \n",
      " |      Throws an exception if the value is not there.\n",
      " |      \n",
      " |      Args:\n",
      " |          x: value to remove\n",
      " |  \n",
      " |  Render(self)\n",
      " |      Generates a sequence of points suitable for plotting.\n",
      " |      \n",
      " |      Returns:\n",
      " |          tuple of (sorted value sequence, freq/prob sequence)\n",
      " |  \n",
      " |  Scale(self, factor)\n",
      " |      Multiplies the values by a factor.\n",
      " |      \n",
      " |      factor: what to multiply by\n",
      " |      \n",
      " |      Returns: new object\n",
      " |  \n",
      " |  Set(self, x, y=0)\n",
      " |      Sets the freq/prob associated with the value x.\n",
      " |      \n",
      " |      Args:\n",
      " |          x: number value\n",
      " |          y: number freq or prob\n",
      " |  \n",
      " |  SetDict(self, d)\n",
      " |      Sets the dictionary.\n",
      " |  \n",
      " |  Total(self)\n",
      " |      Returns the total of the frequencies/probabilities in the map.\n",
      " |  \n",
      " |  Values(self)\n",
      " |      Gets an unsorted sequence of values.\n",
      " |      \n",
      " |      Note: one source of confusion is that the keys of this\n",
      " |      dictionary are the values of the Hist/Pmf, and the\n",
      " |      values of the dictionary are frequencies/probabilities.\n",
      " |  \n",
      " |  __contains__(self, value)\n",
      " |  \n",
      " |  __init__(self, values=None, name='')\n",
      " |      Initializes the distribution.\n",
      " |      \n",
      " |      hypos: sequence of hypotheses\n",
      " |  \n",
      " |  __iter__(self)\n",
      " |  \n",
      " |  __len__(self)\n",
      " |  \n",
      " |  iterkeys(self)\n",
      " |  \n",
      " |  ----------------------------------------------------------------------\n",
      " |  Data descriptors inherited from thinkbayes._DictWrapper:\n",
      " |  \n",
      " |  __dict__\n",
      " |      dictionary for instance variables (if defined)\n",
      " |  \n",
      " |  __weakref__\n",
      " |      list of weak references to the object (if defined)\n",
      "\n"
     ]
    }
   ],
   "source": [
    "help(suite)"
   ]
  },
  {
   "cell_type": "code",
   "execution_count": 48,
   "metadata": {
    "collapsed": false
   },
   "outputs": [
    {
     "data": {
      "text/plain": [
       "{'bag1': {'brown': 30,\n",
       "  'green': 10,\n",
       "  'orange': 10,\n",
       "  'red': 20,\n",
       "  'tan': 10,\n",
       "  'yellow': 20},\n",
       " 'bag2': {'blue': 24,\n",
       "  'brown': 13,\n",
       "  'green': 20,\n",
       "  'orange': 16,\n",
       "  'red': 13,\n",
       "  'yellow': 14}}"
      ]
     },
     "execution_count": 48,
     "metadata": {},
     "output_type": "execute_result"
    }
   ],
   "source": [
    "suite.hypoA"
   ]
  },
  {
   "cell_type": "markdown",
   "metadata": {},
   "source": [
    "### 2.8 Exercises\n",
    "\n",
    "#### Exercise 1\n",
    "In Section 2.3 I said that the solution to the cookie problem generalizes to the case where we draw multiple cookies with replacement. But in the more likely scenario where we eat the cookies we draw, the likelihood of each draw depends on the previous draws. \n",
    "Modify the solution in this chapter to handle selection without replacement. Hint: add instance variables to ```Cookie``` to represent the hypothetical state of the bowls, and modify ```Likelihood``` accordingly. You might want to define a ```Bowl``` object."
   ]
  },
  {
   "cell_type": "code",
   "execution_count": 49,
   "metadata": {
    "collapsed": true
   },
   "outputs": [],
   "source": [
    "from thinkbayes import Suite\n",
    "\n",
    "class CookieMonster(Suite):\n",
    "    \n",
    "    bowl1 = dict(vanilla=30,chocolate=10)\n",
    "    bowl2 = dict(vanilla=20,chocolate=20)\n",
    "    \n",
    "    \n",
    "    bowl1total = sum(bowl1.values())\n",
    "    bowl2total = sum(bowl2.values())\n",
    "    \n",
    "    \n",
    "    vb1 = bowl1['vanilla']/bowl1total\n",
    "    cb1 = bowl1['chocolate']/bowl1total\n",
    "    \n",
    "    vb2 = bowl2['vanilla']/bowl2total\n",
    "    cb2 = bowl2['chocolate']/bowl2total\n",
    "    \n",
    "    \n",
    "    \n",
    "    mixes = {\n",
    "        'Bowl 1':dict(vanilla=0.75, chocolate=0.25),\n",
    "        'Bowl 2':dict(vanilla=0.5, chocolate=0.5),\n",
    "        }\n",
    "    \n",
    "    \n",
    "    def Likelihood(self, data, hypo):\n",
    "        mix = self.mixes[hypo]\n",
    "        like = mix[data]\n",
    "        return like"
   ]
  },
  {
   "cell_type": "code",
   "execution_count": 50,
   "metadata": {
    "collapsed": false
   },
   "outputs": [],
   "source": [
    "bowl1 = dict(vanilla=30.,chocolate=10.)"
   ]
  },
  {
   "cell_type": "code",
   "execution_count": 51,
   "metadata": {
    "collapsed": false
   },
   "outputs": [
    {
     "data": {
      "text/plain": [
       "0.75"
      ]
     },
     "execution_count": 51,
     "metadata": {},
     "output_type": "execute_result"
    }
   ],
   "source": [
    "bowl1['vanilla']/sum(bowl1.values())"
   ]
  },
  {
   "cell_type": "markdown",
   "metadata": {},
   "source": []
  },
  {
   "cell_type": "code",
   "execution_count": 52,
   "metadata": {
    "collapsed": false
   },
   "outputs": [
    {
     "data": {
      "text/plain": [
       "0.3333333333333333"
      ]
     },
     "execution_count": 52,
     "metadata": {},
     "output_type": "execute_result"
    }
   ],
   "source": [
    "bowl1['chocolate']/bowl1['vanilla']"
   ]
  },
  {
   "cell_type": "code",
   "execution_count": 53,
   "metadata": {
    "collapsed": false
   },
   "outputs": [
    {
     "data": {
      "text/plain": [
       "{'chocolate': 10.0, 'vanilla': 30.0}"
      ]
     },
     "execution_count": 53,
     "metadata": {},
     "output_type": "execute_result"
    }
   ],
   "source": [
    "bowl1"
   ]
  },
  {
   "cell_type": "code",
   "execution_count": 54,
   "metadata": {
    "collapsed": false
   },
   "outputs": [
    {
     "data": {
      "text/plain": [
       "40.0"
      ]
     },
     "execution_count": 54,
     "metadata": {},
     "output_type": "execute_result"
    }
   ],
   "source": [
    "sum(bowl1.values())"
   ]
  },
  {
   "cell_type": "markdown",
   "metadata": {},
   "source": [
    "## Need to review classes, etc.\n",
    "\n",
    "## Chapter 15 Classes and objects\n",
    "\n",
    "\n",
    "A user-defined type is also called a **class**."
   ]
  },
  {
   "cell_type": "code",
   "execution_count": 55,
   "metadata": {
    "collapsed": false
   },
   "outputs": [],
   "source": [
    "class Point(object):\n",
    "    \"\"\"Represents a point in 2-D space.\"\"\"\n",
    "    \n",
    "    def __init__(self, x=0, y=0):\n",
    "        self.x = x\n",
    "        self.y = y"
   ]
  },
  {
   "cell_type": "code",
   "execution_count": 56,
   "metadata": {
    "collapsed": false
   },
   "outputs": [
    {
     "name": "stdout",
     "output_type": "stream",
     "text": [
      "<class '__main__.Point'>\n"
     ]
    }
   ],
   "source": [
    "print Point\n"
   ]
  },
  {
   "cell_type": "code",
   "execution_count": 57,
   "metadata": {
    "collapsed": true
   },
   "outputs": [],
   "source": [
    "blank = Point()"
   ]
  },
  {
   "cell_type": "code",
   "execution_count": 58,
   "metadata": {
    "collapsed": false
   },
   "outputs": [
    {
     "name": "stdout",
     "output_type": "stream",
     "text": [
      "<__main__.Point object at 0x000000000AB59A90>\n"
     ]
    }
   ],
   "source": [
    "print blank"
   ]
  },
  {
   "cell_type": "code",
   "execution_count": 59,
   "metadata": {
    "collapsed": true
   },
   "outputs": [],
   "source": [
    "blank.x = 3.0\n",
    "blank.y = 4.0"
   ]
  },
  {
   "cell_type": "code",
   "execution_count": 60,
   "metadata": {
    "collapsed": false
   },
   "outputs": [
    {
     "name": "stdout",
     "output_type": "stream",
     "text": [
      "4.0\n"
     ]
    }
   ],
   "source": [
    "print blank.y"
   ]
  },
  {
   "cell_type": "code",
   "execution_count": 61,
   "metadata": {
    "collapsed": false
   },
   "outputs": [
    {
     "name": "stdout",
     "output_type": "stream",
     "text": [
      "3.0\n"
     ]
    }
   ],
   "source": [
    "x = blank.x\n",
    "print x"
   ]
  },
  {
   "cell_type": "code",
   "execution_count": 62,
   "metadata": {
    "collapsed": false
   },
   "outputs": [
    {
     "name": "stdout",
     "output_type": "stream",
     "text": [
      "(3, 4)\n"
     ]
    }
   ],
   "source": [
    "print '(%g, %g)' % (blank.x, blank.y)"
   ]
  },
  {
   "cell_type": "code",
   "execution_count": 63,
   "metadata": {
    "collapsed": false
   },
   "outputs": [
    {
     "name": "stdout",
     "output_type": "stream",
     "text": [
      "5.0\n"
     ]
    }
   ],
   "source": [
    "import math\n",
    "distance = math.sqrt(blank.x**2 + blank.y**2)\n",
    "print distance"
   ]
  },
  {
   "cell_type": "code",
   "execution_count": 64,
   "metadata": {
    "collapsed": true
   },
   "outputs": [],
   "source": [
    "def print_point(p):\n",
    "    print '(%g, %g)' % (p.x, p.y)"
   ]
  },
  {
   "cell_type": "code",
   "execution_count": 65,
   "metadata": {
    "collapsed": false
   },
   "outputs": [
    {
     "name": "stdout",
     "output_type": "stream",
     "text": [
      "(3, 4)\n"
     ]
    }
   ],
   "source": [
    "print_point(blank)"
   ]
  },
  {
   "cell_type": "code",
   "execution_count": 66,
   "metadata": {
    "collapsed": true
   },
   "outputs": [],
   "source": [
    "def distance_between_points(p,q):\n",
    "    \"\"\"takes two Points p and q and returns the \n",
    "    distance between them.\"\"\"\n",
    "    dx = p.x - q.x\n",
    "    dy = p.y - q.y\n",
    "    distance = math.sqrt(dx**2 + dy**2)\n",
    "    return distance"
   ]
  },
  {
   "cell_type": "code",
   "execution_count": 67,
   "metadata": {
    "collapsed": true
   },
   "outputs": [],
   "source": [
    "class Rectangle(object):\n",
    "    \"\"\"Represents a rectangle.\n",
    "    \n",
    "    attributes: width, height, corner.\"\"\""
   ]
  },
  {
   "cell_type": "code",
   "execution_count": 68,
   "metadata": {
    "collapsed": true
   },
   "outputs": [],
   "source": [
    "box = Rectangle()\n",
    "box.width = 100.0\n",
    "box.height = 200.0\n",
    "box.corner = Point()\n",
    "box.corner.x = 0.0\n",
    "box.corner.y = 0.0"
   ]
  },
  {
   "cell_type": "code",
   "execution_count": 69,
   "metadata": {
    "collapsed": false
   },
   "outputs": [],
   "source": [
    "def find_center(rect):\n",
    "    p = Point()\n",
    "    p.x = rect.corner.x + rect.width/2.0\n",
    "    p.y = rect.corner.y + rect.height/2.0\n",
    "    return p"
   ]
  },
  {
   "cell_type": "code",
   "execution_count": 70,
   "metadata": {
    "collapsed": true
   },
   "outputs": [],
   "source": [
    "center = find_center(box)"
   ]
  },
  {
   "cell_type": "code",
   "execution_count": 71,
   "metadata": {
    "collapsed": false
   },
   "outputs": [
    {
     "name": "stdout",
     "output_type": "stream",
     "text": [
      "(50, 100)\n"
     ]
    }
   ],
   "source": [
    "print_point(center)"
   ]
  },
  {
   "cell_type": "markdown",
   "metadata": {},
   "source": [
    "### Objects are mutable\n",
    "\n",
    "You can change the state of an object by making an assignment to one of its attributes.\n",
    "For example, to change the size of a rectangle without changing its position, you can \n",
    "modify its values of ```width``` and ```height```."
   ]
  },
  {
   "cell_type": "code",
   "execution_count": 72,
   "metadata": {
    "collapsed": true
   },
   "outputs": [],
   "source": [
    "box.width += 50\n",
    "box.height += 100"
   ]
  },
  {
   "cell_type": "code",
   "execution_count": 73,
   "metadata": {
    "collapsed": true
   },
   "outputs": [],
   "source": [
    "def grow_rectangle(rect, dwidth, dheight):\n",
    "    rect.width += dwidth\n",
    "    rect.height += dheight"
   ]
  },
  {
   "cell_type": "code",
   "execution_count": 74,
   "metadata": {
    "collapsed": false
   },
   "outputs": [
    {
     "name": "stdout",
     "output_type": "stream",
     "text": [
      "150.0\n"
     ]
    }
   ],
   "source": [
    "print box.width"
   ]
  },
  {
   "cell_type": "code",
   "execution_count": 75,
   "metadata": {
    "collapsed": false
   },
   "outputs": [
    {
     "name": "stdout",
     "output_type": "stream",
     "text": [
      "300.0\n"
     ]
    }
   ],
   "source": [
    "print box.height"
   ]
  },
  {
   "cell_type": "code",
   "execution_count": 76,
   "metadata": {
    "collapsed": true
   },
   "outputs": [],
   "source": [
    "grow_rectangle(box, 50, 100)"
   ]
  },
  {
   "cell_type": "code",
   "execution_count": 77,
   "metadata": {
    "collapsed": false
   },
   "outputs": [
    {
     "name": "stdout",
     "output_type": "stream",
     "text": [
      "200.0\n"
     ]
    }
   ],
   "source": [
    "print box.width"
   ]
  },
  {
   "cell_type": "code",
   "execution_count": 78,
   "metadata": {
    "collapsed": false
   },
   "outputs": [
    {
     "name": "stdout",
     "output_type": "stream",
     "text": [
      "400.0\n"
     ]
    }
   ],
   "source": [
    "print box.height"
   ]
  },
  {
   "cell_type": "code",
   "execution_count": 79,
   "metadata": {
    "collapsed": true
   },
   "outputs": [],
   "source": [
    "def move_rectangle(rect, dx, dy):\n",
    "    rect.corner.x += dx\n",
    "    rect.corner.y += dy"
   ]
  },
  {
   "cell_type": "code",
   "execution_count": 80,
   "metadata": {
    "collapsed": false
   },
   "outputs": [
    {
     "name": "stdout",
     "output_type": "stream",
     "text": [
      "0.0\n"
     ]
    }
   ],
   "source": [
    "print box.corner.x"
   ]
  },
  {
   "cell_type": "code",
   "execution_count": 81,
   "metadata": {
    "collapsed": false
   },
   "outputs": [
    {
     "name": "stdout",
     "output_type": "stream",
     "text": [
      "0.0\n"
     ]
    }
   ],
   "source": [
    "print box.corner.y"
   ]
  },
  {
   "cell_type": "code",
   "execution_count": 82,
   "metadata": {
    "collapsed": false
   },
   "outputs": [],
   "source": [
    "move_rectangle(box, 10, 10)"
   ]
  },
  {
   "cell_type": "code",
   "execution_count": 83,
   "metadata": {
    "collapsed": false
   },
   "outputs": [
    {
     "name": "stdout",
     "output_type": "stream",
     "text": [
      "10.0\n"
     ]
    }
   ],
   "source": [
    "print box.corner.x"
   ]
  },
  {
   "cell_type": "code",
   "execution_count": 84,
   "metadata": {
    "collapsed": false
   },
   "outputs": [
    {
     "name": "stdout",
     "output_type": "stream",
     "text": [
      "10.0\n"
     ]
    }
   ],
   "source": [
    "print box.corner.y"
   ]
  },
  {
   "cell_type": "code",
   "execution_count": 85,
   "metadata": {
    "collapsed": true
   },
   "outputs": [],
   "source": [
    "p1 = Point()\n",
    "p1.x = 3.0\n",
    "p1.y = 4.0"
   ]
  },
  {
   "cell_type": "code",
   "execution_count": 86,
   "metadata": {
    "collapsed": true
   },
   "outputs": [],
   "source": [
    "import copy\n",
    "p2 = copy.copy(p1)"
   ]
  },
  {
   "cell_type": "code",
   "execution_count": 87,
   "metadata": {
    "collapsed": false
   },
   "outputs": [
    {
     "name": "stdout",
     "output_type": "stream",
     "text": [
      "(3, 4)\n"
     ]
    }
   ],
   "source": [
    "print_point(p1)"
   ]
  },
  {
   "cell_type": "code",
   "execution_count": 88,
   "metadata": {
    "collapsed": false
   },
   "outputs": [
    {
     "name": "stdout",
     "output_type": "stream",
     "text": [
      "(3, 4)\n"
     ]
    }
   ],
   "source": [
    "print_point(p2)"
   ]
  },
  {
   "cell_type": "code",
   "execution_count": 89,
   "metadata": {
    "collapsed": false
   },
   "outputs": [
    {
     "data": {
      "text/plain": [
       "False"
      ]
     },
     "execution_count": 89,
     "metadata": {},
     "output_type": "execute_result"
    }
   ],
   "source": [
    "p1 is p2"
   ]
  },
  {
   "cell_type": "code",
   "execution_count": 90,
   "metadata": {
    "collapsed": false
   },
   "outputs": [
    {
     "data": {
      "text/plain": [
       "False"
      ]
     },
     "execution_count": 90,
     "metadata": {},
     "output_type": "execute_result"
    }
   ],
   "source": [
    "p1 == p2"
   ]
  },
  {
   "cell_type": "markdown",
   "metadata": {},
   "source": [
    "The is operator indicates that p1 and p2 are not the same object, which is what we expected. But you might have expected == to yield True because these points contain the same data. In that case, you will be disappointed to learn that for instances, the default behavior of the == operator is the same as the is operator; it checks object identity, not object equivalence. This behavior can be changed—we’ll see how later."
   ]
  },
  {
   "cell_type": "code",
   "execution_count": 91,
   "metadata": {
    "collapsed": true
   },
   "outputs": [],
   "source": [
    "box2 = copy.copy(box)"
   ]
  },
  {
   "cell_type": "code",
   "execution_count": 92,
   "metadata": {
    "collapsed": false
   },
   "outputs": [
    {
     "data": {
      "text/plain": [
       "False"
      ]
     },
     "execution_count": 92,
     "metadata": {},
     "output_type": "execute_result"
    }
   ],
   "source": [
    "box2 is box"
   ]
  },
  {
   "cell_type": "code",
   "execution_count": 93,
   "metadata": {
    "collapsed": false
   },
   "outputs": [
    {
     "data": {
      "text/plain": [
       "True"
      ]
     },
     "execution_count": 93,
     "metadata": {},
     "output_type": "execute_result"
    }
   ],
   "source": [
    "box2.corner is box.corner"
   ]
  },
  {
   "cell_type": "code",
   "execution_count": 94,
   "metadata": {
    "collapsed": true
   },
   "outputs": [],
   "source": [
    "box3 = copy.deepcopy(box)"
   ]
  },
  {
   "cell_type": "code",
   "execution_count": 95,
   "metadata": {
    "collapsed": false
   },
   "outputs": [
    {
     "data": {
      "text/plain": [
       "False"
      ]
     },
     "execution_count": 95,
     "metadata": {},
     "output_type": "execute_result"
    }
   ],
   "source": [
    "box3 is box"
   ]
  },
  {
   "cell_type": "code",
   "execution_count": 96,
   "metadata": {
    "collapsed": false
   },
   "outputs": [
    {
     "data": {
      "text/plain": [
       "False"
      ]
     },
     "execution_count": 96,
     "metadata": {},
     "output_type": "execute_result"
    }
   ],
   "source": [
    "box3.corner is box.corner"
   ]
  },
  {
   "cell_type": "code",
   "execution_count": 97,
   "metadata": {
    "collapsed": true
   },
   "outputs": [],
   "source": [
    "def move_rectangle(rect, dx, dy):\n",
    "    import copy\n",
    "    duh = copy.deepcopy(rect)\n",
    "    duh.corner.x += dx\n",
    "    duh.corner.y += dy"
   ]
  },
  {
   "cell_type": "code",
   "execution_count": 98,
   "metadata": {
    "collapsed": true
   },
   "outputs": [],
   "source": [
    "p = Point()"
   ]
  },
  {
   "cell_type": "code",
   "execution_count": 99,
   "metadata": {
    "collapsed": false
   },
   "outputs": [
    {
     "data": {
      "text/plain": [
       "__main__.Point"
      ]
     },
     "execution_count": 99,
     "metadata": {},
     "output_type": "execute_result"
    }
   ],
   "source": [
    "type(p)"
   ]
  },
  {
   "cell_type": "code",
   "execution_count": 100,
   "metadata": {
    "collapsed": false
   },
   "outputs": [
    {
     "data": {
      "text/plain": [
       "True"
      ]
     },
     "execution_count": 100,
     "metadata": {},
     "output_type": "execute_result"
    }
   ],
   "source": [
    "hasattr(p,'x')"
   ]
  },
  {
   "cell_type": "code",
   "execution_count": 101,
   "metadata": {
    "collapsed": true
   },
   "outputs": [],
   "source": [
    "p.x = 5.0"
   ]
  },
  {
   "cell_type": "code",
   "execution_count": 102,
   "metadata": {
    "collapsed": false
   },
   "outputs": [
    {
     "data": {
      "text/plain": [
       "True"
      ]
     },
     "execution_count": 102,
     "metadata": {},
     "output_type": "execute_result"
    }
   ],
   "source": [
    "hasattr(p,'x')"
   ]
  },
  {
   "cell_type": "code",
   "execution_count": 103,
   "metadata": {
    "collapsed": false
   },
   "outputs": [
    {
     "data": {
      "text/plain": [
       "True"
      ]
     },
     "execution_count": 103,
     "metadata": {},
     "output_type": "execute_result"
    }
   ],
   "source": [
    "hasattr(p,'y')"
   ]
  },
  {
   "cell_type": "code",
   "execution_count": 104,
   "metadata": {
    "collapsed": true
   },
   "outputs": [],
   "source": [
    "class Time(object):\n",
    "    \"\"\"Represents the time of day.\n",
    "    \n",
    "    attributes: hour, minute, second.\"\"\""
   ]
  },
  {
   "cell_type": "code",
   "execution_count": 105,
   "metadata": {
    "collapsed": true
   },
   "outputs": [],
   "source": [
    "time = Time()"
   ]
  },
  {
   "cell_type": "code",
   "execution_count": 106,
   "metadata": {
    "collapsed": false
   },
   "outputs": [],
   "source": [
    "time.hour = 11\n",
    "time.minute = 59\n",
    "time.second = 30"
   ]
  },
  {
   "cell_type": "code",
   "execution_count": 107,
   "metadata": {
    "collapsed": false
   },
   "outputs": [],
   "source": [
    "def print_time(zeit):\n",
    "    \"\"\"Takes a Time object zeit and prints it \n",
    "    in the form hour:minute:second\"\"\"\n",
    "    print str(zeit.hour).zfill(2) + ':' + str(zeit.minute).zfill(2) + ':' +  str(zeit.second).zfill(2)"
   ]
  },
  {
   "cell_type": "code",
   "execution_count": 108,
   "metadata": {
    "collapsed": false
   },
   "outputs": [
    {
     "name": "stdout",
     "output_type": "stream",
     "text": [
      "11:59:30\n"
     ]
    }
   ],
   "source": [
    " print_time(time)"
   ]
  },
  {
   "cell_type": "code",
   "execution_count": 109,
   "metadata": {
    "collapsed": true
   },
   "outputs": [],
   "source": [
    "def is_after(t1, t2):\n",
    "    \"\"\"Takes two Time objects t1 and t2 and \n",
    "    returns True if t1 follows t2 chronologically and False otherwise.\"\"\"\n",
    "    return (t1.hour, t1.minute, t1.second) > (t2.hour, t2.minute, t2.second)"
   ]
  },
  {
   "cell_type": "code",
   "execution_count": 110,
   "metadata": {
    "collapsed": true
   },
   "outputs": [],
   "source": [
    "t1 = Time()\n",
    "t1.hour = 11\n",
    "t1.minute = 59\n",
    "t1.second = 30"
   ]
  },
  {
   "cell_type": "code",
   "execution_count": 111,
   "metadata": {
    "collapsed": true
   },
   "outputs": [],
   "source": [
    "t2 = Time()\n",
    "t2.hour = 11\n",
    "t2.minute = 59\n",
    "t2.second = 2"
   ]
  },
  {
   "cell_type": "code",
   "execution_count": 112,
   "metadata": {
    "collapsed": false
   },
   "outputs": [
    {
     "data": {
      "text/plain": [
       "True"
      ]
     },
     "execution_count": 112,
     "metadata": {},
     "output_type": "execute_result"
    }
   ],
   "source": [
    "is_after(t1, t2)"
   ]
  },
  {
   "cell_type": "code",
   "execution_count": 113,
   "metadata": {
    "collapsed": true
   },
   "outputs": [],
   "source": [
    "def add_time(t1, t2):\n",
    "    sum = Time()\n",
    "    sum.hour = t1.hour + t2.hour\n",
    "    sum.minute = t1.minute + t2.minute\n",
    "    sum.second = t1.second + t2.second\n",
    "    \n",
    "    if sum.second >= 60:\n",
    "        sum.second -= 60\n",
    "        sum.minute += 1\n",
    "        \n",
    "    if sum.minute >= 60:\n",
    "        sum.minute -= 60\n",
    "        sum.hour += 1\n",
    "        \n",
    "    return sum"
   ]
  },
  {
   "cell_type": "code",
   "execution_count": 114,
   "metadata": {
    "collapsed": true
   },
   "outputs": [],
   "source": [
    "start = Time()\n",
    "start.hour = 9\n",
    "start.minute = 45\n",
    "start.second = 0"
   ]
  },
  {
   "cell_type": "code",
   "execution_count": 115,
   "metadata": {
    "collapsed": true
   },
   "outputs": [],
   "source": [
    "duration = Time()\n",
    "duration.hour = 1\n",
    "duration.minute = 35\n",
    "duration.second = 0"
   ]
  },
  {
   "cell_type": "code",
   "execution_count": 116,
   "metadata": {
    "collapsed": false
   },
   "outputs": [
    {
     "name": "stdout",
     "output_type": "stream",
     "text": [
      "11:20:00\n"
     ]
    }
   ],
   "source": [
    "done = add_time(start,duration)\n",
    "print_time(done)"
   ]
  },
  {
   "cell_type": "code",
   "execution_count": 117,
   "metadata": {
    "collapsed": true
   },
   "outputs": [],
   "source": [
    "def increment(time, seconds):\n",
    "    time.second += seconds\n",
    "    \n",
    "    a, b = divmod(time.second,60)\n",
    "    \n",
    "    time.second = b\n",
    "    time.minute += a\n",
    "    \n",
    "    c, d = divmod(time.minute, 60)\n",
    "    \n",
    "    time.minute = d\n",
    "    time.hour += c\n",
    "    \n"
   ]
  },
  {
   "cell_type": "code",
   "execution_count": 118,
   "metadata": {
    "collapsed": false
   },
   "outputs": [
    {
     "name": "stdout",
     "output_type": "stream",
     "text": [
      "11:20:00\n"
     ]
    }
   ],
   "source": [
    "print_time(done)"
   ]
  },
  {
   "cell_type": "code",
   "execution_count": 119,
   "metadata": {
    "collapsed": true
   },
   "outputs": [],
   "source": [
    "increment(done,24352436)"
   ]
  },
  {
   "cell_type": "code",
   "execution_count": 120,
   "metadata": {
    "collapsed": false
   },
   "outputs": [
    {
     "name": "stdout",
     "output_type": "stream",
     "text": [
      "6775:53:56\n"
     ]
    }
   ],
   "source": [
    "print_time(done)"
   ]
  },
  {
   "cell_type": "code",
   "execution_count": 121,
   "metadata": {
    "collapsed": true
   },
   "outputs": [],
   "source": [
    "def increment(time, seconds,inplace=False):\n",
    "    if inplace == True:\n",
    "        time.second += seconds\n",
    "    \n",
    "        a, b = divmod(time.second,60)\n",
    "    \n",
    "        time.second = b\n",
    "        time.minute += a\n",
    "    \n",
    "        c, d = divmod(time.minute, 60)\n",
    "    \n",
    "        time.minute = d\n",
    "        time.hour += c\n",
    "    else:\n",
    "        zeit = copy.deepcopy(time)\n",
    "        zeit.second += seconds\n",
    "    \n",
    "        a, b = divmod(zeit.second,60)\n",
    "    \n",
    "        zeit.second = b\n",
    "        zeit.minute += a\n",
    "    \n",
    "        c, d = divmod(zeit.minute, 60)\n",
    "    \n",
    "        zeit.minute = d\n",
    "        zeit.hour += c\n",
    "        \n",
    "        return zeit\n",
    "        "
   ]
  },
  {
   "cell_type": "code",
   "execution_count": 122,
   "metadata": {
    "collapsed": false
   },
   "outputs": [
    {
     "name": "stdout",
     "output_type": "stream",
     "text": [
      "6775:53:56\n"
     ]
    }
   ],
   "source": [
    "print_time(done)"
   ]
  },
  {
   "cell_type": "code",
   "execution_count": 123,
   "metadata": {
    "collapsed": true
   },
   "outputs": [],
   "source": [
    "bad = increment(done, 4)"
   ]
  },
  {
   "cell_type": "code",
   "execution_count": 124,
   "metadata": {
    "collapsed": false
   },
   "outputs": [
    {
     "name": "stdout",
     "output_type": "stream",
     "text": [
      "6775:53:56\n"
     ]
    }
   ],
   "source": [
    "print_time(done)"
   ]
  },
  {
   "cell_type": "code",
   "execution_count": 125,
   "metadata": {
    "collapsed": false
   },
   "outputs": [
    {
     "name": "stdout",
     "output_type": "stream",
     "text": [
      "6775:54:00\n"
     ]
    }
   ],
   "source": [
    "print_time(bad)"
   ]
  },
  {
   "cell_type": "code",
   "execution_count": 126,
   "metadata": {
    "collapsed": true
   },
   "outputs": [],
   "source": [
    "def time_to_int(time):\n",
    "    minutes = time.hour*60 + time.minute\n",
    "    seconds = minutes*60 + time.second\n",
    "    return seconds"
   ]
  },
  {
   "cell_type": "code",
   "execution_count": 127,
   "metadata": {
    "collapsed": true
   },
   "outputs": [],
   "source": [
    "def int_to_time(seconds):\n",
    "    time = Time()\n",
    "    minutes, time.second = divmod(seconds, 60)\n",
    "    time.hour, time.minute = divmod(minutes, 60)\n",
    "    return time"
   ]
  },
  {
   "cell_type": "code",
   "execution_count": 128,
   "metadata": {
    "collapsed": false
   },
   "outputs": [
    {
     "data": {
      "text/plain": [
       "4562345"
      ]
     },
     "execution_count": 128,
     "metadata": {},
     "output_type": "execute_result"
    }
   ],
   "source": [
    "time_to_int(int_to_time(4562345))"
   ]
  },
  {
   "cell_type": "code",
   "execution_count": 129,
   "metadata": {
    "collapsed": true
   },
   "outputs": [],
   "source": [
    "def add_time(t1, t2):\n",
    "    seconds = time_to_int(t1) + time_to_int(t2)\n",
    "    return int_to_time(seconds)"
   ]
  },
  {
   "cell_type": "code",
   "execution_count": 130,
   "metadata": {
    "collapsed": true
   },
   "outputs": [],
   "source": [
    "def new_increment(zeit, seconds):\n",
    "    base = time_to_int(zeit)\n",
    "    newzeit = int_to_time(base+seconds)\n",
    "    return newzeit"
   ]
  },
  {
   "cell_type": "code",
   "execution_count": 131,
   "metadata": {
    "collapsed": false
   },
   "outputs": [
    {
     "name": "stdout",
     "output_type": "stream",
     "text": [
      "6775:53:56\n"
     ]
    }
   ],
   "source": [
    "print_time(done)"
   ]
  },
  {
   "cell_type": "code",
   "execution_count": 132,
   "metadata": {
    "collapsed": true
   },
   "outputs": [],
   "source": [
    "yo = new_increment(done, 4)"
   ]
  },
  {
   "cell_type": "code",
   "execution_count": 133,
   "metadata": {
    "collapsed": false
   },
   "outputs": [
    {
     "name": "stdout",
     "output_type": "stream",
     "text": [
      "6775:54:00\n"
     ]
    }
   ],
   "source": [
    "print_time(yo)"
   ]
  },
  {
   "cell_type": "code",
   "execution_count": 134,
   "metadata": {
    "collapsed": true
   },
   "outputs": [],
   "source": [
    "def mul_time(zeit, ding):\n",
    "    \"\"\"takes a Time object and a number and returns a new Time\n",
    "    object that contains the product of the orginal Time and the number ding.\"\"\"\n",
    "    import copy\n",
    "    totalint = time_to_int(zeit)*ding\n",
    "    print totalint\n",
    "    newzeit = int_to_time(totalint)\n",
    "    print_time(newzeit)\n",
    "    return newzeit"
   ]
  },
  {
   "cell_type": "code",
   "execution_count": 135,
   "metadata": {
    "collapsed": true
   },
   "outputs": [],
   "source": [
    "def avg_speed(zeit, distance):\n",
    "    \"\"\"Takes a Time object that represents the finishing time in a race,\n",
    "    and a number that represents a distance, and returns a Time object \n",
    "    that represents the average pace (time per mile).\"\"\"\n",
    "    import copy\n",
    "    newzeit = mul_time(zeit, 1./distance)\n",
    "    print_time(newzeit)\n",
    "    return newzeit"
   ]
  },
  {
   "cell_type": "code",
   "execution_count": 136,
   "metadata": {
    "collapsed": true
   },
   "outputs": [],
   "source": [
    "t1 = Time()\n",
    "t1.hour = 1\n",
    "t1.minute = 2\n",
    "t1.second = 3"
   ]
  },
  {
   "cell_type": "code",
   "execution_count": 137,
   "metadata": {
    "collapsed": false
   },
   "outputs": [
    {
     "name": "stdout",
     "output_type": "stream",
     "text": [
      "01:02:03\n"
     ]
    }
   ],
   "source": [
    "print_time(t1)"
   ]
  },
  {
   "cell_type": "code",
   "execution_count": 138,
   "metadata": {
    "collapsed": false
   },
   "outputs": [
    {
     "name": "stdout",
     "output_type": "stream",
     "text": [
      "930.75\n",
      "0.0:15.0:30.75\n",
      "0.0:15.0:30.75\n"
     ]
    }
   ],
   "source": [
    "t2 = avg_speed(t1, 4)"
   ]
  },
  {
   "cell_type": "code",
   "execution_count": 139,
   "metadata": {
    "collapsed": false
   },
   "outputs": [
    {
     "data": {
      "text/plain": [
       "3723"
      ]
     },
     "execution_count": 139,
     "metadata": {},
     "output_type": "execute_result"
    }
   ],
   "source": [
    "60*60 + 60*2 + 3"
   ]
  },
  {
   "cell_type": "code",
   "execution_count": 140,
   "metadata": {
    "collapsed": false
   },
   "outputs": [
    {
     "data": {
      "text/plain": [
       "14892"
      ]
     },
     "execution_count": 140,
     "metadata": {},
     "output_type": "execute_result"
    }
   ],
   "source": [
    "3723*4"
   ]
  },
  {
   "cell_type": "code",
   "execution_count": 141,
   "metadata": {
    "collapsed": true
   },
   "outputs": [],
   "source": [
    "huh = int_to_time(14892)"
   ]
  },
  {
   "cell_type": "code",
   "execution_count": 142,
   "metadata": {
    "collapsed": false
   },
   "outputs": [
    {
     "name": "stdout",
     "output_type": "stream",
     "text": [
      "04:08:12\n"
     ]
    }
   ],
   "source": [
    "print_time(huh)"
   ]
  },
  {
   "cell_type": "code",
   "execution_count": 143,
   "metadata": {
    "collapsed": false
   },
   "outputs": [
    {
     "data": {
      "text/plain": [
       "14892"
      ]
     },
     "execution_count": 143,
     "metadata": {},
     "output_type": "execute_result"
    }
   ],
   "source": [
    "time_to_int(huh)"
   ]
  },
  {
   "cell_type": "markdown",
   "metadata": {},
   "source": [
    "Exercise 7  \n",
    "The datetime module provides date and time objects that are similar to the Date and Time objects in this chapter, but they provide a rich set of methods and operators. Read the documentation at http://docs.python.org/2/library/datetime.html.\n",
    "\n",
    "1. Use the datetime module to write a program that gets the current date and prints the day of the week.\n",
    "2. Write a program that takes a birthday as input and prints the user’s age and the number of days, hours, minutes and seconds until their next birthday.\n",
    "3. For two people born on different days, there is a day when one is twice as old as the other. That’s their Double Day. Write a program that takes two birthdays and computes their Double Day.\n",
    "4. For a little more challenge, write the more general version that computes the day when one person is n times older than the other."
   ]
  },
  {
   "cell_type": "code",
   "execution_count": 144,
   "metadata": {
    "collapsed": true
   },
   "outputs": [],
   "source": [
    "from datetime import date"
   ]
  },
  {
   "cell_type": "code",
   "execution_count": 145,
   "metadata": {
    "collapsed": false
   },
   "outputs": [
    {
     "data": {
      "text/plain": [
       "datetime.date(2016, 3, 23)"
      ]
     },
     "execution_count": 145,
     "metadata": {},
     "output_type": "execute_result"
    }
   ],
   "source": [
    "date.today()"
   ]
  },
  {
   "cell_type": "markdown",
   "metadata": {},
   "source": [
    "```date.isoweekday()```\n",
    "Return the day of the week as an integer, where Monday is 1 and Sunday is 7."
   ]
  },
  {
   "cell_type": "code",
   "execution_count": 146,
   "metadata": {
    "collapsed": false
   },
   "outputs": [
    {
     "data": {
      "text/plain": [
       "3"
      ]
     },
     "execution_count": 146,
     "metadata": {},
     "output_type": "execute_result"
    }
   ],
   "source": [
    "date.today().isoweekday()"
   ]
  },
  {
   "cell_type": "code",
   "execution_count": 147,
   "metadata": {
    "collapsed": false
   },
   "outputs": [
    {
     "data": {
      "text/plain": [
       "1"
      ]
     },
     "execution_count": 147,
     "metadata": {},
     "output_type": "execute_result"
    }
   ],
   "source": [
    "date(1971,11,15).isoweekday()   # I was born on a Monday"
   ]
  },
  {
   "cell_type": "code",
   "execution_count": 148,
   "metadata": {
    "collapsed": false
   },
   "outputs": [
    {
     "data": {
      "text/plain": [
       "7"
      ]
     },
     "execution_count": 148,
     "metadata": {},
     "output_type": "execute_result"
    }
   ],
   "source": [
    "date(1972,4,2).isoweekday()    # Amy was born on a Sunday"
   ]
  },
  {
   "cell_type": "code",
   "execution_count": 149,
   "metadata": {
    "collapsed": false
   },
   "outputs": [
    {
     "data": {
      "text/plain": [
       "3"
      ]
     },
     "execution_count": 149,
     "metadata": {},
     "output_type": "execute_result"
    }
   ],
   "source": [
    "date(2008,7,30).isoweekday() # Sofia was born on a Wednesday"
   ]
  },
  {
   "cell_type": "markdown",
   "metadata": {},
   "source": [
    "Write a program that takes a birthday as input and prints the user’s age and the number of days, hours, minutes and seconds until their next birthday."
   ]
  },
  {
   "cell_type": "code",
   "execution_count": 150,
   "metadata": {
    "collapsed": true
   },
   "outputs": [],
   "source": [
    "import time\n",
    "from datetime import date\n",
    "my_birthday = date(1971,11,15)"
   ]
  },
  {
   "cell_type": "markdown",
   "metadata": {},
   "source": [
    "## Classes and methods\n",
    "\n",
    "Python is an **object-oriented programming language**, which means that it provides features that support object-oriented programming.\n",
    "\n",
    "Methods are semantically the same as functions, but there are two syntactic differences:\n",
    "\n",
    "* Methods are defined inside a class definition in order to make the relationship between the class and the method explicit.\n",
    "* The syntax for invoking a method is different from the syntax for calling a function."
   ]
  },
  {
   "cell_type": "code",
   "execution_count": 151,
   "metadata": {
    "collapsed": false
   },
   "outputs": [],
   "source": [
    "class Time(object):\n",
    "    \"\"\"Represents the time of day.\"\"\"\n",
    "    \n",
    "    def print_time(zeit):\n",
    "        \"\"\"Takes a Time object zeit and prints it \n",
    "        in the form hour:minute:second\"\"\"\n",
    "        print str(zeit.hour).zfill(2) + ':' + str(zeit.minute).zfill(2) + ':' +  str(zeit.second).zfill(2)"
   ]
  },
  {
   "cell_type": "code",
   "execution_count": 152,
   "metadata": {
    "collapsed": true
   },
   "outputs": [],
   "source": [
    "start = Time()"
   ]
  },
  {
   "cell_type": "code",
   "execution_count": 153,
   "metadata": {
    "collapsed": true
   },
   "outputs": [],
   "source": [
    "start.hour = 9\n",
    "start.minute = 45\n",
    "start.second = 0"
   ]
  },
  {
   "cell_type": "code",
   "execution_count": 154,
   "metadata": {
    "collapsed": false
   },
   "outputs": [
    {
     "name": "stdout",
     "output_type": "stream",
     "text": [
      "09:45:00\n"
     ]
    }
   ],
   "source": [
    "print_time(start)"
   ]
  },
  {
   "cell_type": "code",
   "execution_count": 155,
   "metadata": {
    "collapsed": false
   },
   "outputs": [
    {
     "name": "stdout",
     "output_type": "stream",
     "text": [
      "09:45:00\n"
     ]
    }
   ],
   "source": [
    "Time.print_time(start)"
   ]
  },
  {
   "cell_type": "code",
   "execution_count": 156,
   "metadata": {
    "collapsed": false
   },
   "outputs": [
    {
     "name": "stdout",
     "output_type": "stream",
     "text": [
      "09:45:00\n"
     ]
    }
   ],
   "source": [
    "start.print_time()"
   ]
  },
  {
   "cell_type": "markdown",
   "metadata": {},
   "source": [
    "Inside the method, the subject is assigned to the first parameter, so in this case ```start``` is assigned to ```time```.\n",
    "\n",
    "By convention, the first parameter of a method is called ```self```, so it would be more common to write "
   ]
  },
  {
   "cell_type": "code",
   "execution_count": 157,
   "metadata": {
    "collapsed": false
   },
   "outputs": [],
   "source": [
    "class Time(object):\n",
    "    \"\"\"Represents the time of day.\"\"\"\n",
    "    \n",
    "    def __init__(self, hour=0, minute=0, second=0):\n",
    "        self.hour = hour\n",
    "        self.minute = minute\n",
    "        self.second = second\n",
    "        \n",
    "    def __str__(self):\n",
    "        return str(self.hour).zfill(2) + ':' + str(self.minute).zfill(2) + ':' +  str(self.second).zfill(2)\n",
    "    \n",
    "    def __add__(self, other):\n",
    "        if isinstance(other, Time):\n",
    "            return self.add_time(other)\n",
    "        else:\n",
    "            return self.increment(other)\n",
    "        \n",
    "    def __radd__(self, other):\n",
    "        return self.__add__(other)\n",
    "        \n",
    "    def add_time(self, other):\n",
    "        seconds = self.time_to_int() + other.time_to_int()\n",
    "        return int_to_time(seconds)\n",
    "    \n",
    "    \n",
    "    def print_time(self):\n",
    "        \"\"\"Takes a Time object zeit and prints it \n",
    "        in the form hour:minute:second\"\"\"\n",
    "        print str(self.hour).zfill(2) + ':' + str(self.minute).zfill(2) + ':' +  str(self.second).zfill(2)\n",
    "        \n",
    "    def time_to_int(self):\n",
    "        minutes = self.hour*60 + self.minute\n",
    "        seconds = minutes*60 + self.second\n",
    "        return seconds\n",
    "    \n",
    "    def increment(self, seconds):\n",
    "        \"\"\"Pure function, not a modifier\"\"\"\n",
    "        seconds += self.time_to_int()\n",
    "        return int_to_time(seconds)\n",
    "    \n",
    "    def is_after(self, other):\n",
    "        return self.time_to_int() > other.time_to_int()"
   ]
  },
  {
   "cell_type": "code",
   "execution_count": 158,
   "metadata": {
    "collapsed": true
   },
   "outputs": [],
   "source": [
    "start = Time(9, 45, 0)\n",
    "\n"
   ]
  },
  {
   "cell_type": "code",
   "execution_count": 159,
   "metadata": {
    "collapsed": false
   },
   "outputs": [
    {
     "name": "stdout",
     "output_type": "stream",
     "text": [
      "09:45:00\n"
     ]
    }
   ],
   "source": [
    "print start"
   ]
  },
  {
   "cell_type": "code",
   "execution_count": 160,
   "metadata": {
    "collapsed": false
   },
   "outputs": [
    {
     "name": "stdout",
     "output_type": "stream",
     "text": [
      "09:45:00\n"
     ]
    }
   ],
   "source": [
    "start.print_time()"
   ]
  },
  {
   "cell_type": "code",
   "execution_count": 161,
   "metadata": {
    "collapsed": true
   },
   "outputs": [],
   "source": [
    "end = start.increment(1337)"
   ]
  },
  {
   "cell_type": "code",
   "execution_count": 162,
   "metadata": {
    "collapsed": false
   },
   "outputs": [
    {
     "name": "stdout",
     "output_type": "stream",
     "text": [
      "10:07:17\n"
     ]
    }
   ],
   "source": [
    "end.print_time()"
   ]
  },
  {
   "cell_type": "code",
   "execution_count": 163,
   "metadata": {
    "collapsed": false
   },
   "outputs": [
    {
     "data": {
      "text/plain": [
       "False"
      ]
     },
     "execution_count": 163,
     "metadata": {},
     "output_type": "execute_result"
    }
   ],
   "source": [
    "start.is_after(end)"
   ]
  },
  {
   "cell_type": "code",
   "execution_count": 164,
   "metadata": {
    "collapsed": false
   },
   "outputs": [
    {
     "data": {
      "text/plain": [
       "True"
      ]
     },
     "execution_count": 164,
     "metadata": {},
     "output_type": "execute_result"
    }
   ],
   "source": [
    "end.is_after(start)"
   ]
  },
  {
   "cell_type": "markdown",
   "metadata": {},
   "source": [
    "## The init method\n",
    "\n",
    "The init method (short for “initialization”) is a special method that gets invoked when an object is instantiated. Its full name is ```__init__``` (two underscore characters, followed by init, and then two more underscores). An init method for the Time class might look like this:"
   ]
  },
  {
   "cell_type": "code",
   "execution_count": 165,
   "metadata": {
    "collapsed": false
   },
   "outputs": [],
   "source": [
    "class Point(object):\n",
    "    \"\"\"Represents a point in 2-D space.\"\"\"\n",
    "    \n",
    "    def __init__(self,x=0, y=0):\n",
    "        self.x = x\n",
    "        self.y = y\n",
    "        \n",
    "        \n",
    "    def __str__(self):\n",
    "        return '('+str(self.x)+', '+str(self.y)+')'\n",
    "    \n",
    "    def __radd__(self, other):\n",
    "        return self.__add__(other)\n",
    "    \n",
    "    \n",
    "    def __add__(self, other):\n",
    "        if isinstance(other,Point):\n",
    "            return self.add_point(other)\n",
    "        else:\n",
    "            return self.add_tuple(other)\n",
    "    \n",
    "    def add_point(self, other):\n",
    "        allx = self.x + other.x\n",
    "        ally = self.y + other.y\n",
    "        return Point(allx, ally)\n",
    "    \n",
    "    def add_tuple(self,toople):\n",
    "        allx = self.x + toople[0]\n",
    "        ally = self.y + toople[1]\n",
    "        return Point(allx, ally)"
   ]
  },
  {
   "cell_type": "code",
   "execution_count": 166,
   "metadata": {
    "collapsed": true
   },
   "outputs": [],
   "source": [
    "p = Point(56,23)"
   ]
  },
  {
   "cell_type": "code",
   "execution_count": 167,
   "metadata": {
    "collapsed": false
   },
   "outputs": [
    {
     "name": "stdout",
     "output_type": "stream",
     "text": [
      "(56, 23)\n"
     ]
    }
   ],
   "source": [
    "print_point(p)"
   ]
  },
  {
   "cell_type": "markdown",
   "metadata": {},
   "source": [
    "```__str__``` is a special method, like ```__init__```, that is supposed to return a string representation of an object.\n",
    "\n",
    "For example, here is a str method for Time objects:\n",
    "\n",
    "When I write a new class, I almost always start by writing __init__, which makes it easier to instantiate objects, and __str__, which is useful for debugging."
   ]
  },
  {
   "cell_type": "code",
   "execution_count": 168,
   "metadata": {
    "collapsed": false
   },
   "outputs": [
    {
     "name": "stdout",
     "output_type": "stream",
     "text": [
      "(56, 23)\n"
     ]
    }
   ],
   "source": [
    "print p"
   ]
  },
  {
   "cell_type": "code",
   "execution_count": 169,
   "metadata": {
    "collapsed": true
   },
   "outputs": [],
   "source": [
    "q = (1,1)"
   ]
  },
  {
   "cell_type": "code",
   "execution_count": 170,
   "metadata": {
    "collapsed": false
   },
   "outputs": [
    {
     "name": "stdout",
     "output_type": "stream",
     "text": [
      "(57, 24)\n"
     ]
    }
   ],
   "source": [
    "print q + p"
   ]
  },
  {
   "cell_type": "code",
   "execution_count": 171,
   "metadata": {
    "collapsed": false
   },
   "outputs": [
    {
     "name": "stdout",
     "output_type": "stream",
     "text": [
      "(57, 24)\n"
     ]
    }
   ],
   "source": [
    "print p + q"
   ]
  },
  {
   "cell_type": "code",
   "execution_count": 172,
   "metadata": {
    "collapsed": true
   },
   "outputs": [],
   "source": [
    "r = Point(2,2)"
   ]
  },
  {
   "cell_type": "code",
   "execution_count": 173,
   "metadata": {
    "collapsed": false
   },
   "outputs": [
    {
     "name": "stdout",
     "output_type": "stream",
     "text": [
      "(3, 3)\n"
     ]
    }
   ],
   "source": [
    "print q + r"
   ]
  },
  {
   "cell_type": "code",
   "execution_count": 174,
   "metadata": {
    "collapsed": false
   },
   "outputs": [
    {
     "name": "stdout",
     "output_type": "stream",
     "text": [
      "(3, 3)\n"
     ]
    }
   ],
   "source": [
    "print r + q"
   ]
  },
  {
   "cell_type": "markdown",
   "metadata": {},
   "source": [
    "### Operator overloading\n",
    "\n",
    "By defining other special methods, you can specify the behavior of operators on user-defined types. For example, if you define a method named ```__add__``` for the ```Time``` class, you can use the + operator on ```Time``` objects."
   ]
  },
  {
   "cell_type": "code",
   "execution_count": 175,
   "metadata": {
    "collapsed": true
   },
   "outputs": [],
   "source": [
    "start = Time(9, 45)\n",
    "duration = Time(1, 35)"
   ]
  },
  {
   "cell_type": "code",
   "execution_count": 176,
   "metadata": {
    "collapsed": false
   },
   "outputs": [
    {
     "name": "stdout",
     "output_type": "stream",
     "text": [
      "11:20:00\n"
     ]
    }
   ],
   "source": [
    "print start + duration"
   ]
  },
  {
   "cell_type": "code",
   "execution_count": 177,
   "metadata": {
    "collapsed": false
   },
   "outputs": [
    {
     "name": "stdout",
     "output_type": "stream",
     "text": [
      "09:45:03\n"
     ]
    }
   ],
   "source": [
    "print start + 3"
   ]
  },
  {
   "cell_type": "markdown",
   "metadata": {},
   "source": [
    "When you apply the + operator to ```Time``` objects, Python invokes ```__add__```. When you print the result, \n",
    "Python invokes ```__str__``` . So there is quite a lot happenning behind the scenes!\n",
    "\n",
    "Changing the behavior of an operator so that it works with user-defined types is called operator overloading. For every operator in Python there is a corresponding special method, like ```__add__```. For more details, see http://docs.python.org/2/reference/datamodel.html#specialnames.\n",
    "\n",
    "Exercise 4: Write an add method for the Point class."
   ]
  },
  {
   "cell_type": "code",
   "execution_count": 178,
   "metadata": {
    "collapsed": true
   },
   "outputs": [],
   "source": [
    "p = Point(5,6)\n",
    "q = Point(-6,-6)"
   ]
  },
  {
   "cell_type": "code",
   "execution_count": 179,
   "metadata": {
    "collapsed": false
   },
   "outputs": [
    {
     "name": "stdout",
     "output_type": "stream",
     "text": [
      "(-1, 0)\n"
     ]
    }
   ],
   "source": [
    "print p + q"
   ]
  },
  {
   "cell_type": "markdown",
   "metadata": {},
   "source": [
    "#### Type-based dispatch\n",
    "\n",
    "In the previous section we added Two Time objects, but you also might want to add an integer to a Time object. The following is aversion of ```__add__``` that checks the type of ```other``` and invokes either ```add_time``` or ```increment```:\n",
    "\n",
    "\n",
    "Unfortunately, this implementation of addition is not commutative. If the integer is the first operand, you get bullshit errors!\n",
    "\n",
    "The problem is, instead of asking the ```Time``` object to add an integer, Python is asking an integer to add a ```Time``` object, and it doesn't know how to do that. But there is a clever solution for this problem: the special method ```__radd__```, which stands for \"right-side add.\" This method is invoked when a ```Time``` object appears on the right side of the + operator."
   ]
  },
  {
   "cell_type": "code",
   "execution_count": 180,
   "metadata": {
    "collapsed": false
   },
   "outputs": [
    {
     "name": "stdout",
     "output_type": "stream",
     "text": [
      "09:45:00\n"
     ]
    }
   ],
   "source": [
    "print start"
   ]
  },
  {
   "cell_type": "code",
   "execution_count": 181,
   "metadata": {
    "collapsed": false
   },
   "outputs": [
    {
     "name": "stdout",
     "output_type": "stream",
     "text": [
      "09:45:05\n"
     ]
    }
   ],
   "source": [
    "print 5 + start"
   ]
  },
  {
   "cell_type": "markdown",
   "metadata": {},
   "source": [
    "#### Exercise 5\n",
    "Write an add method for Points that works with either a Point object or a tuple:\n",
    "\n",
    "* If the second operand is a Point, the method should return a new Point whose x coordinate is the sum of hte x coordinates of the operatnds, and likewise for the y coordinates\n",
    "* If the second operand is a tuple, the method should add the first element of the tuple to the x coordinate and the second element to the y coordinate, and return a new Point with the result"
   ]
  },
  {
   "cell_type": "markdown",
   "metadata": {},
   "source": [
    "#### Polymorphism\n",
    "\n",
    "Type-based dispatch is useful when it is necessary, but (fortunately) it is not always necessary. Often you can avoid it by writing functions that work correctly for arguments with different types.\n",
    "\n",
    "Many of the functions we wrote for strings will actually work for any kind of sequence. Functions that can work with several types are called **polymorphic**. Polymorphism can faciliate code reuse. For example, the built-in function ```sum```, which adds elements of a sequence, works as long as the elements of the sequence support addition.\n",
    "\n",
    "Since ```Time``` objects provide an ```add``` method, they work with ```sum```:"
   ]
  },
  {
   "cell_type": "code",
   "execution_count": 182,
   "metadata": {
    "collapsed": false
   },
   "outputs": [
    {
     "name": "stdout",
     "output_type": "stream",
     "text": [
      "23:01:00\n"
     ]
    }
   ],
   "source": [
    "t1 = Time(7, 43)\n",
    "t2 = Time(7, 41)\n",
    "t3 = Time(7, 37)\n",
    "total = sum([t1, t2, t3])\n",
    "print total"
   ]
  },
  {
   "cell_type": "code",
   "execution_count": 183,
   "metadata": {
    "collapsed": false
   },
   "outputs": [
    {
     "name": "stdout",
     "output_type": "stream",
     "text": [
      "23:01:00\n"
     ]
    }
   ],
   "source": [
    "total = sum((t1,t2,t3))\n",
    "print total"
   ]
  },
  {
   "cell_type": "markdown",
   "metadata": {},
   "source": [
    "It is legal to add attributes to objects at any point in the execution of a program, but if you are a stickler for type theory, it is a dubious practice to have objects of the same type with different attribute sets. It is usually a good idea to initialize all of an object’s attributes in the init method.\n",
    "\n",
    "If you are not sure whether an object has a particular attribute, you can use the built-in function hasattr (see Section 15.7).\n",
    "\n",
    "Another way to access the attributes of an object is through the special attribute ```__dict__```, which is a dictionary that maps attribute names (as strings) and values:"
   ]
  },
  {
   "cell_type": "code",
   "execution_count": 184,
   "metadata": {
    "collapsed": true
   },
   "outputs": [],
   "source": [
    "p = Point(3,5.6)"
   ]
  },
  {
   "cell_type": "code",
   "execution_count": 185,
   "metadata": {
    "collapsed": false
   },
   "outputs": [
    {
     "name": "stdout",
     "output_type": "stream",
     "text": [
      "{'y': 5.6, 'x': 3}\n"
     ]
    }
   ],
   "source": [
    "print p.__dict__"
   ]
  },
  {
   "cell_type": "markdown",
   "metadata": {},
   "source": [
    "### Exercises\n",
    "\n",
    "#### Exercise 7\n",
    "\n",
    "This exercise is a cautionary tale about one of the most common, and difficult to find, errors in Python. Write a defintiion for a class named ```Kangaroo``` with the following methods:\n",
    "\n",
    "1. An ```__init__``` method that initialzes an attribute named ```pouch_contents``` to an empty list.\n",
    "2. A method named ```put_in_pouch``` that takes an object of any type and adds it to ```pouch_contents```.\n",
    "3. A ```__str__``` method that returns a string representation of the Kangaroo object and the contents of the pouch.\n",
    "\n",
    "Test your code by creating two ```Kangaroo``` objects, assigning them to variables named ```kanga``` and ```roo```, and then adding ```roo``` to the contents of Kanga's pouch."
   ]
  },
  {
   "cell_type": "code",
   "execution_count": 186,
   "metadata": {
    "collapsed": true
   },
   "outputs": [],
   "source": [
    "class Kangaroo(object):\n",
    "    \n",
    "    def __init__(self, pouch_contents=None):\n",
    "        if pouch_contents == None:\n",
    "            self.pouch_contents = list()\n",
    "        \n",
    "    def put_in_pouch(self,thing):\n",
    "        self.pouch_contents.append(thing)\n",
    "        \n",
    "    def __str__(self):\n",
    "        t = [ object.__str__(self) + ' with pouch contents:' ]\n",
    "        for obj in self.pouch_contents:\n",
    "            s = '    ' + object.__str__(obj)\n",
    "            t.append(s)\n",
    "        return '\\n'.join(t)\n",
    "        "
   ]
  },
  {
   "cell_type": "code",
   "execution_count": 187,
   "metadata": {
    "collapsed": false
   },
   "outputs": [],
   "source": [
    "kanga = Kangaroo()"
   ]
  },
  {
   "cell_type": "code",
   "execution_count": 188,
   "metadata": {
    "collapsed": true
   },
   "outputs": [],
   "source": [
    "roo = Kangaroo()"
   ]
  },
  {
   "cell_type": "code",
   "execution_count": 189,
   "metadata": {
    "collapsed": true
   },
   "outputs": [],
   "source": [
    "kanga.put_in_pouch('wallet')\n",
    "kanga.put_in_pouch('car keys')\n",
    "kanga.put_in_pouch(roo)"
   ]
  },
  {
   "cell_type": "code",
   "execution_count": 190,
   "metadata": {
    "collapsed": false
   },
   "outputs": [
    {
     "name": "stdout",
     "output_type": "stream",
     "text": [
      "<__main__.Kangaroo object at 0x000000000AB7A4A8> with pouch contents:\n",
      "    'wallet'\n",
      "    'car keys'\n",
      "    <__main__.Kangaroo object at 0x000000000AB7A630>\n"
     ]
    }
   ],
   "source": [
    "print kanga"
   ]
  },
  {
   "cell_type": "code",
   "execution_count": 191,
   "metadata": {
    "collapsed": false
   },
   "outputs": [
    {
     "name": "stdout",
     "output_type": "stream",
     "text": [
      "<__main__.Kangaroo object at 0x000000000AB7A630> with pouch contents:\n"
     ]
    }
   ],
   "source": [
    "print roo"
   ]
  },
  {
   "cell_type": "code",
   "execution_count": 192,
   "metadata": {
    "collapsed": true
   },
   "outputs": [],
   "source": [
    "roo.put_in_pouch('yoyoyo')"
   ]
  },
  {
   "cell_type": "code",
   "execution_count": 193,
   "metadata": {
    "collapsed": false
   },
   "outputs": [
    {
     "name": "stdout",
     "output_type": "stream",
     "text": [
      "<__main__.Kangaroo object at 0x000000000AB7A630> with pouch contents:\n",
      "    'yoyoyo'\n"
     ]
    }
   ],
   "source": [
    "print roo"
   ]
  },
  {
   "cell_type": "code",
   "execution_count": 194,
   "metadata": {
    "collapsed": false
   },
   "outputs": [
    {
     "name": "stdout",
     "output_type": "stream",
     "text": [
      "<__main__.Kangaroo object at 0x000000000AB7A4A8> with pouch contents:\n",
      "    'wallet'\n",
      "    'car keys'\n",
      "    <__main__.Kangaroo object at 0x000000000AB7A630>\n"
     ]
    }
   ],
   "source": [
    "print kanga"
   ]
  },
  {
   "cell_type": "code",
   "execution_count": 195,
   "metadata": {
    "collapsed": true
   },
   "outputs": [],
   "source": [
    "kanga.put_in_pouch(roo)"
   ]
  },
  {
   "cell_type": "code",
   "execution_count": 196,
   "metadata": {
    "collapsed": false
   },
   "outputs": [
    {
     "name": "stdout",
     "output_type": "stream",
     "text": [
      "<__main__.Kangaroo object at 0x000000000AB7A4A8> with pouch contents:\n",
      "    'wallet'\n",
      "    'car keys'\n",
      "    <__main__.Kangaroo object at 0x000000000AB7A630>\n",
      "    <__main__.Kangaroo object at 0x000000000AB7A630>\n"
     ]
    }
   ],
   "source": [
    "print kanga"
   ]
  },
  {
   "cell_type": "code",
   "execution_count": 197,
   "metadata": {
    "collapsed": false
   },
   "outputs": [],
   "source": [
    "#from vpython import *"
   ]
  },
  {
   "cell_type": "markdown",
   "metadata": {
    "collapsed": true
   },
   "source": [
    "### Chapter 18 Inheritance\n",
    "\n",
    "In this chapter I present classes to represent playing cards, decks of cards, and poker hands.\n",
    "\n",
    "\n",
    "### 2.8 Exercises\n",
    "\n",
    "#### Exercise 1\n",
    "In Section 2.3 I said that the solution to the cookie problem generalizes to the case where we draw multiple cookies with replacement. \n",
    "But in the more likely scenario where we eat the cookies we draw, the likelihood of each draw depends on the previous draws.\n",
    "Modify the solution in this chapter to handle selection without replacement. Hint:\n",
    "add instance variables to ```Cookie``` to represent the hypothetical state of the bowls, and modify ```Likelihood``` accordingly. You might want to define a ```Bowl``` object."
   ]
  },
  {
   "cell_type": "code",
   "execution_count": 198,
   "metadata": {
    "collapsed": false
   },
   "outputs": [],
   "source": [
    "class Bowl(object):\n",
    "    \n",
    "    def __init__(self, vcookies=20, ccookies = 20):\n",
    "        self.vcookies = float(vcookies)\n",
    "        self.ccookies = float(ccookies)\n",
    "        self.vprob = self.vcookies/(self.vcookies + self.ccookies)\n",
    "        self.cprob = self.ccookies/(self.vcookies + self.ccookies)\n",
    "    \n",
    "        \n",
    "    def __str__(self):\n",
    "        return \"vanilla: \" + str(self.vcookies) + '\\n' + \"chocolate: \" + str(self.ccookies) + '\\n probvanilla: ' + \\\n",
    "    str(self.vprob) + '\\n probchocolate: ' + str(self.cprob)\n",
    "    \n",
    "    \n",
    "    def eat_vanilla(self):\n",
    "        self.vcookies -= 1\n",
    "        \n",
    "    def eat_chocolate(self):\n",
    "        self.ccookies -= 1\n",
    "        \n",
    "    def update_bowl(self,data):\n",
    "        if data == 'vanilla':\n",
    "            self.eat_vanilla()\n",
    "        if data == 'chocolate':\n",
    "            self.eat_chocolate()\n",
    "        self.vprob = self.vcookies/(self.vcookies + self.ccookies)\n",
    "        self.cprob = self.ccookies/(self.vcookies + self.ccookies)\n",
    "        "
   ]
  },
  {
   "cell_type": "code",
   "execution_count": 199,
   "metadata": {
    "collapsed": false
   },
   "outputs": [],
   "source": [
    "class Cookie(Pmf):\n",
    "\n",
    "    def __init__(self, hypos, bowl1=None, bowl2=None,mixes=None):\n",
    "        Pmf.__init__(self)\n",
    "        for hypo in hypos:\n",
    "            self.Set(hypo, 1)\n",
    "        self.Normalize()\n",
    "        if bowl1 == None:\n",
    "            self.bowl1 = Bowl(30,10)\n",
    "        if bowl2 == None:\n",
    "            self.bowl2 = Bowl(20,20)\n",
    "        if mixes == None:\n",
    "            self.mixes = {\n",
    "                'Bowl 1': dict(vanilla=self.bowl1.vprob, chocolate=self.bowl1.cprob),\n",
    "                'Bowl 2': dict(vanilla=self.bowl2.vprob, chocolate=self.bowl2.cprob),\n",
    "            }\n",
    "        \n",
    "    def Update(self, data):\n",
    "        for hypo in self.Values():\n",
    "            like = self.Likelihood(data, hypo)\n",
    "            self.Mult(hypo, like)\n",
    "        self.Normalize()\n",
    "        self.bowl1.update_bowl(data)\n",
    "        self.bowl2.update_bowl(data)\n",
    "        \n",
    "        \n",
    "    \n",
    "        \n",
    "    def Likelihood(self, data, hypo):\n",
    "        mix = self.mixes[hypo]\n",
    "        like = mix[data]\n",
    "        return like\n",
    "        "
   ]
  },
  {
   "cell_type": "code",
   "execution_count": 200,
   "metadata": {
    "collapsed": true
   },
   "outputs": [],
   "source": [
    "hypos = ['Bowl 1', 'Bowl 2']\n",
    "pmf = Cookie(hypos)"
   ]
  },
  {
   "cell_type": "code",
   "execution_count": 201,
   "metadata": {
    "collapsed": false
   },
   "outputs": [],
   "source": [
    "pmf.Update('vanilla')"
   ]
  },
  {
   "cell_type": "code",
   "execution_count": 202,
   "metadata": {
    "collapsed": false
   },
   "outputs": [
    {
     "name": "stdout",
     "output_type": "stream",
     "text": [
      "Bowl 2 0.4\n",
      "Bowl 1 0.6\n"
     ]
    }
   ],
   "source": [
    "for hypo, prob in pmf.Items():\n",
    "    print hypo, prob"
   ]
  },
  {
   "cell_type": "code",
   "execution_count": 203,
   "metadata": {
    "collapsed": false
   },
   "outputs": [],
   "source": [
    "dataset = ['vanilla', 'chocolate', 'chocolate']\n",
    "for data in dataset:\n",
    "    pmf.Update(data)"
   ]
  },
  {
   "cell_type": "code",
   "execution_count": 204,
   "metadata": {
    "collapsed": false
   },
   "outputs": [
    {
     "name": "stdout",
     "output_type": "stream",
     "text": [
      "Bowl 2 0.64\n",
      "Bowl 1 0.36\n"
     ]
    }
   ],
   "source": [
    "for hypo, prob in pmf.Items():\n",
    "    print hypo, prob"
   ]
  },
  {
   "cell_type": "code",
   "execution_count": 205,
   "metadata": {
    "collapsed": false
   },
   "outputs": [],
   "source": [
    "dataset = ['vanilla', 'chocolate','vanilla', 'chocolate']*3\n",
    "for data in dataset:\n",
    "    pmf.Update(data)"
   ]
  },
  {
   "cell_type": "code",
   "execution_count": 206,
   "metadata": {
    "collapsed": false
   },
   "outputs": [
    {
     "name": "stdout",
     "output_type": "stream",
     "text": [
      "Bowl 2 0.908997600455\n",
      "Bowl 1 0.0910023995451\n"
     ]
    }
   ],
   "source": [
    "for hypo, prob in pmf.Items():\n",
    "    print hypo, prob"
   ]
  },
  {
   "cell_type": "code",
   "execution_count": 207,
   "metadata": {
    "collapsed": false
   },
   "outputs": [
    {
     "name": "stdout",
     "output_type": "stream",
     "text": [
      "vanilla: 22.0\n",
      "chocolate: 2.0\n",
      " probvanilla: 0.916666666667\n",
      " probchocolate: 0.0833333333333\n"
     ]
    }
   ],
   "source": [
    "print pmf.bowl1"
   ]
  },
  {
   "cell_type": "code",
   "execution_count": 208,
   "metadata": {
    "collapsed": false
   },
   "outputs": [
    {
     "name": "stdout",
     "output_type": "stream",
     "text": [
      "vanilla: 12.0\n",
      "chocolate: 12.0\n",
      " probvanilla: 0.5\n",
      " probchocolate: 0.5\n"
     ]
    }
   ],
   "source": [
    "print pmf.bowl2"
   ]
  },
  {
   "cell_type": "code",
   "execution_count": 209,
   "metadata": {
    "collapsed": false
   },
   "outputs": [],
   "source": [
    "pmf.bowl2.update_bowl('chocolate')"
   ]
  },
  {
   "cell_type": "code",
   "execution_count": 210,
   "metadata": {
    "collapsed": false
   },
   "outputs": [
    {
     "name": "stdout",
     "output_type": "stream",
     "text": [
      "vanilla: 12.0\n",
      "chocolate: 11.0\n",
      " probvanilla: 0.521739130435\n",
      " probchocolate: 0.478260869565\n"
     ]
    }
   ],
   "source": [
    "print pmf.bowl2"
   ]
  },
  {
   "cell_type": "code",
   "execution_count": 211,
   "metadata": {
    "collapsed": false
   },
   "outputs": [
    {
     "data": {
      "text/plain": [
       "0.42857142857142855"
      ]
     },
     "execution_count": 211,
     "metadata": {},
     "output_type": "execute_result"
    }
   ],
   "source": [
    "15./(35.)"
   ]
  },
  {
   "cell_type": "markdown",
   "metadata": {},
   "source": [
    "## Chapter 3 Estimation\n",
    "\n",
    "### The dice problem\n",
    "\n",
    "Suppose I have a box of dice that contains a 4-sided die, a 6-sided die, an 8-sided die, a 12-sided die, and a \n",
    "20-sided die. If you have ever played _Dungeons & Dragons_, you know what I am talking about.\n",
    "\n",
    "Suppose I select a die from the box at random, roll it, and get a 6. What is the probability that I rolled each die?\n",
    "\n",
    "Let me suggest a three-step strategy for approaching a problem like this.\n",
    "\n",
    "1. Choose a representation for the hypothesis.\n",
    "2. Choose a representation for the data.\n",
    "3. Write the likelihood function.\n",
    "\n",
    "In previous examples I used strings to represent hyoptheses and data, but for the die problem I'll use numbers.\n",
    "Specifically, I'll use the integers 4,6,8,12, and 20 to represent hypotheses:\n",
    "\n",
    "```suite = Dice([4,6,8,12,20])```\n",
    "\n",
    "and integers from 1 to 20 for the data. These representations make it easy to write the likelihood function:\n",
    "\n",
    "```\n",
    "class Dice(Suite):\n",
    "    def Likelihood(self, data, hypo):\n",
    "        if hypo < data:\n",
    "            return 0\n",
    "        else:\n",
    "            return 1.0/hypo\n",
    "```"
   ]
  },
  {
   "cell_type": "code",
   "execution_count": 212,
   "metadata": {
    "collapsed": true
   },
   "outputs": [],
   "source": [
    "from thinkbayes import Suite\n",
    "\n",
    "class Dice(Suite):\n",
    "    \n",
    "    def Likelihood(self, data, hypo):\n",
    "        if hypo < data:\n",
    "            return 0\n",
    "        else:\n",
    "            return 1./hypo"
   ]
  },
  {
   "cell_type": "code",
   "execution_count": 213,
   "metadata": {
    "collapsed": true
   },
   "outputs": [],
   "source": [
    "suite = Dice([4,6,8,12,20])"
   ]
  },
  {
   "cell_type": "code",
   "execution_count": 214,
   "metadata": {
    "collapsed": false
   },
   "outputs": [
    {
     "name": "stdout",
     "output_type": "stream",
     "text": [
      "4 0.2\n",
      "6 0.2\n",
      "8 0.2\n",
      "12 0.2\n",
      "20 0.2\n"
     ]
    }
   ],
   "source": [
    "suite.Print()"
   ]
  },
  {
   "cell_type": "code",
   "execution_count": 215,
   "metadata": {
    "collapsed": false
   },
   "outputs": [
    {
     "data": {
      "text/plain": [
       "0.08500000000000002"
      ]
     },
     "execution_count": 215,
     "metadata": {},
     "output_type": "execute_result"
    }
   ],
   "source": [
    "suite.Update(6)"
   ]
  },
  {
   "cell_type": "code",
   "execution_count": 216,
   "metadata": {
    "collapsed": false
   },
   "outputs": [
    {
     "name": "stdout",
     "output_type": "stream",
     "text": [
      "4 0.0\n",
      "6 0.392156862745\n",
      "8 0.294117647059\n",
      "12 0.196078431373\n",
      "20 0.117647058824\n"
     ]
    }
   ],
   "source": [
    "suite.Print()"
   ]
  },
  {
   "cell_type": "code",
   "execution_count": 217,
   "metadata": {
    "collapsed": true
   },
   "outputs": [],
   "source": [
    "for roll in [6,8,7,7,5,4]:\n",
    "    suite.Update(roll)"
   ]
  },
  {
   "cell_type": "code",
   "execution_count": 218,
   "metadata": {
    "collapsed": false
   },
   "outputs": [
    {
     "name": "stdout",
     "output_type": "stream",
     "text": [
      "4 0.0\n",
      "6 0.0\n",
      "8 0.943248453672\n",
      "12 0.0552061280613\n",
      "20 0.0015454182665\n"
     ]
    }
   ],
   "source": [
    "suite.Print()"
   ]
  },
  {
   "cell_type": "code",
   "execution_count": 219,
   "metadata": {
    "collapsed": false
   },
   "outputs": [
    {
     "name": "stdout",
     "output_type": "stream",
     "text": [
      "4 0.0\n",
      "6 0.0\n",
      "8 0.0\n",
      "12 0.983481290881\n",
      "20 0.0165187091186\n"
     ]
    }
   ],
   "source": [
    "suite.Update(12)\n",
    "suite.Print()"
   ]
  },
  {
   "cell_type": "code",
   "execution_count": 220,
   "metadata": {
    "collapsed": false
   },
   "outputs": [
    {
     "name": "stdout",
     "output_type": "stream",
     "text": [
      "4 0.0\n",
      "6 0.0\n",
      "8 0.0\n",
      "12 0.0\n",
      "20 1.0\n"
     ]
    }
   ],
   "source": [
    "suite.Update(14)\n",
    "suite.Print()"
   ]
  },
  {
   "cell_type": "markdown",
   "metadata": {},
   "source": [
    "## The locomotive problem\n",
    "\n",
    "I found the locomotive problem in Frederick Mosteller's _Fifty Challenging Problems in Probability with Solutions_ (Dover 1987):\n",
    "\n",
    "\"A Railroad numbers its locomotives in order 1..N. One day you see a locomotive with the number 60. Estimate how many locomotives the railroad has.\"\n",
    "\n",
    "\n",
    "Based on this observation, we know the railroad has 60 or more locomotives. But how many more? To apply Bayesian reasoning, we can break this problem into two steps:\n",
    "\n",
    "1. What did we know about N before we saw the data?\n",
    "2. For any given value of N, what is the likelihood of seeing the data (a locomotive with number 60)?\n",
    "\n",
    "The answer to the first question is the prior. The answer to the second is the likelihood.\n",
    "\n",
    "We don't have much basis to choose a prior, but we can start with something simple and then consider alternatives. Let's assume that N is equally likely to be any value from 1 to 1000."
   ]
  },
  {
   "cell_type": "code",
   "execution_count": 221,
   "metadata": {
    "collapsed": true
   },
   "outputs": [],
   "source": [
    "hypos = xrange(1, 1001)"
   ]
  },
  {
   "cell_type": "markdown",
   "metadata": {},
   "source": [
    "Now all we need is a likelihood function. In a hypothetical fleet of N locomotives, what is the probability that we would see number 60? If we assume that there is only one train-operating company (or only one we care about) and that we are equally likely to see any of its locomotives, then the chance of seeing any particularlocomotive is 1/N."
   ]
  },
  {
   "cell_type": "code",
   "execution_count": 222,
   "metadata": {
    "collapsed": true
   },
   "outputs": [],
   "source": [
    "from thinkbayes import Suite\n",
    "\n",
    "class Train(Suite):\n",
    "    \n",
    "    def Likelihood(self, data, hypo):\n",
    "        if hypo < data:\n",
    "            return 0\n",
    "        else:\n",
    "            return 1./hypo"
   ]
  },
  {
   "cell_type": "code",
   "execution_count": 223,
   "metadata": {
    "collapsed": true
   },
   "outputs": [],
   "source": [
    "hypos = xrange(1, 1001)\n",
    "suite = Train(hypos)"
   ]
  },
  {
   "cell_type": "code",
   "execution_count": 224,
   "metadata": {
    "collapsed": false
   },
   "outputs": [
    {
     "data": {
      "text/plain": [
       "0.0028222671142652746"
      ]
     },
     "execution_count": 224,
     "metadata": {},
     "output_type": "execute_result"
    }
   ],
   "source": [
    "suite.Update(60)"
   ]
  },
  {
   "cell_type": "code",
   "execution_count": 225,
   "metadata": {
    "collapsed": false
   },
   "outputs": [
    {
     "data": {
      "text/plain": [
       "list"
      ]
     },
     "execution_count": 225,
     "metadata": {},
     "output_type": "execute_result"
    }
   ],
   "source": [
    "type(suite.Render())"
   ]
  },
  {
   "cell_type": "code",
   "execution_count": 226,
   "metadata": {
    "collapsed": false
   },
   "outputs": [],
   "source": [
    "dftrain = pd.DataFrame({'prob of n trains in fleet': list(suite.Render()[1])}, index = list(suite.Render()[0]))"
   ]
  },
  {
   "cell_type": "code",
   "execution_count": 227,
   "metadata": {
    "collapsed": false
   },
   "outputs": [
    {
     "data": {
      "text/plain": [
       "<matplotlib.axes._subplots.AxesSubplot at 0xab77860>"
      ]
     },
     "execution_count": 227,
     "metadata": {},
     "output_type": "execute_result"
    },
    {
     "data": {
      "image/png": "[encoded data removed]",
      "text/plain": [
       "<matplotlib.figure.Figure at 0xab687f0>"
      ]
     },
     "metadata": {},
     "output_type": "display_data"
    }
   ],
   "source": [
    "dftrain.plot()"
   ]
  },
  {
   "cell_type": "markdown",
   "metadata": {},
   "source": [
    "The most likely value, if you had to guess, is 60. That might not seem like a very good guess; after all, what are the chances that you just happened to see the train with the highest number? Nevertheless, if you want to maximize the chance of getting the answer exactly right, you should guess 60.\n",
    "\n",
    "But maybe that's not the right goal. An alternative is to compute the mean of the posterior distibution:"
   ]
  },
  {
   "cell_type": "code",
   "execution_count": 228,
   "metadata": {
    "collapsed": false
   },
   "outputs": [
    {
     "name": "stdout",
     "output_type": "stream",
     "text": [
      "333.419893264\n"
     ]
    }
   ],
   "source": [
    "print suite.Mean()"
   ]
  },
  {
   "cell_type": "markdown",
   "metadata": {},
   "source": [
    "The mean of the posterior is 333, so that might be a good guess if you wanted to minimize error. If you played this guessing game over and over, using the mean of the posterior as your estimate would minimize the mean squared error over the long run.\n",
    "See http://en.wikipedia.org/wiki/Minimum_mean_square_error"
   ]
  },
  {
   "cell_type": "markdown",
   "metadata": {},
   "source": [
    "### What about that prior??\n",
    "\n",
    "To make any progress on the locomotive problem we had to make assumptions, and some of them were pretty arbitrary. In particular, we chose a uniform prior from 1 to 1000, without much justification for choosing 1000, or for choosing a uniform distribution.\n",
    "\n",
    "It is not crazy to believe that a railroad company might operate 1000 locomotives, but a reasonable person might guess more or fewer. So we might wonder whether the posterior distribution is sensitive to these assumptions. Wtih so little data - only one observation - it probably is.\n",
    "\n",
    "Recall that with a uniform prior from 1 to 1000, the mean of the posterior is 333.\n",
    "With an upper bound of 500, we get a posterior mean of 207; and with an upper bound of 2000, the posterior mean is 552."
   ]
  },
  {
   "cell_type": "code",
   "execution_count": 229,
   "metadata": {
    "collapsed": false
   },
   "outputs": [
    {
     "data": {
      "text/plain": [
       "207.079227983409"
      ]
     },
     "execution_count": 229,
     "metadata": {},
     "output_type": "execute_result"
    }
   ],
   "source": [
    "hypos = xrange(1,501)\n",
    "suite = Train(hypos)\n",
    "suite.Update(60)\n",
    "suite.Mean()"
   ]
  },
  {
   "cell_type": "code",
   "execution_count": 230,
   "metadata": {
    "collapsed": false
   },
   "outputs": [
    {
     "data": {
      "text/plain": [
       "552.179017164631"
      ]
     },
     "execution_count": 230,
     "metadata": {},
     "output_type": "execute_result"
    }
   ],
   "source": [
    "hypos = xrange(1,2001)\n",
    "suite = Train(hypos)\n",
    "suite.Update(60)\n",
    "suite.Mean()"
   ]
  },
  {
   "cell_type": "markdown",
   "metadata": {},
   "source": [
    "So that's bad. There are two ways to proceed:\n",
    "\n",
    "* Get more data.\n",
    "* Get more background information.\n",
    "\n",
    "With more data, posterior distributions based on different priors tend to converge. For example, suppose that in addition to train 60 we also see trains 30 and 90.\n",
    "Can can update the distribution."
   ]
  },
  {
   "cell_type": "code",
   "execution_count": 231,
   "metadata": {
    "collapsed": false
   },
   "outputs": [
    {
     "data": {
      "text/plain": [
       "164.3055864227336"
      ]
     },
     "execution_count": 231,
     "metadata": {},
     "output_type": "execute_result"
    }
   ],
   "source": [
    "hypos = xrange(1,1001)\n",
    "suite = Train(hypos)\n",
    "for data in [60, 30, 90]:\n",
    "    suite.Update(data)\n",
    "suite.Mean()"
   ]
  },
  {
   "cell_type": "code",
   "execution_count": 232,
   "metadata": {
    "collapsed": false
   },
   "outputs": [
    {
     "data": {
      "text/plain": [
       "151.84958795903822"
      ]
     },
     "execution_count": 232,
     "metadata": {},
     "output_type": "execute_result"
    }
   ],
   "source": [
    "hypos = xrange(1,501)\n",
    "suite = Train(hypos)\n",
    "for data in [60, 30, 90]:\n",
    "    suite.Update(data)\n",
    "suite.Mean()"
   ]
  },
  {
   "cell_type": "code",
   "execution_count": 233,
   "metadata": {
    "collapsed": false
   },
   "outputs": [
    {
     "data": {
      "text/plain": [
       "171.3381810915094"
      ]
     },
     "execution_count": 233,
     "metadata": {},
     "output_type": "execute_result"
    }
   ],
   "source": [
    "hypos = xrange(1,2001)\n",
    "suite = Train(hypos)\n",
    "for data in [60, 30, 90]:\n",
    "    suite.Update(data)\n",
    "suite.Mean()"
   ]
  },
  {
   "cell_type": "markdown",
   "metadata": {},
   "source": [
    "So the differences are smaller .\n",
    "\n",
    "## An alternative prior\n",
    "\n",
    "If more data are not available, another option is to improve the priors by gathering more background information. It is probably not reasonable to assume that a train-operating company with 1000 locomotives is just as likely as a company with only 1.\n",
    "\n",
    "With some effort, we could probably find a list of companies that operate locomotives in the area of observation. Or we could interview an expert in rail shipping to gather information about the typical size of companies.\n",
    "\n",
    "But even without getting into the specifics of railroad economics, we can make some educated guesses. In most fields, there are many small companies, fewer medium-sized companies, and only one or two very large companies. In fact, the distrubtion of company sizes tends to follow a power law.\n",
    "\n",
    "Mathematically, a power law means that the number of companies with a given size is inversely proportional to size, or \n",
    "\n",
    "$\n",
    "PMF(X) \\propto( \\frac{1}{x} )^{\\alpha}\n",
    "$\n",
    "\n",
    "\n",
    "where PMF(x) is the probability mass function of x and $\\alpha$ is a parameter that is often near 1.\n",
    "\n",
    "We can construct a power law prior like this:"
   ]
  },
  {
   "cell_type": "code",
   "execution_count": 234,
   "metadata": {
    "collapsed": true
   },
   "outputs": [],
   "source": [
    "from thinkbayes import Suite\n",
    "\n",
    "class Train(Suite):\n",
    "    \n",
    "    def __init__(self, hypos, alpha=1.0):\n",
    "        Pmf.__init__(self)\n",
    "        for hypo in hypos:\n",
    "            self.Set(hypo, hypo**(-alpha))\n",
    "        self.Normalize()\n",
    "    \n",
    "    def Likelihood(self, data, hypo):\n",
    "        if hypo < data:\n",
    "            return 0\n",
    "        else:\n",
    "            return 1./hypo"
   ]
  },
  {
   "cell_type": "code",
   "execution_count": 235,
   "metadata": {
    "collapsed": false
   },
   "outputs": [],
   "source": [
    "hypos = range(1, 1001)\n",
    "suitepower = Train(hypos)\n",
    "suiteuniform = Train(hypos, alpha=0)"
   ]
  },
  {
   "cell_type": "code",
   "execution_count": 236,
   "metadata": {
    "collapsed": false
   },
   "outputs": [
    {
     "data": {
      "text/plain": [
       "0.0028222671142652746"
      ]
     },
     "execution_count": 236,
     "metadata": {},
     "output_type": "execute_result"
    }
   ],
   "source": [
    "suitepower.Update(60)\n",
    "suiteuniform.Update(60)"
   ]
  },
  {
   "cell_type": "code",
   "execution_count": 237,
   "metadata": {
    "collapsed": false
   },
   "outputs": [],
   "source": [
    "dfcf = pd.DataFrame({'power law': list(suitepower.Render()[1]),\n",
    "                    'uniform prior': list(suiteuniform.Render()[1])},\n",
    "                   index = list(suitepower.Render()[0]))"
   ]
  },
  {
   "cell_type": "code",
   "execution_count": 238,
   "metadata": {
    "collapsed": false
   },
   "outputs": [
    {
     "data": {
      "text/plain": [
       "<matplotlib.axes._subplots.AxesSubplot at 0xac37898>"
      ]
     },
     "execution_count": 238,
     "metadata": {},
     "output_type": "execute_result"
    },
    {
     "data": {
      "image/png": "[encoded data removed]",
      "text/plain": [
       "<matplotlib.figure.Figure at 0xab687b8>"
      ]
     },
     "metadata": {},
     "output_type": "display_data"
    }
   ],
   "source": [
    "dfcf.plot()"
   ]
  },
  {
   "cell_type": "code",
   "execution_count": 245,
   "metadata": {
    "collapsed": false
   },
   "outputs": [
    {
     "data": {
      "text/plain": [
       "118.77732657436988"
      ]
     },
     "execution_count": 245,
     "metadata": {},
     "output_type": "execute_result"
    }
   ],
   "source": [
    "hypos = xrange(1,501)\n",
    "suite = Train(hypos,alpha=2)\n",
    "for data in [60, 30, 90]:\n",
    "    suite.Update(data)\n",
    "suite.Mean()\n"
   ]
  },
  {
   "cell_type": "code",
   "execution_count": 246,
   "metadata": {
    "collapsed": false
   },
   "outputs": [
    {
     "data": {
      "text/plain": [
       "119.26050358721334"
      ]
     },
     "execution_count": 246,
     "metadata": {},
     "output_type": "execute_result"
    }
   ],
   "source": [
    "hypos = xrange(1,1001)\n",
    "suite = Train(hypos,alpha=2)\n",
    "for data in [60, 30, 90]:\n",
    "    suite.Update(data)\n",
    "suite.Mean()"
   ]
  },
  {
   "cell_type": "code",
   "execution_count": 255,
   "metadata": {
    "collapsed": false
   },
   "outputs": [
    {
     "data": {
      "text/plain": [
       "1098.9175199252181"
      ]
     },
     "execution_count": 255,
     "metadata": {},
     "output_type": "execute_result"
    }
   ],
   "source": [
    "hypos = xrange(1,2001)\n",
    "suite = Train(hypos,alpha=4)\n",
    "for data in [60, 30, 90, 87, 87, 23, 45, 1000]:\n",
    "    suite.Update(data)\n",
    "suite.Mean()"
   ]
  },
  {
   "cell_type": "code",
   "execution_count": 256,
   "metadata": {
    "collapsed": false
   },
   "outputs": [
    {
     "name": "stdout",
     "output_type": "stream",
     "text": [
      "(1004, 1311)\n"
     ]
    }
   ],
   "source": [
    "from thinkbayes import Percentile\n",
    "interval = Percentile(suite, 5), Percentile(suite, 95)\n",
    "print interval"
   ]
  },
  {
   "cell_type": "markdown",
   "metadata": {},
   "source": [
    "Now the differences are much smaller. In fact, with an arbitrarily large upper bound, the mean converges to 134.\n",
    "\n",
    "So the power law is more realistic, because it is based on general information about the size of companies, and it behaves better in practice. \n",
    "\n",
    "\n",
    "## Credible intervals\n",
    "\n",
    "Once you have computed a posterior distribution, it is often useful to summarize the results with a single point estimate or an interval. For point estimates it is common to use the mean, median, or the value with maximum likelihood.\n",
    "\n",
    "For intervals we usually report two values computed so that there is a 90% chance that the unknown value falls between them (or any other probability). These values define a **credible interval**.\n",
    "\n",
    "A simple way to compute a credible interval is to add up the probablities in the posterior distribution and record the values that correspond to probablities 5% and 95%. In other words, the 5th and 95th percentiles."
   ]
  },
  {
   "cell_type": "code",
   "execution_count": 260,
   "metadata": {
    "collapsed": false
   },
   "outputs": [
    {
     "data": {
      "text/plain": [
       "116.09007063776997"
      ]
     },
     "execution_count": 260,
     "metadata": {},
     "output_type": "execute_result"
    }
   ],
   "source": [
    "hypos = xrange(1,1001)\n",
    "suite = Train(hypos)\n",
    "for data in [60, 30, 90, 23, 45, 100, 45]:\n",
    "    suite.Update(data)\n",
    "suite.Mean()"
   ]
  },
  {
   "cell_type": "code",
   "execution_count": 261,
   "metadata": {
    "collapsed": false
   },
   "outputs": [],
   "source": [
    "from thinkbayes import Percentile\n",
    "\n",
    "interval = Percentile(suite, 5), Percentile(suite, 95)"
   ]
  },
  {
   "cell_type": "code",
   "execution_count": 262,
   "metadata": {
    "collapsed": false
   },
   "outputs": [
    {
     "name": "stdout",
     "output_type": "stream",
     "text": [
      "(100, 153)\n"
     ]
    }
   ],
   "source": [
    "print interval"
   ]
  },
  {
   "cell_type": "markdown",
   "metadata": {},
   "source": [
    "## Cumulative distribution functions\n",
    "\n",
    "In the previous section we computed percentiles by iterating through the values andprobabilities in a Pmf. If we need to compute more than a few percentiles, it is more efficient to use a cumulative distribution function, or Cdf.\n",
    "\n",
    "Cdfs and Pmfs are equivalent in the sense that they contain the same information about the distribution, and you can always convert from one to the other. The advantage of the Cdf is that you can compute percentiles more efficiently.\n",
    "\n"
   ]
  },
  {
   "cell_type": "code",
   "execution_count": 263,
   "metadata": {
    "collapsed": true
   },
   "outputs": [],
   "source": [
    "cdf = suite.MakeCdf()"
   ]
  },
  {
   "cell_type": "code",
   "execution_count": 264,
   "metadata": {
    "collapsed": true
   },
   "outputs": [],
   "source": [
    "interval = cdf.Percentile(5), cdf.Percentile(95)"
   ]
  },
  {
   "cell_type": "code",
   "execution_count": 265,
   "metadata": {
    "collapsed": false
   },
   "outputs": [
    {
     "name": "stdout",
     "output_type": "stream",
     "text": [
      "(100, 153)\n"
     ]
    }
   ],
   "source": [
    "print interval"
   ]
  },
  {
   "cell_type": "markdown",
   "metadata": {},
   "source": [
    "Converting from a Pmf to a Cdf takes time proportional to the number of values, len(pmf). The Cdf stores the values and probabilities in sorted lists, so looking up a probability to get the corresponding value takes “log time”: that is, time proportional to the logarithm of the number of values. Looking up a value to get the corresponding probability is also logarithmic, so Cdfs are efficient for many calculations."
   ]
  },
  {
   "cell_type": "markdown",
   "metadata": {},
   "source": [
    "## 3.9 Exercises\n",
    "### Exercise 1\n",
    "To write a likelihood function for the locomotive problem, we had to answer the question: \"If the railroad has N locomotives, what is the probability that we see number 60?\"\n",
    "The answer depends on what sampling process we use when we observe the locomotive. In this chapter, I resolved the ambiguity by specifying that there is only one train-operating company (or only one that we care about).\n",
    "But suppose instead that there are many companies with different numbers of trains. And suppose that you are equally likely to see any train operated by any company. In that case, the liklihood function is different because you are more likely to see a train operated by a large company.\n",
    "\n",
    "As an exercise, implement the likelihood function for this variation of the locomotive problem, and compare the results.\n",
    "\n",
    "\n",
    "http://stats.stackexchange.com/questions/70096/locomotive-problem-with-various-size-companies"
   ]
  },
  {
   "cell_type": "markdown",
   "metadata": {},
   "source": [
    "I'm first outlining this approach for two companies in detail, the extension to even more companies then should be intuitive (at least for the likelihood, the prior could be more tricky).\n",
    "\n",
    "Imagine there are two companies, A and B, where A has $N_A$ locomotives and B has $N_B$ locomotives.\n",
    "We assume $N_A \\geq N_B$ (you can always switch A and B to make this hold). The total number for that hypothesis of locomotives is\n",
    "$N_{tot} = N_A + N_B$.\n",
    "\n",
    "Imagine you see a locomotive with the number n. There are three cases for the likelihood:\n",
    "\n",
    "1. $N_A < n$: This can't happen, so the likelihood is zero.\n",
    "2. $N_B < n \\leq N_A$: This locomotive must have come from company A, so there is only one locomotive with this number. Thus the likelihood is $\\frac{1}{N_{tot}}$\n",
    "3. $n \\leq N_B$: This locomotive can be either from A or from B, so there are two locomotives with this number. The likelihood to see one of them is $\\frac{2}{N_{tot}}$.\n",
    "\n",
    "As a quick sanity check: The likelihood to see any number at all is:\n",
    "\n",
    "$\n",
    "\\sum_{i=1}^{\\infty} L(i) = \\sum_{i=1}^{N_B} \\frac{2}{N_{tot}} + \\sum_{i=N_B + 1}^{N_A} \\frac{1}{N_{tot}}\n",
    "$\n",
    "\n",
    "$\n",
    "= \\frac{2 N_{B}}{N_{tot}} + \\frac{N_{A} - N_{B}}{N_{tot}} = \\frac{N_A + N_B}{N_{tot}} = 1\n",
    "$\n",
    "\n",
    "\n",
    "Generally, there will be (number of companies + 1) cases, one for each interval $N_{i} < n \\leq N_{i+1}$.\n",
    "Luckily, we can look at the problem from a different angle and see that what we need for the likelihood are actually just two numbers: $N_{tot}$, the total number of locomotives; and $N_{n}$, the number of locomotives that have the number $n$. How likely are we to see one of the $N_{n}$ locomotives, out of $N_{tot}$ locomotives? This will happen in $\\frac{N_{n}}{N_{tot}}$ of all cases, so this fraction is the likelihood. In Python, you can calculate this two sum generators (and you don't even have to order the companies by size). If $N_s$ contains a list (or tuple) of company sizes according to your hypothesis, then this will give the likelihood for seeing a locomotive with number $n$.:\n",
    "\n",
    "```\n",
    "total_number_of_locomotives = sum(N for N in Ns)\n",
    "number_of_locomotives_with_that_number = sum(1 for N in Ns if n<=N)\n",
    "likelihood = (number_of_locomotives_with_that_number / total_number_of_locomotives)\n",
    "```\n",
    "\n",
    "Note the trivial case with one company is also handled by this code (the first sum will just be $N$, the second sum will be 0 or 1, depending on whether $n \\leq N$)\n"
   ]
  },
  {
   "cell_type": "code",
   "execution_count": 266,
   "metadata": {
    "collapsed": false
   },
   "outputs": [],
   "source": [
    "from thinkbayes import Suite\n",
    "\n",
    "class TrainTough(Suite):\n",
    "    \n",
    "    def __init__(self, hypos, alpha=1.0):\n",
    "        Pmf.__init__(self)\n",
    "        for hypo in hypos:\n",
    "            self.Set(hypo, hypo**(-alpha))\n",
    "        self.Normalize()\n",
    "        self.total_number_of_locomotives = sum(N for N in hypos)\n",
    "    \n",
    "    def Likelihood(self, data, hypo):\n",
    "        number_of_locomotives_with_that_number = sum(1 for N in hypos if data <= hypo)\n",
    "        return (float(number_of_locomotives_with_that_number) / self.total_number_of_locomotives)"
   ]
  },
  {
   "cell_type": "code",
   "execution_count": 273,
   "metadata": {
    "collapsed": false
   },
   "outputs": [
    {
     "data": {
      "text/plain": [
       "816.4574946765122"
      ]
     },
     "execution_count": 273,
     "metadata": {},
     "output_type": "execute_result"
    }
   ],
   "source": [
    "hypos = xrange(1,1001)\n",
    "suitetough = TrainTough(hypos)\n",
    "for data in [30,60,90,54,35,657,234,23,43,23,234]:\n",
    "    suitetough.Update(data)\n",
    "suitetough.Mean()"
   ]
  },
  {
   "cell_type": "code",
   "execution_count": 274,
   "metadata": {
    "collapsed": false
   },
   "outputs": [
    {
     "name": "stdout",
     "output_type": "stream",
     "text": [
      "(670, 980)\n"
     ]
    }
   ],
   "source": [
    "cdf = suitetough.MakeCdf()\n",
    "interval = cdf.Percentile(5), cdf.Percentile(95)\n",
    "print interval"
   ]
  },
  {
   "cell_type": "code",
   "execution_count": 268,
   "metadata": {
    "collapsed": false
   },
   "outputs": [
    {
     "data": {
      "text/plain": [
       "981"
      ]
     },
     "execution_count": 268,
     "metadata": {},
     "output_type": "execute_result"
    }
   ],
   "source": [
    "sum(1 for N in hypos if 20 <= N)"
   ]
  },
  {
   "cell_type": "code",
   "execution_count": 269,
   "metadata": {
    "collapsed": false
   },
   "outputs": [
    {
     "data": {
      "text/plain": [
       "133.2752313750312"
      ]
     },
     "execution_count": 269,
     "metadata": {},
     "output_type": "execute_result"
    }
   ],
   "source": [
    "hypos = xrange(1,1001)\n",
    "suite = Train(hypos)\n",
    "for data in [30,60,90]:\n",
    "    suite.Update(data)\n",
    "suite.Mean()"
   ]
  },
  {
   "cell_type": "code",
   "execution_count": 270,
   "metadata": {
    "collapsed": true
   },
   "outputs": [],
   "source": [
    "dftough = pd.DataFrame({'many companies': list(suitetough.Render()[1]),\n",
    "                       'one company': list(suite.Render()[1])}, index=list(suitetough.Render()[0]))"
   ]
  },
  {
   "cell_type": "code",
   "execution_count": 271,
   "metadata": {
    "collapsed": false
   },
   "outputs": [
    {
     "data": {
      "text/plain": [
       "<matplotlib.axes._subplots.AxesSubplot at 0xad257f0>"
      ]
     },
     "execution_count": 271,
     "metadata": {},
     "output_type": "execute_result"
    },
    {
     "data": {
      "image/png": "[encoded data removed]",
      "text/plain": [
       "<matplotlib.figure.Figure at 0xaca6c88>"
      ]
     },
     "metadata": {},
     "output_type": "display_data"
    }
   ],
   "source": [
    "dftough.plot()"
   ]
  },
  {
   "cell_type": "markdown",
   "metadata": {},
   "source": [
    "## Chapter 4 More Estimation\n",
    "\n",
    "### 4.1 The Euro problem\n",
    "\n",
    "When spun on edge 250 times, a Belgian one-euro coin came up heads 140 times and tails 110. It looks very suspicious to me said Barry Blight, a statistics lecturer at the London School of Economics. If the coin were unbiased, the change of getting a results as extreme as that would be less than 7%.\n",
    "\n",
    "But do these data give evidence that the coin is biased rather than fair?\n",
    "\n",
    "To answer that question, we'll proceed in two steps. The first is to estimate the probability that the coin lands face up.\n",
    "The second is to evaluate whether the data support the hyopthesis that the coin is biased.\n",
    "\n",
    "Any given coin has some probability, x, of landing heads up when spun on edge. It seems reasonable to believe that the value of x depends on some physical characteristics of the coin, primarily the distribution of weight.\n",
    "\n",
    "If a coin is perfectly balanced, we expect x to be close to 50%, but for a lopsided coin, x might be substantially different. We can use Baye's theorem and the observed data to estimate x.\n",
    "\n",
    "Let's define 101 hypotheses, where $H_x$ is the hypothesis that the probablity of heads is x%, for values from 0 to 100. I'll start with a uniform prior where the probablity of $H_x$ is the same for all x. We'll come back later to consider other priors."
   ]
  },
  {
   "cell_type": "markdown",
   "metadata": {},
   "source": [
    "The likelihood function is relatively easy: if $H_x$ is true, the probablity of heads is $\\frac{x}{100}$ and the probability of tails is $1 - \\frac{x}{100}$.\n",
    "\n"
   ]
  },
  {
   "cell_type": "code",
   "execution_count": 275,
   "metadata": {
    "collapsed": true
   },
   "outputs": [],
   "source": [
    "class Euro(Suite):\n",
    "\n",
    "    def Likelihood(self, data, hypo):\n",
    "        x = hypo\n",
    "        if data == 'H':\n",
    "            return x/100.0\n",
    "        else:\n",
    "            return 1 - x/100.0"
   ]
  },
  {
   "cell_type": "code",
   "execution_count": 276,
   "metadata": {
    "collapsed": true
   },
   "outputs": [],
   "source": [
    "suite = Euro(xrange(0, 101))\n",
    "dataset = 'H'*140 + 'T'*110"
   ]
  },
  {
   "cell_type": "code",
   "execution_count": 277,
   "metadata": {
    "collapsed": true
   },
   "outputs": [],
   "source": [
    "for data in dataset:\n",
    "    suite.Update(data)"
   ]
  },
  {
   "cell_type": "code",
   "execution_count": 278,
   "metadata": {
    "collapsed": true
   },
   "outputs": [],
   "source": [
    "dfeuro = pd.DataFrame({'uniform': list(suite.Render()[1])}, index=list(suite.Render()[0]))"
   ]
  },
  {
   "cell_type": "code",
   "execution_count": 279,
   "metadata": {
    "collapsed": false
   },
   "outputs": [
    {
     "data": {
      "text/plain": [
       "<matplotlib.text.Text at 0xb4e4be0>"
      ]
     },
     "execution_count": 279,
     "metadata": {},
     "output_type": "execute_result"
    },
    {
     "data": {
      "image/png": "[encoded data removed]",
      "text/plain": [
       "<matplotlib.figure.Figure at 0xb2f9668>"
      ]
     },
     "metadata": {},
     "output_type": "display_data"
    }
   ],
   "source": [
    "dfeuro.plot()\n",
    "plt.ylabel('probability')"
   ]
  },
  {
   "cell_type": "markdown",
   "metadata": {},
   "source": [
    "### Summarizing the posterior\n",
    "\n",
    "Again, there are several ways to summarize the posterior distribution. One option is to find the most likely value in the posterior distribution."
   ]
  },
  {
   "cell_type": "code",
   "execution_count": 280,
   "metadata": {
    "collapsed": false
   },
   "outputs": [
    {
     "data": {
      "text/plain": [
       "56"
      ]
     },
     "execution_count": 280,
     "metadata": {},
     "output_type": "execute_result"
    }
   ],
   "source": [
    "suite.MaximumLikelihood()"
   ]
  },
  {
   "cell_type": "code",
   "execution_count": 281,
   "metadata": {
    "collapsed": false
   },
   "outputs": [
    {
     "data": {
      "text/plain": [
       "0.56"
      ]
     },
     "execution_count": 281,
     "metadata": {},
     "output_type": "execute_result"
    }
   ],
   "source": [
    "140./250"
   ]
  },
  {
   "cell_type": "markdown",
   "metadata": {},
   "source": [
    "```In this case the result is 56, which is also the observed percentage of heads, 140/250 = 56%. So that suggests (correctly) that the observed percentage is the maximum likelihood estimator for the population.\n",
    "```\n",
    "\n",
    "We might also summarize the posterior by computing the mean and median:\n"
   ]
  },
  {
   "cell_type": "code",
   "execution_count": 282,
   "metadata": {
    "collapsed": false
   },
   "outputs": [
    {
     "name": "stdout",
     "output_type": "stream",
     "text": [
      "Mean 55.9523809524\n"
     ]
    }
   ],
   "source": [
    "print 'Mean', suite.Mean()"
   ]
  },
  {
   "cell_type": "code",
   "execution_count": 283,
   "metadata": {
    "collapsed": false
   },
   "outputs": [
    {
     "name": "stdout",
     "output_type": "stream",
     "text": [
      "Median 56\n"
     ]
    }
   ],
   "source": [
    "import thinkbayes\n",
    "print 'Median', thinkbayes.Percentile(suite, 50)"
   ]
  },
  {
   "cell_type": "code",
   "execution_count": 284,
   "metadata": {
    "collapsed": false
   },
   "outputs": [
    {
     "name": "stdout",
     "output_type": "stream",
     "text": [
      "CI (51, 61)\n"
     ]
    }
   ],
   "source": [
    "print 'CI', thinkbayes.CredibleInterval(suite, 90)"
   ]
  },
  {
   "cell_type": "markdown",
   "metadata": {},
   "source": [
    "Now, getting back to the original question, we would like to know whether the coin is fair. We observe that the posterior credible interval does not include 50%, which suggests that the coin is not fair.\n",
    "\n",
    "But that is not exactly the question we started with. MacKay asked, “ Do these data give evidence that the coin is biased rather than fair?” To answer that question, we will have to be more precise about what it means to say that data constitute evidence for a hypothesis. And that is the subject of the next chapter.\n",
    "\n"
   ]
  },
  {
   "cell_type": "markdown",
   "metadata": {},
   "source": [
    "### Swamping the priors\n",
    "\n",
    "We started with a uniform prior, but that might not be a good choice. I can believe that if a coin is lopsided, x might deviate substantially from 50%, but it seems unlikely that the Belgian Euro coin is so imbalanced that x is 10% or 90%.\n",
    "It might be more reasonable to choose a prior that gives higher probability to values of x near 50% and lower probability to extreme values."
   ]
  },
  {
   "cell_type": "code",
   "execution_count": 285,
   "metadata": {
    "collapsed": true
   },
   "outputs": [],
   "source": [
    "def TrianglePrior():\n",
    "    suite = Euro()\n",
    "    for x in range(0, 51):\n",
    "        suite.Set(x, x)\n",
    "    for x in range(51, 101):\n",
    "        suite.Set(x, 100-x) \n",
    "    suite.Normalize()\n",
    "    \n",
    "    return suite"
   ]
  },
  {
   "cell_type": "code",
   "execution_count": 286,
   "metadata": {
    "collapsed": true
   },
   "outputs": [],
   "source": [
    "suite = TrianglePrior()"
   ]
  },
  {
   "cell_type": "code",
   "execution_count": 287,
   "metadata": {
    "collapsed": true
   },
   "outputs": [],
   "source": [
    "for data in dataset:\n",
    "    suite.Update(data)"
   ]
  },
  {
   "cell_type": "code",
   "execution_count": 288,
   "metadata": {
    "collapsed": true
   },
   "outputs": [],
   "source": [
    "suiteuni = Euro(xrange(0,101))"
   ]
  },
  {
   "cell_type": "code",
   "execution_count": 289,
   "metadata": {
    "collapsed": false
   },
   "outputs": [],
   "source": [
    "for data in dataset:\n",
    "    suiteuni.Update(data)"
   ]
  },
  {
   "cell_type": "code",
   "execution_count": 290,
   "metadata": {
    "collapsed": true
   },
   "outputs": [],
   "source": [
    "dfeurotrash = pd.DataFrame({'triangle': list(suite.Render()[1]),\n",
    "                           'uniform': list(suiteuni.Render()[1])},\n",
    "                          index=list(suite.Render()[0]))"
   ]
  },
  {
   "cell_type": "code",
   "execution_count": 291,
   "metadata": {
    "collapsed": false
   },
   "outputs": [
    {
     "data": {
      "text/plain": [
       "<matplotlib.axes._subplots.AxesSubplot at 0xb505fd0>"
      ]
     },
     "execution_count": 291,
     "metadata": {},
     "output_type": "execute_result"
    },
    {
     "data": {
      "image/png": "[encoded data removed]",
      "text/plain": [
       "<matplotlib.figure.Figure at 0xb4f92e8>"
      ]
     },
     "metadata": {},
     "output_type": "display_data"
    }
   ],
   "source": [
    "dfeurotrash.plot()"
   ]
  },
  {
   "cell_type": "markdown",
   "metadata": {},
   "source": [
    "Even with substantially different priors, the posterior distributions are very similar."
   ]
  },
  {
   "cell_type": "code",
   "execution_count": 292,
   "metadata": {
    "collapsed": false
   },
   "outputs": [
    {
     "data": {
      "text/plain": [
       "55.74349943859506"
      ]
     },
     "execution_count": 292,
     "metadata": {},
     "output_type": "execute_result"
    }
   ],
   "source": [
    "suite.Mean()"
   ]
  },
  {
   "cell_type": "code",
   "execution_count": 293,
   "metadata": {
    "collapsed": false
   },
   "outputs": [
    {
     "data": {
      "text/plain": [
       "55.952380952380956"
      ]
     },
     "execution_count": 293,
     "metadata": {},
     "output_type": "execute_result"
    }
   ],
   "source": [
    "suiteuni.Mean()"
   ]
  },
  {
   "cell_type": "code",
   "execution_count": 294,
   "metadata": {
    "collapsed": false
   },
   "outputs": [
    {
     "data": {
      "text/plain": [
       "56"
      ]
     },
     "execution_count": 294,
     "metadata": {},
     "output_type": "execute_result"
    }
   ],
   "source": [
    "thinkbayes.Percentile(suite, 50)"
   ]
  },
  {
   "cell_type": "code",
   "execution_count": 295,
   "metadata": {
    "collapsed": false
   },
   "outputs": [
    {
     "data": {
      "text/plain": [
       "56"
      ]
     },
     "execution_count": 295,
     "metadata": {},
     "output_type": "execute_result"
    }
   ],
   "source": [
    "thinkbayes.Percentile(suiteuni, 50)"
   ]
  },
  {
   "cell_type": "code",
   "execution_count": 296,
   "metadata": {
    "collapsed": false
   },
   "outputs": [
    {
     "data": {
      "text/plain": [
       "(51, 61)"
      ]
     },
     "execution_count": 296,
     "metadata": {},
     "output_type": "execute_result"
    }
   ],
   "source": [
    "thinkbayes.CredibleInterval(suite, 90)"
   ]
  },
  {
   "cell_type": "code",
   "execution_count": 297,
   "metadata": {
    "collapsed": false
   },
   "outputs": [
    {
     "data": {
      "text/plain": [
       "(51, 61)"
      ]
     },
     "execution_count": 297,
     "metadata": {},
     "output_type": "execute_result"
    }
   ],
   "source": [
    "thinkbayes.CredibleInterval(suiteuni, 90)"
   ]
  },
  {
   "cell_type": "markdown",
   "metadata": {},
   "source": [
    "This is an example of **swamping the priors**: with enough data, people who start with different priors will tend to converge on the same posterior."
   ]
  },
  {
   "cell_type": "markdown",
   "metadata": {},
   "source": [
    "### Optimzation\n",
    "\n",
    "The code I have shown so far is meant to be easy to read, but it is not very efficient. In general, I like to develop code that is demonstrably correct, then check whether it is fast enough for my purposes. If so, there is no need to optimize. For this example, if we care about run time, there are several ways we can speed it up.\n",
    "\n",
    "The first opportunity is to reduce the number of times we normalize the suite. In the original code, we call ```Update``` once for each spin.\n",
    "\n",
    "```\n",
    "dataset = 'H' * heads + 'T' * tails\n",
    "\n",
    "    for data in dataset:\n",
    "        suite.Update(data)\n",
    "```\n",
    "\n",
    "And here's what ```Update``` looks like:\n",
    "\n",
    "```\n",
    "def Update(self, data):\n",
    "        for hypo in self.Values():\n",
    "            like = self.Likelihood(data, hypo)\n",
    "            self.Mult(hypo, like)\n",
    "        return self.Normalize()\n",
    "```\n",
    "\n",
    "Each update iterates through the hypotheses, then calls ```Normalize```, which iterates through the hypotheses again.\n",
    "We can save some time by doing all of the updates before normalizing.\n",
    "\n",
    "\n",
    "```Suite``` provides a method called ```UpdateSet``` that does exactly that. Here it is:\n",
    "\n",
    "```\n",
    "def UpdateSet(self, dataset):\n",
    "        for data in dataset:\n",
    "            for hypo in self.Values():\n",
    "                like = self.Likelihood(data, hypo)\n",
    "                self.Mult(hypo, like)\n",
    "        return self.Normalize()\n",
    "```"
   ]
  },
  {
   "cell_type": "code",
   "execution_count": 298,
   "metadata": {
    "collapsed": true
   },
   "outputs": [],
   "source": [
    "class Euro(Suite):\n",
    "\n",
    "    def Likelihood(self, data, hypo):\n",
    "        x = hypo / 100.0\n",
    "        heads, tails = data \n",
    "        like = x**heads*(1-x)**tails\n",
    "        return like"
   ]
  },
  {
   "cell_type": "code",
   "execution_count": 299,
   "metadata": {
    "collapsed": true
   },
   "outputs": [],
   "source": [
    "suite = Euro(xrange(1,101))"
   ]
  },
  {
   "cell_type": "code",
   "execution_count": 300,
   "metadata": {
    "collapsed": true
   },
   "outputs": [],
   "source": [
    "heads, tails = 140, 110"
   ]
  },
  {
   "cell_type": "code",
   "execution_count": 301,
   "metadata": {
    "collapsed": false
   },
   "outputs": [
    {
     "data": {
      "text/plain": [
       "2.6349205016724187e-76"
      ]
     },
     "execution_count": 301,
     "metadata": {},
     "output_type": "execute_result"
    }
   ],
   "source": [
    "suite.Update((heads, tails))"
   ]
  },
  {
   "cell_type": "code",
   "execution_count": 302,
   "metadata": {
    "collapsed": false
   },
   "outputs": [
    {
     "data": {
      "text/plain": [
       "<matplotlib.axes._subplots.AxesSubplot at 0xb590160>"
      ]
     },
     "execution_count": 302,
     "metadata": {},
     "output_type": "execute_result"
    },
    {
     "data": {
      "image/png": "[encoded data removed]",
      "text/plain": [
       "<matplotlib.figure.Figure at 0xb73aa58>"
      ]
     },
     "metadata": {},
     "output_type": "display_data"
    }
   ],
   "source": [
    "pd.Series(list(suite.Render()[1]), index=list(suite.Render()[0])).plot()"
   ]
  },
  {
   "cell_type": "markdown",
   "metadata": {},
   "source": [
    "## 4.5 The beta distribution\n",
    "\n",
    "There is one more optimization that solves this problem even faster.\n",
    "\n",
    "So far we have used a Pmf object to represent a discrete set of values for x. Now we will use a continuous distibution, \n",
    "specifically the beta distribution.\n",
    "http://en.wikipedia.org/wiki/Beta_distribution\n",
    "\n",
    "The beta distribution is defined on the interval from 0 to 1 (including both), so it is a natural choice for describing\n",
    "proportions and probabilities. But wait, it gets better.\n",
    "\n",
    "It turns out that if you do a Bayesian update with a binomial likelihood function, which is what we did in the previous section, the beta distribution is a **conjugate prior**. That means that if the prior distribution for x is a beta distribution, the posterior is also a beta distribution. But wait, it gets even better.\n",
    "\n",
    "The shape of the beta distribution depends on two parameters, written $\\alpha$ and $\\beta$, or ```alpha``` and ```beta```.\n",
    "If thr prior is a beta distribution with parameters $\\alpha$ and $\\beta$, and we see data with $h$ heads and $t$ tails, the posterior is a beta distribution with parameters $\\alpha + h$ and $\\beta + t$. In other words, we can do an update with two additions.\n",
    "\n",
    "So that's great, but it only works if we canfind a beta distribution that is a good choice for a prior. Fortunately, for many realistic priors there is a a beta distribution that is at least a good approximation, and for a uniform prior there is a perfect match. The beta distribution with $\\alpha=1$ and $\\beta=1$ is uniform from 0 to 1.\n",
    "\n",
    "\n",
    "\n",
    "```\n",
    "Let’s see how we can take advantage of all this. thinkbayes.py provides a class that represents a beta distribution:\n",
    "\n",
    "class Beta(object):\n",
    "\n",
    "    def __init__(self, alpha=1, beta=1):\n",
    "        self.alpha = alpha\n",
    "        self.beta = beta\n",
    "By default __init__ makes a uniform distribution. Update performs a Bayesian update:\n",
    "    def Update(self, data):\n",
    "        heads, tails = data\n",
    "        self.alpha += heads\n",
    "        self.beta += tails\n",
    "data is a pair of integers representing the number of heads and tails.\n",
    "So we have yet another way to solve the Euro problem:\n",
    "```"
   ]
  },
  {
   "cell_type": "code",
   "execution_count": 276,
   "metadata": {
    "collapsed": false
   },
   "outputs": [
    {
     "name": "stdout",
     "output_type": "stream",
     "text": [
      "0.559523809524\n"
     ]
    }
   ],
   "source": [
    "beta = thinkbayes.Beta()\n",
    "beta.Update((140,110))\n",
    "print beta.Mean()"
   ]
  },
  {
   "cell_type": "code",
   "execution_count": 277,
   "metadata": {
    "collapsed": true
   },
   "outputs": [],
   "source": [
    "x = np.linspace(0,1,1000)"
   ]
  },
  {
   "cell_type": "code",
   "execution_count": 278,
   "metadata": {
    "collapsed": true
   },
   "outputs": [],
   "source": [
    "huh = beta.EvalPdf(x)"
   ]
  },
  {
   "cell_type": "code",
   "execution_count": 279,
   "metadata": {
    "collapsed": false
   },
   "outputs": [
    {
     "name": "stdout",
     "output_type": "stream",
     "text": [
      "Help on Beta in module thinkbayes object:\n",
      "\n",
      "class Beta(__builtin__.object)\n",
      " |  Represents a Beta distribution.\n",
      " |  \n",
      " |  See http://en.wikipedia.org/wiki/Beta_distribution\n",
      " |  \n",
      " |  Methods defined here:\n",
      " |  \n",
      " |  EvalPdf(self, x)\n",
      " |      Evaluates the PDF at x.\n",
      " |  \n",
      " |  MakeCdf(self, steps=101)\n",
      " |      Returns the CDF of this distribution.\n",
      " |  \n",
      " |  MakePmf(self, steps=101, name='')\n",
      " |      Returns a Pmf of this distribution.\n",
      " |      \n",
      " |      Note: Normally, we just evaluate the PDF at a sequence\n",
      " |      of points and treat the probability density as a probability\n",
      " |      mass.\n",
      " |      \n",
      " |      But if alpha or beta is less than one, we have to be\n",
      " |      more careful because the PDF goes to infinity at x=0\n",
      " |      and x=1.  In that case we evaluate the CDF and compute\n",
      " |      differences.\n",
      " |  \n",
      " |  Mean(self)\n",
      " |      Computes the mean of this distribution.\n",
      " |  \n",
      " |  Random(self)\n",
      " |      Generates a random variate from this distribution.\n",
      " |  \n",
      " |  Sample(self, n)\n",
      " |      Generates a random sample from this distribution.\n",
      " |      \n",
      " |      n: int sample size\n",
      " |  \n",
      " |  Update(self, data)\n",
      " |      Updates a Beta distribution.\n",
      " |      \n",
      " |      data: pair of int (heads, tails)\n",
      " |  \n",
      " |  __init__(self, alpha=1, beta=1, name='')\n",
      " |      Initializes a Beta distribution.\n",
      " |  \n",
      " |  ----------------------------------------------------------------------\n",
      " |  Data descriptors defined here:\n",
      " |  \n",
      " |  __dict__\n",
      " |      dictionary for instance variables (if defined)\n",
      " |  \n",
      " |  __weakref__\n",
      " |      list of weak references to the object (if defined)\n",
      "\n"
     ]
    }
   ],
   "source": [
    "help(beta)"
   ]
  },
  {
   "cell_type": "code",
   "execution_count": 280,
   "metadata": {
    "collapsed": true
   },
   "outputs": [],
   "source": [
    "pmfbeta = beta.MakePmf()"
   ]
  },
  {
   "cell_type": "code",
   "execution_count": 281,
   "metadata": {
    "collapsed": false
   },
   "outputs": [
    {
     "data": {
      "text/plain": [
       "(0.51, 0.61)"
      ]
     },
     "execution_count": 281,
     "metadata": {},
     "output_type": "execute_result"
    }
   ],
   "source": [
    "pmfbeta.CredibleInterval(90)"
   ]
  },
  {
   "cell_type": "code",
   "execution_count": 282,
   "metadata": {
    "collapsed": false
   },
   "outputs": [
    {
     "data": {
      "text/plain": [
       "0.5595238095238098"
      ]
     },
     "execution_count": 282,
     "metadata": {},
     "output_type": "execute_result"
    }
   ],
   "source": [
    "pmfbeta.Mean()"
   ]
  },
  {
   "cell_type": "code",
   "execution_count": 283,
   "metadata": {
    "collapsed": false
   },
   "outputs": [],
   "source": [
    "wtf = pd.DataFrame({'pdf':huh,\n",
    "                   'value': x}, index=x)"
   ]
  },
  {
   "cell_type": "code",
   "execution_count": 284,
   "metadata": {
    "collapsed": true
   },
   "outputs": [],
   "source": [
    "wtf['for mean'] = wtf['pdf']*wtf['value']"
   ]
  },
  {
   "cell_type": "code",
   "execution_count": 285,
   "metadata": {
    "collapsed": false
   },
   "outputs": [
    {
     "data": {
      "text/plain": [
       "<matplotlib.axes._subplots.AxesSubplot at 0xbc38ba8>"
      ]
     },
     "execution_count": 285,
     "metadata": {},
     "output_type": "execute_result"
    },
    {
     "data": {
      "image/png": "[encoded data removed]",
      "text/plain": [
       "<matplotlib.figure.Figure at 0xa7ca400>"
      ]
     },
     "metadata": {},
     "output_type": "display_data"
    }
   ],
   "source": [
    "wtf['pdf'].plot()"
   ]
  },
  {
   "cell_type": "code",
   "execution_count": 286,
   "metadata": {
    "collapsed": false
   },
   "outputs": [
    {
     "data": {
      "text/plain": [
       "1.4728264561312512e-76"
      ]
     },
     "execution_count": 286,
     "metadata": {},
     "output_type": "execute_result"
    }
   ],
   "source": [
    "wtf['for mean'].mean()"
   ]
  },
  {
   "cell_type": "markdown",
   "metadata": {},
   "source": [
    "## Discussion\n",
    "\n",
    "In this chapter we solved the same problem with two different priors and found that with a large dataset, the priors get swamped. If two people start with different prior beliefs, they generally find, as they see more data, that their posterior distributions converge. At some point the difference between their distributions is small enough that it has no practical effect.\n",
    "When this happens, it relieves some of the worry about objectivity that I discussed in the previous chapter. And for many real-world problems even stark prior beliefs can eventually be reconciled by data.\n",
    "\n",
    "But that is not always the case. First, remember that all Bayesian analysis is based on modeling decisions. If you and I do not choose the same model, we might interpret data differently. So even with the same data, we would compute different likelihoods, and our posterior beliefs might not converge.\n",
    "\n",
    "Also, notice that in a Bayesian update, we multiply each prior probability by a likelihood, so if p(H) is 0, p(H|D) is also 0, regardless of D. In the Euro problem, if you are convinced that x is less than 50%, and you assign probability 0 to all other hypotheses, no amount of data will convince you otherwise.\n",
    "\n",
    "This observation is the basis of **Cromwell’s rule**, which is the recommendation that you should avoid giving a prior probability of 0 to any hypothesis that is even remotely possible\n",
    "\n",
    "Cromwell’s rule is named after Oliver Cromwell, who wrote, “I beseech you, in the bowels of Christ, think it possible that you may be mistaken.” For Bayesians, this turns out to be good advice (even if it’s a little overwrought)."
   ]
  },
  {
   "cell_type": "markdown",
   "metadata": {},
   "source": [
    "## 4.7 Exercises\n",
    "\n",
    "### Exercise 1\n",
    "Suppose that instead of observing coin tosses directly, you measure the outcome using an instrument that is not always correct.\n",
    "Specifically, suppose that there is a probably y that an actual heads is repeated as tails, or actual tails reported as heads.\n",
    "\n",
    "Write a class that estimates the bias of a coin given a series of outcomes and the value of y.\n",
    "How does the spread of the posterior distribution depend on y?"
   ]
  },
  {
   "cell_type": "code",
   "execution_count": 287,
   "metadata": {
    "collapsed": false
   },
   "outputs": [],
   "source": [
    "from thinkbayes import Beta\n",
    "\n",
    "class betay(Beta):\n",
    "    \n",
    "    def __init__(self, alpha=1, beta=1,y=.25):\n",
    "        self.alpha = alpha\n",
    "        self.beta = beta\n",
    "        self.y = y\n",
    "        \n",
    "    def Update(self, data):\n",
    "        heads, tails = data\n",
    "        self.alpha += (1-self.y)*heads + self.y*tails\n",
    "        self.beta += (1-self.y)*tails + self.y*heads\n",
    "    "
   ]
  },
  {
   "cell_type": "code",
   "execution_count": 288,
   "metadata": {
    "collapsed": true
   },
   "outputs": [],
   "source": [
    "betaboo = betay(y=.45)"
   ]
  },
  {
   "cell_type": "code",
   "execution_count": 289,
   "metadata": {
    "collapsed": false
   },
   "outputs": [],
   "source": [
    "betaboo.Update((140, 110))"
   ]
  },
  {
   "cell_type": "code",
   "execution_count": 290,
   "metadata": {
    "collapsed": false
   },
   "outputs": [
    {
     "name": "stdout",
     "output_type": "stream",
     "text": [
      "0.505952380952\n"
     ]
    }
   ],
   "source": [
    "print betaboo.Mean()"
   ]
  },
  {
   "cell_type": "code",
   "execution_count": 291,
   "metadata": {
    "collapsed": true
   },
   "outputs": [],
   "source": [
    "pmfbetaboo = betaboo.MakePmf()"
   ]
  },
  {
   "cell_type": "code",
   "execution_count": 292,
   "metadata": {
    "collapsed": false
   },
   "outputs": [
    {
     "data": {
      "text/plain": [
       "(0.45, 0.56)"
      ]
     },
     "execution_count": 292,
     "metadata": {},
     "output_type": "execute_result"
    }
   ],
   "source": [
    "pmfbetaboo.CredibleInterval(90)"
   ]
  },
  {
   "cell_type": "code",
   "execution_count": 293,
   "metadata": {
    "collapsed": false
   },
   "outputs": [
    {
     "data": {
      "text/plain": [
       "<matplotlib.axes._subplots.AxesSubplot at 0xbeb1898>"
      ]
     },
     "execution_count": 293,
     "metadata": {},
     "output_type": "execute_result"
    },
    {
     "data": {
      "image/png": "[encoded data removed]",
      "text/plain": [
       "<matplotlib.figure.Figure at 0xbe98198>"
      ]
     },
     "metadata": {},
     "output_type": "display_data"
    }
   ],
   "source": [
    "pd.DataFrame({'y=.2':list(pmfbetaboo.Render()[1])}, index=list(pmfbetaboo.Render()[0])).plot()"
   ]
  },
  {
   "cell_type": "markdown",
   "metadata": {},
   "source": [
    "## Chapter 5 Odds and Addends\n",
    "\n",
    "### 5.1 Odds\n",
    "\n",
    "One way to represent a probability is with a number between 0 and 1, but that’s not the only way. If you have ever bet on a football game or a horse race, you have probably encountered another representation of probability, called odds.\n",
    "You might have heard expressions like “the odds are three to one,” but you might not know what that means. The odds in favor of an event are the ratio of the probability it will occur to the probability that it will not.\n",
    "\n",
    "So if I think my team has a 75% chance of winning, I would say that the odds in their favor are three to one, because the chance of winning is three times the chance of losing.\n",
    "\n",
    "You can write odds in decimal form, but it is most common to write them as a ratio of integers. So “three to one” is written 3:1.\n",
    "\n",
    "\n",
    "When probabilities are low, it is more common to report the odds against rather than the odds in favor. For example, if I think my horse has a 10% chance of winning, I would say that the odds against are 9:1.\n",
    "\n",
    "Probabilities and odds are different representations of the same information.\n"
   ]
  },
  {
   "cell_type": "code",
   "execution_count": 294,
   "metadata": {
    "collapsed": true
   },
   "outputs": [],
   "source": [
    "def Odds(p):\n",
    "    return p / (1-p)"
   ]
  },
  {
   "cell_type": "code",
   "execution_count": 295,
   "metadata": {
    "collapsed": true
   },
   "outputs": [],
   "source": [
    "def Probability(o):\n",
    "    return o / (o+1)"
   ]
  },
  {
   "cell_type": "code",
   "execution_count": 296,
   "metadata": {
    "collapsed": true
   },
   "outputs": [],
   "source": [
    "def Probability2(yes, no):\n",
    "    return yes / (yes + no)"
   ]
  },
  {
   "cell_type": "markdown",
   "metadata": {},
   "source": [
    "## 5.2 The odds form of Bayes's theorem\n",
    "\n",
    "In Chapter 1 I wrote Bayes's theorem in the **probability form**:\n",
    "\n",
    "$\n",
    "p(H|D) = \\frac{p(H) p(D|H)}{p(D)}\n",
    "$\n",
    "\n",
    "If we have two hypotheses, A and B, we can write the ratio of posterior probabilities like this:\n",
    "\n",
    "$\n",
    "\\frac{p(A|D)}{p(B|D)} = \\frac{ p(A) p(D|A)}{p(B) p(D|B)}\n",
    "$"
   ]
  },
  {
   "cell_type": "markdown",
   "metadata": {},
   "source": [
    "Notice that the normalizing constant, p(D), drops out of this equation.\n",
    "\n",
    "If A and B are mutually exclusive and collectively exhaustive, that means\n",
    "p(B) = 1 - p(A), so we can rewrite the raio of the priors, and the ratio of the posteriors, as odds.\n",
    "Writing o(A) for odds in favor of A, we get:\n",
    "\n",
    "$\n",
    "o(A|D) = o(A) \\frac{p(D|A)}{p(D|B)}\n",
    "$\n",
    "\n",
    "In words, this says that the posterior odds are the prior odds times the likelihood ratio. This is the **odds form** of \n",
    "Bayes's theorem.\n",
    "This form is most convenient for computing a Bayesian update on paper or in your head. For example, let's go back to the cookie problem:\n",
    "\n",
    "Suppose there are two bowls of cookies. Bowl 1 contains 30 vanilla cookies and 10 chocolate cookies. Bowl 2 contains 20 of each. Now suppose you choose one of the bowls at random and, without looking, select a cookie at random. The cookie is vanilla. What is the probability that it came from Bowl 1?\n",
    "\n",
    "The prior probablity is 50%, so the prior odds are 1:1, or just 1. The likelihood ratio is (3/4)/(1/2) or 3/2. So the posterior odds are 3:2, which corresponds to probability 3/5.\n",
    "\n",
    "\n",
    "\n"
   ]
  },
  {
   "cell_type": "markdown",
   "metadata": {},
   "source": [
    "## 5.3 Oliver's blood\n",
    "\n",
    "Two people have left traces of their own blood at the scene of a crime. A suspect, Oliver, is tested and found to have type ‘O’ blood. The blood groups of the two traces are found to be of type ‘O’ (a common type in the local population, having frequency 60%) and of type ‘AB’ (a rare type, with frequency 1%). Do these data [the traces found at the scene] give evidence in favor of the proposition that Oliver was one of the people [who left blood at the scene]?"
   ]
  },
  {
   "cell_type": "markdown",
   "metadata": {},
   "source": [
    "To answer this question, we need to think about what it means for data to give evidence in favor of (or against) a hypothesis. Intuitively, we might say that data favor a hypothesis if the hypothesis is morelikely in light of the data than it was before.\n",
    "\n",
    "In the cookie problem, the prior odds are 1:1, or probability 50%. The posterior odds are 3:2, or probablity 60%. So we could say that the vanilla cookie is evidence in favor of Bowl 1.\n",
    "\n",
    "The odds form of Bayes's theorem provides a way to make this intuition more precise. Again\n",
    "\n",
    "$\n",
    "o(A|D) = o(A) \\frac{p(D|A)}{p(D|B)}\n",
    "$\n",
    "\n",
    "or dividing through by o(A):\n",
    "\n",
    "$\n",
    "\\frac{o(A|D)}{o(A)} = \\frac{p(D|A)}{p(D|B)}\n",
    "$\n",
    "\n",
    "The term on the left is the ratio of the posterior and prior odds. The term on the right is the likelihood ratio, also called the **Bayes factor**.\n",
    "\n",
    "If the Bayes factor value is greater than 1, that means that the data were more likely under A than under B. And since the odds ratio is also greater than 1, that means that the odds are greater, in light of the data, than they were before.\n",
    "\n",
    "If the Bayes factor is less than 1, that means the data were less likely under A than under B, so the odds in favor of A go down.\n",
    "\n",
    "Finally, if the Bayes factor is exactly 1, the data are equally likely under either hypothesis, so the odds do not change.\n",
    "\n",
    "Now we can get back to the Oliver's blood problem. If Oliver is one of the people who left blood at the crime scene, then he accounts for the 'O' sample, so the probability of the data is just the probablity that a random member of the population has type 'AB' blood, which is 1%.\n",
    "\n",
    "If Oliver did not leave blood at the scene, then we have two samples to account for. IF we choose two random people from the population, wha tis the chance of finding one with type 'O' and one with type 'AB'? Well, there are two ways it might happen: the first person we choose might have type 'O' and the second 'AB', or the other way around. So the total probablity is\n",
    "2(0.6)(0.01) = 1.2%.\n",
    "\n",
    "The likelihood of the data is slightly higher if Oliver is _not_ one of the people who left blood at the scene, so the blood data is actually evidence against Oliver's guilt.\n",
    "\n",
    "This example is a little contrived, but it is an example of the counterintuitive result that data _consistent_ with a hypothesis are not necessarily _in favor of_ the hypothesis.\n",
    "\n",
    "If this result is so counterintuitive that it bothers you, this way of thinking might help: the data consist of a common event, tuype'O' blood, and a rare event, type 'AB' blood. If Oliver accounts for the common event, that leaves the rare event still unexplained. If Oliver doesn't account for teh 'O' blood, then we have two chances to find someone in the population with 'AB' blood. And that factor of two makes all the difference.\n",
    "\n",
    "\n",
    "Let's redo this analysis now assuming that Oliver **has** 'AB' blood.\n",
    "Now if Oliver is one of the people who left blood at the crime scene, then he accounts for the 'AB' sample, so the probablity of the data is just the probablity that a random member of the population has type 'O' blood, which is 60%.\n",
    "\n",
    "If Oliver did not leave blood at the scene, then we have two samples to account for. If we choose two random people from the population, what is the chance of finding one with type 'O' and one with type 'AB'? Well, there are two ways it might happen: the first person we choose might have type 'O' and the second 'AB', or the other way around. So the total probablity is \n",
    "2(0.6)(0.01) = 1.2%\n",
    "\n",
    "So in this case the likelihood of the data is higher if Oliver _is_ one of the people who left blood at the scene, so the blood data is actually evidence for Oliver's guilt.\n"
   ]
  },
  {
   "cell_type": "markdown",
   "metadata": {},
   "source": [
    "## 5.4 Addends\n",
    "\n",
    "The fundamental operation of BAyesian statistics is ```Update```, which takes a prior distribution and a set of data, and produces a posterior distribution. But solving real problems usually involves a number of other operations, including scaling, addition and other arithmetic operations, max and min, and mixturse.\n",
    "\n",
    "This chapter presents addition and max; I will present other operations as we need them.\n",
    "\n",
    "The first example is based on _Dungeons & Dragons_, a role-playing game where the result of players' decisions are usually determined by rolling dice. In fact, before game play starts, players generate each attribute of their characters - strength, intelligence, wisdom, dexterity, constitution, and charisma - by rolling three 6-sided dice and adding them up.\n",
    "\n",
    "So you might be curious to know the distribution of this sum. There are two ways you might compute it:\n",
    "\n",
    "### Simulation:\n",
    "\n",
    "Given a Pmf that represents the distribution for a single die, you can draw random samples, add them up, and accumulate the distribution of simulated sums.\n",
    "\n",
    "### Enumeration:\n",
    "\n",
    "Given two Pmfs, you can enumerate all possible pairs of values and compute the distibution of the sums\n",
    "\n",
    "```thinkbayes``` provides functions for both. Here's an example of the first approach:"
   ]
  },
  {
   "cell_type": "code",
   "execution_count": 297,
   "metadata": {
    "collapsed": true
   },
   "outputs": [],
   "source": [
    "import thinkbayes\n",
    "\n",
    "class Die(thinkbayes.Pmf):\n",
    "    \n",
    "    def __init__(self, sides):\n",
    "        thinkbayes.Pmf.__init__(self)\n",
    "        for x in xrange(1, sides+1):\n",
    "            self.Set(x,1)\n",
    "        self.Normalize()"
   ]
  },
  {
   "cell_type": "code",
   "execution_count": 298,
   "metadata": {
    "collapsed": true
   },
   "outputs": [],
   "source": [
    "d6 = Die(6)"
   ]
  },
  {
   "cell_type": "markdown",
   "metadata": {},
   "source": [
    "And use ```thinkbayes.SampleSum``` to generate a sample of 1000 rolls"
   ]
  },
  {
   "cell_type": "code",
   "execution_count": 306,
   "metadata": {
    "collapsed": true
   },
   "outputs": [],
   "source": [
    "dice = [d6]*3\n",
    "three = thinkbayes.SampleSum(dice, 2000)"
   ]
  },
  {
   "cell_type": "markdown",
   "metadata": {},
   "source": [
    "```SampleSum``` takes a list of distributions (either Pmf or Cdf objects) and the sample size, n. It generates n random sums and returns their distribution as a Pmf object."
   ]
  },
  {
   "cell_type": "code",
   "execution_count": 307,
   "metadata": {
    "collapsed": false
   },
   "outputs": [
    {
     "data": {
      "text/plain": [
       "thinkbayes.Pmf"
      ]
     },
     "execution_count": 307,
     "metadata": {},
     "output_type": "execute_result"
    }
   ],
   "source": [
    "type(three)"
   ]
  },
  {
   "cell_type": "code",
   "execution_count": 308,
   "metadata": {
    "collapsed": false
   },
   "outputs": [
    {
     "data": {
      "text/plain": [
       "<matplotlib.axes._subplots.AxesSubplot at 0xc80cc88>"
      ]
     },
     "execution_count": 308,
     "metadata": {},
     "output_type": "execute_result"
    },
    {
     "data": {
      "image/png": "[encoded data removed]",
      "text/plain": [
       "<matplotlib.figure.Figure at 0xc80c940>"
      ]
     },
     "metadata": {},
     "output_type": "display_data"
    }
   ],
   "source": [
    "pd.Series(list(three.Render()[1]), index=list(three.Render()[0])).plot()"
   ]
  },
  {
   "cell_type": "code",
   "execution_count": 309,
   "metadata": {
    "collapsed": true
   },
   "outputs": [],
   "source": [
    "three_exact = d6 + d6 + d6"
   ]
  },
  {
   "cell_type": "code",
   "execution_count": 310,
   "metadata": {
    "collapsed": false
   },
   "outputs": [
    {
     "data": {
      "text/plain": [
       "<matplotlib.axes._subplots.AxesSubplot at 0xc7f1470>"
      ]
     },
     "execution_count": 310,
     "metadata": {},
     "output_type": "execute_result"
    },
    {
     "data": {
      "image/png": "[encoded data removed]",
      "text/plain": [
       "<matplotlib.figure.Figure at 0xc822630>"
      ]
     },
     "metadata": {},
     "output_type": "display_data"
    }
   ],
   "source": [
    "pd.Series(list(three_exact.Render()[1]), index=list(three_exact.Render()[0])).plot()"
   ]
  },
  {
   "cell_type": "code",
   "execution_count": 311,
   "metadata": {
    "collapsed": false
   },
   "outputs": [],
   "source": [
    "dfall = pd.DataFrame({'sample': list(three.Render()[1]),\n",
    "                     'exact': list(three_exact.Render()[1])}, \n",
    "                    index=list(three_exact.Render()[0]))"
   ]
  },
  {
   "cell_type": "code",
   "execution_count": 312,
   "metadata": {
    "collapsed": false
   },
   "outputs": [
    {
     "data": {
      "text/plain": [
       "<matplotlib.axes._subplots.AxesSubplot at 0xcaf2fd0>"
      ]
     },
     "execution_count": 312,
     "metadata": {},
     "output_type": "execute_result"
    },
    {
     "data": {
      "image/png": "[encoded data removed]",
      "text/plain": [
       "<matplotlib.figure.Figure at 0xcaf9da0>"
      ]
     },
     "metadata": {},
     "output_type": "display_data"
    }
   ],
   "source": [
    "dfall.plot()"
   ]
  },
  {
   "cell_type": "markdown",
   "metadata": {},
   "source": [
    "```Pmf.__add__``` is based on the assumption that the random selections from each Pmf are independent. In the example of rolling several dice, this assumption is pretty good. In other cases, we would have to extend this method to use conditional probabilities."
   ]
  },
  {
   "cell_type": "markdown",
   "metadata": {},
   "source": [
    "## 5.5 Maxima\n",
    "\n",
    "When you generate a _Dungeons & Dragons_ character, you are particularly interested in the character's best attributes, so you might like to know the distribution of the maximum attribute.\n",
    "\n",
    "There are three ways to compute the distribution of a maximum:\n",
    "\n",
    "**Simulation**: Given a Pmf that represents the distribution for a single selection, you can generate random samples, find the maximum, and accumulate the distribution of simulated maxima.\n",
    "\n",
    "**Enumeration**: Given two Pmfs, you can enumerate all possible pairs of values and compute the distribution of the maximum,\n",
    "\n",
    "**Exponentiation**: If we convert a Pmf to a Cdf, there is a simploe and efficient algorithm for finding the Cdf of the maximum.\n",
    "\n",
    "\n",
    "```\n",
    "def PmfMax(pmf1, pmf2):\n",
    "    res = thinkbayes.Pmf()\n",
    "    for v1, p1 in pmf1.Items():\n",
    "        for v2, p2 in pmf2.Items():\n",
    "            res.Incr(max(v1, v2), p1*p2)\n",
    "    return res\n",
    "```"
   ]
  },
  {
   "cell_type": "code",
   "execution_count": 313,
   "metadata": {
    "collapsed": false
   },
   "outputs": [
    {
     "data": {
      "text/plain": [
       "<matplotlib.axes._subplots.AxesSubplot at 0xcaf9550>"
      ]
     },
     "execution_count": 313,
     "metadata": {},
     "output_type": "execute_result"
    },
    {
     "data": {
      "image/png": "[encoded data removed]",
      "text/plain": [
       "<matplotlib.figure.Figure at 0xc80c7b8>"
      ]
     },
     "metadata": {},
     "output_type": "display_data"
    }
   ],
   "source": [
    "best_attr_cdf = three_exact.Max(2)\n",
    "best_attr_pmf = best_attr_cdf.MakePmf()\n",
    "\n",
    "pd.Series(list(best_attr_pmf.Render()[1]), \n",
    "         index=list(best_attr_pmf.Render()[0])).plot()"
   ]
  },
  {
   "cell_type": "markdown",
   "metadata": {},
   "source": [
    "## 5.6 Mixtures\n",
    "\n",
    "Let's do one more example from _Dungeons & Dragons_. Suppose I have a box of dice with the following incentory:\n",
    "\n",
    "* 5 4-sided dice\n",
    "* 4 6-sided dice\n",
    "* 3 8-sided dice\n",
    "* 2 12-sided dice\n",
    "* 1 20-sided die\n",
    "\n",
    "I choose a die from the box and roll it. What is the distribution of the outcome?\n",
    "\n",
    "If you know which die it is, the answer is easy. A Die with n sides yields a uniform distribution from 1 to n, including both.\n",
    "\n",
    "But if we don't know which die it is, the resulting distribution is a **mixture** of uniform distributions with different bounds. In general, this kind of mixture does not fit any simple mathematical model, but it is straightforward to compute the distribution in the form of a PMF.\n",
    "\n",
    "\n",
    "As always, one option is to simulate the scenario, generate a random sample, and compute the PMF of the sample. This approach is simple and it generates an approximate solution quickly. But if we want an exact solution, we need a different approach.\n",
    "\n",
    "Let’s start with a simple version of the problem where there are only two dice, one with 6 sides and one with 8. We can make a Pmf to represent each die:"
   ]
  },
  {
   "cell_type": "code",
   "execution_count": 314,
   "metadata": {
    "collapsed": true
   },
   "outputs": [],
   "source": [
    "d6 = Die(6)\n",
    "d8 = Die(8)"
   ]
  },
  {
   "cell_type": "markdown",
   "metadata": {},
   "source": [
    "Then we create a Pmf to represent the mixture:"
   ]
  },
  {
   "cell_type": "code",
   "execution_count": 315,
   "metadata": {
    "collapsed": false
   },
   "outputs": [
    {
     "data": {
      "text/plain": [
       "1.9999999999999996"
      ]
     },
     "execution_count": 315,
     "metadata": {},
     "output_type": "execute_result"
    }
   ],
   "source": [
    "mix = thinkbayes.Pmf()\n",
    "for die in [d6, d8]:\n",
    "    for outcome, prob in die.Items():\n",
    "        mix.Incr(outcome, prob)\n",
    "mix.Normalize()"
   ]
  },
  {
   "cell_type": "markdown",
   "metadata": {},
   "source": [
    "The first loop enumates the dice; the secon denumerates the outcomes and their probabilities. Inside the loop, ```Pmf.Incr``` adds up the contributions from the two distributions.\n",
    "\n",
    "This code assumes that the two dice are equally likely. More generally, we need to know the probability of each die so we can weight the outcomes accordingly.\n",
    "\n",
    "First we create a Pmf that maps from each die to the probability it is selected:"
   ]
  },
  {
   "cell_type": "code",
   "execution_count": 316,
   "metadata": {
    "collapsed": false
   },
   "outputs": [
    {
     "data": {
      "text/plain": [
       "15"
      ]
     },
     "execution_count": 316,
     "metadata": {},
     "output_type": "execute_result"
    }
   ],
   "source": [
    "pmf_dice = thinkbayes.Pmf()\n",
    "pmf_dice.Set(Die(4), 5)\n",
    "pmf_dice.Set(Die(6), 4)\n",
    "pmf_dice.Set(Die(8), 3)\n",
    "pmf_dice.Set(Die(12), 2)\n",
    "pmf_dice.Set(Die(20), 1)\n",
    "pmf_dice.Normalize()"
   ]
  },
  {
   "cell_type": "code",
   "execution_count": 317,
   "metadata": {
    "collapsed": false
   },
   "outputs": [],
   "source": [
    "mix = thinkbayes.Pmf()\n",
    "for die, weight in pmf_dice.Items():\n",
    "    for outcome, prob in die.Items():\n",
    "        mix.Incr(outcome, weight*prob)"
   ]
  },
  {
   "cell_type": "code",
   "execution_count": 318,
   "metadata": {
    "collapsed": false
   },
   "outputs": [
    {
     "data": {
      "text/plain": [
       "<matplotlib.axes._subplots.AxesSubplot at 0xc9ab860>"
      ]
     },
     "execution_count": 318,
     "metadata": {},
     "output_type": "execute_result"
    },
    {
     "data": {
      "image/png": "[encoded data removed]",
      "text/plain": [
       "<matplotlib.figure.Figure at 0xc8225f8>"
      ]
     },
     "metadata": {},
     "output_type": "display_data"
    }
   ],
   "source": [
    "pd.Series(list(mix.Render()[1]), \n",
    "         index=list(mix.Render()[0])).plot(kind='bar')"
   ]
  },
  {
   "cell_type": "markdown",
   "metadata": {},
   "source": [
    "thinkbayes provides a function named MakeMixture that encapsulates this algorithm, so we could have written:\n",
    "\n",
    "   ``` mix = thinkbayes.MakeMixture(pmf_dice)```\n",
    "We’ll use MakeMixture again in Chapters 7 and  8."
   ]
  },
  {
   "cell_type": "markdown",
   "metadata": {},
   "source": [
    "Other than the odds form of Bayes’s theorem, this chapter is not specifically Bayesian. But Bayesian analysis is all about distributions, so it is important to understand the concept of a distribution well. From a computational point of view, a distribution is any data structure that represents a set of values (possible outcomes of a random process) and their probabilities.\n",
    "\n",
    "We have seen two representations of distributions: Pmfs and Cdfs. These representations are equivalent in the sense that they contain the same information, so you can convert from one to the other. The primary difference between them is performance: some operations are faster and easier with a Pmf; others are faster with a Cdf.\n",
    "\n",
    "The other goal of this chapter is to introduce operations that act on distributions, like ```Pmf.__add__,``` Cdf.Max, and thinkbayes.MakeMixture. We will use these operations later, but I introduce them now to encourage you to think of a distribution as a fundamental unit of computation, not just a container for values and probabilities."
   ]
  },
  {
   "cell_type": "markdown",
   "metadata": {},
   "source": [
    "## Chapter 6: Decision Analysis\n",
    "\n",
    "### 6.1 The Price is Right problem\n",
    "\n",
    "On November 1, 2007, contestants named Letia and Nathaniel appeared on The Price is Right, an American game show. They competed in a game called The Showcase, where the objective is to guess the price of a showcase of prizes. The contestant who comes closest to the actual price of the showcase, without going over, wins the prizes.\n",
    "\n",
    "\n",
    "Nathaniel went first. His showcase included a dishwasher, a wine cabinet, a laptop computer, and a car. He bid $26,000.\n",
    "\n",
    "Letia’s showcase included a pinball machine, a video arcade game, a pool table, and a cruise of the Bahamas. She bid $21,500.\n",
    "\n",
    "The actual price of Nathaniel’s showcase was $25,347. His bid was too high, so he lost.\n",
    "\n",
    "\n",
    "The actual price of Letia’s showcase was $21,578. \n",
    "\n",
    "She was only off by 78 dollars\n",
    "\n",
    "so she won her showcase and, becuase her bid was off by less than $250, she also won \n",
    "Nathaniel's showcase.\n",
    "\n",
    "For a Bayesian thinker, this scenario suggests several questions:\n",
    "\n",
    "1. Before seeing the prizes, what prior beliefs should the contestants have about the price of the showcase?\n",
    "2. After seeing the prizes, how should the contestant update those beliefs?\n",
    "3. Based on the posterior distribution, what should the contestnat bid?\n",
    "\n",
    "The third question demonstrates a common use of Bayesian analysis: decision analysis. Given a posterior distribution, we can choose the bid that maximizes the contestant’s expected return.\n",
    "This problem is inspired by an example in Cameron Davidson-Pilon’s book, Bayesian Methods for Hackers. The code I wrote for this chapter is available from\n",
    "\n",
    "http://thinkbayes.com/price.py; it reads data files you can download from http://thinkbayes.com/showcases.2011.csv and http://thinkbayes.com/showcases.2012.csv. For more information see Section 0.3.\n",
    "\n",
    "\n",
    "This example will be the key to learning how to use pymc from Cameron Davidson-Pilon  sweet"
   ]
  },
  {
   "cell_type": "markdown",
   "metadata": {},
   "source": [
    "## The prior\n",
    "\n",
    "To choose a prior distribution of prices, we can take advantage of data from previous episodes. Fortunately, fans of the show keep detailed records. When I corresponded with Mr. Davidson-Pilon about his book, he sent me data collected by Steve Gee at http://tpirsummaries.8m.c0m . It includes the price of each showcase from the 2011 and 2012 seasons and the bids offered by the contestants.\n",
    "\n",
    "\n"
   ]
  },
  {
   "cell_type": "markdown",
   "metadata": {},
   "source": [
    "## Probablity density functions\n",
    "\n",
    "So far we have been working with probability mass functions, or PMFs. A PMF is a map from each possible value to its probability. In my implemenation, a Pmf object provides a method named ```Prob``` that takes a value and returns a probability, also known as a **probability mass**.\n",
    "\n",
    "A **probability density function**, or PDF, is the continuous version of a PMF, where the possible values make up a continuous range rather than a discrete set.\n",
    "\n",
    "In mathematical notation, PDFs are usually written as functions; for example, here is the PDF of a Gaussian distribution with mean 0 and standard deviation 1:\n",
    "\n",
    "$\n",
    "f(x) = \\frac{1}{\\sqrt{2 \\pi}} \\exp^{-\\frac{x^{2}}{2}}\n",
    "$"
   ]
  },
  {
   "cell_type": "markdown",
   "metadata": {},
   "source": [
    "For a given value of x, this functions computes a probability density. A density is similar to a probability mass in the sense that a higher density indicates that a value is more likely.\n",
    "\n",
    "But a density is not a probability. A density can be 0 or any positive value; it is not bounded, like a probability, between 0 and 1.\n",
    "If you integrate a density over a continuous range, the result is a probability. But for the applications in this book we seldom have to do that.\n",
    "\n",
    "Instead we primarily use probability densities as part of a likelihood function. We will see an example soon.\n",
    "\n",
    "### 6.4 Representing PDFs\n",
    "\n",
    "To represent PDFs in Python, ```thinkbayes.py``` provides a class named ```Pdf```.\n",
    "```Pdf``` is an **abstract type**, which means that it defines the interface a Pdf is supposed to have, but does not provide a complete implementatoin. The Pdf interface includes two methods, ```Density``` and ```MakePmf```:\n",
    "\n",
    "\n",
    "```\n",
    "class Pdf(object):\n",
    "\n",
    "    def Density(self, x):\n",
    "        raise UnimplementedMethodException()\n",
    "\n",
    "    def MakePmf(self, xs):\n",
    "        pmf = Pmf()\n",
    "        for x in xs:\n",
    "            pmf.Set(x, self.Density(x))\n",
    "        pmf.Normalize()\n",
    "        return pmf\n",
    "```"
   ]
  },
  {
   "cell_type": "markdown",
   "metadata": {},
   "source": [
    "```Density``` takes a value, x, and returns the corresponding density. ```MakePmf``` makes a discrete approximation to the PDF.\n",
    "Pdf provides an implementation of ```MakePmf```, but not ```Density```, which has to be provided by a child class.\n",
    "\n",
    "A **concrete type** is a child class that extends an abstract type and provides an implementation of the missing methods. \n",
    "For example, ```GuassianPdf``` extends ```Pdf``` and provides ```Density```:"
   ]
  },
  {
   "cell_type": "code",
   "execution_count": 319,
   "metadata": {
    "collapsed": false
   },
   "outputs": [],
   "source": [
    "from thinkbayes import Pdf\n",
    "\n",
    "class GuassianPdf(Pdf):\n",
    "    \n",
    "    def __init__(self, mu, sigma):\n",
    "        self.mu = mu\n",
    "        self.sigma = sigma\n",
    "        \n",
    "    def Density(self, x):\n",
    "        return scipy.stats.norm.pdf(x, self.mu, self.sigma)"
   ]
  },
  {
   "cell_type": "markdown",
   "metadata": {},
   "source": [
    "```__init__``` takes ```mu``` and ```sigma```, which are the mean and standard deviation of the distribution, and stores them as attributes.\n",
    "\n",
    "```Density``` uses a function from ```scipy.stats``` to evaluate the Gaussian PDF. The function is called ```norm.pdf``` because the Gaussian distribution is also called the \"normal\" distribution.\n",
    "\n",
    "The Gaussian PDF is defined by a simple mathematical function, so it is easy to evaluate. And it is useful because many quantities in the real world have distributions that are approximately Gaussian.\n",
    "\n",
    "But with real data, there is no guarantee that the distribution is Gaussian or any other simple mathematical function. In that case we can use a sample to estimate the PDF of the whole population.\n",
    "\n",
    "For example, in _The Price is Right_ data, we have 313 prices for the first showcase. We can think of these values as a sample from the population of all possible showcase prices."
   ]
  },
  {
   "cell_type": "code",
   "execution_count": 320,
   "metadata": {
    "collapsed": true
   },
   "outputs": [],
   "source": [
    "dftpri1 = pd.read_csv('http://thinkbayes.com/showcases.2011.csv')\n",
    "dftpri2 = pd.read_csv('http://thinkbayes.com/showcases.2012.csv')"
   ]
  },
  {
   "cell_type": "code",
   "execution_count": 321,
   "metadata": {
    "collapsed": false
   },
   "outputs": [
    {
     "data": {
      "text/html": [
       "<div>\n",
       "<table border=\"1\" class=\"dataframe\">\n",
       "  <thead>\n",
       "    <tr style=\"text-align: right;\">\n",
       "      <th></th>\n",
       "      <th>Unnamed: 0</th>\n",
       "      <th>Sep. 19</th>\n",
       "      <th>Sep. 20</th>\n",
       "      <th>Sep. 21</th>\n",
       "      <th>Sep. 22</th>\n",
       "      <th>Sep. 23</th>\n",
       "      <th>Sep. 26</th>\n",
       "      <th>Sep. 27</th>\n",
       "      <th>Sep. 28</th>\n",
       "      <th>Sep. 29</th>\n",
       "      <th>...</th>\n",
       "      <th>Jun. 11</th>\n",
       "      <th>Jun. 12</th>\n",
       "      <th>Jun. 13</th>\n",
       "      <th>Jun. 14</th>\n",
       "      <th>Jun. 15</th>\n",
       "      <th>Jun. 18</th>\n",
       "      <th>Jun. 19</th>\n",
       "      <th>Jul. 4</th>\n",
       "      <th>Aug. 17</th>\n",
       "      <th>Sep. 4</th>\n",
       "    </tr>\n",
       "  </thead>\n",
       "  <tbody>\n",
       "    <tr>\n",
       "      <th>0</th>\n",
       "      <td>NaN</td>\n",
       "      <td>5631K</td>\n",
       "      <td>5632K</td>\n",
       "      <td>5633K</td>\n",
       "      <td>5634K</td>\n",
       "      <td>5635K</td>\n",
       "      <td>5641K</td>\n",
       "      <td>5642K</td>\n",
       "      <td>5643K</td>\n",
       "      <td>5644K</td>\n",
       "      <td>...</td>\n",
       "      <td>6012K</td>\n",
       "      <td>6011K</td>\n",
       "      <td>6013K</td>\n",
       "      <td>6014K</td>\n",
       "      <td>6015K</td>\n",
       "      <td>6024K</td>\n",
       "      <td>5685K</td>\n",
       "      <td>6021K</td>\n",
       "      <td>6022K</td>\n",
       "      <td>6023K</td>\n",
       "    </tr>\n",
       "    <tr>\n",
       "      <th>1</th>\n",
       "      <td>NaN</td>\n",
       "      <td>NaN</td>\n",
       "      <td>NaN</td>\n",
       "      <td>NaN</td>\n",
       "      <td>NaN</td>\n",
       "      <td>NaN</td>\n",
       "      <td>NaN</td>\n",
       "      <td>NaN</td>\n",
       "      <td>NaN</td>\n",
       "      <td>NaN</td>\n",
       "      <td>...</td>\n",
       "      <td>NaN</td>\n",
       "      <td>NaN</td>\n",
       "      <td>NaN</td>\n",
       "      <td>NaN</td>\n",
       "      <td>NaN</td>\n",
       "      <td>NaN</td>\n",
       "      <td>NaN</td>\n",
       "      <td>NaN</td>\n",
       "      <td>NaN</td>\n",
       "      <td>NaN</td>\n",
       "    </tr>\n",
       "    <tr>\n",
       "      <th>2</th>\n",
       "      <td>Showcase 1</td>\n",
       "      <td>50969</td>\n",
       "      <td>21901</td>\n",
       "      <td>32815</td>\n",
       "      <td>44432</td>\n",
       "      <td>24273</td>\n",
       "      <td>30554</td>\n",
       "      <td>20963</td>\n",
       "      <td>28941</td>\n",
       "      <td>25851</td>\n",
       "      <td>...</td>\n",
       "      <td>27690</td>\n",
       "      <td>29426</td>\n",
       "      <td>21711</td>\n",
       "      <td>29307</td>\n",
       "      <td>25263</td>\n",
       "      <td>26993</td>\n",
       "      <td>29390</td>\n",
       "      <td>34920</td>\n",
       "      <td>30323</td>\n",
       "      <td>46638</td>\n",
       "    </tr>\n",
       "    <tr>\n",
       "      <th>3</th>\n",
       "      <td>Showcase 2</td>\n",
       "      <td>45429</td>\n",
       "      <td>34061</td>\n",
       "      <td>53186</td>\n",
       "      <td>31428</td>\n",
       "      <td>22320</td>\n",
       "      <td>24337</td>\n",
       "      <td>41373</td>\n",
       "      <td>45437</td>\n",
       "      <td>41125</td>\n",
       "      <td>...</td>\n",
       "      <td>41765</td>\n",
       "      <td>34304</td>\n",
       "      <td>26277</td>\n",
       "      <td>26617</td>\n",
       "      <td>32646</td>\n",
       "      <td>33337</td>\n",
       "      <td>26314</td>\n",
       "      <td>31278</td>\n",
       "      <td>31285</td>\n",
       "      <td>42319</td>\n",
       "    </tr>\n",
       "    <tr>\n",
       "      <th>4</th>\n",
       "      <td>NaN</td>\n",
       "      <td>NaN</td>\n",
       "      <td>NaN</td>\n",
       "      <td>NaN</td>\n",
       "      <td>NaN</td>\n",
       "      <td>NaN</td>\n",
       "      <td>NaN</td>\n",
       "      <td>NaN</td>\n",
       "      <td>NaN</td>\n",
       "      <td>NaN</td>\n",
       "      <td>...</td>\n",
       "      <td>NaN</td>\n",
       "      <td>NaN</td>\n",
       "      <td>NaN</td>\n",
       "      <td>NaN</td>\n",
       "      <td>NaN</td>\n",
       "      <td>NaN</td>\n",
       "      <td>NaN</td>\n",
       "      <td>NaN</td>\n",
       "      <td>NaN</td>\n",
       "      <td>NaN</td>\n",
       "    </tr>\n",
       "    <tr>\n",
       "      <th>5</th>\n",
       "      <td>Bid 1</td>\n",
       "      <td>42000</td>\n",
       "      <td>14000</td>\n",
       "      <td>32000</td>\n",
       "      <td>27000</td>\n",
       "      <td>18750</td>\n",
       "      <td>27222</td>\n",
       "      <td>25000</td>\n",
       "      <td>35000</td>\n",
       "      <td>22500</td>\n",
       "      <td>...</td>\n",
       "      <td>23000</td>\n",
       "      <td>27000</td>\n",
       "      <td>19000</td>\n",
       "      <td>25300</td>\n",
       "      <td>25500</td>\n",
       "      <td>41000</td>\n",
       "      <td>23052</td>\n",
       "      <td>27800</td>\n",
       "      <td>27000</td>\n",
       "      <td>29900</td>\n",
       "    </tr>\n",
       "    <tr>\n",
       "      <th>6</th>\n",
       "      <td>Bid 2</td>\n",
       "      <td>34000</td>\n",
       "      <td>59900</td>\n",
       "      <td>45000</td>\n",
       "      <td>38000</td>\n",
       "      <td>23000</td>\n",
       "      <td>18525</td>\n",
       "      <td>32000</td>\n",
       "      <td>45000</td>\n",
       "      <td>32000</td>\n",
       "      <td>...</td>\n",
       "      <td>36000</td>\n",
       "      <td>30000</td>\n",
       "      <td>24750</td>\n",
       "      <td>28000</td>\n",
       "      <td>26800</td>\n",
       "      <td>26888</td>\n",
       "      <td>16000</td>\n",
       "      <td>30022</td>\n",
       "      <td>21000</td>\n",
       "      <td>33000</td>\n",
       "    </tr>\n",
       "    <tr>\n",
       "      <th>7</th>\n",
       "      <td>NaN</td>\n",
       "      <td>NaN</td>\n",
       "      <td>NaN</td>\n",
       "      <td>NaN</td>\n",
       "      <td>NaN</td>\n",
       "      <td>NaN</td>\n",
       "      <td>NaN</td>\n",
       "      <td>NaN</td>\n",
       "      <td>NaN</td>\n",
       "      <td>NaN</td>\n",
       "      <td>...</td>\n",
       "      <td>NaN</td>\n",
       "      <td>NaN</td>\n",
       "      <td>NaN</td>\n",
       "      <td>NaN</td>\n",
       "      <td>NaN</td>\n",
       "      <td>NaN</td>\n",
       "      <td>NaN</td>\n",
       "      <td>NaN</td>\n",
       "      <td>NaN</td>\n",
       "      <td>NaN</td>\n",
       "    </tr>\n",
       "    <tr>\n",
       "      <th>8</th>\n",
       "      <td>Difference 1</td>\n",
       "      <td>8969</td>\n",
       "      <td>7901</td>\n",
       "      <td>815</td>\n",
       "      <td>17432</td>\n",
       "      <td>5523</td>\n",
       "      <td>3332</td>\n",
       "      <td>-4037</td>\n",
       "      <td>-6059</td>\n",
       "      <td>3351</td>\n",
       "      <td>...</td>\n",
       "      <td>4690</td>\n",
       "      <td>2426</td>\n",
       "      <td>2711</td>\n",
       "      <td>4007</td>\n",
       "      <td>-237</td>\n",
       "      <td>-14007</td>\n",
       "      <td>6338</td>\n",
       "      <td>7120</td>\n",
       "      <td>3323</td>\n",
       "      <td>16738</td>\n",
       "    </tr>\n",
       "    <tr>\n",
       "      <th>9</th>\n",
       "      <td>Difference 2</td>\n",
       "      <td>11429</td>\n",
       "      <td>-25839</td>\n",
       "      <td>8186</td>\n",
       "      <td>-6572</td>\n",
       "      <td>-680</td>\n",
       "      <td>5812</td>\n",
       "      <td>9373</td>\n",
       "      <td>437</td>\n",
       "      <td>9125</td>\n",
       "      <td>...</td>\n",
       "      <td>5765</td>\n",
       "      <td>4304</td>\n",
       "      <td>1527</td>\n",
       "      <td>-1383</td>\n",
       "      <td>5846</td>\n",
       "      <td>6449</td>\n",
       "      <td>10314</td>\n",
       "      <td>1256</td>\n",
       "      <td>10285</td>\n",
       "      <td>9319</td>\n",
       "    </tr>\n",
       "  </tbody>\n",
       "</table>\n",
       "<p>10 rows × 192 columns</p>\n",
       "</div>"
      ],
      "text/plain": [
       "     Unnamed: 0 Sep. 19 Sep. 20 Sep. 21 Sep. 22 Sep. 23 Sep. 26 Sep. 27  \\\n",
       "0           NaN   5631K   5632K   5633K   5634K   5635K   5641K   5642K   \n",
       "1           NaN     NaN     NaN     NaN     NaN     NaN     NaN     NaN   \n",
       "2    Showcase 1   50969   21901   32815   44432   24273   30554   20963   \n",
       "3    Showcase 2   45429   34061   53186   31428   22320   24337   41373   \n",
       "4           NaN     NaN     NaN     NaN     NaN     NaN     NaN     NaN   \n",
       "5         Bid 1   42000   14000   32000   27000   18750   27222   25000   \n",
       "6         Bid 2   34000   59900   45000   38000   23000   18525   32000   \n",
       "7           NaN     NaN     NaN     NaN     NaN     NaN     NaN     NaN   \n",
       "8  Difference 1    8969    7901     815   17432    5523    3332   -4037   \n",
       "9  Difference 2   11429  -25839    8186   -6572    -680    5812    9373   \n",
       "\n",
       "  Sep. 28 Sep. 29  ...   Jun. 11 Jun. 12 Jun. 13 Jun. 14 Jun. 15 Jun. 18  \\\n",
       "0   5643K   5644K  ...     6012K   6011K   6013K   6014K   6015K   6024K   \n",
       "1     NaN     NaN  ...       NaN     NaN     NaN     NaN     NaN     NaN   \n",
       "2   28941   25851  ...     27690   29426   21711   29307   25263   26993   \n",
       "3   45437   41125  ...     41765   34304   26277   26617   32646   33337   \n",
       "4     NaN     NaN  ...       NaN     NaN     NaN     NaN     NaN     NaN   \n",
       "5   35000   22500  ...     23000   27000   19000   25300   25500   41000   \n",
       "6   45000   32000  ...     36000   30000   24750   28000   26800   26888   \n",
       "7     NaN     NaN  ...       NaN     NaN     NaN     NaN     NaN     NaN   \n",
       "8   -6059    3351  ...      4690    2426    2711    4007    -237  -14007   \n",
       "9     437    9125  ...      5765    4304    1527   -1383    5846    6449   \n",
       "\n",
       "  Jun. 19 Jul. 4 Aug. 17 Sep. 4  \n",
       "0   5685K  6021K   6022K  6023K  \n",
       "1     NaN    NaN     NaN    NaN  \n",
       "2   29390  34920   30323  46638  \n",
       "3   26314  31278   31285  42319  \n",
       "4     NaN    NaN     NaN    NaN  \n",
       "5   23052  27800   27000  29900  \n",
       "6   16000  30022   21000  33000  \n",
       "7     NaN    NaN     NaN    NaN  \n",
       "8    6338   7120    3323  16738  \n",
       "9   10314   1256   10285   9319  \n",
       "\n",
       "[10 rows x 192 columns]"
      ]
     },
     "execution_count": 321,
     "metadata": {},
     "output_type": "execute_result"
    }
   ],
   "source": [
    "dftpri1.head(20)"
   ]
  },
  {
   "cell_type": "code",
   "execution_count": 322,
   "metadata": {
    "collapsed": false
   },
   "outputs": [],
   "source": [
    "dfone = dftpri1.transpose().copy()"
   ]
  },
  {
   "cell_type": "code",
   "execution_count": 323,
   "metadata": {
    "collapsed": true
   },
   "outputs": [],
   "source": [
    "dftwo = dftpri2.transpose().copy()"
   ]
  },
  {
   "cell_type": "code",
   "execution_count": 324,
   "metadata": {
    "collapsed": false
   },
   "outputs": [
    {
     "data": {
      "text/html": [
       "<div>\n",
       "<table border=\"1\" class=\"dataframe\">\n",
       "  <thead>\n",
       "    <tr style=\"text-align: right;\">\n",
       "      <th></th>\n",
       "      <th>0</th>\n",
       "      <th>1</th>\n",
       "      <th>2</th>\n",
       "      <th>3</th>\n",
       "      <th>4</th>\n",
       "      <th>5</th>\n",
       "      <th>6</th>\n",
       "      <th>7</th>\n",
       "      <th>8</th>\n",
       "      <th>9</th>\n",
       "    </tr>\n",
       "  </thead>\n",
       "  <tbody>\n",
       "    <tr>\n",
       "      <th>Sep. 19</th>\n",
       "      <td>5631K</td>\n",
       "      <td>NaN</td>\n",
       "      <td>50969</td>\n",
       "      <td>45429</td>\n",
       "      <td>NaN</td>\n",
       "      <td>42000</td>\n",
       "      <td>34000</td>\n",
       "      <td>NaN</td>\n",
       "      <td>8969</td>\n",
       "      <td>11429</td>\n",
       "    </tr>\n",
       "    <tr>\n",
       "      <th>Sep. 20</th>\n",
       "      <td>5632K</td>\n",
       "      <td>NaN</td>\n",
       "      <td>21901</td>\n",
       "      <td>34061</td>\n",
       "      <td>NaN</td>\n",
       "      <td>14000</td>\n",
       "      <td>59900</td>\n",
       "      <td>NaN</td>\n",
       "      <td>7901</td>\n",
       "      <td>-25839</td>\n",
       "    </tr>\n",
       "    <tr>\n",
       "      <th>Sep. 21</th>\n",
       "      <td>5633K</td>\n",
       "      <td>NaN</td>\n",
       "      <td>32815</td>\n",
       "      <td>53186</td>\n",
       "      <td>NaN</td>\n",
       "      <td>32000</td>\n",
       "      <td>45000</td>\n",
       "      <td>NaN</td>\n",
       "      <td>815</td>\n",
       "      <td>8186</td>\n",
       "    </tr>\n",
       "    <tr>\n",
       "      <th>Sep. 22</th>\n",
       "      <td>5634K</td>\n",
       "      <td>NaN</td>\n",
       "      <td>44432</td>\n",
       "      <td>31428</td>\n",
       "      <td>NaN</td>\n",
       "      <td>27000</td>\n",
       "      <td>38000</td>\n",
       "      <td>NaN</td>\n",
       "      <td>17432</td>\n",
       "      <td>-6572</td>\n",
       "    </tr>\n",
       "    <tr>\n",
       "      <th>Sep. 23</th>\n",
       "      <td>5635K</td>\n",
       "      <td>NaN</td>\n",
       "      <td>24273</td>\n",
       "      <td>22320</td>\n",
       "      <td>NaN</td>\n",
       "      <td>18750</td>\n",
       "      <td>23000</td>\n",
       "      <td>NaN</td>\n",
       "      <td>5523</td>\n",
       "      <td>-680</td>\n",
       "    </tr>\n",
       "  </tbody>\n",
       "</table>\n",
       "</div>"
      ],
      "text/plain": [
       "             0    1      2      3    4      5      6    7      8       9\n",
       "Sep. 19  5631K  NaN  50969  45429  NaN  42000  34000  NaN   8969   11429\n",
       "Sep. 20  5632K  NaN  21901  34061  NaN  14000  59900  NaN   7901  -25839\n",
       "Sep. 21  5633K  NaN  32815  53186  NaN  32000  45000  NaN    815    8186\n",
       "Sep. 22  5634K  NaN  44432  31428  NaN  27000  38000  NaN  17432   -6572\n",
       "Sep. 23  5635K  NaN  24273  22320  NaN  18750  23000  NaN   5523    -680"
      ]
     },
     "execution_count": 324,
     "metadata": {},
     "output_type": "execute_result"
    }
   ],
   "source": [
    "dfone.iloc[1:].head()"
   ]
  },
  {
   "cell_type": "code",
   "execution_count": 325,
   "metadata": {
    "collapsed": false
   },
   "outputs": [],
   "source": [
    "df2011 = dfone.iloc[1:].copy()"
   ]
  },
  {
   "cell_type": "code",
   "execution_count": 326,
   "metadata": {
    "collapsed": false
   },
   "outputs": [
    {
     "data": {
      "text/plain": [
       "(191, 10)"
      ]
     },
     "execution_count": 326,
     "metadata": {},
     "output_type": "execute_result"
    }
   ],
   "source": [
    "df2011.shape"
   ]
  },
  {
   "cell_type": "code",
   "execution_count": 327,
   "metadata": {
    "collapsed": false
   },
   "outputs": [],
   "source": [
    "showcase1 = df2011[2].astype('float').copy()"
   ]
  },
  {
   "cell_type": "code",
   "execution_count": 328,
   "metadata": {
    "collapsed": false
   },
   "outputs": [],
   "source": [
    "showcase2 = df2011[3].astype('float').copy()"
   ]
  },
  {
   "cell_type": "code",
   "execution_count": 329,
   "metadata": {
    "collapsed": false
   },
   "outputs": [
    {
     "data": {
      "text/plain": [
       "pandas.core.series.Series"
      ]
     },
     "execution_count": 329,
     "metadata": {},
     "output_type": "execute_result"
    }
   ],
   "source": [
    "type(showcase1)"
   ]
  },
  {
   "cell_type": "code",
   "execution_count": 330,
   "metadata": {
    "collapsed": false
   },
   "outputs": [
    {
     "data": {
      "text/plain": [
       "array([ 50969.,  21901.,  32815.,  44432.,  24273.,  30554.,  20963.,\n",
       "        28941.,  25851.,  28800.,  37703.,  34774.,  25268.,  44044.,\n",
       "        32516.,  30827.,  40374.,  27698.,  23590.,  38625.,  24026.,\n",
       "        37449.,  34268.,  22281.,  22890.,  24226.,  25448.,  32525.,\n",
       "        36799.,  27380.,  25903.,  31769.,  22853.,  23202.,  20721.,\n",
       "        28451.,  26154.,  27019.,  51959.,  35811.,  24885.,  24648.,\n",
       "        30707.,  23744.,  45078.,  20773.,  30892.,  29971.,  37423.,\n",
       "        33593.,  24866.,  24628.,  24827.,  29248.,  24818.,  28762.,\n",
       "        31838.,  22268.,  38892.,  22599.,  31705.,  23299.,  21394.,\n",
       "        22589.,  30573.,  33009.,  19612.,  28550.,  49937.,  36915.,\n",
       "        33400.,  34516.,  31516.,  51108.,  23981.,  26383.,  39801.,\n",
       "        39201.,  19563.,  20418.,  28465.,  22356.,  24150.,  20425.,\n",
       "        23926.,  20860.,  35526.,  20912.,  27426.,  26393.,  25329.,\n",
       "        22434.,  31933.,  23986.,  24729.,  21747.,  27273.,  21681.,\n",
       "        29324.,  35874.,  30397.,  27310.,  28414.,  32535.,  22886.,\n",
       "        29842.,  35954.,  27883.,  31268.,  21563.,  39642.,  21862.,\n",
       "        33499.,  24313.,  26809.,  29674.,  21711.,  25618.,  35504.,\n",
       "        23327.,  34581.,  25918.,  20418.,  26511.,  28288.,  30348.,\n",
       "        34428.,  26732.,  29631.,  30253.,  30256.,  21399.,  30988.,\n",
       "        26536.,  39924.,  26254.,  29137.,  32666.,  30706.,  34805.,\n",
       "        33343.,  29671.,  20408.,  30406.,  20990.,  32391.,  20828.,\n",
       "        36439.,  31785.,  27663.,  30291.,  33480.,  28714.,  36803.,\n",
       "        24281.,  23841.,  33844.,  31809.,  28309.,  27332.,  28957.,\n",
       "        54579.,  28649.,  26854.,  20962.,  38787.,  26738.,  28958.,\n",
       "        28604.,  25269.,  30624.,  25366.,  31328.,  36813.,  31434.,\n",
       "        30321.,  36414.,  34736.,  21707.,  38297.,  28996.,  27690.,\n",
       "        29426.,  21711.,  29307.,  25263.,  26993.,  29390.,  34920.,\n",
       "        30323.,  46638.])"
      ]
     },
     "execution_count": 330,
     "metadata": {},
     "output_type": "execute_result"
    }
   ],
   "source": [
    "showcase1.values"
   ]
  },
  {
   "cell_type": "code",
   "execution_count": 331,
   "metadata": {
    "collapsed": false
   },
   "outputs": [
    {
     "data": {
      "text/plain": [
       "50969.0"
      ]
     },
     "execution_count": 331,
     "metadata": {},
     "output_type": "execute_result"
    }
   ],
   "source": [
    "showcase1[0]"
   ]
  },
  {
   "cell_type": "code",
   "execution_count": 332,
   "metadata": {
    "collapsed": false
   },
   "outputs": [
    {
     "data": {
      "text/plain": [
       "<matplotlib.axes._subplots.AxesSubplot at 0xd18e7f0>"
      ]
     },
     "execution_count": 332,
     "metadata": {},
     "output_type": "execute_result"
    },
    {
     "data": {
      "image/png": "[encoded data removed]",
      "text/plain": [
       "<matplotlib.figure.Figure at 0xcff4710>"
      ]
     },
     "metadata": {},
     "output_type": "display_data"
    }
   ],
   "source": [
    "pd.Series(showcase1.values).plot(kind='hist')\n",
    "pd.Series(showcase2.values).plot(kind='hist')"
   ]
  },
  {
   "cell_type": "code",
   "execution_count": 333,
   "metadata": {
    "collapsed": false
   },
   "outputs": [
    {
     "data": {
      "text/plain": [
       "<matplotlib.axes._subplots.AxesSubplot at 0xd6fbc88>"
      ]
     },
     "execution_count": 333,
     "metadata": {},
     "output_type": "execute_result"
    },
    {
     "data": {
      "image/png": "[encoded data removed]",
      "text/plain": [
       "<matplotlib.figure.Figure at 0xce5fcc0>"
      ]
     },
     "metadata": {},
     "output_type": "display_data"
    }
   ],
   "source": [
    "pd.Series(showcase1.values).plot(kind='kde')\n",
    "pd.Series(showcase2.values).plot(kind='kde')"
   ]
  },
  {
   "cell_type": "code",
   "execution_count": 334,
   "metadata": {
    "collapsed": false
   },
   "outputs": [],
   "source": [
    "import price"
   ]
  },
  {
   "cell_type": "code",
   "execution_count": null,
   "metadata": {
    "collapsed": true
   },
   "outputs": [],
   "source": [
    "%"
   ]
  },
  {
   "cell_type": "code",
   "execution_count": 335,
   "metadata": {
    "collapsed": false
   },
   "outputs": [],
   "source": [
    "prices = price.ReadData()"
   ]
  },
  {
   "cell_type": "code",
   "execution_count": 336,
   "metadata": {
    "collapsed": false
   },
   "outputs": [
    {
     "data": {
      "text/plain": [
       "[(50969, 45429, 42000, 34000, 8969, 11429),\n",
       " (21901, 34061, 14000, 59900, 7901, -25839),\n",
       " (32815, 53186, 32000, 45000, 815, 8186),\n",
       " (44432, 31428, 27000, 38000, 17432, -6572),\n",
       " (24273, 22320, 18750, 23000, 5523, -680),\n",
       " (30554, 24337, 27222, 18525, 3332, 5812),\n",
       " (20963, 41373, 25000, 32000, -4037, 9373),\n",
       " (28941, 45437, 35000, 45000, -6059, 437),\n",
       " (25851, 41125, 22500, 32000, 3351, 9125),\n",
       " (28800, 36319, 21300, 27500, 7500, 8819),\n",
       " (37703, 38752, 21567, 23800, 16136, 14952),\n",
       " (34774, 28450, 35500, 18975, -726, 9475),\n",
       " (25268, 39745, 26000, 35555, -732, 4190),\n",
       " (44044, 40894, 38500, 35000, 5544, 5894),\n",
       " (32516, 30608, 24500, 29765, 8016, 843),\n",
       " (30827, 30463, 27507, 34000, 3320, -3537),\n",
       " (40374, 29405, 30000, 23000, 10374, 6405),\n",
       " (27698, 31290, 36500, 25000, -8802, 6290),\n",
       " (23590, 38597, 25000, 24000, -1410, 14597),\n",
       " (38625, 33917, 36000, 42333, 2625, -8416),\n",
       " (24026, 43036, 24000, 27000, 26, 16036),\n",
       " (37449, 36623, 37000, 24500, 449, 12123),\n",
       " (34268, 31681, 22575, 27500, 11693, 4181),\n",
       " (22281, 29080, 20000, 29500, 2281, -420),\n",
       " (22890, 34137, 18200, 25000, 4690, 9137),\n",
       " (24226, 24925, 25000, 28000, -774, -3075),\n",
       " (25448, 36174, 23000, 22000, 2448, 14174),\n",
       " (32525, 23705, 36750, 27500, -4225, -3795),\n",
       " (36799, 24897, 35000, 22000, 1799, 2897),\n",
       " (27380, 37776, 38000, 37000, -10620, 776),\n",
       " (25903, 19792, 23045, 22500, 2858, -2708),\n",
       " (31769, 20182, 22000, 19900, 9769, 282),\n",
       " (22853, 36070, 20000, 32100, 2853, 3970),\n",
       " (23202, 32357, 31100, 27590, -7898, 4767),\n",
       " (20721, 24054, 12500, 20000, 8221, 4054),\n",
       " (28451, 21527, 29000, 26500, -549, -4973),\n",
       " (26154, 30623, 25400, 20000, 754, 10623),\n",
       " (27019, 34089, 22000, 28000, 5019, 6089),\n",
       " (51959, 58458, 32750, 58000, 19209, 458),\n",
       " (35811, 69485, 32000, 48000, 3811, 21485),\n",
       " (24885, 29349, 22486, 30100, 2399, -751),\n",
       " (24648, 23955, 29600, 21000, -4952, 2955),\n",
       " (30707, 28244, 29000, 22750, 1707, 5494),\n",
       " (23744, 19756, 23225, 26500, 519, -6744),\n",
       " (45078, 28336, 37000, 27000, 8078, 1336),\n",
       " (20773, 34646, 17000, 27500, 3773, 7146),\n",
       " (30892, 26712, 32450, 26000, -1558, 712),\n",
       " (29971, 24349, 28500, 24250, 1471, 99),\n",
       " (37423, 24366, 29100, 26250, 8323, -1884),\n",
       " (33593, 23276, 24021, 31000, 9572, -7724),\n",
       " (24866, 34144, 25000, 28500, -134, 5644),\n",
       " (24628, 28136, 24350, 25000, 278, 3136),\n",
       " (24827, 33508, 18500, 20500, 6327, 13008),\n",
       " (29248, 38836, 25000, 34000, 4248, 4836),\n",
       " (24818, 27654, 28750, 24250, -3932, 3404),\n",
       " (28762, 23097, 25500, 33250, 3262, -10153),\n",
       " (31838, 23255, 26000, 15000, 5838, 8255),\n",
       " (22268, 33801, 21569, 29250, 699, 4551),\n",
       " (38892, 35658, 41000, 25700, -2108, 9958),\n",
       " (22599, 42174, 34500, 30000, -11901, 12174),\n",
       " (31705, 34238, 32614, 34000, -909, 238),\n",
       " (23299, 29515, 22000, 28950, 1299, 565),\n",
       " (21394, 26949, 15000, 26420, 6394, 529),\n",
       " (22589, 22797, 14532, 22000, 8057, 797),\n",
       " (30573, 25211, 24000, 27500, 6573, -2289),\n",
       " (33009, 29737, 28000, 23456, 5009, 6281),\n",
       " (19612, 23084, 17500, 21000, 2112, 2084),\n",
       " (28550, 24891, 24533, 30500, 4017, -5609),\n",
       " (49937, 71628, 32000, 28000, 17937, 43628),\n",
       " (36915, 29460, 33000, 25200, 3915, 4260),\n",
       " (33400, 24974, 26132, 19401, 7268, 5573),\n",
       " (34516, 32693, 27000, 25000, 7516, 7693),\n",
       " (31516, 26937, 23000, 28000, 8516, -1063),\n",
       " (51108, 30939, 50972, 32310, 136, -1371),\n",
       " (23981, 32252, 15500, 27500, 8481, 4752),\n",
       " (26383, 29551, 27000, 30000, -617, -449),\n",
       " (39801, 22193, 35000, 23000, 4801, -807),\n",
       " (39201, 29344, 27852, 28000, 11349, 1344),\n",
       " (19563, 33551, 28500, 30000, -8937, 3551),\n",
       " (20418, 29524, 22000, 22750, -1582, 6774),\n",
       " (28465, 23504, 24500, 33000, 3965, -9496),\n",
       " (22356, 36954, 19000, 24500, 3356, 12454),\n",
       " (24150, 18349, 27000, 20400, -2850, -2051),\n",
       " (20425, 19508, 25000, 27000, -4575, -7492),\n",
       " (23926, 20068, 20000, 25000, 3926, -4932),\n",
       " (20860, 27319, 18500, 25000, 2360, 2319),\n",
       " (35526, 26055, 23000, 24859, 12526, 1196),\n",
       " (20912, 25875, 20000, 30100, 912, -4225),\n",
       " (27426, 29831, 19000, 23500, 8426, 6331),\n",
       " (26393, 30918, 34000, 24150, -7607, 6768),\n",
       " (25329, 36442, 24000, 33500, 1329, 2942),\n",
       " (22434, 28854, 22575, 36500, -141, -7646),\n",
       " (31933, 36664, 21995, 32000, 9938, 4664),\n",
       " (23986, 24753, 27000, 24000, -3014, 753),\n",
       " (24729, 25264, 22500, 27890, 2229, -2626),\n",
       " (21747, 30843, 26400, 22000, -4653, 8843),\n",
       " (27273, 32968, 27000, 27717, 273, 5251),\n",
       " (21681, 28487, 20000, 31000, 1681, -2513),\n",
       " (29324, 27806, 31250, 26400, -1926, 1406),\n",
       " (35874, 22513, 38000, 21000, -2126, 1513),\n",
       " (30397, 25585, 25000, 27100, 5397, -1515),\n",
       " (27310, 23677, 26000, 24000, 1310, -323),\n",
       " (28414, 29286, 26000, 27500, 2414, 1786),\n",
       " (32535, 29299, 23000, 23695, 9535, 5604),\n",
       " (22886, 31501, 22100, 23200, 786, 8301),\n",
       " (29842, 21902, 29300, 21500, 542, 402),\n",
       " (35954, 20320, 22500, 21000, 13454, -680),\n",
       " (27883, 25830, 22000, 26535, 5883, -705),\n",
       " (31268, 32687, 27000, 19500, 4268, 13187),\n",
       " (21563, 30493, 18500, 26500, 3063, 3993),\n",
       " (39642, 20043, 24240, 26000, 15402, -5957),\n",
       " (21862, 28598, 16500, 31860, 5362, -3262),\n",
       " (33499, 34432, 23000, 25000, 10499, 9432),\n",
       " (24313, 27386, 19500, 25496, 4813, 1890),\n",
       " (26809, 19693, 23000, 24500, 3809, -4807),\n",
       " (29674, 25812, 24075, 31000, 5599, -5188),\n",
       " (21711, 24631, 17500, 23000, 4211, 1631),\n",
       " (25618, 30858, 5500, 17000, 20118, 13858),\n",
       " (35504, 26993, 24000, 34800, 11504, -7807),\n",
       " (23327, 27570, 18358, 29000, 4969, -1430),\n",
       " (34581, 23566, 27000, 21000, 7581, 2566),\n",
       " (25918, 20908, 16522, 24000, 9396, -3092),\n",
       " (20418, 25541, 24622, 23000, -4204, 2541),\n",
       " (26511, 32310, 21500, 25000, 5011, 7310),\n",
       " (28288, 37393, 22475, 27500, 5813, 9893),\n",
       " (30348, 21827, 25000, 22525, 5348, -698),\n",
       " (34428, 26934, 28000, 23500, 6428, 3434),\n",
       " (26732, 28480, 18000, 21000, 8732, 7480),\n",
       " (29631, 39620, 27000, 38000, 2631, 1620),\n",
       " (30253, 39263, 32000, 30000, -1747, 9263),\n",
       " (30256, 34607, 26550, 32000, 3706, 2607),\n",
       " (21399, 26375, 20950, 22000, 449, 4375),\n",
       " (30988, 43998, 43200, 35000, -12212, 8998),\n",
       " (26536, 25357, 22500, 23000, 4036, 2357),\n",
       " (39924, 33251, 22135, 23374, 17789, 9877),\n",
       " (26254, 42675, 21000, 28999, 5254, 13676),\n",
       " (29137, 20267, 27237, 26000, 1900, -5733),\n",
       " (32666, 32390, 24500, 27500, 8166, 4890),\n",
       " (30706, 20513, 23000, 21100, 7706, -587),\n",
       " (34805, 32782, 33000, 30777, 1805, 2005),\n",
       " (33343, 29488, 22000, 18000, 11343, 11488),\n",
       " (29671, 27498, 22000, 24000, 7671, 3498),\n",
       " (20408, 34453, 18200, 36100, 2208, -1647),\n",
       " (30406, 36562, 18550, 24000, 11856, 12562),\n",
       " (20990, 19827, 23990, 18000, -3000, 1827),\n",
       " (32391, 49869, 27200, 33057, 5191, 16812),\n",
       " (20828, 30602, 22000, 28000, -1172, 2602),\n",
       " (36439, 28979, 15500, 25500, 20939, 3479),\n",
       " (31785, 36419, 32500, 28000, -715, 8419),\n",
       " (27663, 29993, 18500, 23000, 9163, 6993),\n",
       " (30291, 36548, 27000, 23100, 3291, 13448),\n",
       " (33480, 24984, 27500, 18200, 5980, 6784),\n",
       " (28714, 22407, 26576, 24500, 2138, -2093),\n",
       " (36803, 37746, 27000, 35000, 9803, 2746),\n",
       " (24281, 30764, 22000, 22000, 2281, 8764),\n",
       " (23841, 21255, 28900, 18605, -5059, 2650),\n",
       " (33844, 37125, 22253, 31229, 11591, 5896),\n",
       " (31809, 23904, 27000, 20000, 4809, 3904),\n",
       " (28309, 37776, 22000, 34000, 6309, 3776),\n",
       " (27332, 29317, 26000, 28300, 1332, 1017),\n",
       " (28957, 49419, 36000, 38675, -7043, 10744),\n",
       " (54579, 27712, 40000, 18522, 14579, 9190),\n",
       " (28649, 31352, 30450, 33500, -1801, -2148),\n",
       " (26854, 34808, 25500, 22000, 1354, 12808),\n",
       " (20962, 33302, 22000, 26262, -1038, 7040),\n",
       " (38787, 30317, 23000, 24500, 15787, 5817),\n",
       " (26738, 26784, 33000, 23000, -6262, 3784),\n",
       " (28958, 25612, 24500, 25000, 4458, 612),\n",
       " (28604, 22438, 24000, 22013, 4604, 425),\n",
       " (25269, 23548, 35000, 18500, -9731, 5048),\n",
       " (30624, 29445, 26121, 28000, 4503, 1445),\n",
       " (25366, 26525, 21000, 24050, 4366, 2475),\n",
       " (31328, 30571, 25700, 31000, 5628, -429),\n",
       " (36813, 25755, 30000, 31000, 6813, -5245),\n",
       " (31434, 38715, 27000, 32000, 4434, 6715),\n",
       " (30321, 29281, 31000, 30972, -679, -1691),\n",
       " (36414, 38505, 23723, 28543, 12691, 9962),\n",
       " (34736, 33612, 28000, 38000, 6736, -4388),\n",
       " (21707, 25820, 17500, 26000, 4207, -180),\n",
       " (38297, 20344, 27000, 22300, 11297, -1956),\n",
       " (28996, 25938, 23500, 29972, 5496, -4034),\n",
       " (27690, 41765, 23000, 36000, 4690, 5765),\n",
       " (29426, 34304, 27000, 30000, 2426, 4304),\n",
       " (21711, 26277, 19000, 24750, 2711, 1527),\n",
       " (29307, 26617, 25300, 28000, 4007, -1383),\n",
       " (25263, 32646, 25500, 26800, -237, 5846),\n",
       " (26993, 33337, 41000, 26888, -14007, 6449),\n",
       " (29390, 26314, 23052, 16000, 6338, 10314),\n",
       " (34920, 31278, 27800, 30022, 7120, 1256),\n",
       " (30323, 31285, 27000, 21000, 3323, 10285),\n",
       " (46638, 42319, 29900, 33000, 16738, 9319)]"
      ]
     },
     "execution_count": 336,
     "metadata": {},
     "output_type": "execute_result"
    }
   ],
   "source": [
    "prices"
   ]
  },
  {
   "cell_type": "code",
   "execution_count": 337,
   "metadata": {
    "collapsed": true
   },
   "outputs": [],
   "source": [
    "pdf = thinkbayes.EstimatedPdf(prices)"
   ]
  },
  {
   "cell_type": "code",
   "execution_count": 338,
   "metadata": {
    "collapsed": false
   },
   "outputs": [
    {
     "data": {
      "text/plain": [
       "191"
      ]
     },
     "execution_count": 338,
     "metadata": {},
     "output_type": "execute_result"
    }
   ],
   "source": [
    "len(prices)"
   ]
  },
  {
   "cell_type": "code",
   "execution_count": 339,
   "metadata": {
    "collapsed": true
   },
   "outputs": [],
   "source": [
    "dfprices = pd.DataFrame.from_records(prices, columns=['showcase1',\n",
    "                                                     'showcase2',\n",
    "                                                     'bid1',\n",
    "                                                     'bid2',\n",
    "                                                     'diff1',\n",
    "                                                     'diff2'])"
   ]
  },
  {
   "cell_type": "code",
   "execution_count": 340,
   "metadata": {
    "collapsed": false
   },
   "outputs": [
    {
     "data": {
      "text/html": [
       "<div>\n",
       "<table border=\"1\" class=\"dataframe\">\n",
       "  <thead>\n",
       "    <tr style=\"text-align: right;\">\n",
       "      <th></th>\n",
       "      <th>showcase1</th>\n",
       "      <th>showcase2</th>\n",
       "      <th>bid1</th>\n",
       "      <th>bid2</th>\n",
       "      <th>diff1</th>\n",
       "      <th>diff2</th>\n",
       "    </tr>\n",
       "  </thead>\n",
       "  <tbody>\n",
       "    <tr>\n",
       "      <th>0</th>\n",
       "      <td>50969</td>\n",
       "      <td>45429</td>\n",
       "      <td>42000</td>\n",
       "      <td>34000</td>\n",
       "      <td>8969</td>\n",
       "      <td>11429</td>\n",
       "    </tr>\n",
       "    <tr>\n",
       "      <th>1</th>\n",
       "      <td>21901</td>\n",
       "      <td>34061</td>\n",
       "      <td>14000</td>\n",
       "      <td>59900</td>\n",
       "      <td>7901</td>\n",
       "      <td>-25839</td>\n",
       "    </tr>\n",
       "    <tr>\n",
       "      <th>2</th>\n",
       "      <td>32815</td>\n",
       "      <td>53186</td>\n",
       "      <td>32000</td>\n",
       "      <td>45000</td>\n",
       "      <td>815</td>\n",
       "      <td>8186</td>\n",
       "    </tr>\n",
       "    <tr>\n",
       "      <th>3</th>\n",
       "      <td>44432</td>\n",
       "      <td>31428</td>\n",
       "      <td>27000</td>\n",
       "      <td>38000</td>\n",
       "      <td>17432</td>\n",
       "      <td>-6572</td>\n",
       "    </tr>\n",
       "    <tr>\n",
       "      <th>4</th>\n",
       "      <td>24273</td>\n",
       "      <td>22320</td>\n",
       "      <td>18750</td>\n",
       "      <td>23000</td>\n",
       "      <td>5523</td>\n",
       "      <td>-680</td>\n",
       "    </tr>\n",
       "  </tbody>\n",
       "</table>\n",
       "</div>"
      ],
      "text/plain": [
       "   showcase1  showcase2   bid1   bid2  diff1  diff2\n",
       "0      50969      45429  42000  34000   8969  11429\n",
       "1      21901      34061  14000  59900   7901 -25839\n",
       "2      32815      53186  32000  45000    815   8186\n",
       "3      44432      31428  27000  38000  17432  -6572\n",
       "4      24273      22320  18750  23000   5523   -680"
      ]
     },
     "execution_count": 340,
     "metadata": {},
     "output_type": "execute_result"
    }
   ],
   "source": [
    "dfprices.head()"
   ]
  },
  {
   "cell_type": "code",
   "execution_count": 341,
   "metadata": {
    "collapsed": false
   },
   "outputs": [
    {
     "data": {
      "text/html": [
       "<div>\n",
       "<table border=\"1\" class=\"dataframe\">\n",
       "  <thead>\n",
       "    <tr style=\"text-align: right;\">\n",
       "      <th></th>\n",
       "      <th>showcase1</th>\n",
       "      <th>showcase2</th>\n",
       "      <th>bid1</th>\n",
       "      <th>bid2</th>\n",
       "      <th>diff1</th>\n",
       "      <th>diff2</th>\n",
       "    </tr>\n",
       "  </thead>\n",
       "  <tbody>\n",
       "    <tr>\n",
       "      <th>count</th>\n",
       "      <td>191.000000</td>\n",
       "      <td>191.000000</td>\n",
       "      <td>191.000000</td>\n",
       "      <td>191.000000</td>\n",
       "      <td>191.000000</td>\n",
       "      <td>191.000000</td>\n",
       "    </tr>\n",
       "    <tr>\n",
       "      <th>mean</th>\n",
       "      <td>29482.738220</td>\n",
       "      <td>30668.146597</td>\n",
       "      <td>25743.722513</td>\n",
       "      <td>27285.691099</td>\n",
       "      <td>3739.015707</td>\n",
       "      <td>3382.455497</td>\n",
       "    </tr>\n",
       "    <tr>\n",
       "      <th>std</th>\n",
       "      <td>6713.205663</td>\n",
       "      <td>8003.103747</td>\n",
       "      <td>6290.231388</td>\n",
       "      <td>6431.738804</td>\n",
       "      <td>6102.956887</td>\n",
       "      <td>6768.490415</td>\n",
       "    </tr>\n",
       "    <tr>\n",
       "      <th>min</th>\n",
       "      <td>19563.000000</td>\n",
       "      <td>18349.000000</td>\n",
       "      <td>5500.000000</td>\n",
       "      <td>15000.000000</td>\n",
       "      <td>-14007.000000</td>\n",
       "      <td>-25839.000000</td>\n",
       "    </tr>\n",
       "    <tr>\n",
       "      <th>25%</th>\n",
       "      <td>24470.500000</td>\n",
       "      <td>25310.500000</td>\n",
       "      <td>22000.000000</td>\n",
       "      <td>23000.000000</td>\n",
       "      <td>363.500000</td>\n",
       "      <td>-633.500000</td>\n",
       "    </tr>\n",
       "    <tr>\n",
       "      <th>50%</th>\n",
       "      <td>28762.000000</td>\n",
       "      <td>29460.000000</td>\n",
       "      <td>25000.000000</td>\n",
       "      <td>26500.000000</td>\n",
       "      <td>3811.000000</td>\n",
       "      <td>2942.000000</td>\n",
       "    </tr>\n",
       "    <tr>\n",
       "      <th>75%</th>\n",
       "      <td>32740.500000</td>\n",
       "      <td>34191.000000</td>\n",
       "      <td>28500.000000</td>\n",
       "      <td>30100.000000</td>\n",
       "      <td>7194.000000</td>\n",
       "      <td>7016.500000</td>\n",
       "    </tr>\n",
       "    <tr>\n",
       "      <th>max</th>\n",
       "      <td>54579.000000</td>\n",
       "      <td>71628.000000</td>\n",
       "      <td>50972.000000</td>\n",
       "      <td>59900.000000</td>\n",
       "      <td>20939.000000</td>\n",
       "      <td>43628.000000</td>\n",
       "    </tr>\n",
       "  </tbody>\n",
       "</table>\n",
       "</div>"
      ],
      "text/plain": [
       "          showcase1     showcase2          bid1          bid2         diff1  \\\n",
       "count    191.000000    191.000000    191.000000    191.000000    191.000000   \n",
       "mean   29482.738220  30668.146597  25743.722513  27285.691099   3739.015707   \n",
       "std     6713.205663   8003.103747   6290.231388   6431.738804   6102.956887   \n",
       "min    19563.000000  18349.000000   5500.000000  15000.000000 -14007.000000   \n",
       "25%    24470.500000  25310.500000  22000.000000  23000.000000    363.500000   \n",
       "50%    28762.000000  29460.000000  25000.000000  26500.000000   3811.000000   \n",
       "75%    32740.500000  34191.000000  28500.000000  30100.000000   7194.000000   \n",
       "max    54579.000000  71628.000000  50972.000000  59900.000000  20939.000000   \n",
       "\n",
       "              diff2  \n",
       "count    191.000000  \n",
       "mean    3382.455497  \n",
       "std     6768.490415  \n",
       "min   -25839.000000  \n",
       "25%     -633.500000  \n",
       "50%     2942.000000  \n",
       "75%     7016.500000  \n",
       "max    43628.000000  "
      ]
     },
     "execution_count": 341,
     "metadata": {},
     "output_type": "execute_result"
    }
   ],
   "source": [
    "dfprices.describe()"
   ]
  },
  {
   "cell_type": "code",
   "execution_count": null,
   "metadata": {
    "collapsed": false
   },
   "outputs": [],
   "source": [
    "dfprices[['showcase1','showcase2']].plot(kind='density')"
   ]
  },
  {
   "cell_type": "markdown",
   "metadata": {},
   "source": [
    "The PDFs above estimate the distribution of possible prices. If you were a contestant on the show, you could use this distribution to quantify your prior belief about the price of each showcase (before you see the prizes).\n",
    "\n",
    "To update these priors, we have to answer these questions:\n",
    "\n",
    "1. What data should we consider and how should we quantify it?\n",
    "2. Can we comnpute a likelihood function; that is, for each hypothetical value of price, can we compute the conditional likelihood of the data?\n",
    "\n",
    "To answer these questions, I am going to model the contestant as a price-guessing instrument with known error characteristics. In other words, when the contestant sees the prizes, he or she guesses the price of each prize - ideally without taking into consideration the fact that theprize is part of a showcase - and adds up the prices. Let's call this total ```guess```.\n",
    "\n",
    "Under this model, the question we have to answer is, \"If the actual price is ```price```, what is the likelihood that the contestant's estimate would be ```guess```?\"\n",
    "\n",
    "Or, if we define\n",
    "\n",
    "```error = price - guess```\n",
    "\n",
    "then we could ask, \"What is the likelihood that the contestant's estimate is off by error?\"\n"
   ]
  },
  {
   "cell_type": "code",
   "execution_count": null,
   "metadata": {
    "collapsed": false
   },
   "outputs": [],
   "source": [
    "dfprices['diff1'].value_counts(normalize=True).sort_index().cumsum().plot()\n",
    "dfprices['diff2'].value_counts(normalize=True).sort_index().cumsum().plot()"
   ]
  },
  {
   "cell_type": "markdown",
   "metadata": {},
   "source": [
    "When diff is negative, the bid is too high. As an aside, we can use this distribution to compute the probability that the contestants overbid: the first contestant overbids 25% of the time; the second contestant overbids 29% of the time.\n",
    "\n",
    "We can also see that the bids are biased; that is, they are more likely to be too low than too high. And that makes sense, given the rules of the game.\n",
    "\n",
    "Finally, we can use this distribution to estimate the reliability of the contestants’ guesses. This step is a little tricky because we don’t actually know the contestant’s guesses; we only know what they bid.\n",
    "\n",
    "So we’ll have to make some assumptions. Specifically, I assume that the distribution of error is Gaussian with mean 0 and the same variance as diff.\n",
    "\n",
    "The Player class implements this model:"
   ]
  },
  {
   "cell_type": "code",
   "execution_count": null,
   "metadata": {
    "collapsed": true
   },
   "outputs": [],
   "source": []
  }
 ],
 "metadata": {
  "kernelspec": {
   "display_name": "Python 2",
   "language": "python",
   "name": "python2"
  },
  "language_info": {
   "codemirror_mode": {
    "name": "ipython",
    "version": 2
   },
   "file_extension": ".py",
   "mimetype": "text/x-python",
   "name": "python",
   "nbconvert_exporter": "python",
   "pygments_lexer": "ipython2",
   "version": "2.7.11"
  }
 },
 "nbformat": 4,
 "nbformat_minor": 0
}
